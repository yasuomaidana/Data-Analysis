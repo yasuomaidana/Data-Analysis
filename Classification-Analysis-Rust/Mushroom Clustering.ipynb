{
 "cells": [
  {
   "metadata": {
    "ExecuteTime": {
     "end_time": "2024-12-20T19:18:01.498563Z",
     "start_time": "2024-12-20T19:18:00.995067Z"
    }
   },
   "cell_type": "code",
   "source": [
    "let a = 2;\n",
    "let b = 3;\n",
    "let c = a + b;\n",
    "c"
   ],
   "id": "1cd37cb95ec9305",
   "outputs": [
    {
     "data": {
      "text/plain": [
       "5"
      ]
     },
     "execution_count": 8,
     "metadata": {},
     "output_type": "execute_result"
    }
   ],
   "execution_count": 8
  }
 ],
 "metadata": {
  "kernelspec": {
   "display_name": "Rust",
   "language": "rust",
   "name": "rust"
  },
  "language_info": {
   "codemirror_mode": {
    "name": "ipython",
    "version": 2
   },
   "file_extension": ".py",
   "mimetype": "text/x-python",
   "name": "python",
   "nbconvert_exporter": "python",
   "pygments_lexer": "ipython2",
   "version": "2.7.6"
  }
 },
 "nbformat": 4,
 "nbformat_minor": 5
}
