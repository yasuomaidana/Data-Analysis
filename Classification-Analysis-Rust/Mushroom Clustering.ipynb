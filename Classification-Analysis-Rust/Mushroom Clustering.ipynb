{
 "cells": [
  {
   "metadata": {
    "ExecuteTime": {
     "end_time": "2024-12-20T20:34:29.676400Z",
     "start_time": "2024-12-20T20:34:24.842377Z"
    }
   },
   "cell_type": "code",
   "source": [
    ":dep plotly\n",
    ":dep mushroom-clustering = { path= \"mushroom-clustering\" }"
   ],
   "id": "1cd37cb95ec9305",
   "outputs": [],
   "execution_count": 12
  },
  {
   "metadata": {
    "ExecuteTime": {
     "end_time": "2024-12-20T20:34:54.536957Z",
     "start_time": "2024-12-20T20:34:53.854019Z"
    }
   },
   "cell_type": "code",
   "source": "use mushroom_clustering::add;",
   "id": "86ba9f2fbf8d781a",
   "outputs": [],
   "execution_count": 14
  },
  {
   "metadata": {
    "ExecuteTime": {
     "end_time": "2024-12-20T20:35:06.458423Z",
     "start_time": "2024-12-20T20:35:04.791822Z"
    }
   },
   "cell_type": "code",
   "source": [
    "let a = add(1, 2);\n",
    "a"
   ],
   "id": "20ec2b4dfd5661bd",
   "outputs": [
    {
     "data": {
      "text/plain": [
       "3"
      ]
     },
     "execution_count": 16,
     "metadata": {},
     "output_type": "execute_result"
    }
   ],
   "execution_count": 16
  }
 ],
 "metadata": {
  "kernelspec": {
   "display_name": "Rust",
   "language": "rust",
   "name": "rust"
  },
  "language_info": {
   "codemirror_mode": {
    "name": "ipython",
    "version": 2
   },
   "file_extension": ".py",
   "mimetype": "text/x-python",
   "name": "python",
   "nbconvert_exporter": "python",
   "pygments_lexer": "ipython2",
   "version": "2.7.6"
  }
 },
 "nbformat": 4,
 "nbformat_minor": 5
}
