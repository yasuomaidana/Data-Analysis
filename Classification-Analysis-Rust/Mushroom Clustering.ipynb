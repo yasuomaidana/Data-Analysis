{
 "cells": [
  {
   "metadata": {
    "ExecuteTime": {
     "end_time": "2024-12-20T22:57:20.674475Z",
     "start_time": "2024-12-20T22:55:13.910659Z"
    }
   },
   "cell_type": "code",
   "source": [
    ":dep plotly\n",
    ":dep mushroom-clustering = { path= \"mushroom-clustering\" }\n",
    ":dep polars = { version = \"0.43.1\", features = [\"lazy\"] }"
   ],
   "id": "1cd37cb95ec9305",
   "outputs": [],
   "execution_count": 2
  },
  {
   "metadata": {
    "ExecuteTime": {
     "end_time": "2024-12-20T22:57:44.972809Z",
     "start_time": "2024-12-20T22:57:43.554745Z"
    }
   },
   "cell_type": "code",
   "source": [
    "use mushroom_clustering::loading_data;\n",
    "use polars::frame::DataFrame;"
   ],
   "id": "86ba9f2fbf8d781a",
   "outputs": [],
   "execution_count": 8
  },
  {
   "metadata": {
    "ExecuteTime": {
     "end_time": "2024-12-20T22:58:12.414862Z",
     "start_time": "2024-12-20T22:58:11.324406Z"
    }
   },
   "cell_type": "code",
   "source": [
    "let filename = \"../Classification Analysis/KNN/Data-Mushroom/mushrooms.csv\";\n",
    "let df = loading_data::read_dataframe(filename);\n",
    "df.head(Some(5))"
   ],
   "id": "20ec2b4dfd5661bd",
   "outputs": [
    {
     "data": {
      "text/plain": [
       "shape: (5, 23)\n",
       "┌───────┬───────────┬─────────────┬───────────┬───┬───────────┬─────────────┬────────────┬─────────┐\n",
       "│ class ┆ cap-shape ┆ cap-surface ┆ cap-color ┆ … ┆ ring-type ┆ spore-print ┆ population ┆ habitat │\n",
       "│ ---   ┆ ---       ┆ ---         ┆ ---       ┆   ┆ ---       ┆ -color      ┆ ---        ┆ ---     │\n",
       "│ str   ┆ str       ┆ str         ┆ str       ┆   ┆ str       ┆ ---         ┆ str        ┆ str     │\n",
       "│       ┆           ┆             ┆           ┆   ┆           ┆ str         ┆            ┆         │\n",
       "╞═══════╪═══════════╪═════════════╪═══════════╪═══╪═══════════╪═════════════╪════════════╪═════════╡\n",
       "│ p     ┆ x         ┆ s           ┆ n         ┆ … ┆ p         ┆ k           ┆ s          ┆ u       │\n",
       "│ e     ┆ x         ┆ s           ┆ y         ┆ … ┆ p         ┆ n           ┆ n          ┆ g       │\n",
       "│ e     ┆ b         ┆ s           ┆ w         ┆ … ┆ p         ┆ n           ┆ n          ┆ m       │\n",
       "│ p     ┆ x         ┆ y           ┆ w         ┆ … ┆ p         ┆ k           ┆ s          ┆ u       │\n",
       "│ e     ┆ x         ┆ s           ┆ g         ┆ … ┆ e         ┆ n           ┆ a          ┆ g       │\n",
       "└───────┴───────────┴─────────────┴───────────┴───┴───────────┴─────────────┴────────────┴─────────┘"
      ]
     },
     "execution_count": 16,
     "metadata": {},
     "output_type": "execute_result"
    }
   ],
   "execution_count": 16
  }
 ],
 "metadata": {
  "kernelspec": {
   "display_name": "Rust",
   "language": "rust",
   "name": "rust"
  },
  "language_info": {
   "codemirror_mode": {
    "name": "ipython",
    "version": 2
   },
   "file_extension": ".py",
   "mimetype": "text/x-python",
   "name": "python",
   "nbconvert_exporter": "python",
   "pygments_lexer": "ipython2",
   "version": "2.7.6"
  }
 },
 "nbformat": 4,
 "nbformat_minor": 5
}
