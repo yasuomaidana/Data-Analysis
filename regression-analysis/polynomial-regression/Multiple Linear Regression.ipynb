{
 "cells": [
  {
   "cell_type": "code",
   "id": "initial_id",
   "metadata": {
    "collapsed": true,
    "ExecuteTime": {
     "end_time": "2025-04-04T00:27:04.730260Z",
     "start_time": "2025-04-04T00:27:04.309827Z"
    }
   },
   "source": [
    "import numpy as np\n",
    "from sklearn.linear_model import LinearRegression\n",
    "from sklearn.metrics import mean_absolute_error, mean_squared_error, root_mean_squared_error, r2_score\n",
    "from sklearn.model_selection import train_test_split\n",
    "\n",
    "from data_loader import load_data\n",
    "import polars as pl\n",
    "import seaborn as sns\n",
    "import matplotlib.pyplot as plt"
   ],
   "outputs": [],
   "execution_count": 1
  },
  {
   "metadata": {},
   "cell_type": "markdown",
   "source": "## Loading data",
   "id": "578d4aad90ae71c6"
  },
  {
   "metadata": {
    "ExecuteTime": {
     "end_time": "2025-04-04T00:27:06.466677Z",
     "start_time": "2025-04-04T00:27:05.914544Z"
    }
   },
   "cell_type": "code",
   "source": [
    "load_data(\"shivachandel/kc-house-data\", \"../Data\")\n",
    "df = pl.read_csv(\"../Data/kc_house_data.csv\", try_parse_dates=True)"
   ],
   "id": "13b4bf1b93ac7ec0",
   "outputs": [
    {
     "name": "stdout",
     "output_type": "stream",
     "text": [
      "Dataset URL: https://www.kaggle.com/datasets/shivachandel/kc-house-data\n"
     ]
    }
   ],
   "execution_count": 2
  },
  {
   "metadata": {},
   "cell_type": "markdown",
   "source": "## Data exploration",
   "id": "e54057216434c41d"
  },
  {
   "metadata": {
    "ExecuteTime": {
     "end_time": "2025-04-04T00:27:07.735607Z",
     "start_time": "2025-04-04T00:27:07.728752Z"
    }
   },
   "cell_type": "code",
   "source": "df.head()",
   "id": "4222bbae021eb919",
   "outputs": [
    {
     "data": {
      "text/plain": [
       "shape: (5, 21)\n",
       "┌────────────┬────────────┬──────────┬──────────┬───┬─────────┬──────────┬────────────┬────────────┐\n",
       "│ id         ┆ date       ┆ price    ┆ bedrooms ┆ … ┆ lat     ┆ long     ┆ sqft_livin ┆ sqft_lot15 │\n",
       "│ ---        ┆ ---        ┆ ---      ┆ ---      ┆   ┆ ---     ┆ ---      ┆ g15        ┆ ---        │\n",
       "│ i64        ┆ str        ┆ f64      ┆ i64      ┆   ┆ f64     ┆ f64      ┆ ---        ┆ i64        │\n",
       "│            ┆            ┆          ┆          ┆   ┆         ┆          ┆ i64        ┆            │\n",
       "╞════════════╪════════════╪══════════╪══════════╪═══╪═════════╪══════════╪════════════╪════════════╡\n",
       "│ 7129300520 ┆ 20141013T0 ┆ 221900.0 ┆ 3        ┆ … ┆ 47.5112 ┆ -122.257 ┆ 1340       ┆ 5650       │\n",
       "│            ┆ 00000      ┆          ┆          ┆   ┆         ┆          ┆            ┆            │\n",
       "│ 6414100192 ┆ 20141209T0 ┆ 538000.0 ┆ 3        ┆ … ┆ 47.721  ┆ -122.319 ┆ 1690       ┆ 7639       │\n",
       "│            ┆ 00000      ┆          ┆          ┆   ┆         ┆          ┆            ┆            │\n",
       "│ 5631500400 ┆ 20150225T0 ┆ 180000.0 ┆ 2        ┆ … ┆ 47.7379 ┆ -122.233 ┆ 2720       ┆ 8062       │\n",
       "│            ┆ 00000      ┆          ┆          ┆   ┆         ┆          ┆            ┆            │\n",
       "│ 2487200875 ┆ 20141209T0 ┆ 604000.0 ┆ 4        ┆ … ┆ 47.5208 ┆ -122.393 ┆ 1360       ┆ 5000       │\n",
       "│            ┆ 00000      ┆          ┆          ┆   ┆         ┆          ┆            ┆            │\n",
       "│ 1954400510 ┆ 20150218T0 ┆ 510000.0 ┆ 3        ┆ … ┆ 47.6168 ┆ -122.045 ┆ 1800       ┆ 7503       │\n",
       "│            ┆ 00000      ┆          ┆          ┆   ┆         ┆          ┆            ┆            │\n",
       "└────────────┴────────────┴──────────┴──────────┴───┴─────────┴──────────┴────────────┴────────────┘"
      ],
      "text/html": [
       "<div><style>\n",
       ".dataframe > thead > tr,\n",
       ".dataframe > tbody > tr {\n",
       "  text-align: right;\n",
       "  white-space: pre-wrap;\n",
       "}\n",
       "</style>\n",
       "<small>shape: (5, 21)</small><table border=\"1\" class=\"dataframe\"><thead><tr><th>id</th><th>date</th><th>price</th><th>bedrooms</th><th>bathrooms</th><th>sqft_living</th><th>sqft_lot</th><th>floors</th><th>waterfront</th><th>view</th><th>condition</th><th>grade</th><th>sqft_above</th><th>sqft_basement</th><th>yr_built</th><th>yr_renovated</th><th>zipcode</th><th>lat</th><th>long</th><th>sqft_living15</th><th>sqft_lot15</th></tr><tr><td>i64</td><td>str</td><td>f64</td><td>i64</td><td>f64</td><td>i64</td><td>i64</td><td>f64</td><td>i64</td><td>i64</td><td>i64</td><td>i64</td><td>i64</td><td>i64</td><td>i64</td><td>i64</td><td>i64</td><td>f64</td><td>f64</td><td>i64</td><td>i64</td></tr></thead><tbody><tr><td>7129300520</td><td>&quot;20141013T000000&quot;</td><td>221900.0</td><td>3</td><td>1.0</td><td>1180</td><td>5650</td><td>1.0</td><td>0</td><td>0</td><td>3</td><td>7</td><td>1180</td><td>0</td><td>1955</td><td>0</td><td>98178</td><td>47.5112</td><td>-122.257</td><td>1340</td><td>5650</td></tr><tr><td>6414100192</td><td>&quot;20141209T000000&quot;</td><td>538000.0</td><td>3</td><td>2.25</td><td>2570</td><td>7242</td><td>2.0</td><td>0</td><td>0</td><td>3</td><td>7</td><td>2170</td><td>400</td><td>1951</td><td>1991</td><td>98125</td><td>47.721</td><td>-122.319</td><td>1690</td><td>7639</td></tr><tr><td>5631500400</td><td>&quot;20150225T000000&quot;</td><td>180000.0</td><td>2</td><td>1.0</td><td>770</td><td>10000</td><td>1.0</td><td>0</td><td>0</td><td>3</td><td>6</td><td>770</td><td>0</td><td>1933</td><td>0</td><td>98028</td><td>47.7379</td><td>-122.233</td><td>2720</td><td>8062</td></tr><tr><td>2487200875</td><td>&quot;20141209T000000&quot;</td><td>604000.0</td><td>4</td><td>3.0</td><td>1960</td><td>5000</td><td>1.0</td><td>0</td><td>0</td><td>5</td><td>7</td><td>1050</td><td>910</td><td>1965</td><td>0</td><td>98136</td><td>47.5208</td><td>-122.393</td><td>1360</td><td>5000</td></tr><tr><td>1954400510</td><td>&quot;20150218T000000&quot;</td><td>510000.0</td><td>3</td><td>2.0</td><td>1680</td><td>8080</td><td>1.0</td><td>0</td><td>0</td><td>3</td><td>8</td><td>1680</td><td>0</td><td>1987</td><td>0</td><td>98074</td><td>47.6168</td><td>-122.045</td><td>1800</td><td>7503</td></tr></tbody></table></div>"
      ]
     },
     "execution_count": 3,
     "metadata": {},
     "output_type": "execute_result"
    }
   ],
   "execution_count": 3
  },
  {
   "metadata": {
    "ExecuteTime": {
     "end_time": "2025-04-04T00:31:56.961280Z",
     "start_time": "2025-04-04T00:31:56.953333Z"
    }
   },
   "cell_type": "code",
   "source": "df.describe()",
   "id": "353800c65ed1554c",
   "outputs": [
    {
     "data": {
      "text/plain": [
       "shape: (9, 22)\n",
       "┌───────────┬───────────┬───────────┬───────────┬───┬───────────┬───────────┬───────────┬──────────┐\n",
       "│ statistic ┆ id        ┆ date      ┆ price     ┆ … ┆ lat       ┆ long      ┆ sqft_livi ┆ sqft_lot │\n",
       "│ ---       ┆ ---       ┆ ---       ┆ ---       ┆   ┆ ---       ┆ ---       ┆ ng15      ┆ 15       │\n",
       "│ str       ┆ f64       ┆ str       ┆ f64       ┆   ┆ f64       ┆ f64       ┆ ---       ┆ ---      │\n",
       "│           ┆           ┆           ┆           ┆   ┆           ┆           ┆ f64       ┆ f64      │\n",
       "╞═══════════╪═══════════╪═══════════╪═══════════╪═══╪═══════════╪═══════════╪═══════════╪══════════╡\n",
       "│ count     ┆ 21613.0   ┆ 21613     ┆ 21613.0   ┆ … ┆ 21613.0   ┆ 21613.0   ┆ 21613.0   ┆ 21613.0  │\n",
       "│ null_coun ┆ 0.0       ┆ 0         ┆ 0.0       ┆ … ┆ 0.0       ┆ 0.0       ┆ 0.0       ┆ 0.0      │\n",
       "│ t         ┆           ┆           ┆           ┆   ┆           ┆           ┆           ┆          │\n",
       "│ mean      ┆ 4.5803e9  ┆ null      ┆ 540088.14 ┆ … ┆ 47.560053 ┆ -122.2138 ┆ 1986.5524 ┆ 12768.45 │\n",
       "│           ┆           ┆           ┆ 1767      ┆   ┆           ┆ 96        ┆ 92        ┆ 5652     │\n",
       "│ std       ┆ 2.8766e9  ┆ null      ┆ 367127.19 ┆ … ┆ 0.138564  ┆ 0.140828  ┆ 685.39130 ┆ 27304.17 │\n",
       "│           ┆           ┆           ┆ 6483      ┆   ┆           ┆           ┆ 4         ┆ 9631     │\n",
       "│ min       ┆ 1.000102e ┆ 20140502T ┆ 75000.0   ┆ … ┆ 47.1559   ┆ -122.519  ┆ 399.0     ┆ 651.0    │\n",
       "│           ┆ 6         ┆ 000000    ┆           ┆   ┆           ┆           ┆           ┆          │\n",
       "│ 25%       ┆ 2.1230e9  ┆ null      ┆ 321950.0  ┆ … ┆ 47.471    ┆ -122.328  ┆ 1490.0    ┆ 5100.0   │\n",
       "│ 50%       ┆ 3.9049e9  ┆ null      ┆ 450000.0  ┆ … ┆ 47.5718   ┆ -122.23   ┆ 1840.0    ┆ 7620.0   │\n",
       "│ 75%       ┆ 7.3089e9  ┆ null      ┆ 645000.0  ┆ … ┆ 47.678    ┆ -122.125  ┆ 2360.0    ┆ 10083.0  │\n",
       "│ max       ┆ 9.9000e9  ┆ 20150527T ┆ 7.7e6     ┆ … ┆ 47.7776   ┆ -121.315  ┆ 6210.0    ┆ 871200.0 │\n",
       "│           ┆           ┆ 000000    ┆           ┆   ┆           ┆           ┆           ┆          │\n",
       "└───────────┴───────────┴───────────┴───────────┴───┴───────────┴───────────┴───────────┴──────────┘"
      ],
      "text/html": [
       "<div><style>\n",
       ".dataframe > thead > tr,\n",
       ".dataframe > tbody > tr {\n",
       "  text-align: right;\n",
       "  white-space: pre-wrap;\n",
       "}\n",
       "</style>\n",
       "<small>shape: (9, 22)</small><table border=\"1\" class=\"dataframe\"><thead><tr><th>statistic</th><th>id</th><th>date</th><th>price</th><th>bedrooms</th><th>bathrooms</th><th>sqft_living</th><th>sqft_lot</th><th>floors</th><th>waterfront</th><th>view</th><th>condition</th><th>grade</th><th>sqft_above</th><th>sqft_basement</th><th>yr_built</th><th>yr_renovated</th><th>zipcode</th><th>lat</th><th>long</th><th>sqft_living15</th><th>sqft_lot15</th></tr><tr><td>str</td><td>f64</td><td>str</td><td>f64</td><td>f64</td><td>f64</td><td>f64</td><td>f64</td><td>f64</td><td>f64</td><td>f64</td><td>f64</td><td>f64</td><td>f64</td><td>f64</td><td>f64</td><td>f64</td><td>f64</td><td>f64</td><td>f64</td><td>f64</td><td>f64</td></tr></thead><tbody><tr><td>&quot;count&quot;</td><td>21613.0</td><td>&quot;21613&quot;</td><td>21613.0</td><td>21613.0</td><td>21613.0</td><td>21613.0</td><td>21613.0</td><td>21613.0</td><td>21613.0</td><td>21613.0</td><td>21613.0</td><td>21613.0</td><td>21611.0</td><td>21613.0</td><td>21613.0</td><td>21613.0</td><td>21613.0</td><td>21613.0</td><td>21613.0</td><td>21613.0</td><td>21613.0</td></tr><tr><td>&quot;null_count&quot;</td><td>0.0</td><td>&quot;0&quot;</td><td>0.0</td><td>0.0</td><td>0.0</td><td>0.0</td><td>0.0</td><td>0.0</td><td>0.0</td><td>0.0</td><td>0.0</td><td>0.0</td><td>2.0</td><td>0.0</td><td>0.0</td><td>0.0</td><td>0.0</td><td>0.0</td><td>0.0</td><td>0.0</td><td>0.0</td></tr><tr><td>&quot;mean&quot;</td><td>4.5803e9</td><td>null</td><td>540088.141767</td><td>3.370842</td><td>2.114757</td><td>2079.899736</td><td>15106.967566</td><td>1.494309</td><td>0.007542</td><td>0.234303</td><td>3.40943</td><td>7.656873</td><td>1788.396095</td><td>291.509045</td><td>1971.005136</td><td>84.402258</td><td>98077.939805</td><td>47.560053</td><td>-122.213896</td><td>1986.552492</td><td>12768.455652</td></tr><tr><td>&quot;std&quot;</td><td>2.8766e9</td><td>null</td><td>367127.196483</td><td>0.930062</td><td>0.770163</td><td>918.440897</td><td>41420.511515</td><td>0.539989</td><td>0.086517</td><td>0.766318</td><td>0.650743</td><td>1.175459</td><td>828.128162</td><td>442.575043</td><td>29.373411</td><td>401.67924</td><td>53.505026</td><td>0.138564</td><td>0.140828</td><td>685.391304</td><td>27304.179631</td></tr><tr><td>&quot;min&quot;</td><td>1.000102e6</td><td>&quot;20140502T000000&quot;</td><td>75000.0</td><td>0.0</td><td>0.0</td><td>290.0</td><td>520.0</td><td>1.0</td><td>0.0</td><td>0.0</td><td>1.0</td><td>1.0</td><td>290.0</td><td>0.0</td><td>1900.0</td><td>0.0</td><td>98001.0</td><td>47.1559</td><td>-122.519</td><td>399.0</td><td>651.0</td></tr><tr><td>&quot;25%&quot;</td><td>2.1230e9</td><td>null</td><td>321950.0</td><td>3.0</td><td>1.75</td><td>1427.0</td><td>5040.0</td><td>1.0</td><td>0.0</td><td>0.0</td><td>3.0</td><td>7.0</td><td>1190.0</td><td>0.0</td><td>1951.0</td><td>0.0</td><td>98033.0</td><td>47.471</td><td>-122.328</td><td>1490.0</td><td>5100.0</td></tr><tr><td>&quot;50%&quot;</td><td>3.9049e9</td><td>null</td><td>450000.0</td><td>3.0</td><td>2.25</td><td>1910.0</td><td>7618.0</td><td>1.5</td><td>0.0</td><td>0.0</td><td>3.0</td><td>7.0</td><td>1560.0</td><td>0.0</td><td>1975.0</td><td>0.0</td><td>98065.0</td><td>47.5718</td><td>-122.23</td><td>1840.0</td><td>7620.0</td></tr><tr><td>&quot;75%&quot;</td><td>7.3089e9</td><td>null</td><td>645000.0</td><td>4.0</td><td>2.5</td><td>2550.0</td><td>10688.0</td><td>2.0</td><td>0.0</td><td>0.0</td><td>4.0</td><td>8.0</td><td>2210.0</td><td>560.0</td><td>1997.0</td><td>0.0</td><td>98118.0</td><td>47.678</td><td>-122.125</td><td>2360.0</td><td>10083.0</td></tr><tr><td>&quot;max&quot;</td><td>9.9000e9</td><td>&quot;20150527T000000&quot;</td><td>7.7e6</td><td>33.0</td><td>8.0</td><td>13540.0</td><td>1.651359e6</td><td>3.5</td><td>1.0</td><td>4.0</td><td>5.0</td><td>13.0</td><td>9410.0</td><td>4820.0</td><td>2015.0</td><td>2015.0</td><td>98199.0</td><td>47.7776</td><td>-121.315</td><td>6210.0</td><td>871200.0</td></tr></tbody></table></div>"
      ]
     },
     "execution_count": 13,
     "metadata": {},
     "output_type": "execute_result"
    }
   ],
   "execution_count": 13
  },
  {
   "metadata": {
    "ExecuteTime": {
     "end_time": "2025-04-04T00:33:39.362701Z",
     "start_time": "2025-04-04T00:33:39.349807Z"
    }
   },
   "cell_type": "code",
   "source": "df = df.with_columns(pl.col(\"date\").str.strptime(pl.Date, \"%Y%m%dT%H%M%S\"))",
   "id": "f2b5bc0bc4245f2",
   "outputs": [],
   "execution_count": 14
  },
  {
   "metadata": {
    "ExecuteTime": {
     "end_time": "2025-04-04T00:33:45.441698Z",
     "start_time": "2025-04-04T00:33:45.436387Z"
    }
   },
   "cell_type": "code",
   "source": "df.head()",
   "id": "7f64d1c67606754",
   "outputs": [
    {
     "data": {
      "text/plain": [
       "shape: (5, 21)\n",
       "┌────────────┬────────────┬──────────┬──────────┬───┬─────────┬──────────┬────────────┬────────────┐\n",
       "│ id         ┆ date       ┆ price    ┆ bedrooms ┆ … ┆ lat     ┆ long     ┆ sqft_livin ┆ sqft_lot15 │\n",
       "│ ---        ┆ ---        ┆ ---      ┆ ---      ┆   ┆ ---     ┆ ---      ┆ g15        ┆ ---        │\n",
       "│ i64        ┆ date       ┆ f64      ┆ i64      ┆   ┆ f64     ┆ f64      ┆ ---        ┆ i64        │\n",
       "│            ┆            ┆          ┆          ┆   ┆         ┆          ┆ i64        ┆            │\n",
       "╞════════════╪════════════╪══════════╪══════════╪═══╪═════════╪══════════╪════════════╪════════════╡\n",
       "│ 7129300520 ┆ 2014-10-13 ┆ 221900.0 ┆ 3        ┆ … ┆ 47.5112 ┆ -122.257 ┆ 1340       ┆ 5650       │\n",
       "│ 6414100192 ┆ 2014-12-09 ┆ 538000.0 ┆ 3        ┆ … ┆ 47.721  ┆ -122.319 ┆ 1690       ┆ 7639       │\n",
       "│ 5631500400 ┆ 2015-02-25 ┆ 180000.0 ┆ 2        ┆ … ┆ 47.7379 ┆ -122.233 ┆ 2720       ┆ 8062       │\n",
       "│ 2487200875 ┆ 2014-12-09 ┆ 604000.0 ┆ 4        ┆ … ┆ 47.5208 ┆ -122.393 ┆ 1360       ┆ 5000       │\n",
       "│ 1954400510 ┆ 2015-02-18 ┆ 510000.0 ┆ 3        ┆ … ┆ 47.6168 ┆ -122.045 ┆ 1800       ┆ 7503       │\n",
       "└────────────┴────────────┴──────────┴──────────┴───┴─────────┴──────────┴────────────┴────────────┘"
      ],
      "text/html": [
       "<div><style>\n",
       ".dataframe > thead > tr,\n",
       ".dataframe > tbody > tr {\n",
       "  text-align: right;\n",
       "  white-space: pre-wrap;\n",
       "}\n",
       "</style>\n",
       "<small>shape: (5, 21)</small><table border=\"1\" class=\"dataframe\"><thead><tr><th>id</th><th>date</th><th>price</th><th>bedrooms</th><th>bathrooms</th><th>sqft_living</th><th>sqft_lot</th><th>floors</th><th>waterfront</th><th>view</th><th>condition</th><th>grade</th><th>sqft_above</th><th>sqft_basement</th><th>yr_built</th><th>yr_renovated</th><th>zipcode</th><th>lat</th><th>long</th><th>sqft_living15</th><th>sqft_lot15</th></tr><tr><td>i64</td><td>date</td><td>f64</td><td>i64</td><td>f64</td><td>i64</td><td>i64</td><td>f64</td><td>i64</td><td>i64</td><td>i64</td><td>i64</td><td>i64</td><td>i64</td><td>i64</td><td>i64</td><td>i64</td><td>f64</td><td>f64</td><td>i64</td><td>i64</td></tr></thead><tbody><tr><td>7129300520</td><td>2014-10-13</td><td>221900.0</td><td>3</td><td>1.0</td><td>1180</td><td>5650</td><td>1.0</td><td>0</td><td>0</td><td>3</td><td>7</td><td>1180</td><td>0</td><td>1955</td><td>0</td><td>98178</td><td>47.5112</td><td>-122.257</td><td>1340</td><td>5650</td></tr><tr><td>6414100192</td><td>2014-12-09</td><td>538000.0</td><td>3</td><td>2.25</td><td>2570</td><td>7242</td><td>2.0</td><td>0</td><td>0</td><td>3</td><td>7</td><td>2170</td><td>400</td><td>1951</td><td>1991</td><td>98125</td><td>47.721</td><td>-122.319</td><td>1690</td><td>7639</td></tr><tr><td>5631500400</td><td>2015-02-25</td><td>180000.0</td><td>2</td><td>1.0</td><td>770</td><td>10000</td><td>1.0</td><td>0</td><td>0</td><td>3</td><td>6</td><td>770</td><td>0</td><td>1933</td><td>0</td><td>98028</td><td>47.7379</td><td>-122.233</td><td>2720</td><td>8062</td></tr><tr><td>2487200875</td><td>2014-12-09</td><td>604000.0</td><td>4</td><td>3.0</td><td>1960</td><td>5000</td><td>1.0</td><td>0</td><td>0</td><td>5</td><td>7</td><td>1050</td><td>910</td><td>1965</td><td>0</td><td>98136</td><td>47.5208</td><td>-122.393</td><td>1360</td><td>5000</td></tr><tr><td>1954400510</td><td>2015-02-18</td><td>510000.0</td><td>3</td><td>2.0</td><td>1680</td><td>8080</td><td>1.0</td><td>0</td><td>0</td><td>3</td><td>8</td><td>1680</td><td>0</td><td>1987</td><td>0</td><td>98074</td><td>47.6168</td><td>-122.045</td><td>1800</td><td>7503</td></tr></tbody></table></div>"
      ]
     },
     "execution_count": 15,
     "metadata": {},
     "output_type": "execute_result"
    }
   ],
   "execution_count": 15
  },
  {
   "metadata": {
    "ExecuteTime": {
     "end_time": "2025-04-04T00:34:26.561461Z",
     "start_time": "2025-04-04T00:34:26.551880Z"
    }
   },
   "cell_type": "code",
   "source": [
    "df = df.drop([\"id\"])\n",
    "df.describe()"
   ],
   "id": "ee58e5d04b887de4",
   "outputs": [
    {
     "data": {
      "text/plain": [
       "shape: (9, 21)\n",
       "┌───────────┬───────────┬───────────┬──────────┬───┬───────────┬───────────┬───────────┬───────────┐\n",
       "│ statistic ┆ date      ┆ price     ┆ bedrooms ┆ … ┆ lat       ┆ long      ┆ sqft_livi ┆ sqft_lot1 │\n",
       "│ ---       ┆ ---       ┆ ---       ┆ ---      ┆   ┆ ---       ┆ ---       ┆ ng15      ┆ 5         │\n",
       "│ str       ┆ str       ┆ f64       ┆ f64      ┆   ┆ f64       ┆ f64       ┆ ---       ┆ ---       │\n",
       "│           ┆           ┆           ┆          ┆   ┆           ┆           ┆ f64       ┆ f64       │\n",
       "╞═══════════╪═══════════╪═══════════╪══════════╪═══╪═══════════╪═══════════╪═══════════╪═══════════╡\n",
       "│ count     ┆ 21613     ┆ 21613.0   ┆ 21613.0  ┆ … ┆ 21613.0   ┆ 21613.0   ┆ 21613.0   ┆ 21613.0   │\n",
       "│ null_coun ┆ 0         ┆ 0.0       ┆ 0.0      ┆ … ┆ 0.0       ┆ 0.0       ┆ 0.0       ┆ 0.0       │\n",
       "│ t         ┆           ┆           ┆          ┆   ┆           ┆           ┆           ┆           │\n",
       "│ mean      ┆ 2014-10-2 ┆ 540088.14 ┆ 3.370842 ┆ … ┆ 47.560053 ┆ -122.2138 ┆ 1986.5524 ┆ 12768.455 │\n",
       "│           ┆ 9 04:38:0 ┆ 1767      ┆          ┆   ┆           ┆ 96        ┆ 92        ┆ 652       │\n",
       "│           ┆ 1.959000  ┆           ┆          ┆   ┆           ┆           ┆           ┆           │\n",
       "│ std       ┆ null      ┆ 367127.19 ┆ 0.930062 ┆ … ┆ 0.138564  ┆ 0.140828  ┆ 685.39130 ┆ 27304.179 │\n",
       "│           ┆           ┆ 6483      ┆          ┆   ┆           ┆           ┆ 4         ┆ 631       │\n",
       "│ min       ┆ 2014-05-0 ┆ 75000.0   ┆ 0.0      ┆ … ┆ 47.1559   ┆ -122.519  ┆ 399.0     ┆ 651.0     │\n",
       "│           ┆ 2         ┆           ┆          ┆   ┆           ┆           ┆           ┆           │\n",
       "│ 25%       ┆ 2014-07-2 ┆ 321950.0  ┆ 3.0      ┆ … ┆ 47.471    ┆ -122.328  ┆ 1490.0    ┆ 5100.0    │\n",
       "│           ┆ 2         ┆           ┆          ┆   ┆           ┆           ┆           ┆           │\n",
       "│ 50%       ┆ 2014-10-1 ┆ 450000.0  ┆ 3.0      ┆ … ┆ 47.5718   ┆ -122.23   ┆ 1840.0    ┆ 7620.0    │\n",
       "│           ┆ 6         ┆           ┆          ┆   ┆           ┆           ┆           ┆           │\n",
       "│ 75%       ┆ 2015-02-1 ┆ 645000.0  ┆ 4.0      ┆ … ┆ 47.678    ┆ -122.125  ┆ 2360.0    ┆ 10083.0   │\n",
       "│           ┆ 7         ┆           ┆          ┆   ┆           ┆           ┆           ┆           │\n",
       "│ max       ┆ 2015-05-2 ┆ 7.7e6     ┆ 33.0     ┆ … ┆ 47.7776   ┆ -121.315  ┆ 6210.0    ┆ 871200.0  │\n",
       "│           ┆ 7         ┆           ┆          ┆   ┆           ┆           ┆           ┆           │\n",
       "└───────────┴───────────┴───────────┴──────────┴───┴───────────┴───────────┴───────────┴───────────┘"
      ],
      "text/html": [
       "<div><style>\n",
       ".dataframe > thead > tr,\n",
       ".dataframe > tbody > tr {\n",
       "  text-align: right;\n",
       "  white-space: pre-wrap;\n",
       "}\n",
       "</style>\n",
       "<small>shape: (9, 21)</small><table border=\"1\" class=\"dataframe\"><thead><tr><th>statistic</th><th>date</th><th>price</th><th>bedrooms</th><th>bathrooms</th><th>sqft_living</th><th>sqft_lot</th><th>floors</th><th>waterfront</th><th>view</th><th>condition</th><th>grade</th><th>sqft_above</th><th>sqft_basement</th><th>yr_built</th><th>yr_renovated</th><th>zipcode</th><th>lat</th><th>long</th><th>sqft_living15</th><th>sqft_lot15</th></tr><tr><td>str</td><td>str</td><td>f64</td><td>f64</td><td>f64</td><td>f64</td><td>f64</td><td>f64</td><td>f64</td><td>f64</td><td>f64</td><td>f64</td><td>f64</td><td>f64</td><td>f64</td><td>f64</td><td>f64</td><td>f64</td><td>f64</td><td>f64</td><td>f64</td></tr></thead><tbody><tr><td>&quot;count&quot;</td><td>&quot;21613&quot;</td><td>21613.0</td><td>21613.0</td><td>21613.0</td><td>21613.0</td><td>21613.0</td><td>21613.0</td><td>21613.0</td><td>21613.0</td><td>21613.0</td><td>21613.0</td><td>21611.0</td><td>21613.0</td><td>21613.0</td><td>21613.0</td><td>21613.0</td><td>21613.0</td><td>21613.0</td><td>21613.0</td><td>21613.0</td></tr><tr><td>&quot;null_count&quot;</td><td>&quot;0&quot;</td><td>0.0</td><td>0.0</td><td>0.0</td><td>0.0</td><td>0.0</td><td>0.0</td><td>0.0</td><td>0.0</td><td>0.0</td><td>0.0</td><td>2.0</td><td>0.0</td><td>0.0</td><td>0.0</td><td>0.0</td><td>0.0</td><td>0.0</td><td>0.0</td><td>0.0</td></tr><tr><td>&quot;mean&quot;</td><td>&quot;2014-10-29 04:38:01.959000&quot;</td><td>540088.141767</td><td>3.370842</td><td>2.114757</td><td>2079.899736</td><td>15106.967566</td><td>1.494309</td><td>0.007542</td><td>0.234303</td><td>3.40943</td><td>7.656873</td><td>1788.396095</td><td>291.509045</td><td>1971.005136</td><td>84.402258</td><td>98077.939805</td><td>47.560053</td><td>-122.213896</td><td>1986.552492</td><td>12768.455652</td></tr><tr><td>&quot;std&quot;</td><td>null</td><td>367127.196483</td><td>0.930062</td><td>0.770163</td><td>918.440897</td><td>41420.511515</td><td>0.539989</td><td>0.086517</td><td>0.766318</td><td>0.650743</td><td>1.175459</td><td>828.128162</td><td>442.575043</td><td>29.373411</td><td>401.67924</td><td>53.505026</td><td>0.138564</td><td>0.140828</td><td>685.391304</td><td>27304.179631</td></tr><tr><td>&quot;min&quot;</td><td>&quot;2014-05-02&quot;</td><td>75000.0</td><td>0.0</td><td>0.0</td><td>290.0</td><td>520.0</td><td>1.0</td><td>0.0</td><td>0.0</td><td>1.0</td><td>1.0</td><td>290.0</td><td>0.0</td><td>1900.0</td><td>0.0</td><td>98001.0</td><td>47.1559</td><td>-122.519</td><td>399.0</td><td>651.0</td></tr><tr><td>&quot;25%&quot;</td><td>&quot;2014-07-22&quot;</td><td>321950.0</td><td>3.0</td><td>1.75</td><td>1427.0</td><td>5040.0</td><td>1.0</td><td>0.0</td><td>0.0</td><td>3.0</td><td>7.0</td><td>1190.0</td><td>0.0</td><td>1951.0</td><td>0.0</td><td>98033.0</td><td>47.471</td><td>-122.328</td><td>1490.0</td><td>5100.0</td></tr><tr><td>&quot;50%&quot;</td><td>&quot;2014-10-16&quot;</td><td>450000.0</td><td>3.0</td><td>2.25</td><td>1910.0</td><td>7618.0</td><td>1.5</td><td>0.0</td><td>0.0</td><td>3.0</td><td>7.0</td><td>1560.0</td><td>0.0</td><td>1975.0</td><td>0.0</td><td>98065.0</td><td>47.5718</td><td>-122.23</td><td>1840.0</td><td>7620.0</td></tr><tr><td>&quot;75%&quot;</td><td>&quot;2015-02-17&quot;</td><td>645000.0</td><td>4.0</td><td>2.5</td><td>2550.0</td><td>10688.0</td><td>2.0</td><td>0.0</td><td>0.0</td><td>4.0</td><td>8.0</td><td>2210.0</td><td>560.0</td><td>1997.0</td><td>0.0</td><td>98118.0</td><td>47.678</td><td>-122.125</td><td>2360.0</td><td>10083.0</td></tr><tr><td>&quot;max&quot;</td><td>&quot;2015-05-27&quot;</td><td>7.7e6</td><td>33.0</td><td>8.0</td><td>13540.0</td><td>1.651359e6</td><td>3.5</td><td>1.0</td><td>4.0</td><td>5.0</td><td>13.0</td><td>9410.0</td><td>4820.0</td><td>2015.0</td><td>2015.0</td><td>98199.0</td><td>47.7776</td><td>-121.315</td><td>6210.0</td><td>871200.0</td></tr></tbody></table></div>"
      ]
     },
     "execution_count": 18,
     "metadata": {},
     "output_type": "execute_result"
    }
   ],
   "execution_count": 18
  }
 ],
 "metadata": {
  "kernelspec": {
   "display_name": "Python 3",
   "language": "python",
   "name": "python3"
  },
  "language_info": {
   "codemirror_mode": {
    "name": "ipython",
    "version": 2
   },
   "file_extension": ".py",
   "mimetype": "text/x-python",
   "name": "python",
   "nbconvert_exporter": "python",
   "pygments_lexer": "ipython2",
   "version": "2.7.6"
  }
 },
 "nbformat": 4,
 "nbformat_minor": 5
}
