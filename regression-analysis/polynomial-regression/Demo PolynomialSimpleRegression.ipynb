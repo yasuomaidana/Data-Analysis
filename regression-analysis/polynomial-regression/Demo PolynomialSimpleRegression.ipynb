{
 "nbformat": 4,
 "nbformat_minor": 0,
 "metadata": {
  "colab": {
   "provenance": [],
   "toc_visible": true,
   "authorship_tag": "ABX9TyMKfRE5CGrRpfnhD9wD4dfp"
  },
  "kernelspec": {
   "name": "python3",
   "display_name": "Python 3 (ipykernel)",
   "language": "python"
  },
  "language_info": {
   "name": "python"
  }
 },
 "cells": [
  {
   "cell_type": "markdown",
   "source": [],
   "metadata": {
    "id": "1k9syeAgKKvF"
   }
  },
  {
   "cell_type": "markdown",
   "source": [
    "# Polynomial Regression\n",
    "> Documentation: https://scikit-learn.org/stable/modules/linear_model.html#polynomial-regression-extending-linear-models-with-basis-functions"
   ],
   "metadata": {
    "id": "ymDkTN__4A-k"
   }
  },
  {
   "cell_type": "markdown",
   "source": [
    "## Setup"
   ],
   "metadata": {
    "id": "ZvIz-BKU4MPw"
   }
  },
  {
   "cell_type": "code",
   "metadata": {
    "id": "-3veyqvV3-Ny",
    "executionInfo": {
     "status": "ok",
     "timestamp": 1690388340312,
     "user_tz": 240,
     "elapsed": 1574,
     "user": {
      "displayName": "Di Wu",
      "userId": "05255951341257561169"
     }
    },
    "ExecuteTime": {
     "end_time": "2025-04-04T00:13:14.563023Z",
     "start_time": "2025-04-04T00:13:13.522074Z"
    }
   },
   "source": [
    "import numpy as np\n",
    "import matplotlib.pyplot as plt\n",
    "from sklearn.metrics import mean_absolute_error, mean_squared_error, r2_score, root_mean_squared_error\n",
    "from sklearn.preprocessing import PolynomialFeatures\n",
    "from sklearn.linear_model import LinearRegression\n",
    "from sklearn.model_selection import train_test_split"
   ],
   "outputs": [],
   "execution_count": 1
  },
  {
   "cell_type": "markdown",
   "source": [
    "## Try linear simple regression first"
   ],
   "metadata": {
    "id": "_U2-DWnj9yjY"
   }
  },
  {
   "cell_type": "markdown",
   "source": [
    "### Prepare independent variable"
   ],
   "metadata": {
    "id": "U7a-bHpv4van"
   }
  },
  {
   "cell_type": "code",
   "source": "x = np.random.uniform(-3, 3, 100).reshape(-1, 1)",
   "metadata": {
    "id": "FBTZUi7i4sUH",
    "executionInfo": {
     "status": "ok",
     "timestamp": 1690388489669,
     "user_tz": 240,
     "elapsed": 102,
     "user": {
      "displayName": "Di Wu",
      "userId": "05255951341257561169"
     }
    },
    "ExecuteTime": {
     "end_time": "2025-04-04T00:13:14.566836Z",
     "start_time": "2025-04-04T00:13:14.565305Z"
    }
   },
   "outputs": [],
   "execution_count": 2
  },
  {
   "cell_type": "markdown",
   "source": [
    "### Prepare dependent variable"
   ],
   "metadata": {
    "id": "lIRbDQCH4yQX"
   }
  },
  {
   "cell_type": "code",
   "source": [
    "y = x * x - x - 1\n",
    "error = np.random.rand(100).reshape(-1, 1)\n",
    "y = y + error * 2\n",
    "y = y.reshape(-1, 1)"
   ],
   "metadata": {
    "id": "aUAYtTut4jct",
    "executionInfo": {
     "status": "ok",
     "timestamp": 1690388490643,
     "user_tz": 240,
     "elapsed": 153,
     "user": {
      "displayName": "Di Wu",
      "userId": "05255951341257561169"
     }
    },
    "ExecuteTime": {
     "end_time": "2025-04-04T00:13:14.659263Z",
     "start_time": "2025-04-04T00:13:14.657625Z"
    }
   },
   "outputs": [],
   "execution_count": 3
  },
  {
   "cell_type": "markdown",
   "source": [
    "### Simple visualization"
   ],
   "metadata": {
    "id": "QNaruhxC93Uj"
   }
  },
  {
   "cell_type": "code",
   "source": [
    "plt.scatter(x, y)"
   ],
   "metadata": {
    "colab": {
     "base_uri": "https://localhost:8080/",
     "height": 468
    },
    "id": "5USBMZHx40fm",
    "executionInfo": {
     "status": "ok",
     "timestamp": 1690388493476,
     "user_tz": 240,
     "elapsed": 427,
     "user": {
      "displayName": "Di Wu",
      "userId": "05255951341257561169"
     }
    },
    "outputId": "d9bb5f91-50ea-4bea-bac1-77539d084877",
    "ExecuteTime": {
     "end_time": "2025-04-04T00:13:14.727409Z",
     "start_time": "2025-04-04T00:13:14.663504Z"
    }
   },
   "outputs": [
    {
     "data": {
      "text/plain": [
       "<matplotlib.collections.PathCollection at 0x11803f990>"
      ]
     },
     "execution_count": 4,
     "metadata": {},
     "output_type": "execute_result"
    },
    {
     "data": {
      "text/plain": [
       "<Figure size 640x480 with 1 Axes>"
      ],
      "image/png": "[encoded data removed]"
     },
     "metadata": {},
     "output_type": "display_data"
    }
   ],
   "execution_count": 4
  },
  {
   "cell_type": "markdown",
   "source": [
    "### Split train and test data"
   ],
   "metadata": {
    "id": "Ilii5F-C7nwa"
   }
  },
  {
   "cell_type": "code",
   "source": "x_train, x_test, y_train, y_test = train_test_split(x, y, test_size=0.20)",
   "metadata": {
    "id": "YoDuCeYO7rYz",
    "executionInfo": {
     "status": "ok",
     "timestamp": 1690388497830,
     "user_tz": 240,
     "elapsed": 114,
     "user": {
      "displayName": "Di Wu",
      "userId": "05255951341257561169"
     }
    },
    "ExecuteTime": {
     "end_time": "2025-04-04T00:13:14.743471Z",
     "start_time": "2025-04-04T00:13:14.741592Z"
    }
   },
   "outputs": [],
   "execution_count": 5
  },
  {
   "cell_type": "markdown",
   "source": [
    "### Train the model"
   ],
   "metadata": {
    "id": "C8N2pqjw5GWY"
   }
  },
  {
   "cell_type": "code",
   "source": [
    "reg = LinearRegression()\n",
    "model = reg.fit(x_train, y_train)"
   ],
   "metadata": {
    "id": "fuQQE_835INP",
    "executionInfo": {
     "status": "ok",
     "timestamp": 1690388499681,
     "user_tz": 240,
     "elapsed": 121,
     "user": {
      "displayName": "Di Wu",
      "userId": "05255951341257561169"
     }
    },
    "ExecuteTime": {
     "end_time": "2025-04-04T00:13:14.747233Z",
     "start_time": "2025-04-04T00:13:14.745411Z"
    }
   },
   "outputs": [],
   "execution_count": 6
  },
  {
   "cell_type": "code",
   "source": [
    "model.coef_, model.intercept_"
   ],
   "metadata": {
    "colab": {
     "base_uri": "https://localhost:8080/"
    },
    "id": "KjYfoY8M5ON_",
    "executionInfo": {
     "status": "ok",
     "timestamp": 1690388500550,
     "user_tz": 240,
     "elapsed": 106,
     "user": {
      "displayName": "Di Wu",
      "userId": "05255951341257561169"
     }
    },
    "outputId": "5a78fb70-df13-4c24-ee87-de9e5a2afbac",
    "ExecuteTime": {
     "end_time": "2025-04-04T00:13:14.757029Z",
     "start_time": "2025-04-04T00:13:14.754700Z"
    }
   },
   "outputs": [
    {
     "data": {
      "text/plain": [
       "(array([[-0.43211789]]), array([3.49046928]))"
      ]
     },
     "execution_count": 7,
     "metadata": {},
     "output_type": "execute_result"
    }
   ],
   "execution_count": 7
  },
  {
   "cell_type": "markdown",
   "source": [
    "### Evaluate the model"
   ],
   "metadata": {
    "id": "tOLRNBVYAa_C"
   }
  },
  {
   "cell_type": "code",
   "source": [
    "y_pred = model.predict(x_test)\n",
    "mae = mean_absolute_error(y_true=y_test, y_pred=y_pred)\n",
    "mse = mean_squared_error(y_true=y_test, y_pred=y_pred)\n",
    "rmse = root_mean_squared_error(y_true=y_test, y_pred=y_pred)\n",
    "mse = mean_squared_error(y_test, y_pred)\n",
    "r2 = r2_score(y_test, y_pred)\n",
    "\n",
    "print('MAE: {} MSE: {} RMSE: {} R^2 {}'.format(mae, mse, rmse, r2))"
   ],
   "metadata": {
    "colab": {
     "base_uri": "https://localhost:8080/"
    },
    "id": "LksKn3MXAeSz",
    "executionInfo": {
     "status": "ok",
     "timestamp": 1690388502496,
     "user_tz": 240,
     "elapsed": 116,
     "user": {
      "displayName": "Di Wu",
      "userId": "05255951341257561169"
     }
    },
    "outputId": "0ab3fd4e-f6ed-4ab0-f6ee-fd9d2c04e9e3",
    "ExecuteTime": {
     "end_time": "2025-04-04T00:13:14.766229Z",
     "start_time": "2025-04-04T00:13:14.762410Z"
    }
   },
   "outputs": [
    {
     "name": "stdout",
     "output_type": "stream",
     "text": [
      "MAE: 2.046003772293608 MSE: 5.443326919839725 RMSE: 2.33309385148556 R^2 -0.8407121850901689\n"
     ]
    }
   ],
   "execution_count": 8
  },
  {
   "cell_type": "markdown",
   "source": [
    "### Visualiza your result"
   ],
   "metadata": {
    "id": "WTfRQ7sL8ZZV"
   }
  },
  {
   "cell_type": "code",
   "source": [
    "plt.scatter(x, y)\n",
    "plt.scatter(x_test, y_pred)"
   ],
   "metadata": {
    "colab": {
     "base_uri": "https://localhost:8080/",
     "height": 468
    },
    "id": "pIX1ROx45x4l",
    "executionInfo": {
     "status": "ok",
     "timestamp": 1690388505658,
     "user_tz": 240,
     "elapsed": 410,
     "user": {
      "displayName": "Di Wu",
      "userId": "05255951341257561169"
     }
    },
    "outputId": "08ac1c24-91ed-42cb-fd10-5b865e8bbb62",
    "ExecuteTime": {
     "end_time": "2025-04-04T00:13:14.811426Z",
     "start_time": "2025-04-04T00:13:14.773740Z"
    }
   },
   "outputs": [
    {
     "data": {
      "text/plain": [
       "<matplotlib.collections.PathCollection at 0x119907450>"
      ]
     },
     "execution_count": 9,
     "metadata": {},
     "output_type": "execute_result"
    },
    {
     "data": {
      "text/plain": [
       "<Figure size 640x480 with 1 Axes>"
      ],
      "image/png": "[encoded data removed]"
     },
     "metadata": {},
     "output_type": "display_data"
    }
   ],
   "execution_count": 9
  },
  {
   "cell_type": "markdown",
   "source": [
    "### Not so good, isn't it?"
   ],
   "metadata": {
    "id": "gADYfTZVDkkt"
   }
  },
  {
   "cell_type": "markdown",
   "source": [
    "## Try polinomial features\n",
    "\n"
   ],
   "metadata": {
    "id": "5WPIAkwsNovx"
   }
  },
  {
   "cell_type": "code",
   "source": "x_train, x_test, y_train, y_test = train_test_split(x, y, test_size=0.20)",
   "metadata": {
    "id": "1iLxKcXdV2oh",
    "executionInfo": {
     "status": "ok",
     "timestamp": 1690388509795,
     "user_tz": 240,
     "elapsed": 122,
     "user": {
      "displayName": "Di Wu",
      "userId": "05255951341257561169"
     }
    },
    "ExecuteTime": {
     "end_time": "2025-04-04T00:13:14.819743Z",
     "start_time": "2025-04-04T00:13:14.817820Z"
    }
   },
   "outputs": [],
   "execution_count": 10
  },
  {
   "cell_type": "code",
   "source": [
    "poly = PolynomialFeatures(degree=2)\n",
    "poly_train = poly.fit_transform(x_train.reshape(-1, 1))\n",
    "poly_test = poly.fit_transform(x_test.reshape(-1, 1))"
   ],
   "metadata": {
    "id": "ZnGX_oqNPECu",
    "executionInfo": {
     "status": "ok",
     "timestamp": 1690388511658,
     "user_tz": 240,
     "elapsed": 193,
     "user": {
      "displayName": "Di Wu",
      "userId": "05255951341257561169"
     }
    },
    "ExecuteTime": {
     "end_time": "2025-04-04T00:13:14.832196Z",
     "start_time": "2025-04-04T00:13:14.830241Z"
    }
   },
   "outputs": [],
   "execution_count": 11
  },
  {
   "cell_type": "code",
   "source": [
    "poly_train"
   ],
   "metadata": {
    "colab": {
     "base_uri": "https://localhost:8080/"
    },
    "id": "Bt0AI96QUfLy",
    "executionInfo": {
     "status": "ok",
     "timestamp": 1690388513334,
     "user_tz": 240,
     "elapsed": 114,
     "user": {
      "displayName": "Di Wu",
      "userId": "05255951341257561169"
     }
    },
    "outputId": "b199ee5a-3e31-44a7-ce9b-40cd62532c2b",
    "ExecuteTime": {
     "end_time": "2025-04-04T00:13:14.946238Z",
     "start_time": "2025-04-04T00:13:14.943295Z"
    }
   },
   "outputs": [
    {
     "data": {
      "text/plain": [
       "array([[ 1.00000000e+00,  2.53324500e+00,  6.41733022e+00],\n",
       "       [ 1.00000000e+00,  2.49248431e+00,  6.21247802e+00],\n",
       "       [ 1.00000000e+00, -2.97802918e+00,  8.86865780e+00],\n",
       "       [ 1.00000000e+00,  2.14688565e+00,  4.60911799e+00],\n",
       "       [ 1.00000000e+00,  1.63745328e+00,  2.68125323e+00],\n",
       "       [ 1.00000000e+00, -3.62182389e-01,  1.31176083e-01],\n",
       "       [ 1.00000000e+00,  1.46614014e+00,  2.14956692e+00],\n",
       "       [ 1.00000000e+00, -3.85217819e-01,  1.48392768e-01],\n",
       "       [ 1.00000000e+00, -7.43342237e-01,  5.52557681e-01],\n",
       "       [ 1.00000000e+00,  6.17430060e-02,  3.81219879e-03],\n",
       "       [ 1.00000000e+00,  1.78153036e+00,  3.17385041e+00],\n",
       "       [ 1.00000000e+00,  2.37884088e+00,  5.65888391e+00],\n",
       "       [ 1.00000000e+00, -1.64040578e+00,  2.69093114e+00],\n",
       "       [ 1.00000000e+00,  2.94079825e+00,  8.64829434e+00],\n",
       "       [ 1.00000000e+00, -1.16216759e+00,  1.35063350e+00],\n",
       "       [ 1.00000000e+00,  2.22641020e+00,  4.95690240e+00],\n",
       "       [ 1.00000000e+00, -1.64576323e+00,  2.70853659e+00],\n",
       "       [ 1.00000000e+00,  2.59386606e+00,  6.72814114e+00],\n",
       "       [ 1.00000000e+00,  2.57454394e+00,  6.62827649e+00],\n",
       "       [ 1.00000000e+00, -2.01800718e+00,  4.07235297e+00],\n",
       "       [ 1.00000000e+00,  2.66219617e+00,  7.08728845e+00],\n",
       "       [ 1.00000000e+00,  1.87976416e+00,  3.53351329e+00],\n",
       "       [ 1.00000000e+00,  2.96878369e+00,  8.81367658e+00],\n",
       "       [ 1.00000000e+00,  1.84919852e+00,  3.41953515e+00],\n",
       "       [ 1.00000000e+00, -1.28326143e+00,  1.64675991e+00],\n",
       "       [ 1.00000000e+00, -1.36100919e+00,  1.85234601e+00],\n",
       "       [ 1.00000000e+00,  2.94529639e+00,  8.67477084e+00],\n",
       "       [ 1.00000000e+00, -2.41093384e+00,  5.81260200e+00],\n",
       "       [ 1.00000000e+00,  3.99695951e-01,  1.59756853e-01],\n",
       "       [ 1.00000000e+00, -1.00646156e+00,  1.01296487e+00],\n",
       "       [ 1.00000000e+00,  3.28076243e-01,  1.07634021e-01],\n",
       "       [ 1.00000000e+00,  7.85544500e-01,  6.17080162e-01],\n",
       "       [ 1.00000000e+00,  1.57555273e+00,  2.48236641e+00],\n",
       "       [ 1.00000000e+00,  2.82795183e+00,  7.99731153e+00],\n",
       "       [ 1.00000000e+00,  3.36639575e-02,  1.13326204e-03],\n",
       "       [ 1.00000000e+00,  2.36048556e+00,  5.57189207e+00],\n",
       "       [ 1.00000000e+00, -1.81992164e+00,  3.31211479e+00],\n",
       "       [ 1.00000000e+00,  2.76978650e+00,  7.67171725e+00],\n",
       "       [ 1.00000000e+00, -2.35775279e-01,  5.55899823e-02],\n",
       "       [ 1.00000000e+00, -2.17287101e+00,  4.72136842e+00],\n",
       "       [ 1.00000000e+00,  9.24632806e-01,  8.54945826e-01],\n",
       "       [ 1.00000000e+00,  2.25550627e+00,  5.08730855e+00],\n",
       "       [ 1.00000000e+00, -1.74908221e+00,  3.05928857e+00],\n",
       "       [ 1.00000000e+00,  1.43797571e+00,  2.06777413e+00],\n",
       "       [ 1.00000000e+00, -1.31035911e+00,  1.71704100e+00],\n",
       "       [ 1.00000000e+00, -1.84653552e-01,  3.40969343e-02],\n",
       "       [ 1.00000000e+00,  1.50241087e+00,  2.25723842e+00],\n",
       "       [ 1.00000000e+00, -1.72989207e+00,  2.99252658e+00],\n",
       "       [ 1.00000000e+00, -1.27026677e+00,  1.61357768e+00],\n",
       "       [ 1.00000000e+00, -3.90784043e-01,  1.52712169e-01],\n",
       "       [ 1.00000000e+00,  1.83631262e+00,  3.37204404e+00],\n",
       "       [ 1.00000000e+00,  1.57186924e+00,  2.47077291e+00],\n",
       "       [ 1.00000000e+00, -2.17735316e+00,  4.74086678e+00],\n",
       "       [ 1.00000000e+00,  2.97568494e+00,  8.85470088e+00],\n",
       "       [ 1.00000000e+00,  2.54900337e+00,  6.49741818e+00],\n",
       "       [ 1.00000000e+00, -9.24466643e-01,  8.54638575e-01],\n",
       "       [ 1.00000000e+00, -2.32672729e+00,  5.41365988e+00],\n",
       "       [ 1.00000000e+00, -5.95108161e-01,  3.54153723e-01],\n",
       "       [ 1.00000000e+00,  2.72686981e+00,  7.43581893e+00],\n",
       "       [ 1.00000000e+00, -2.55861416e+00,  6.54650640e+00],\n",
       "       [ 1.00000000e+00,  1.37080558e+00,  1.87910794e+00],\n",
       "       [ 1.00000000e+00,  1.71361913e-01,  2.93649052e-02],\n",
       "       [ 1.00000000e+00,  2.65873817e+00,  7.06888866e+00],\n",
       "       [ 1.00000000e+00, -2.59686994e-01,  6.74373348e-02],\n",
       "       [ 1.00000000e+00, -1.93272656e+00,  3.73543195e+00],\n",
       "       [ 1.00000000e+00,  9.23623456e-01,  8.53080288e-01],\n",
       "       [ 1.00000000e+00, -2.32269516e+00,  5.39491282e+00],\n",
       "       [ 1.00000000e+00, -1.51303833e+00,  2.28928498e+00],\n",
       "       [ 1.00000000e+00, -3.24743159e-01,  1.05458119e-01],\n",
       "       [ 1.00000000e+00,  3.24332572e-01,  1.05191617e-01],\n",
       "       [ 1.00000000e+00, -8.58903294e-01,  7.37714868e-01],\n",
       "       [ 1.00000000e+00,  2.64880829e+00,  7.01618537e+00],\n",
       "       [ 1.00000000e+00, -2.02578298e+00,  4.10379667e+00],\n",
       "       [ 1.00000000e+00,  1.11726886e+00,  1.24828971e+00],\n",
       "       [ 1.00000000e+00,  1.22312867e+00,  1.49604374e+00],\n",
       "       [ 1.00000000e+00, -2.74721066e+00,  7.54716639e+00],\n",
       "       [ 1.00000000e+00, -2.64378748e+00,  6.98961222e+00],\n",
       "       [ 1.00000000e+00,  5.23589020e-01,  2.74145462e-01],\n",
       "       [ 1.00000000e+00,  1.26920287e+00,  1.61087593e+00],\n",
       "       [ 1.00000000e+00,  2.03715880e+00,  4.15001597e+00]])"
      ]
     },
     "execution_count": 12,
     "metadata": {},
     "output_type": "execute_result"
    }
   ],
   "execution_count": 12
  },
  {
   "cell_type": "markdown",
   "source": [
    "### Train the model with polynomial features"
   ],
   "metadata": {
    "id": "LcU3unLDZehm"
   }
  },
  {
   "cell_type": "code",
   "source": [
    "poly_reg_model = LinearRegression()\n",
    "poly_reg_model.fit(poly_train, y_train)"
   ],
   "metadata": {
    "colab": {
     "base_uri": "https://localhost:8080/",
     "height": 95
    },
    "id": "cSOHZi0aPdzM",
    "executionInfo": {
     "status": "ok",
     "timestamp": 1690388516781,
     "user_tz": 240,
     "elapsed": 277,
     "user": {
      "displayName": "Di Wu",
      "userId": "05255951341257561169"
     }
    },
    "outputId": "3554a284-f035-412c-b4ee-4cd949974b94",
    "ExecuteTime": {
     "end_time": "2025-04-04T00:13:14.980922Z",
     "start_time": "2025-04-04T00:13:14.978259Z"
    }
   },
   "outputs": [
    {
     "data": {
      "text/plain": [
       "LinearRegression()"
      ],
      "text/html": [
       "<style>#sk-container-id-1 {\n",
       "  /* Definition of color scheme common for light and dark mode */\n",
       "  --sklearn-color-text: #000;\n",
       "  --sklearn-color-text-muted: #666;\n",
       "  --sklearn-color-line: gray;\n",
       "  /* Definition of color scheme for unfitted estimators */\n",
       "  --sklearn-color-unfitted-level-0: #fff5e6;\n",
       "  --sklearn-color-unfitted-level-1: #f6e4d2;\n",
       "  --sklearn-color-unfitted-level-2: #ffe0b3;\n",
       "  --sklearn-color-unfitted-level-3: chocolate;\n",
       "  /* Definition of color scheme for fitted estimators */\n",
       "  --sklearn-color-fitted-level-0: #f0f8ff;\n",
       "  --sklearn-color-fitted-level-1: #d4ebff;\n",
       "  --sklearn-color-fitted-level-2: #b3dbfd;\n",
       "  --sklearn-color-fitted-level-3: cornflowerblue;\n",
       "\n",
       "  /* Specific color for light theme */\n",
       "  --sklearn-color-text-on-default-background: var(--sg-text-color, var(--theme-code-foreground, var(--jp-content-font-color1, black)));\n",
       "  --sklearn-color-background: var(--sg-background-color, var(--theme-background, var(--jp-layout-color0, white)));\n",
       "  --sklearn-color-border-box: var(--sg-text-color, var(--theme-code-foreground, var(--jp-content-font-color1, black)));\n",
       "  --sklearn-color-icon: #696969;\n",
       "\n",
       "  @media (prefers-color-scheme: dark) {\n",
       "    /* Redefinition of color scheme for dark theme */\n",
       "    --sklearn-color-text-on-default-background: var(--sg-text-color, var(--theme-code-foreground, var(--jp-content-font-color1, white)));\n",
       "    --sklearn-color-background: var(--sg-background-color, var(--theme-background, var(--jp-layout-color0, #111)));\n",
       "    --sklearn-color-border-box: var(--sg-text-color, var(--theme-code-foreground, var(--jp-content-font-color1, white)));\n",
       "    --sklearn-color-icon: #878787;\n",
       "  }\n",
       "}\n",
       "\n",
       "#sk-container-id-1 {\n",
       "  color: var(--sklearn-color-text);\n",
       "}\n",
       "\n",
       "#sk-container-id-1 pre {\n",
       "  padding: 0;\n",
       "}\n",
       "\n",
       "#sk-container-id-1 input.sk-hidden--visually {\n",
       "  border: 0;\n",
       "  clip: rect(1px 1px 1px 1px);\n",
       "  clip: rect(1px, 1px, 1px, 1px);\n",
       "  height: 1px;\n",
       "  margin: -1px;\n",
       "  overflow: hidden;\n",
       "  padding: 0;\n",
       "  position: absolute;\n",
       "  width: 1px;\n",
       "}\n",
       "\n",
       "#sk-container-id-1 div.sk-dashed-wrapped {\n",
       "  border: 1px dashed var(--sklearn-color-line);\n",
       "  margin: 0 0.4em 0.5em 0.4em;\n",
       "  box-sizing: border-box;\n",
       "  padding-bottom: 0.4em;\n",
       "  background-color: var(--sklearn-color-background);\n",
       "}\n",
       "\n",
       "#sk-container-id-1 div.sk-container {\n",
       "  /* jupyter's `normalize.less` sets `[hidden] { display: none; }`\n",
       "     but bootstrap.min.css set `[hidden] { display: none !important; }`\n",
       "     so we also need the `!important` here to be able to override the\n",
       "     default hidden behavior on the sphinx rendered scikit-learn.org.\n",
       "     See: https://github.com/scikit-learn/scikit-learn/issues/21755 */\n",
       "  display: inline-block !important;\n",
       "  position: relative;\n",
       "}\n",
       "\n",
       "#sk-container-id-1 div.sk-text-repr-fallback {\n",
       "  display: none;\n",
       "}\n",
       "\n",
       "div.sk-parallel-item,\n",
       "div.sk-serial,\n",
       "div.sk-item {\n",
       "  /* draw centered vertical line to link estimators */\n",
       "  background-image: linear-gradient(var(--sklearn-color-text-on-default-background), var(--sklearn-color-text-on-default-background));\n",
       "  background-size: 2px 100%;\n",
       "  background-repeat: no-repeat;\n",
       "  background-position: center center;\n",
       "}\n",
       "\n",
       "/* Parallel-specific style estimator block */\n",
       "\n",
       "#sk-container-id-1 div.sk-parallel-item::after {\n",
       "  content: \"\";\n",
       "  width: 100%;\n",
       "  border-bottom: 2px solid var(--sklearn-color-text-on-default-background);\n",
       "  flex-grow: 1;\n",
       "}\n",
       "\n",
       "#sk-container-id-1 div.sk-parallel {\n",
       "  display: flex;\n",
       "  align-items: stretch;\n",
       "  justify-content: center;\n",
       "  background-color: var(--sklearn-color-background);\n",
       "  position: relative;\n",
       "}\n",
       "\n",
       "#sk-container-id-1 div.sk-parallel-item {\n",
       "  display: flex;\n",
       "  flex-direction: column;\n",
       "}\n",
       "\n",
       "#sk-container-id-1 div.sk-parallel-item:first-child::after {\n",
       "  align-self: flex-end;\n",
       "  width: 50%;\n",
       "}\n",
       "\n",
       "#sk-container-id-1 div.sk-parallel-item:last-child::after {\n",
       "  align-self: flex-start;\n",
       "  width: 50%;\n",
       "}\n",
       "\n",
       "#sk-container-id-1 div.sk-parallel-item:only-child::after {\n",
       "  width: 0;\n",
       "}\n",
       "\n",
       "/* Serial-specific style estimator block */\n",
       "\n",
       "#sk-container-id-1 div.sk-serial {\n",
       "  display: flex;\n",
       "  flex-direction: column;\n",
       "  align-items: center;\n",
       "  background-color: var(--sklearn-color-background);\n",
       "  padding-right: 1em;\n",
       "  padding-left: 1em;\n",
       "}\n",
       "\n",
       "\n",
       "/* Toggleable style: style used for estimator/Pipeline/ColumnTransformer box that is\n",
       "clickable and can be expanded/collapsed.\n",
       "- Pipeline and ColumnTransformer use this feature and define the default style\n",
       "- Estimators will overwrite some part of the style using the `sk-estimator` class\n",
       "*/\n",
       "\n",
       "/* Pipeline and ColumnTransformer style (default) */\n",
       "\n",
       "#sk-container-id-1 div.sk-toggleable {\n",
       "  /* Default theme specific background. It is overwritten whether we have a\n",
       "  specific estimator or a Pipeline/ColumnTransformer */\n",
       "  background-color: var(--sklearn-color-background);\n",
       "}\n",
       "\n",
       "/* Toggleable label */\n",
       "#sk-container-id-1 label.sk-toggleable__label {\n",
       "  cursor: pointer;\n",
       "  display: flex;\n",
       "  width: 100%;\n",
       "  margin-bottom: 0;\n",
       "  padding: 0.5em;\n",
       "  box-sizing: border-box;\n",
       "  text-align: center;\n",
       "  align-items: start;\n",
       "  justify-content: space-between;\n",
       "  gap: 0.5em;\n",
       "}\n",
       "\n",
       "#sk-container-id-1 label.sk-toggleable__label .caption {\n",
       "  font-size: 0.6rem;\n",
       "  font-weight: lighter;\n",
       "  color: var(--sklearn-color-text-muted);\n",
       "}\n",
       "\n",
       "#sk-container-id-1 label.sk-toggleable__label-arrow:before {\n",
       "  /* Arrow on the left of the label */\n",
       "  content: \"▸\";\n",
       "  float: left;\n",
       "  margin-right: 0.25em;\n",
       "  color: var(--sklearn-color-icon);\n",
       "}\n",
       "\n",
       "#sk-container-id-1 label.sk-toggleable__label-arrow:hover:before {\n",
       "  color: var(--sklearn-color-text);\n",
       "}\n",
       "\n",
       "/* Toggleable content - dropdown */\n",
       "\n",
       "#sk-container-id-1 div.sk-toggleable__content {\n",
       "  max-height: 0;\n",
       "  max-width: 0;\n",
       "  overflow: hidden;\n",
       "  text-align: left;\n",
       "  /* unfitted */\n",
       "  background-color: var(--sklearn-color-unfitted-level-0);\n",
       "}\n",
       "\n",
       "#sk-container-id-1 div.sk-toggleable__content.fitted {\n",
       "  /* fitted */\n",
       "  background-color: var(--sklearn-color-fitted-level-0);\n",
       "}\n",
       "\n",
       "#sk-container-id-1 div.sk-toggleable__content pre {\n",
       "  margin: 0.2em;\n",
       "  border-radius: 0.25em;\n",
       "  color: var(--sklearn-color-text);\n",
       "  /* unfitted */\n",
       "  background-color: var(--sklearn-color-unfitted-level-0);\n",
       "}\n",
       "\n",
       "#sk-container-id-1 div.sk-toggleable__content.fitted pre {\n",
       "  /* unfitted */\n",
       "  background-color: var(--sklearn-color-fitted-level-0);\n",
       "}\n",
       "\n",
       "#sk-container-id-1 input.sk-toggleable__control:checked~div.sk-toggleable__content {\n",
       "  /* Expand drop-down */\n",
       "  max-height: 200px;\n",
       "  max-width: 100%;\n",
       "  overflow: auto;\n",
       "}\n",
       "\n",
       "#sk-container-id-1 input.sk-toggleable__control:checked~label.sk-toggleable__label-arrow:before {\n",
       "  content: \"▾\";\n",
       "}\n",
       "\n",
       "/* Pipeline/ColumnTransformer-specific style */\n",
       "\n",
       "#sk-container-id-1 div.sk-label input.sk-toggleable__control:checked~label.sk-toggleable__label {\n",
       "  color: var(--sklearn-color-text);\n",
       "  background-color: var(--sklearn-color-unfitted-level-2);\n",
       "}\n",
       "\n",
       "#sk-container-id-1 div.sk-label.fitted input.sk-toggleable__control:checked~label.sk-toggleable__label {\n",
       "  background-color: var(--sklearn-color-fitted-level-2);\n",
       "}\n",
       "\n",
       "/* Estimator-specific style */\n",
       "\n",
       "/* Colorize estimator box */\n",
       "#sk-container-id-1 div.sk-estimator input.sk-toggleable__control:checked~label.sk-toggleable__label {\n",
       "  /* unfitted */\n",
       "  background-color: var(--sklearn-color-unfitted-level-2);\n",
       "}\n",
       "\n",
       "#sk-container-id-1 div.sk-estimator.fitted input.sk-toggleable__control:checked~label.sk-toggleable__label {\n",
       "  /* fitted */\n",
       "  background-color: var(--sklearn-color-fitted-level-2);\n",
       "}\n",
       "\n",
       "#sk-container-id-1 div.sk-label label.sk-toggleable__label,\n",
       "#sk-container-id-1 div.sk-label label {\n",
       "  /* The background is the default theme color */\n",
       "  color: var(--sklearn-color-text-on-default-background);\n",
       "}\n",
       "\n",
       "/* On hover, darken the color of the background */\n",
       "#sk-container-id-1 div.sk-label:hover label.sk-toggleable__label {\n",
       "  color: var(--sklearn-color-text);\n",
       "  background-color: var(--sklearn-color-unfitted-level-2);\n",
       "}\n",
       "\n",
       "/* Label box, darken color on hover, fitted */\n",
       "#sk-container-id-1 div.sk-label.fitted:hover label.sk-toggleable__label.fitted {\n",
       "  color: var(--sklearn-color-text);\n",
       "  background-color: var(--sklearn-color-fitted-level-2);\n",
       "}\n",
       "\n",
       "/* Estimator label */\n",
       "\n",
       "#sk-container-id-1 div.sk-label label {\n",
       "  font-family: monospace;\n",
       "  font-weight: bold;\n",
       "  display: inline-block;\n",
       "  line-height: 1.2em;\n",
       "}\n",
       "\n",
       "#sk-container-id-1 div.sk-label-container {\n",
       "  text-align: center;\n",
       "}\n",
       "\n",
       "/* Estimator-specific */\n",
       "#sk-container-id-1 div.sk-estimator {\n",
       "  font-family: monospace;\n",
       "  border: 1px dotted var(--sklearn-color-border-box);\n",
       "  border-radius: 0.25em;\n",
       "  box-sizing: border-box;\n",
       "  margin-bottom: 0.5em;\n",
       "  /* unfitted */\n",
       "  background-color: var(--sklearn-color-unfitted-level-0);\n",
       "}\n",
       "\n",
       "#sk-container-id-1 div.sk-estimator.fitted {\n",
       "  /* fitted */\n",
       "  background-color: var(--sklearn-color-fitted-level-0);\n",
       "}\n",
       "\n",
       "/* on hover */\n",
       "#sk-container-id-1 div.sk-estimator:hover {\n",
       "  /* unfitted */\n",
       "  background-color: var(--sklearn-color-unfitted-level-2);\n",
       "}\n",
       "\n",
       "#sk-container-id-1 div.sk-estimator.fitted:hover {\n",
       "  /* fitted */\n",
       "  background-color: var(--sklearn-color-fitted-level-2);\n",
       "}\n",
       "\n",
       "/* Specification for estimator info (e.g. \"i\" and \"?\") */\n",
       "\n",
       "/* Common style for \"i\" and \"?\" */\n",
       "\n",
       ".sk-estimator-doc-link,\n",
       "a:link.sk-estimator-doc-link,\n",
       "a:visited.sk-estimator-doc-link {\n",
       "  float: right;\n",
       "  font-size: smaller;\n",
       "  line-height: 1em;\n",
       "  font-family: monospace;\n",
       "  background-color: var(--sklearn-color-background);\n",
       "  border-radius: 1em;\n",
       "  height: 1em;\n",
       "  width: 1em;\n",
       "  text-decoration: none !important;\n",
       "  margin-left: 0.5em;\n",
       "  text-align: center;\n",
       "  /* unfitted */\n",
       "  border: var(--sklearn-color-unfitted-level-1) 1pt solid;\n",
       "  color: var(--sklearn-color-unfitted-level-1);\n",
       "}\n",
       "\n",
       ".sk-estimator-doc-link.fitted,\n",
       "a:link.sk-estimator-doc-link.fitted,\n",
       "a:visited.sk-estimator-doc-link.fitted {\n",
       "  /* fitted */\n",
       "  border: var(--sklearn-color-fitted-level-1) 1pt solid;\n",
       "  color: var(--sklearn-color-fitted-level-1);\n",
       "}\n",
       "\n",
       "/* On hover */\n",
       "div.sk-estimator:hover .sk-estimator-doc-link:hover,\n",
       ".sk-estimator-doc-link:hover,\n",
       "div.sk-label-container:hover .sk-estimator-doc-link:hover,\n",
       ".sk-estimator-doc-link:hover {\n",
       "  /* unfitted */\n",
       "  background-color: var(--sklearn-color-unfitted-level-3);\n",
       "  color: var(--sklearn-color-background);\n",
       "  text-decoration: none;\n",
       "}\n",
       "\n",
       "div.sk-estimator.fitted:hover .sk-estimator-doc-link.fitted:hover,\n",
       ".sk-estimator-doc-link.fitted:hover,\n",
       "div.sk-label-container:hover .sk-estimator-doc-link.fitted:hover,\n",
       ".sk-estimator-doc-link.fitted:hover {\n",
       "  /* fitted */\n",
       "  background-color: var(--sklearn-color-fitted-level-3);\n",
       "  color: var(--sklearn-color-background);\n",
       "  text-decoration: none;\n",
       "}\n",
       "\n",
       "/* Span, style for the box shown on hovering the info icon */\n",
       ".sk-estimator-doc-link span {\n",
       "  display: none;\n",
       "  z-index: 9999;\n",
       "  position: relative;\n",
       "  font-weight: normal;\n",
       "  right: .2ex;\n",
       "  padding: .5ex;\n",
       "  margin: .5ex;\n",
       "  width: min-content;\n",
       "  min-width: 20ex;\n",
       "  max-width: 50ex;\n",
       "  color: var(--sklearn-color-text);\n",
       "  box-shadow: 2pt 2pt 4pt #999;\n",
       "  /* unfitted */\n",
       "  background: var(--sklearn-color-unfitted-level-0);\n",
       "  border: .5pt solid var(--sklearn-color-unfitted-level-3);\n",
       "}\n",
       "\n",
       ".sk-estimator-doc-link.fitted span {\n",
       "  /* fitted */\n",
       "  background: var(--sklearn-color-fitted-level-0);\n",
       "  border: var(--sklearn-color-fitted-level-3);\n",
       "}\n",
       "\n",
       ".sk-estimator-doc-link:hover span {\n",
       "  display: block;\n",
       "}\n",
       "\n",
       "/* \"?\"-specific style due to the `<a>` HTML tag */\n",
       "\n",
       "#sk-container-id-1 a.estimator_doc_link {\n",
       "  float: right;\n",
       "  font-size: 1rem;\n",
       "  line-height: 1em;\n",
       "  font-family: monospace;\n",
       "  background-color: var(--sklearn-color-background);\n",
       "  border-radius: 1rem;\n",
       "  height: 1rem;\n",
       "  width: 1rem;\n",
       "  text-decoration: none;\n",
       "  /* unfitted */\n",
       "  color: var(--sklearn-color-unfitted-level-1);\n",
       "  border: var(--sklearn-color-unfitted-level-1) 1pt solid;\n",
       "}\n",
       "\n",
       "#sk-container-id-1 a.estimator_doc_link.fitted {\n",
       "  /* fitted */\n",
       "  border: var(--sklearn-color-fitted-level-1) 1pt solid;\n",
       "  color: var(--sklearn-color-fitted-level-1);\n",
       "}\n",
       "\n",
       "/* On hover */\n",
       "#sk-container-id-1 a.estimator_doc_link:hover {\n",
       "  /* unfitted */\n",
       "  background-color: var(--sklearn-color-unfitted-level-3);\n",
       "  color: var(--sklearn-color-background);\n",
       "  text-decoration: none;\n",
       "}\n",
       "\n",
       "#sk-container-id-1 a.estimator_doc_link.fitted:hover {\n",
       "  /* fitted */\n",
       "  background-color: var(--sklearn-color-fitted-level-3);\n",
       "}\n",
       "</style><div id=\"sk-container-id-1\" class=\"sk-top-container\"><div class=\"sk-text-repr-fallback\"><pre>LinearRegression()</pre><b>In a Jupyter environment, please rerun this cell to show the HTML representation or trust the notebook. <br />On GitHub, the HTML representation is unable to render, please try loading this page with nbviewer.org.</b></div><div class=\"sk-container\" hidden><div class=\"sk-item\"><div class=\"sk-estimator fitted sk-toggleable\"><input class=\"sk-toggleable__control sk-hidden--visually\" id=\"sk-estimator-id-1\" type=\"checkbox\" checked><label for=\"sk-estimator-id-1\" class=\"sk-toggleable__label fitted sk-toggleable__label-arrow\"><div><div>LinearRegression</div></div><div><a class=\"sk-estimator-doc-link fitted\" rel=\"noreferrer\" target=\"_blank\" href=\"https://scikit-learn.org/1.6/modules/generated/sklearn.linear_model.LinearRegression.html\">?<span>Documentation for LinearRegression</span></a><span class=\"sk-estimator-doc-link fitted\">i<span>Fitted</span></span></div></label><div class=\"sk-toggleable__content fitted\"><pre>LinearRegression()</pre></div> </div></div></div></div>"
      ]
     },
     "execution_count": 13,
     "metadata": {},
     "output_type": "execute_result"
    }
   ],
   "execution_count": 13
  },
  {
   "cell_type": "markdown",
   "source": [
    "### Evaluate the model"
   ],
   "metadata": {
    "id": "Xe548ZLIZhb0"
   }
  },
  {
   "cell_type": "code",
   "source": [
    "y_pred = poly_reg_model.predict(poly_test)\n",
    "mae = mean_absolute_error(y_true=y_test, y_pred=y_pred)\n",
    "mse = mean_squared_error(y_true=y_test, y_pred=y_pred)\n",
    "rmse = root_mean_squared_error(y_true=y_test, y_pred=y_pred)\n",
    "mse = mean_squared_error(y_test, y_pred)\n",
    "r2 = r2_score(y_test, y_pred)\n",
    "\n",
    "print('MAE: {} MSE: {} RMSE: {} R^2 {}'.format(mae, mse, rmse, r2))"
   ],
   "metadata": {
    "colab": {
     "base_uri": "https://localhost:8080/"
    },
    "id": "Z3SkgS5wQrrI",
    "executionInfo": {
     "status": "ok",
     "timestamp": 1690388518339,
     "user_tz": 240,
     "elapsed": 118,
     "user": {
      "displayName": "Di Wu",
      "userId": "05255951341257561169"
     }
    },
    "outputId": "dfd5d365-1edc-4c09-f98e-dd16bf31ee60",
    "ExecuteTime": {
     "end_time": "2025-04-04T00:13:15.021845Z",
     "start_time": "2025-04-04T00:13:15.018900Z"
    }
   },
   "outputs": [
    {
     "name": "stdout",
     "output_type": "stream",
     "text": [
      "MAE: 0.4935877883477821 MSE: 0.3646930553052671 RMSE: 0.6038982160143107 R^2 0.9507681088998547\n"
     ]
    }
   ],
   "execution_count": 14
  },
  {
   "cell_type": "markdown",
   "source": [
    "### Visualize the model"
   ],
   "metadata": {
    "id": "cMENpewtZjQ0"
   }
  },
  {
   "cell_type": "code",
   "source": [
    "plt.scatter(x, y)\n",
    "plt.scatter(x_test, y_pred)"
   ],
   "metadata": {
    "colab": {
     "base_uri": "https://localhost:8080/",
     "height": 468
    },
    "id": "Xw_R_-o8QwGF",
    "executionInfo": {
     "status": "ok",
     "timestamp": 1690388521075,
     "user_tz": 240,
     "elapsed": 452,
     "user": {
      "displayName": "Di Wu",
      "userId": "05255951341257561169"
     }
    },
    "outputId": "6ba64c65-7018-4087-cbb6-a1bfb302246c",
    "ExecuteTime": {
     "end_time": "2025-04-04T00:13:15.102053Z",
     "start_time": "2025-04-04T00:13:15.064411Z"
    }
   },
   "outputs": [
    {
     "data": {
      "text/plain": [
       "<matplotlib.collections.PathCollection at 0x119900790>"
      ]
     },
     "execution_count": 15,
     "metadata": {},
     "output_type": "execute_result"
    },
    {
     "data": {
      "text/plain": [
       "<Figure size 640x480 with 1 Axes>"
      ],
      "image/png": "[encoded data removed]"
     },
     "metadata": {},
     "output_type": "display_data"
    }
   ],
   "execution_count": 15
  },
  {
   "cell_type": "markdown",
   "source": [
    "### Much better! Isn't it?\n",
    "Is the degree higher, the result better? How about we do degree as 51?"
   ],
   "metadata": {
    "id": "DVjoe-mODeYl"
   }
  },
  {
   "cell_type": "code",
   "source": [
    "poly = PolynomialFeatures(degree=51)\n",
    "poly_train = poly.fit_transform(x_train.reshape(-1, 1))\n",
    "poly_test = poly.fit_transform(x_test.reshape(-1, 1))\n",
    "poly_reg_model = LinearRegression()\n",
    "poly_reg_model.fit(poly_train, y_train)\n",
    "y_pred = poly_reg_model.predict(poly_train)\n",
    "mae = mean_absolute_error(y_true=y_train, y_pred=y_pred)\n",
    "mse = mean_squared_error(y_true=y_train, y_pred=y_pred)\n",
    "rmse = root_mean_squared_error(y_true=y_train, y_pred=y_pred)\n",
    "mse = mean_squared_error(y_train, y_pred)\n",
    "r2 = r2_score(y_train, y_pred)\n",
    "\n",
    "print('''Training:\n",
    "          MAE: {}\n",
    "          MSE: {}\n",
    "          RMSE: {}\n",
    "          R^2 {}'''.format(mae, mse, rmse, r2))\n",
    "\n",
    "y_pred = poly_reg_model.predict(poly_test)\n",
    "mae = mean_absolute_error(y_true=y_test, y_pred=y_pred)\n",
    "mse = mean_squared_error(y_true=y_test, y_pred=y_pred)\n",
    "rmse = root_mean_squared_error(y_true=y_test, y_pred=y_pred)\n",
    "mse = mean_squared_error(y_test, y_pred)\n",
    "r2 = r2_score(y_test, y_pred)\n",
    "print('''Testing:\n",
    "          MAE: {}\n",
    "          MSE: {}\n",
    "          RMSE: {}\n",
    "          R^2 {}'''.format(mae, mse, rmse, r2))"
   ],
   "metadata": {
    "colab": {
     "base_uri": "https://localhost:8080/"
    },
    "id": "xp50xTIFAiEu",
    "executionInfo": {
     "status": "ok",
     "timestamp": 1690389503416,
     "user_tz": 240,
     "elapsed": 130,
     "user": {
      "displayName": "Di Wu",
      "userId": "05255951341257561169"
     }
    },
    "outputId": "39aa8e0b-1a19-4611-9132-2b6166f98957",
    "ExecuteTime": {
     "end_time": "2025-04-04T00:13:15.123466Z",
     "start_time": "2025-04-04T00:13:15.117756Z"
    }
   },
   "outputs": [
    {
     "name": "stdout",
     "output_type": "stream",
     "text": [
      "Training:\n",
      "          MAE: 1.091349151640804\n",
      "          MSE: 2.024431898593856\n",
      "          RMSE: 1.422825322586668\n",
      "          R^2 0.7230763069248609\n",
      "Testing:\n",
      "          MAE: 1.8157804796085895\n",
      "          MSE: 5.131192551499751\n",
      "          RMSE: 2.2652135774579296\n",
      "          R^2 0.30731252149055166\n"
     ]
    }
   ],
   "execution_count": 16
  },
  {
   "cell_type": "code",
   "source": [
    "plt.scatter(x, y)\n",
    "plt.scatter(x_test, y_pred)"
   ],
   "metadata": {
    "colab": {
     "base_uri": "https://localhost:8080/",
     "height": 468
    },
    "id": "5nuAmyE8B9vQ",
    "executionInfo": {
     "status": "ok",
     "timestamp": 1690389512861,
     "user_tz": 240,
     "elapsed": 486,
     "user": {
      "displayName": "Di Wu",
      "userId": "05255951341257561169"
     }
    },
    "outputId": "d5314035-dace-4644-a159-ee9a0472ac38",
    "ExecuteTime": {
     "end_time": "2025-04-04T00:13:15.176639Z",
     "start_time": "2025-04-04T00:13:15.137981Z"
    }
   },
   "outputs": [
    {
     "data": {
      "text/plain": [
       "<matplotlib.collections.PathCollection at 0x119c12290>"
      ]
     },
     "execution_count": 17,
     "metadata": {},
     "output_type": "execute_result"
    },
    {
     "data": {
      "text/plain": [
       "<Figure size 640x480 with 1 Axes>"
      ],
      "image/png": "[encoded data removed]"
     },
     "metadata": {},
     "output_type": "display_data"
    }
   ],
   "execution_count": 17
  },
  {
   "cell_type": "markdown",
   "source": [
    "### Nope!\n",
    "High degree polynomial regression may result in Overfitting -- Training result is better, but testing result is poor!"
   ],
   "metadata": {
    "id": "3xLImL7qDz9h"
   }
  }
 ]
}
