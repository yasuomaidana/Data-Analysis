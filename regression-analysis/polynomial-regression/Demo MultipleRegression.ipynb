{
 "nbformat": 4,
 "nbformat_minor": 0,
 "metadata": {
  "colab": {
   "provenance": [],
   "authorship_tag": "ABX9TyPu4OYYQ3sxcsoj14Hp5vCI"
  },
  "kernelspec": {
   "name": "python3",
   "display_name": "Python 3 (ipykernel)",
   "language": "python"
  },
  "language_info": {
   "name": "python"
  }
 },
 "cells": [
  {
   "cell_type": "markdown",
   "source": [
    "# Multiple Regression\n",
    "> Documentation: https://scikit-learn.org/stable/modules/generated/sklearn.linear_model.LinearRegression.html"
   ],
   "metadata": {
    "id": "ymDkTN__4A-k"
   }
  },
  {
   "cell_type": "markdown",
   "source": [
    "## Setup"
   ],
   "metadata": {
    "id": "ZvIz-BKU4MPw"
   }
  },
  {
   "cell_type": "code",
   "metadata": {
    "id": "-3veyqvV3-Ny",
    "executionInfo": {
     "status": "ok",
     "timestamp": 1690385729064,
     "user_tz": 240,
     "elapsed": 144,
     "user": {
      "displayName": "Di Wu",
      "userId": "05255951341257561169"
     }
    },
    "ExecuteTime": {
     "end_time": "2025-04-04T00:08:00.266058Z",
     "start_time": "2025-04-04T00:07:59.211200Z"
    }
   },
   "source": [
    "import numpy as np\n",
    "import pandas as pd\n",
    "import matplotlib.pyplot as plt\n",
    "from sklearn.model_selection import train_test_split\n",
    "from sklearn.linear_model import LinearRegression\n",
    "from sklearn.metrics import mean_absolute_error,mean_squared_error, r2_score, root_mean_squared_error"
   ],
   "outputs": [],
   "execution_count": 1
  },
  {
   "cell_type": "code",
   "source": [
    "df = pd.read_csv('../Data/california_housing_train.csv')\n",
    "df.head()"
   ],
   "metadata": {
    "colab": {
     "base_uri": "https://localhost:8080/",
     "height": 270
    },
    "id": "Ko5eh29j4aRm",
    "executionInfo": {
     "status": "ok",
     "timestamp": 1690385730442,
     "user_tz": 240,
     "elapsed": 405,
     "user": {
      "displayName": "Di Wu",
      "userId": "05255951341257561169"
     }
    },
    "outputId": "07b506eb-2d4e-4da8-b204-9277ce919f2a",
    "ExecuteTime": {
     "end_time": "2025-04-04T00:08:00.284985Z",
     "start_time": "2025-04-04T00:08:00.270313Z"
    }
   },
   "outputs": [
    {
     "data": {
      "text/plain": [
       "   longitude  latitude  housing_median_age  total_rooms  total_bedrooms  \\\n",
       "0    -114.31     34.19                15.0       5612.0          1283.0   \n",
       "1    -114.47     34.40                19.0       7650.0          1901.0   \n",
       "2    -114.56     33.69                17.0        720.0           174.0   \n",
       "3    -114.57     33.64                14.0       1501.0           337.0   \n",
       "4    -114.57     33.57                20.0       1454.0           326.0   \n",
       "\n",
       "   population  households  median_income  median_house_value  \n",
       "0      1015.0       472.0         1.4936             66900.0  \n",
       "1      1129.0       463.0         1.8200             80100.0  \n",
       "2       333.0       117.0         1.6509             85700.0  \n",
       "3       515.0       226.0         3.1917             73400.0  \n",
       "4       624.0       262.0         1.9250             65500.0  "
      ],
      "text/html": [
       "<div>\n",
       "<style scoped>\n",
       "    .dataframe tbody tr th:only-of-type {\n",
       "        vertical-align: middle;\n",
       "    }\n",
       "\n",
       "    .dataframe tbody tr th {\n",
       "        vertical-align: top;\n",
       "    }\n",
       "\n",
       "    .dataframe thead th {\n",
       "        text-align: right;\n",
       "    }\n",
       "</style>\n",
       "<table border=\"1\" class=\"dataframe\">\n",
       "  <thead>\n",
       "    <tr style=\"text-align: right;\">\n",
       "      <th></th>\n",
       "      <th>longitude</th>\n",
       "      <th>latitude</th>\n",
       "      <th>housing_median_age</th>\n",
       "      <th>total_rooms</th>\n",
       "      <th>total_bedrooms</th>\n",
       "      <th>population</th>\n",
       "      <th>households</th>\n",
       "      <th>median_income</th>\n",
       "      <th>median_house_value</th>\n",
       "    </tr>\n",
       "  </thead>\n",
       "  <tbody>\n",
       "    <tr>\n",
       "      <th>0</th>\n",
       "      <td>-114.31</td>\n",
       "      <td>34.19</td>\n",
       "      <td>15.0</td>\n",
       "      <td>5612.0</td>\n",
       "      <td>1283.0</td>\n",
       "      <td>1015.0</td>\n",
       "      <td>472.0</td>\n",
       "      <td>1.4936</td>\n",
       "      <td>66900.0</td>\n",
       "    </tr>\n",
       "    <tr>\n",
       "      <th>1</th>\n",
       "      <td>-114.47</td>\n",
       "      <td>34.40</td>\n",
       "      <td>19.0</td>\n",
       "      <td>7650.0</td>\n",
       "      <td>1901.0</td>\n",
       "      <td>1129.0</td>\n",
       "      <td>463.0</td>\n",
       "      <td>1.8200</td>\n",
       "      <td>80100.0</td>\n",
       "    </tr>\n",
       "    <tr>\n",
       "      <th>2</th>\n",
       "      <td>-114.56</td>\n",
       "      <td>33.69</td>\n",
       "      <td>17.0</td>\n",
       "      <td>720.0</td>\n",
       "      <td>174.0</td>\n",
       "      <td>333.0</td>\n",
       "      <td>117.0</td>\n",
       "      <td>1.6509</td>\n",
       "      <td>85700.0</td>\n",
       "    </tr>\n",
       "    <tr>\n",
       "      <th>3</th>\n",
       "      <td>-114.57</td>\n",
       "      <td>33.64</td>\n",
       "      <td>14.0</td>\n",
       "      <td>1501.0</td>\n",
       "      <td>337.0</td>\n",
       "      <td>515.0</td>\n",
       "      <td>226.0</td>\n",
       "      <td>3.1917</td>\n",
       "      <td>73400.0</td>\n",
       "    </tr>\n",
       "    <tr>\n",
       "      <th>4</th>\n",
       "      <td>-114.57</td>\n",
       "      <td>33.57</td>\n",
       "      <td>20.0</td>\n",
       "      <td>1454.0</td>\n",
       "      <td>326.0</td>\n",
       "      <td>624.0</td>\n",
       "      <td>262.0</td>\n",
       "      <td>1.9250</td>\n",
       "      <td>65500.0</td>\n",
       "    </tr>\n",
       "  </tbody>\n",
       "</table>\n",
       "</div>"
      ]
     },
     "execution_count": 2,
     "metadata": {},
     "output_type": "execute_result"
    }
   ],
   "execution_count": 2
  },
  {
   "cell_type": "code",
   "source": [
    "df.info()"
   ],
   "metadata": {
    "colab": {
     "base_uri": "https://localhost:8080/"
    },
    "id": "NO-E4MPBz1i4",
    "executionInfo": {
     "status": "ok",
     "timestamp": 1690385732247,
     "user_tz": 240,
     "elapsed": 139,
     "user": {
      "displayName": "Di Wu",
      "userId": "05255951341257561169"
     }
    },
    "outputId": "262ce525-829e-4fbb-c04d-bef51a470371",
    "ExecuteTime": {
     "end_time": "2025-04-04T00:08:00.404238Z",
     "start_time": "2025-04-04T00:08:00.399578Z"
    }
   },
   "outputs": [
    {
     "name": "stdout",
     "output_type": "stream",
     "text": [
      "<class 'pandas.core.frame.DataFrame'>\n",
      "RangeIndex: 17000 entries, 0 to 16999\n",
      "Data columns (total 9 columns):\n",
      " #   Column              Non-Null Count  Dtype  \n",
      "---  ------              --------------  -----  \n",
      " 0   longitude           17000 non-null  float64\n",
      " 1   latitude            17000 non-null  float64\n",
      " 2   housing_median_age  17000 non-null  float64\n",
      " 3   total_rooms         17000 non-null  float64\n",
      " 4   total_bedrooms      17000 non-null  float64\n",
      " 5   population          17000 non-null  float64\n",
      " 6   households          17000 non-null  float64\n",
      " 7   median_income       17000 non-null  float64\n",
      " 8   median_house_value  17000 non-null  float64\n",
      "dtypes: float64(9)\n",
      "memory usage: 1.2 MB\n"
     ]
    }
   ],
   "execution_count": 3
  },
  {
   "cell_type": "markdown",
   "source": [
    "## Try dependent as median house value, and 2 independent variables"
   ],
   "metadata": {
    "id": "_U2-DWnj9yjY"
   }
  },
  {
   "cell_type": "markdown",
   "source": [
    "### Prepare independent variable"
   ],
   "metadata": {
    "id": "U7a-bHpv4van"
   }
  },
  {
   "cell_type": "code",
   "source": [
    "X = np.array(df[['total_rooms', 'median_income']]).reshape(-1,2)"
   ],
   "metadata": {
    "id": "FBTZUi7i4sUH",
    "executionInfo": {
     "status": "ok",
     "timestamp": 1690386388925,
     "user_tz": 240,
     "elapsed": 136,
     "user": {
      "displayName": "Di Wu",
      "userId": "05255951341257561169"
     }
    },
    "ExecuteTime": {
     "end_time": "2025-04-04T00:08:00.427589Z",
     "start_time": "2025-04-04T00:08:00.424635Z"
    }
   },
   "outputs": [],
   "execution_count": 4
  },
  {
   "cell_type": "markdown",
   "source": [
    "### Prepare dependent variable"
   ],
   "metadata": {
    "id": "lIRbDQCH4yQX"
   }
  },
  {
   "cell_type": "code",
   "source": [
    "y = np.array(df['total_bedrooms']).reshape(-1, 1)"
   ],
   "metadata": {
    "id": "aUAYtTut4jct",
    "executionInfo": {
     "status": "ok",
     "timestamp": 1690386389898,
     "user_tz": 240,
     "elapsed": 159,
     "user": {
      "displayName": "Di Wu",
      "userId": "05255951341257561169"
     }
    },
    "ExecuteTime": {
     "end_time": "2025-04-04T00:08:00.478674Z",
     "start_time": "2025-04-04T00:08:00.476843Z"
    }
   },
   "outputs": [],
   "execution_count": 5
  },
  {
   "cell_type": "markdown",
   "source": [
    "### Split train and test data"
   ],
   "metadata": {
    "id": "Ilii5F-C7nwa"
   }
  },
  {
   "cell_type": "code",
   "source": "X_train, X_test, y_train, y_test = train_test_split(X, y, test_size = 0.20)",
   "metadata": {
    "id": "YoDuCeYO7rYz",
    "executionInfo": {
     "status": "ok",
     "timestamp": 1690386391950,
     "user_tz": 240,
     "elapsed": 122,
     "user": {
      "displayName": "Di Wu",
      "userId": "05255951341257561169"
     }
    },
    "ExecuteTime": {
     "end_time": "2025-04-04T00:08:00.516431Z",
     "start_time": "2025-04-04T00:08:00.514036Z"
    }
   },
   "outputs": [],
   "execution_count": 6
  },
  {
   "cell_type": "markdown",
   "source": [
    "### Train the model"
   ],
   "metadata": {
    "id": "C8N2pqjw5GWY"
   }
  },
  {
   "cell_type": "code",
   "source": [
    "reg = LinearRegression()\n",
    "model = reg.fit(X_train, y_train)"
   ],
   "metadata": {
    "id": "fuQQE_835INP",
    "executionInfo": {
     "status": "ok",
     "timestamp": 1690386393784,
     "user_tz": 240,
     "elapsed": 112,
     "user": {
      "displayName": "Di Wu",
      "userId": "05255951341257561169"
     }
    },
    "ExecuteTime": {
     "end_time": "2025-04-04T00:08:00.541240Z",
     "start_time": "2025-04-04T00:08:00.538674Z"
    }
   },
   "outputs": [],
   "execution_count": 7
  },
  {
   "cell_type": "code",
   "source": [
    "model.coef_, model.intercept_"
   ],
   "metadata": {
    "colab": {
     "base_uri": "https://localhost:8080/"
    },
    "id": "KjYfoY8M5ON_",
    "executionInfo": {
     "status": "ok",
     "timestamp": 1690386395460,
     "user_tz": 240,
     "elapsed": 118,
     "user": {
      "displayName": "Di Wu",
      "userId": "05255951341257561169"
     }
    },
    "outputId": "11d6d328-9de7-4f93-b2ef-cbd3a4d0d9dc",
    "ExecuteTime": {
     "end_time": "2025-04-04T00:08:00.547339Z",
     "start_time": "2025-04-04T00:08:00.545032Z"
    }
   },
   "outputs": [
    {
     "data": {
      "text/plain": [
       "(array([[  0.18672347, -44.84412903]]), array([219.79964398]))"
      ]
     },
     "execution_count": 8,
     "metadata": {},
     "output_type": "execute_result"
    }
   ],
   "execution_count": 8
  },
  {
   "cell_type": "markdown",
   "source": [
    "### Evaluate the model"
   ],
   "metadata": {
    "id": "0IO03RvHC0KY"
   }
  },
  {
   "cell_type": "code",
   "source": [
    "y_pred = model.predict(X_test)\n",
    "mae = mean_absolute_error(y_true=y_test,y_pred=y_pred)\n",
    "mse = mean_squared_error(y_true=y_test,y_pred=y_pred)\n",
    "rmse = root_mean_squared_error(y_true=y_test,y_pred=y_pred)\n",
    "mse = mean_squared_error(y_test, y_pred)\n",
    "r2 = r2_score(y_test, y_pred)\n",
    "\n",
    "print('MAE: {} MSE: {} RMSE: {} R^2 {}'.format(mae, mse, rmse, r2))"
   ],
   "metadata": {
    "colab": {
     "base_uri": "https://localhost:8080/"
    },
    "id": "w_Sy25lH5oTl",
    "executionInfo": {
     "status": "ok",
     "timestamp": 1690386399264,
     "user_tz": 240,
     "elapsed": 127,
     "user": {
      "displayName": "Di Wu",
      "userId": "05255951341257561169"
     }
    },
    "outputId": "2b7c6b2a-78b9-433c-d395-aad9c457fe0b",
    "ExecuteTime": {
     "end_time": "2025-04-04T00:08:00.563600Z",
     "start_time": "2025-04-04T00:08:00.559928Z"
    }
   },
   "outputs": [
    {
     "name": "stdout",
     "output_type": "stream",
     "text": [
      "MAE: 81.97393142511636 MSE: 17581.00446117179 RMSE: 132.593380155918 R^2 0.8972694410378688\n"
     ]
    }
   ],
   "execution_count": 9
  },
  {
   "cell_type": "markdown",
   "source": [
    "### Visualiza your result"
   ],
   "metadata": {
    "id": "WTfRQ7sL8ZZV"
   }
  },
  {
   "cell_type": "code",
   "source": [
    "plt.scatter(y_pred, y_test)\n",
    "plt.xlabel('y-pred')\n",
    "plt.ylabel('y-actual')"
   ],
   "metadata": {
    "colab": {
     "base_uri": "https://localhost:8080/",
     "height": 470
    },
    "id": "pIX1ROx45x4l",
    "executionInfo": {
     "status": "ok",
     "timestamp": 1690386410035,
     "user_tz": 240,
     "elapsed": 516,
     "user": {
      "displayName": "Di Wu",
      "userId": "05255951341257561169"
     }
    },
    "outputId": "73f795b1-e9a1-4c81-f2bd-e54077bb7b87",
    "ExecuteTime": {
     "end_time": "2025-04-04T00:08:00.650037Z",
     "start_time": "2025-04-04T00:08:00.578756Z"
    }
   },
   "outputs": [
    {
     "data": {
      "text/plain": [
       "Text(0, 0.5, 'y-actual')"
      ]
     },
     "execution_count": 10,
     "metadata": {},
     "output_type": "execute_result"
    },
    {
     "data": {
      "text/plain": [
       "<Figure size 640x480 with 1 Axes>"
      ],
      "image/png": "[encoded data removed]"
     },
     "metadata": {},
     "output_type": "display_data"
    }
   ],
   "execution_count": 10
  },
  {
   "cell_type": "markdown",
   "source": [
    "## Try with more independent variables"
   ],
   "metadata": {
    "id": "wS1r9gGcGOxL"
   }
  },
  {
   "cell_type": "markdown",
   "source": [
    "### Prepare independent variable"
   ],
   "metadata": {
    "id": "_Y2JJ4OZGUlU"
   }
  },
  {
   "cell_type": "code",
   "source": [
    "X = np.array(df[['housing_median_age',\n",
    "                 'total_rooms',\n",
    "                 'population',\n",
    "                 'households',\n",
    "                 'median_income',\n",
    "                 'median_house_value']]).reshape(-1,6)"
   ],
   "metadata": {
    "executionInfo": {
     "status": "ok",
     "timestamp": 1690386440955,
     "user_tz": 240,
     "elapsed": 124,
     "user": {
      "displayName": "Di Wu",
      "userId": "05255951341257561169"
     }
    },
    "id": "JmXtSt-ZGUlV",
    "ExecuteTime": {
     "end_time": "2025-04-04T00:08:00.663608Z",
     "start_time": "2025-04-04T00:08:00.661154Z"
    }
   },
   "outputs": [],
   "execution_count": 11
  },
  {
   "cell_type": "markdown",
   "source": [
    "### Prepare dependent variable"
   ],
   "metadata": {
    "id": "9HjdHB5qGUlW"
   }
  },
  {
   "cell_type": "code",
   "source": [
    "y = np.array(df['total_bedrooms']).reshape(-1, 1)"
   ],
   "metadata": {
    "executionInfo": {
     "status": "ok",
     "timestamp": 1690386442689,
     "user_tz": 240,
     "elapsed": 110,
     "user": {
      "displayName": "Di Wu",
      "userId": "05255951341257561169"
     }
    },
    "id": "FMkKNi9tGUlW",
    "ExecuteTime": {
     "end_time": "2025-04-04T00:08:00.675447Z",
     "start_time": "2025-04-04T00:08:00.673848Z"
    }
   },
   "outputs": [],
   "execution_count": 12
  },
  {
   "cell_type": "markdown",
   "source": [
    "### Split train and test data"
   ],
   "metadata": {
    "id": "Zc4LVm4LGUlX"
   }
  },
  {
   "cell_type": "code",
   "source": "X_train, X_test, y_train, y_test = train_test_split(X, y, test_size = 0.20)",
   "metadata": {
    "executionInfo": {
     "status": "ok",
     "timestamp": 1690386445007,
     "user_tz": 240,
     "elapsed": 131,
     "user": {
      "displayName": "Di Wu",
      "userId": "05255951341257561169"
     }
    },
    "id": "xonnEIfAGUlX",
    "ExecuteTime": {
     "end_time": "2025-04-04T00:08:00.695568Z",
     "start_time": "2025-04-04T00:08:00.693160Z"
    }
   },
   "outputs": [],
   "execution_count": 13
  },
  {
   "cell_type": "markdown",
   "source": [
    "### Train the model"
   ],
   "metadata": {
    "id": "q4TiMAdkGUlY"
   }
  },
  {
   "cell_type": "code",
   "source": [
    "reg = LinearRegression()\n",
    "model = reg.fit(X_train, y_train)"
   ],
   "metadata": {
    "executionInfo": {
     "status": "ok",
     "timestamp": 1690386446623,
     "user_tz": 240,
     "elapsed": 131,
     "user": {
      "displayName": "Di Wu",
      "userId": "05255951341257561169"
     }
    },
    "id": "QKSkoiceGUlY",
    "ExecuteTime": {
     "end_time": "2025-04-04T00:08:00.701904Z",
     "start_time": "2025-04-04T00:08:00.698809Z"
    }
   },
   "outputs": [],
   "execution_count": 14
  },
  {
   "cell_type": "code",
   "source": [
    "model.coef_, model.intercept_"
   ],
   "metadata": {
    "colab": {
     "base_uri": "https://localhost:8080/"
    },
    "executionInfo": {
     "status": "ok",
     "timestamp": 1690386448159,
     "user_tz": 240,
     "elapsed": 147,
     "user": {
      "displayName": "Di Wu",
      "userId": "05255951341257561169"
     }
    },
    "outputId": "a554c1c0-5945-4044-e546-673fc08d0e4d",
    "id": "XnS2C_6kGUlY",
    "ExecuteTime": {
     "end_time": "2025-04-04T00:08:00.711518Z",
     "start_time": "2025-04-04T00:08:00.709471Z"
    }
   },
   "outputs": [
    {
     "data": {
      "text/plain": [
       "(array([[-5.47742697e-01,  5.59838189e-02, -3.62763704e-02,\n",
       "          8.76891248e-01, -2.00676170e+01,  7.73612079e-05]]),\n",
       " array([81.10162686]))"
      ]
     },
     "execution_count": 15,
     "metadata": {},
     "output_type": "execute_result"
    }
   ],
   "execution_count": 15
  },
  {
   "cell_type": "markdown",
   "source": [
    "### Evaluate the model"
   ],
   "metadata": {
    "id": "pzeWZi6oGUlZ"
   }
  },
  {
   "cell_type": "code",
   "source": [
    "y_pred = model.predict(X_test)\n",
    "mae = mean_absolute_error(y_true=y_test,y_pred=y_pred)\n",
    "mse = mean_squared_error(y_true=y_test,y_pred=y_pred)\n",
    "rmse = root_mean_squared_error(y_true=y_test,y_pred=y_pred)\n",
    "mse = mean_squared_error(y_test, y_pred)\n",
    "r2 = r2_score(y_test, y_pred)\n",
    "\n",
    "print('MAE: {} MSE: {} RMSE: {} R^2 {}'.format(mae, mse, rmse, r2))"
   ],
   "metadata": {
    "colab": {
     "base_uri": "https://localhost:8080/"
    },
    "executionInfo": {
     "status": "ok",
     "timestamp": 1690386453013,
     "user_tz": 240,
     "elapsed": 123,
     "user": {
      "displayName": "Di Wu",
      "userId": "05255951341257561169"
     }
    },
    "outputId": "46374f11-23dd-4435-f08f-a4333edede53",
    "id": "exekpbwBGUla",
    "ExecuteTime": {
     "end_time": "2025-04-04T00:08:00.729379Z",
     "start_time": "2025-04-04T00:08:00.725799Z"
    }
   },
   "outputs": [
    {
     "name": "stdout",
     "output_type": "stream",
     "text": [
      "MAE: 38.26082980419671 MSE: 4712.05836765995 RMSE: 68.64443435312108 R^2 0.9732619723661373\n"
     ]
    }
   ],
   "execution_count": 16
  },
  {
   "cell_type": "markdown",
   "source": [
    "### Visualiza your result"
   ],
   "metadata": {
    "id": "c1exGOZQGUla"
   }
  },
  {
   "cell_type": "code",
   "source": [
    "plt.scatter(y_pred, y_test)\n",
    "plt.xlabel('y-pred')\n",
    "plt.ylabel('y-actual')"
   ],
   "metadata": {
    "colab": {
     "base_uri": "https://localhost:8080/",
     "height": 467
    },
    "executionInfo": {
     "status": "ok",
     "timestamp": 1690386457149,
     "user_tz": 240,
     "elapsed": 1030,
     "user": {
      "displayName": "Di Wu",
      "userId": "05255951341257561169"
     }
    },
    "outputId": "360850c9-1252-4318-e13a-86df75b70ca4",
    "id": "pJxHQXuMGUla",
    "ExecuteTime": {
     "end_time": "2025-04-04T00:08:00.795647Z",
     "start_time": "2025-04-04T00:08:00.749952Z"
    }
   },
   "outputs": [
    {
     "data": {
      "text/plain": [
       "Text(0, 0.5, 'y-actual')"
      ]
     },
     "execution_count": 17,
     "metadata": {},
     "output_type": "execute_result"
    },
    {
     "data": {
      "text/plain": [
       "<Figure size 640x480 with 1 Axes>"
      ],
      "image/png": "[encoded data removed]"
     },
     "metadata": {},
     "output_type": "display_data"
    }
   ],
   "execution_count": 17
  }
 ]
}
