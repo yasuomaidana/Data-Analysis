{
 "nbformat": 4,
 "nbformat_minor": 0,
 "metadata": {
  "colab": {
   "provenance": []
  },
  "kernelspec": {
   "name": "python3",
   "display_name": "Python 3"
  },
  "language_info": {
   "name": "python"
  }
 },
 "cells": [
  {
   "cell_type": "markdown",
   "source": [
    "# Case Study: CA Housing Price\n",
    "\n",
    "Let's use the California Housing Prices dataset to create a Regularization tutorial for regression analysis. We will perform Ridge, Lasso, and ElasticNet regularization techniques to handle overfitting in a linear regression model.\n",
    "\n",
    "This tutorial demonstrates the use of different regularization techniques (Ridge, Lasso, ElasticNet) for regression analysis on the California Housing Prices dataset. Users will be able to understand how regularization helps in controlling overfitting and improving the generalization of linear regression models. They can further explore other real-world datasets and apply different regularization strategies to improve the performance of regression models effectively."
   ],
   "metadata": {
    "id": "zuHRdnOqMCdM"
   }
  },
  {
   "cell_type": "markdown",
   "source": [
    "## Setup\n",
    "We'll start by importing the necessary libraries for data manipulation, visualization, and regression analysis."
   ],
   "metadata": {
    "id": "XhLBIL5EMKhE"
   }
  },
  {
   "cell_type": "code",
   "metadata": {
    "id": "3xAQ9QAGL8A7",
    "ExecuteTime": {
     "end_time": "2025-04-20T17:11:55.080321Z",
     "start_time": "2025-04-20T17:11:54.469469Z"
    }
   },
   "source": [
    "import numpy as np\n",
    "import matplotlib.pyplot as plt\n",
    "from sklearn.datasets import fetch_california_housing\n",
    "from sklearn.model_selection import train_test_split\n",
    "from sklearn.linear_model import LinearRegression, Ridge, Lasso, ElasticNet\n",
    "from sklearn.preprocessing import PolynomialFeatures, StandardScaler\n",
    "from sklearn.metrics import r2_score, mean_squared_error"
   ],
   "outputs": [],
   "execution_count": 1
  },
  {
   "cell_type": "markdown",
   "source": [
    "## Load and Prepare the Dataset\n",
    "Next, we'll load the California Housing Prices dataset and prepare it for regression analysis."
   ],
   "metadata": {
    "id": "vwbjj0VXMQa5"
   }
  },
  {
   "cell_type": "code",
   "source": [
    "# Load the California Housing Prices dataset\n",
    "data = fetch_california_housing()\n",
    "X = data.data\n",
    "y = data.target\n",
    "\n",
    "# Split the data into training and testing sets\n",
    "X_train, X_test, y_train, y_test = train_test_split(X, y, test_size=0.2, random_state=42)\n",
    "\n",
    "# Standardize the features\n",
    "scaler = StandardScaler()\n",
    "X_train_scaled = scaler.fit_transform(X_train)\n",
    "X_test_scaled = scaler.transform(X_test)"
   ],
   "metadata": {
    "id": "QEM_MlmNMSKK",
    "ExecuteTime": {
     "end_time": "2025-04-20T17:11:56.917640Z",
     "start_time": "2025-04-20T17:11:55.192307Z"
    }
   },
   "outputs": [],
   "execution_count": 2
  },
  {
   "cell_type": "markdown",
   "source": [
    "## Linear Regression (Baseline)\n",
    "Let's start with a simple linear regression model as a baseline."
   ],
   "metadata": {
    "id": "7dTgk6ejMWXx"
   }
  },
  {
   "cell_type": "code",
   "source": [
    "# Create and fit the linear regression model\n",
    "linear_model = LinearRegression()\n",
    "linear_model.fit(X_train_scaled, y_train)\n",
    "\n",
    "# Make predictions on training and testing data\n",
    "y_train_pred = linear_model.predict(X_train_scaled)\n",
    "y_test_pred = linear_model.predict(X_test_scaled)\n",
    "\n",
    "# Calculate R-squared and mean squared error for evaluation\n",
    "linear_r2_train = r2_score(y_train, y_train_pred)\n",
    "linear_r2_test = r2_score(y_test, y_test_pred)\n",
    "linear_mse_train = mean_squared_error(y_train, y_train_pred)\n",
    "linear_mse_test = mean_squared_error(y_test, y_test_pred)\n",
    "\n",
    "print(f\"Linear Regression (Baseline):\")\n",
    "print(f\"Training R-squared: {linear_r2_train:.4f}, Training MSE: {linear_mse_train:.4f}\")\n",
    "print(f\"Testing R-squared: {linear_r2_test:.4f}, Testing MSE: {linear_mse_test:.4f}\")"
   ],
   "metadata": {
    "colab": {
     "base_uri": "https://localhost:8080/"
    },
    "id": "YF2rLXOkMYUO",
    "outputId": "9e25e777-e95b-4a0a-910e-2a0cd007862e",
    "ExecuteTime": {
     "end_time": "2025-04-20T17:11:56.937348Z",
     "start_time": "2025-04-20T17:11:56.930002Z"
    }
   },
   "outputs": [
    {
     "name": "stdout",
     "output_type": "stream",
     "text": [
      "Linear Regression (Baseline):\n",
      "Training R-squared: 0.6126, Training MSE: 0.5179\n",
      "Testing R-squared: 0.5758, Testing MSE: 0.5559\n"
     ]
    }
   ],
   "execution_count": 3
  },
  {
   "cell_type": "markdown",
   "source": [
    "## Polynomial Regression\n",
    "Next, let's perform Polynomial Regression with different degrees."
   ],
   "metadata": {
    "id": "D1zy0Mf1M375"
   }
  },
  {
   "cell_type": "code",
   "source": [
    "# Polynomial degrees\n",
    "degrees = [2, 3, 4]\n",
    "\n",
    "# Create and fit the polynomial regression models with different degrees\n",
    "polynomial_models = []\n",
    "polynomial_r2_train_scores = []\n",
    "polynomial_r2_test_scores = []\n",
    "\n",
    "for degree in degrees:\n",
    "    poly_features = PolynomialFeatures(degree=degree)\n",
    "    X_train_poly = poly_features.fit_transform(X_train_scaled)\n",
    "    X_test_poly = poly_features.transform(X_test_scaled)\n",
    "\n",
    "    model = LinearRegression()\n",
    "    model.fit(X_train_poly, y_train)\n",
    "    polynomial_models.append(model)\n",
    "\n",
    "    # Make predictions on training and testing data\n",
    "    y_train_pred = model.predict(X_train_poly)\n",
    "    y_test_pred = model.predict(X_test_poly)\n",
    "\n",
    "    # Calculate R-squared for evaluation\n",
    "    polynomial_r2_train = r2_score(y_train, y_train_pred)\n",
    "    polynomial_r2_test = r2_score(y_test, y_test_pred)\n",
    "\n",
    "    polynomial_r2_train_scores.append(polynomial_r2_train)\n",
    "    polynomial_r2_test_scores.append(polynomial_r2_test)\n",
    "\n",
    "# Find the best degree based on the testing R-squared score\n",
    "best_degree = degrees[np.argmax(polynomial_r2_test_scores)]\n",
    "\n",
    "print(f\"\\nPolynomial Regression:\")\n",
    "print(f\"Best Degree: {best_degree}\")\n",
    "print(f\"Training R-squared Scores: {polynomial_r2_train_scores}\")\n",
    "print(f\"Testing R-squared Scores: {polynomial_r2_test_scores}\")"
   ],
   "metadata": {
    "colab": {
     "base_uri": "https://localhost:8080/"
    },
    "id": "--kpjoBZM6kl",
    "outputId": "d065f92f-7f8e-4777-cc47-b68fcd92ac13",
    "ExecuteTime": {
     "end_time": "2025-04-20T17:11:57.260332Z",
     "start_time": "2025-04-20T17:11:56.947326Z"
    }
   },
   "outputs": [
    {
     "name": "stdout",
     "output_type": "stream",
     "text": [
      "\n",
      "Polynomial Regression:\n",
      "Best Degree: 2\n",
      "Training R-squared Scores: [0.6852681982344955, 0.7441415681335484, 0.7893228446487623]\n",
      "Testing R-squared Scores: [0.6456819729261993, -18.38870805824376, -11476.104199556028]\n"
     ]
    }
   ],
   "execution_count": 4
  },
  {
   "cell_type": "markdown",
   "source": [
    "## Ridge Regression\n",
    "Now, let's perform Ridge regression with different alpha values."
   ],
   "metadata": {
    "id": "l6pqgSxAMfXx"
   }
  },
  {
   "cell_type": "code",
   "source": [
    "# Regularization strengths (alpha values)\n",
    "alphas = [0.001, 0.01, 0.1, 1, 10, 30, 50]\n",
    "\n",
    "poly_features = PolynomialFeatures(degree=2)\n",
    "X_train_poly = poly_features.fit_transform(X_train_scaled)\n",
    "X_test_poly = poly_features.transform(X_test_scaled)\n",
    "\n",
    "# Create and fit the Ridge regression models with different alpha values\n",
    "ridge_models = []\n",
    "ridge_r2_train_scores = []\n",
    "ridge_r2_test_scores = []\n",
    "\n",
    "for alpha in alphas:\n",
    "    ridge_model = Ridge(alpha=alpha)\n",
    "    ridge_model.fit(X_train_poly, y_train)\n",
    "    ridge_models.append(ridge_model)\n",
    "\n",
    "    # Make predictions on training and testing data\n",
    "    y_train_pred = ridge_model.predict(X_train_poly)\n",
    "    y_test_pred = ridge_model.predict(X_test_poly)\n",
    "\n",
    "    # Calculate R-squared for evaluation\n",
    "    ridge_r2_train = r2_score(y_train, y_train_pred)\n",
    "    ridge_r2_test = r2_score(y_test, y_test_pred)\n",
    "\n",
    "    ridge_r2_train_scores.append(ridge_r2_train)\n",
    "    ridge_r2_test_scores.append(ridge_r2_test)\n",
    "\n",
    "# Find the best alpha based on the testing R-squared score\n",
    "best_alpha_ridge = alphas[np.argmax(ridge_r2_test_scores)]\n",
    "\n",
    "print(f\"\\nRidge Regression:\")\n",
    "print(f\"Best Alpha: {best_alpha_ridge:.4f}\")\n",
    "print(f\"Training R-squared Scores: {ridge_r2_train_scores}\")\n",
    "print(f\"Testing R-squared Scores: {ridge_r2_test_scores}\")"
   ],
   "metadata": {
    "colab": {
     "base_uri": "https://localhost:8080/"
    },
    "id": "0RM9wIyQMeUY",
    "outputId": "f9fe4b4d-0021-4e41-ca7b-302d7a2450df",
    "ExecuteTime": {
     "end_time": "2025-04-20T17:11:57.301053Z",
     "start_time": "2025-04-20T17:11:57.270906Z"
    }
   },
   "outputs": [
    {
     "name": "stdout",
     "output_type": "stream",
     "text": [
      "\n",
      "Ridge Regression:\n",
      "Best Alpha: 50.0000\n",
      "Training R-squared Scores: [0.6852681982309978, 0.6852681978848241, 0.6852681633541837, 0.685264794671512, 0.6849940748677958, 0.6835523857209695, 0.6816443257072511]\n",
      "Testing R-squared Scores: [0.645683225805463, 0.6456944994374068, 0.6458070098960799, 0.6469096540340296, 0.6558501677207123, 0.6655692803640729, 0.6672535561033242]\n"
     ]
    }
   ],
   "execution_count": 5
  },
  {
   "cell_type": "markdown",
   "source": [
    "## Lasso Regression\n",
    "Next, let's perform Lasso regression with different alpha values."
   ],
   "metadata": {
    "id": "w-Lk7cI4OhQz"
   }
  },
  {
   "cell_type": "code",
   "source": [
    "# Create and fit the Lasso regression models with different alpha values\n",
    "lasso_models = []\n",
    "lasso_r2_train_scores = []\n",
    "lasso_r2_test_scores = []\n",
    "\n",
    "for alpha in alphas:\n",
    "    lasso_model = Lasso(alpha=alpha)\n",
    "    lasso_model.fit(X_train_poly, y_train)\n",
    "    lasso_models.append(lasso_model)\n",
    "\n",
    "    # Make predictions on training and testing data\n",
    "    y_train_pred = lasso_model.predict(X_train_poly)\n",
    "    y_test_pred = lasso_model.predict(X_test_poly)\n",
    "\n",
    "    # Calculate R-squared for evaluation\n",
    "    lasso_r2_train = r2_score(y_train, y_train_pred)\n",
    "    lasso_r2_test = r2_score(y_test, y_test_pred)\n",
    "\n",
    "    lasso_r2_train_scores.append(lasso_r2_train)\n",
    "    lasso_r2_test_scores.append(lasso_r2_test)\n",
    "\n",
    "# Find the best alpha based on the testing R-squared score\n",
    "best_alpha_lasso = alphas[np.argmax(lasso_r2_test_scores)]\n",
    "\n",
    "print(f\"\\nLasso Regression:\")\n",
    "print(f\"Best Alpha: {best_alpha_lasso:.4f}\")\n",
    "print(f\"Training R-squared Scores: {lasso_r2_train_scores}\")\n",
    "print(f\"Testing R-squared Scores: {lasso_r2_test_scores}\")"
   ],
   "metadata": {
    "colab": {
     "base_uri": "https://localhost:8080/"
    },
    "id": "RduJmQmVOjEA",
    "outputId": "5e4a5763-1f72-4427-ab6f-3846f15e7919",
    "ExecuteTime": {
     "end_time": "2025-04-20T17:11:57.551434Z",
     "start_time": "2025-04-20T17:11:57.311447Z"
    }
   },
   "outputs": [
    {
     "name": "stdout",
     "output_type": "stream",
     "text": [
      "\n",
      "Lasso Regression:\n",
      "Best Alpha: 0.0010\n",
      "Training R-squared Scores: [0.6830030979089348, 0.6305732853769765, 0.5009816748171558, 0.03322000872409747, 0.0, 0.0, 0.0]\n",
      "Testing R-squared Scores: [0.6686741743527673, 0.533056472931783, 0.4823562161721351, 0.032132551538488596, -0.00021908714592466794, -0.00021908714592466794, -0.00021908714592466794]\n"
     ]
    },
    {
     "name": "stderr",
     "output_type": "stream",
     "text": [
      "/Users/yasuomaidana/Projects/data-analysis/regression-analysis/.venv/lib/python3.11/site-packages/sklearn/linear_model/_coordinate_descent.py:695: ConvergenceWarning: Objective did not converge. You might want to increase the number of iterations, check the scale of the features or consider increasing regularisation. Duality gap: 3.393e+03, tolerance: 2.207e+00\n",
      "  model = cd_fast.enet_coordinate_descent(\n",
      "/Users/yasuomaidana/Projects/data-analysis/regression-analysis/.venv/lib/python3.11/site-packages/sklearn/linear_model/_coordinate_descent.py:695: ConvergenceWarning: Objective did not converge. You might want to increase the number of iterations, check the scale of the features or consider increasing regularisation. Duality gap: 2.173e+02, tolerance: 2.207e+00\n",
      "  model = cd_fast.enet_coordinate_descent(\n"
     ]
    }
   ],
   "execution_count": 6
  },
  {
   "cell_type": "markdown",
   "source": [
    "## ElasticNet Regression\n",
    "Finally, let's perform ElasticNet regression with different alpha and l1_ratio values."
   ],
   "metadata": {
    "id": "6vUyReCUO23f"
   }
  },
  {
   "cell_type": "code",
   "source": [
    "# ElasticNet parameters (alpha and l1_ratio values)\n",
    "alphas_elasticnet = [0.001, 0.01, 0.1, 1, 10, 50]\n",
    "l1_ratios = [0.2, 0.5, 0.7, 0.9]\n",
    "\n",
    "# Create and fit the ElasticNet regression models with different alpha and l1_ratio values\n",
    "elasticnet_models = []\n",
    "elasticnet_r2_train_scores = []\n",
    "elasticnet_r2_test_scores = []\n",
    "\n",
    "for alpha in alphas_elasticnet:\n",
    "    for l1_ratio in l1_ratios:\n",
    "        elasticnet_model = ElasticNet(alpha=alpha, l1_ratio=l1_ratio)\n",
    "        elasticnet_model.fit(X_train_poly, y_train)\n",
    "        elasticnet_models.append(elasticnet_model)\n",
    "\n",
    "        # Make predictions on training and testing data\n",
    "        y_train_pred = elasticnet_model.predict(X_train_poly)\n",
    "        y_test_pred = elasticnet_model.predict(X_test_poly)\n",
    "\n",
    "        # Calculate R-squared for evaluation\n",
    "        elasticnet_r2_train = r2_score(y_train, y_train_pred)\n",
    "        elasticnet_r2_test = r2_score(y_test, y_test_pred)\n",
    "\n",
    "        elasticnet_r2_train_scores.append(elasticnet_r2_train)\n",
    "        elasticnet_r2_test_scores.append(elasticnet_r2_test)\n",
    "\n",
    "# Find the best alpha and l1_ratio based on the testing R-squared score\n",
    "best_alpha_elasticnet, best_l1_ratio_elasticnet = \\\n",
    "    alphas_elasticnet[np.argmax(elasticnet_r2_test_scores) // len(l1_ratios)], \\\n",
    "    l1_ratios[np.argmax(elasticnet_r2_test_scores) % len(l1_ratios)]\n",
    "\n",
    "print(f\"\\nElasticNet Regression:\")\n",
    "print(f\"Best Alpha: {best_alpha_elasticnet:.4f}, Best l1_ratio: {best_l1_ratio_elasticnet:.1f}\")\n",
    "print(f\"Training R-squared Scores: {elasticnet_r2_train_scores}\")\n",
    "print(f\"Testing R-squared Scores: {elasticnet_r2_test_scores}\")"
   ],
   "metadata": {
    "colab": {
     "base_uri": "https://localhost:8080/"
    },
    "id": "MecGTK0uO3y6",
    "outputId": "5b9b0dc4-4a89-4d5d-d929-492a6f2d8468",
    "ExecuteTime": {
     "end_time": "2025-04-20T17:11:58.592217Z",
     "start_time": "2025-04-20T17:11:57.562058Z"
    }
   },
   "outputs": [
    {
     "name": "stderr",
     "output_type": "stream",
     "text": [
      "/Users/yasuomaidana/Projects/data-analysis/regression-analysis/.venv/lib/python3.11/site-packages/sklearn/linear_model/_coordinate_descent.py:695: ConvergenceWarning: Objective did not converge. You might want to increase the number of iterations, check the scale of the features or consider increasing regularisation. Duality gap: 3.441e+03, tolerance: 2.207e+00\n",
      "  model = cd_fast.enet_coordinate_descent(\n",
      "/Users/yasuomaidana/Projects/data-analysis/regression-analysis/.venv/lib/python3.11/site-packages/sklearn/linear_model/_coordinate_descent.py:695: ConvergenceWarning: Objective did not converge. You might want to increase the number of iterations, check the scale of the features or consider increasing regularisation. Duality gap: 3.302e+03, tolerance: 2.207e+00\n",
      "  model = cd_fast.enet_coordinate_descent(\n",
      "/Users/yasuomaidana/Projects/data-analysis/regression-analysis/.venv/lib/python3.11/site-packages/sklearn/linear_model/_coordinate_descent.py:695: ConvergenceWarning: Objective did not converge. You might want to increase the number of iterations, check the scale of the features or consider increasing regularisation. Duality gap: 3.276e+03, tolerance: 2.207e+00\n",
      "  model = cd_fast.enet_coordinate_descent(\n",
      "/Users/yasuomaidana/Projects/data-analysis/regression-analysis/.venv/lib/python3.11/site-packages/sklearn/linear_model/_coordinate_descent.py:695: ConvergenceWarning: Objective did not converge. You might want to increase the number of iterations, check the scale of the features or consider increasing regularisation. Duality gap: 3.398e+03, tolerance: 2.207e+00\n",
      "  model = cd_fast.enet_coordinate_descent(\n",
      "/Users/yasuomaidana/Projects/data-analysis/regression-analysis/.venv/lib/python3.11/site-packages/sklearn/linear_model/_coordinate_descent.py:695: ConvergenceWarning: Objective did not converge. You might want to increase the number of iterations, check the scale of the features or consider increasing regularisation. Duality gap: 1.856e+03, tolerance: 2.207e+00\n",
      "  model = cd_fast.enet_coordinate_descent(\n",
      "/Users/yasuomaidana/Projects/data-analysis/regression-analysis/.venv/lib/python3.11/site-packages/sklearn/linear_model/_coordinate_descent.py:695: ConvergenceWarning: Objective did not converge. You might want to increase the number of iterations, check the scale of the features or consider increasing regularisation. Duality gap: 5.788e+02, tolerance: 2.207e+00\n",
      "  model = cd_fast.enet_coordinate_descent(\n",
      "/Users/yasuomaidana/Projects/data-analysis/regression-analysis/.venv/lib/python3.11/site-packages/sklearn/linear_model/_coordinate_descent.py:695: ConvergenceWarning: Objective did not converge. You might want to increase the number of iterations, check the scale of the features or consider increasing regularisation. Duality gap: 3.140e+02, tolerance: 2.207e+00\n",
      "  model = cd_fast.enet_coordinate_descent(\n",
      "/Users/yasuomaidana/Projects/data-analysis/regression-analysis/.venv/lib/python3.11/site-packages/sklearn/linear_model/_coordinate_descent.py:695: ConvergenceWarning: Objective did not converge. You might want to increase the number of iterations, check the scale of the features or consider increasing regularisation. Duality gap: 2.271e+02, tolerance: 2.207e+00\n",
      "  model = cd_fast.enet_coordinate_descent(\n",
      "/Users/yasuomaidana/Projects/data-analysis/regression-analysis/.venv/lib/python3.11/site-packages/sklearn/linear_model/_coordinate_descent.py:695: ConvergenceWarning: Objective did not converge. You might want to increase the number of iterations, check the scale of the features or consider increasing regularisation. Duality gap: 2.403e+00, tolerance: 2.207e+00\n",
      "  model = cd_fast.enet_coordinate_descent(\n"
     ]
    },
    {
     "name": "stdout",
     "output_type": "stream",
     "text": [
      "\n",
      "ElasticNet Regression:\n",
      "Best Alpha: 0.0010, Best l1_ratio: 0.9\n",
      "Training R-squared Scores: [0.6840310978294589, 0.6837217689230024, 0.6834122448233106, 0.6831585830280078, 0.6641895730066483, 0.654089814353995, 0.6463124687609252, 0.6364839821265846, 0.5619051580675156, 0.5325527976563843, 0.5104019630875991, 0.5043656964193155, 0.3174625276332542, 0.2114852613424184, 0.08567216955936541, 0.05311242187826348, 0.0, 0.0, 0.0, 0.0, 0.0, 0.0, 0.0, 0.0]\n",
      "Testing R-squared Scores: [0.6651313846713924, 0.667276826941704, 0.6679746333269321, 0.668749687302107, 0.5953794418651253, 0.5348954203373627, 0.5324894830873415, 0.535441360238432, 0.5437773103890866, 0.5153003945070083, 0.49307869728746057, 0.4864961977437864, 0.30776990091131107, 0.20586251683364998, 0.0831325334530787, 0.05149664176347912, -0.00021908714592466794, -0.00021908714592466794, -0.00021908714592466794, -0.00021908714592466794, -0.00021908714592466794, -0.00021908714592466794, -0.00021908714592466794, -0.00021908714592466794]\n"
     ]
    }
   ],
   "execution_count": 7
  },
  {
   "cell_type": "markdown",
   "source": [
    "## Visualization\n",
    "You can visualize the R-squared scores for different regularization techniques.\n"
   ],
   "metadata": {
    "id": "JugGi4AsPEGu"
   }
  },
  {
   "cell_type": "code",
   "source": [
    "# Plotting R-squared scores for different regularization techniques\n",
    "plt.figure(figsize=(12, 6))\n",
    "\n",
    "plt.subplot(1, 2, 1)\n",
    "plt.plot(alphas, ridge_r2_test_scores, label=\"Ridge Regression\")\n",
    "plt.plot(alphas, lasso_r2_test_scores, label=\"Lasso Regression\")\n",
    "plt.plot(elasticnet_r2_test_scores, label=\"ElasticNet Regression\")\n",
    "plt.xlabel(\"Alpha (Regularization Strength)\")\n",
    "plt.ylabel(\"Testing R-squared\")\n",
    "plt.title(\"R-squared Scores for Different Regularization Techniques\")\n",
    "plt.legend()\n",
    "\n",
    "plt.subplot(1, 2, 2)\n",
    "plt.plot(degrees, polynomial_r2_test_scores, marker='o')\n",
    "plt.xlabel(\"Polynomial Degree\")\n",
    "plt.ylabel(\"Testing R-squared\")\n",
    "plt.title(\"R-squared Scores for Different Polynomial Degrees\")\n",
    "plt.xticks(degrees)\n",
    "plt.tight_layout()\n",
    "plt.show()"
   ],
   "metadata": {
    "colab": {
     "base_uri": "https://localhost:8080/",
     "height": 607
    },
    "id": "fTw6-CfYPGLw",
    "outputId": "9d1d2855-7c0a-44e0-b769-92d67948cb2c",
    "ExecuteTime": {
     "end_time": "2025-04-20T17:11:58.735046Z",
     "start_time": "2025-04-20T17:11:58.609141Z"
    }
   },
   "outputs": [
    {
     "data": {
      "text/plain": [
       "<Figure size 1200x600 with 2 Axes>"
      ],
      "image/png": "[encoded data removed]"
     },
     "metadata": {},
     "output_type": "display_data"
    }
   ],
   "execution_count": 8
  }
 ]
}
