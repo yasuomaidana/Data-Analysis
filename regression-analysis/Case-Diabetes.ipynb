{
 "nbformat": 4,
 "nbformat_minor": 0,
 "metadata": {
  "colab": {
   "provenance": []
  },
  "kernelspec": {
   "name": "python3",
   "display_name": "Python 3"
  },
  "language_info": {
   "name": "python"
  }
 },
 "cells": [
  {
   "cell_type": "markdown",
   "source": [
    "# Regression Case Study - Diabetes\n",
    "Let's play with the complete case study using the \"Diabetes\" dataset. We'll demonstrate all regression methods, including Simple Linear Regression, Polynomial Linear Regression, Polynomial Linear Regression with Regularization (Ridge, Lasso, Elastic Net), Multivariable Regression, Cross Validation with different folds (3, 5, 10), and Ensemble Methods (Bagging, Boosting, Stacking). At the end, we'll visualize the results of these models for comparison."
   ],
   "metadata": {
    "id": "K_PrC5r4XdM2"
   }
  },
  {
   "cell_type": "markdown",
   "source": [
    "## Setup the Dataset\n",
    "Let's load the diabetes dataset from sklearn datasets. As the \"Diabetes\" dataset is already clean, there might not be significant data preprocessing steps required."
   ],
   "metadata": {
    "id": "-LdcXAyCXmGF"
   }
  },
  {
   "cell_type": "code",
   "metadata": {
    "colab": {
     "base_uri": "https://localhost:8080/"
    },
    "id": "kSvfM28NXVe0",
    "outputId": "43d101b8-99ce-40e3-ef4a-53885fed395b",
    "ExecuteTime": {
     "end_time": "2025-04-23T16:33:15.488343Z",
     "start_time": "2025-04-23T16:33:14.746272Z"
    }
   },
   "source": [
    "import numpy as np\n",
    "import pandas as pd\n",
    "import matplotlib.pyplot as plt\n",
    "from sklearn.datasets import load_diabetes\n",
    "from sklearn.model_selection import train_test_split\n",
    "from sklearn.linear_model import LinearRegression, Ridge, Lasso, ElasticNet\n",
    "from sklearn.preprocessing import PolynomialFeatures\n",
    "from sklearn.metrics import r2_score, mean_squared_error\n",
    "from sklearn.model_selection import cross_val_score\n",
    "from sklearn.ensemble import RandomForestRegressor, GradientBoostingRegressor, StackingRegressor\n",
    "\n",
    "# Load the Diabetes dataset\n",
    "data = load_diabetes()\n",
    "X, y = data.data, data.target\n",
    "\n",
    "# Convert to DataFrame for easier manipulation (optional)\n",
    "df = pd.DataFrame(data=np.c_[X, y], columns=data.feature_names + ['target'])\n",
    "\n",
    "# Explore the dataset\n",
    "print(df.head())\n",
    "print(df.describe())\n",
    "print(df.info())\n",
    "\n",
    "# No data preprocessing is required for the Diabetes dataset, as it is already clean.\n",
    "\n",
    "# Split the data into training and testing sets\n",
    "X_train, X_test, y_train, y_test = train_test_split(X, y, test_size=0.2, random_state=42)"
   ],
   "outputs": [
    {
     "name": "stdout",
     "output_type": "stream",
     "text": [
      "        age       sex       bmi        bp        s1        s2        s3  \\\n",
      "0  0.038076  0.050680  0.061696  0.021872 -0.044223 -0.034821 -0.043401   \n",
      "1 -0.001882 -0.044642 -0.051474 -0.026328 -0.008449 -0.019163  0.074412   \n",
      "2  0.085299  0.050680  0.044451 -0.005670 -0.045599 -0.034194 -0.032356   \n",
      "3 -0.089063 -0.044642 -0.011595 -0.036656  0.012191  0.024991 -0.036038   \n",
      "4  0.005383 -0.044642 -0.036385  0.021872  0.003935  0.015596  0.008142   \n",
      "\n",
      "         s4        s5        s6  target  \n",
      "0 -0.002592  0.019907 -0.017646   151.0  \n",
      "1 -0.039493 -0.068332 -0.092204    75.0  \n",
      "2 -0.002592  0.002861 -0.025930   141.0  \n",
      "3  0.034309  0.022688 -0.009362   206.0  \n",
      "4 -0.002592 -0.031988 -0.046641   135.0  \n",
      "                age           sex           bmi            bp            s1  \\\n",
      "count  4.420000e+02  4.420000e+02  4.420000e+02  4.420000e+02  4.420000e+02   \n",
      "mean  -2.511817e-19  1.230790e-17 -2.245564e-16 -4.797570e-17 -1.381499e-17   \n",
      "std    4.761905e-02  4.761905e-02  4.761905e-02  4.761905e-02  4.761905e-02   \n",
      "min   -1.072256e-01 -4.464164e-02 -9.027530e-02 -1.123988e-01 -1.267807e-01   \n",
      "25%   -3.729927e-02 -4.464164e-02 -3.422907e-02 -3.665608e-02 -3.424784e-02   \n",
      "50%    5.383060e-03 -4.464164e-02 -7.283766e-03 -5.670422e-03 -4.320866e-03   \n",
      "75%    3.807591e-02  5.068012e-02  3.124802e-02  3.564379e-02  2.835801e-02   \n",
      "max    1.107267e-01  5.068012e-02  1.705552e-01  1.320436e-01  1.539137e-01   \n",
      "\n",
      "                 s2            s3            s4            s5            s6  \\\n",
      "count  4.420000e+02  4.420000e+02  4.420000e+02  4.420000e+02  4.420000e+02   \n",
      "mean   3.918434e-17 -5.777179e-18 -9.042540e-18  9.293722e-17  1.130318e-17   \n",
      "std    4.761905e-02  4.761905e-02  4.761905e-02  4.761905e-02  4.761905e-02   \n",
      "min   -1.156131e-01 -1.023071e-01 -7.639450e-02 -1.260971e-01 -1.377672e-01   \n",
      "25%   -3.035840e-02 -3.511716e-02 -3.949338e-02 -3.324559e-02 -3.317903e-02   \n",
      "50%   -3.819065e-03 -6.584468e-03 -2.592262e-03 -1.947171e-03 -1.077698e-03   \n",
      "75%    2.984439e-02  2.931150e-02  3.430886e-02  3.243232e-02  2.791705e-02   \n",
      "max    1.987880e-01  1.811791e-01  1.852344e-01  1.335973e-01  1.356118e-01   \n",
      "\n",
      "           target  \n",
      "count  442.000000  \n",
      "mean   152.133484  \n",
      "std     77.093005  \n",
      "min     25.000000  \n",
      "25%     87.000000  \n",
      "50%    140.500000  \n",
      "75%    211.500000  \n",
      "max    346.000000  \n",
      "<class 'pandas.core.frame.DataFrame'>\n",
      "RangeIndex: 442 entries, 0 to 441\n",
      "Data columns (total 11 columns):\n",
      " #   Column  Non-Null Count  Dtype  \n",
      "---  ------  --------------  -----  \n",
      " 0   age     442 non-null    float64\n",
      " 1   sex     442 non-null    float64\n",
      " 2   bmi     442 non-null    float64\n",
      " 3   bp      442 non-null    float64\n",
      " 4   s1      442 non-null    float64\n",
      " 5   s2      442 non-null    float64\n",
      " 6   s3      442 non-null    float64\n",
      " 7   s4      442 non-null    float64\n",
      " 8   s5      442 non-null    float64\n",
      " 9   s6      442 non-null    float64\n",
      " 10  target  442 non-null    float64\n",
      "dtypes: float64(11)\n",
      "memory usage: 38.1 KB\n",
      "None\n"
     ]
    }
   ],
   "execution_count": 1
  },
  {
   "cell_type": "markdown",
   "source": [
    "## Simple Linear Regression"
   ],
   "metadata": {
    "id": "ZvC1X9wKX6kN"
   }
  },
  {
   "cell_type": "code",
   "source": [
    "# Create and fit the simple linear regression model\n",
    "simple_linear_model = LinearRegression()\n",
    "simple_linear_model.fit(X_train, y_train)\n",
    "\n",
    "# Make predictions on training and testing data\n",
    "y_train_pred_slr = simple_linear_model.predict(X_train)\n",
    "y_test_pred_slr = simple_linear_model.predict(X_test)\n",
    "\n",
    "# Calculate R-squared and mean squared error for evaluation\n",
    "slr_r2_train = r2_score(y_train, y_train_pred_slr)\n",
    "slr_r2_test = r2_score(y_test, y_test_pred_slr)\n",
    "slr_mse_train = mean_squared_error(y_train, y_train_pred_slr)\n",
    "slr_mse_test = mean_squared_error(y_test, y_test_pred_slr)\n",
    "\n",
    "print(f\"Simple Linear Regression:\")\n",
    "print(f\"Training R-squared: {slr_r2_train:.4f}, Training MSE: {slr_mse_train:.4f}\")\n",
    "print(f\"Testing R-squared: {slr_r2_test:.4f}, Testing MSE: {slr_mse_test:.4f}\")"
   ],
   "metadata": {
    "colab": {
     "base_uri": "https://localhost:8080/"
    },
    "id": "_iFSrxr7X8Ji",
    "outputId": "53745246-1be9-40d7-f957-7277cbc1e226",
    "ExecuteTime": {
     "end_time": "2025-04-23T16:33:15.516044Z",
     "start_time": "2025-04-23T16:33:15.505679Z"
    }
   },
   "outputs": [
    {
     "name": "stdout",
     "output_type": "stream",
     "text": [
      "Simple Linear Regression:\n",
      "Training R-squared: 0.5279, Training MSE: 2868.5497\n",
      "Testing R-squared: 0.4526, Testing MSE: 2900.1936\n"
     ]
    }
   ],
   "execution_count": 2
  },
  {
   "cell_type": "markdown",
   "source": [
    "## Polynomial Linear Regression"
   ],
   "metadata": {
    "id": "XuZWXdHzYABy"
   }
  },
  {
   "cell_type": "code",
   "source": [
    "# Polynomial degrees\n",
    "degrees = [2, 3, 4]\n",
    "\n",
    "# Create and fit the polynomial regression models with different degrees\n",
    "polynomial_models = []\n",
    "polynomial_r2_train_scores = []\n",
    "polynomial_r2_test_scores = []\n",
    "\n",
    "for degree in degrees:\n",
    "    poly_features = PolynomialFeatures(degree=degree)\n",
    "    X_train_poly = poly_features.fit_transform(X_train)\n",
    "    X_test_poly = poly_features.transform(X_test)\n",
    "\n",
    "    model = LinearRegression()\n",
    "    model.fit(X_train_poly, y_train)\n",
    "    polynomial_models.append(model)\n",
    "\n",
    "    # Make predictions on training and testing data\n",
    "    y_train_pred = model.predict(X_train_poly)\n",
    "    y_test_pred = model.predict(X_test_poly)\n",
    "\n",
    "    # Calculate R-squared for evaluation\n",
    "    polynomial_r2_train = r2_score(y_train, y_train_pred)\n",
    "    polynomial_r2_test = r2_score(y_test, y_test_pred)\n",
    "\n",
    "    polynomial_r2_train_scores.append(polynomial_r2_train)\n",
    "    polynomial_r2_test_scores.append(polynomial_r2_test)\n",
    "\n",
    "# Find the best degree based on the testing R-squared score\n",
    "best_degree = degrees[np.argmax(polynomial_r2_test_scores)]\n",
    "\n",
    "print(f\"\\nPolynomial Linear Regression:\")\n",
    "print(f\"Best Degree: {best_degree}\")\n",
    "print(f\"Training R-squared Scores: {polynomial_r2_train_scores}\")\n",
    "print(f\"Testing R-squared Scores: {polynomial_r2_test_scores}\")"
   ],
   "metadata": {
    "colab": {
     "base_uri": "https://localhost:8080/"
    },
    "id": "Ac_sx1CeYB-S",
    "outputId": "2c2bbd59-23d3-4e4b-ff12-c5a783a9fa0f",
    "ExecuteTime": {
     "end_time": "2025-04-23T16:33:15.671440Z",
     "start_time": "2025-04-23T16:33:15.635025Z"
    }
   },
   "outputs": [
    {
     "name": "stdout",
     "output_type": "stream",
     "text": [
      "\n",
      "Polynomial Linear Regression:\n",
      "Best Degree: 2\n",
      "Training R-squared Scores: [0.6061583502354679, 0.8772926910175939, 1.0]\n",
      "Testing R-squared Scores: [0.4156399336407993, -14.56128489388842, -26.72808338195637]\n"
     ]
    }
   ],
   "execution_count": 3
  },
  {
   "cell_type": "markdown",
   "source": [
    "## Polynomial Linear Regression with Regularization"
   ],
   "metadata": {
    "id": "NxZSuYwgYGZa"
   }
  },
  {
   "cell_type": "code",
   "source": [
    "# Continue with degree of 2\n",
    "poly_features = PolynomialFeatures(degree=degree)\n",
    "X_train_poly = poly_features.fit_transform(X_train)\n",
    "X_test_poly = poly_features.transform(X_test)\n",
    "\n",
    "# Regularization strengths (alpha values)\n",
    "alphas = [0.001, 0.01, 0.1, 1, 10]\n",
    "\n",
    "# Create and fit the Ridge, Lasso, and ElasticNet regression models with different alpha values\n",
    "ridge_models = []\n",
    "ridge_r2_train_scores = []\n",
    "ridge_r2_test_scores = []\n",
    "\n",
    "lasso_models = []\n",
    "lasso_r2_train_scores = []\n",
    "lasso_r2_test_scores = []\n",
    "\n",
    "elasticnet_models = []\n",
    "elasticnet_r2_train_scores = []\n",
    "elasticnet_r2_test_scores = []\n",
    "\n",
    "for alpha in alphas:\n",
    "    ridge_model = Ridge(alpha=alpha)\n",
    "    ridge_model.fit(X_train_poly, y_train)\n",
    "    ridge_models.append(ridge_model)\n",
    "\n",
    "    # Make predictions on training and testing data\n",
    "    y_train_pred = ridge_model.predict(X_train_poly)\n",
    "    y_test_pred = ridge_model.predict(X_test_poly)\n",
    "\n",
    "    # Calculate R-squared for evaluation\n",
    "    ridge_r2_train = r2_score(y_train, y_train_pred)\n",
    "    ridge_r2_test = r2_score(y_test, y_test_pred)\n",
    "\n",
    "    ridge_r2_train_scores.append(ridge_r2_train)\n",
    "    ridge_r2_test_scores.append(ridge_r2_test)\n",
    "\n",
    "    lasso_model = Lasso(alpha=alpha)\n",
    "    lasso_model.fit(X_train_poly, y_train)\n",
    "    lasso_models.append(lasso_model)\n",
    "\n",
    "    # Make predictions on training and testing data\n",
    "    y_train_pred = lasso_model.predict(X_train_poly)\n",
    "    y_test_pred = lasso_model.predict(X_test_poly)\n",
    "\n",
    "    # Calculate R-squared for evaluation\n",
    "    lasso_r2_train = r2_score(y_train, y_train_pred)\n",
    "    lasso_r2_test = r2_score(y_test, y_test_pred)\n",
    "\n",
    "    lasso_r2_train_scores.append(lasso_r2_train)\n",
    "    lasso_r2_test_scores.append(lasso_r2_test)\n",
    "\n",
    "    for l1_ratio in [0.2, 0.5, 0.8]:\n",
    "        elasticnet_model = ElasticNet(alpha=alpha, l1_ratio=l1_ratio)\n",
    "        elasticnet_model.fit(X_train_poly, y_train)\n",
    "        elasticnet_models.append(elasticnet_model)\n",
    "\n",
    "        # Make predictions on training and testing data\n",
    "        y_train_pred = elasticnet_model.predict(X_train_poly)\n",
    "        y_test_pred = elasticnet_model.predict(X_test_poly)\n",
    "\n",
    "        # Calculate R-squared for evaluation\n",
    "        elasticnet_r2_train = r2_score(y_train, y_train_pred)\n",
    "        elasticnet_r2_test = r2_score(y_test, y_test_pred)\n",
    "\n",
    "        elasticnet_r2_train_scores.append(elasticnet_r2_train)\n",
    "        elasticnet_r2_test_scores.append(elasticnet_r2_test)\n",
    "\n",
    "# Find the best alpha values for Ridge, Lasso, and ElasticNet based on the testing R-squared scores\n",
    "best_alpha_ridge = alphas[np.argmax(ridge_r2_test_scores)]\n",
    "best_alpha_lasso = alphas[np.argmax(lasso_r2_test_scores)]\n",
    "best_alpha_elasticnet = alphas[np.argmax(elasticnet_r2_test_scores)]\n",
    "best_l1_ratio_elasticnet = [0.2, 0.5, 0.8][np.argmax(elasticnet_r2_test_scores) // len(alphas)]\n",
    "\n",
    "print(f\"\\nPolynomial Linear Regression with Regularization:\")\n",
    "print(f\"Best Alpha (Ridge): {best_alpha_ridge:.4f}\")\n",
    "print(f\"Best Alpha (Lasso): {best_alpha_lasso:.4f}\")\n",
    "print(f\"Best Alpha (ElasticNet): {best_alpha_elasticnet:.4f}\")\n",
    "print(f\"Best l1_ratio (ElasticNet): {best_l1_ratio_elasticnet:.1f}\")\n",
    "print(f\"Ridge Training R-squared Scores: {ridge_r2_train_scores}\")\n",
    "print(f\"Ridge Testing R-squared Scores: {ridge_r2_test_scores}\")\n",
    "print(f\"Lasso Training R-squared Scores: {lasso_r2_train_scores}\")\n",
    "print(f\"Lasso Testing R-squared Scores: {lasso_r2_test_scores}\")\n",
    "print(f\"ElasticNet Training R-squared Scores: {elasticnet_r2_train_scores}\")\n",
    "print(f\"ElasticNet Testing R-squared Scores: {elasticnet_r2_test_scores}\")"
   ],
   "metadata": {
    "colab": {
     "base_uri": "https://localhost:8080/"
    },
    "id": "uoUbDLmkYHQS",
    "outputId": "0b794c91-2230-49c6-c4af-9b1c80eb79f5",
    "ExecuteTime": {
     "end_time": "2025-04-23T16:33:15.848983Z",
     "start_time": "2025-04-23T16:33:15.699397Z"
    }
   },
   "outputs": [
    {
     "name": "stdout",
     "output_type": "stream",
     "text": [
      "\n",
      "Polynomial Linear Regression with Regularization:\n",
      "Best Alpha (Ridge): 0.0010\n",
      "Best Alpha (Lasso): 0.0010\n",
      "Best Alpha (ElasticNet): 0.1000\n",
      "Best l1_ratio (ElasticNet): 0.2\n",
      "Ridge Training R-squared Scores: [0.5738225696816799, 0.5440556284976665, 0.523889352263707, 0.44298458284557574, 0.16350659610783913]\n",
      "Ridge Testing R-squared Scores: [0.5108006878947506, 0.4842953922565284, 0.46593781159184355, 0.41958874692366066, 0.161269221757383]\n",
      "Lasso Training R-squared Scores: [0.5892701490358648, 0.5419119318329695, 0.5169410847799543, 0.3646309911295581, 0.0]\n",
      "Lasso Testing R-squared Scores: [0.5012980759269186, 0.49076078413751045, 0.4718547867276227, 0.3575918767219113, -0.011962984778542296]\n",
      "ElasticNet Training R-squared Scores: [0.5084098826948718, 0.5174639557698948, 0.526169096945057, 0.3283982611115136, 0.3856811985013552, 0.4671799800159241, 0.0708338916850505, 0.1032878083423916, 0.19726642133866978, 0.007112124669544362, 0.008901600088515704, 0.0162621249186663, 2.5348994849738737e-05, 0.0, 0.0]\n",
      "ElasticNet Testing R-squared Scores: [0.46106227294588853, 0.4643024301889397, 0.4665388951249436, 0.3230312951444442, 0.37379052990320016, 0.43739385153422183, 0.06419070712846853, 0.0986570226567105, 0.1960777104890853, -0.0042988350408805776, -0.0024652131111431164, 0.005259228957128381, -0.011937606996639039, -0.011962984778542296, -0.011962984778542296]\n"
     ]
    },
    {
     "name": "stderr",
     "output_type": "stream",
     "text": [
      "/Users/yasuomaidana/Projects/data-analysis/regression-analysis/.venv/lib/python3.11/site-packages/sklearn/linear_model/_coordinate_descent.py:695: ConvergenceWarning: Objective did not converge. You might want to increase the number of iterations, check the scale of the features or consider increasing regularisation. Duality gap: 2.284e+05, tolerance: 2.145e+02\n",
      "  model = cd_fast.enet_coordinate_descent(\n"
     ]
    }
   ],
   "execution_count": 4
  },
  {
   "cell_type": "markdown",
   "source": [
    "## Multivariable Regression"
   ],
   "metadata": {
    "id": "RV6M4j3_YL_G"
   }
  },
  {
   "cell_type": "code",
   "source": [
    "# Create and fit the multivariable regression model\n",
    "multi_linear_model = LinearRegression()\n",
    "multi_linear_model.fit(X_train, y_train)\n",
    "\n",
    "# Make predictions on training and testing data\n",
    "y_train_pred_multi = multi_linear_model.predict(X_train)\n",
    "y_test_pred_multi = multi_linear_model.predict(X_test)\n",
    "\n",
    "# Calculate R-squared and mean squared error for evaluation\n",
    "multi_r2_train = r2_score(y_train, y_train_pred_multi)\n",
    "multi_r2_test = r2_score(y_test, y_test_pred_multi)\n",
    "multi_mse_train = mean_squared_error(y_train, y_train_pred_multi)\n",
    "multi_mse_test = mean_squared_error(y_test, y_test_pred_multi)\n",
    "\n",
    "print(f\"\\nMultivariable Regression:\")\n",
    "print(f\"Training R-squared: {multi_r2_train:.4f}, Training MSE: {multi_mse_train:.4f}\")\n",
    "print(f\"Testing R-squared: {multi_r2_test:.4f}, Testing MSE: {multi_mse_test:.4f}\")"
   ],
   "metadata": {
    "colab": {
     "base_uri": "https://localhost:8080/"
    },
    "id": "UNJ5KMFuYa3C",
    "outputId": "7eb8be84-9a57-4d1e-bf77-3d7593eace1b",
    "ExecuteTime": {
     "end_time": "2025-04-23T16:33:15.873125Z",
     "start_time": "2025-04-23T16:33:15.868139Z"
    }
   },
   "outputs": [
    {
     "name": "stdout",
     "output_type": "stream",
     "text": [
      "\n",
      "Multivariable Regression:\n",
      "Training R-squared: 0.5279, Training MSE: 2868.5497\n",
      "Testing R-squared: 0.4526, Testing MSE: 2900.1936\n"
     ]
    }
   ],
   "execution_count": 5
  },
  {
   "cell_type": "markdown",
   "source": [
    "## Cross Validation\n",
    "We will perform cross-validation using 3-folds, 5-folds, and 10-folds to assess the performance of different regression models."
   ],
   "metadata": {
    "id": "xAWLjkyJYfcZ"
   }
  },
  {
   "cell_type": "code",
   "source": [
    "# Define a function to perform cross-validation and calculate mean R-squared scores\n",
    "def perform_cross_validation(model, X, y, cv):\n",
    "    cv_scores = cross_val_score(model, X, y, scoring='r2', cv=cv)\n",
    "    mean_cv_score = np.mean(cv_scores)\n",
    "    return mean_cv_score\n",
    "\n",
    "# Cross-validation with 3-folds\n",
    "cv_3folds_score = perform_cross_validation(multi_linear_model, X, y, cv=3)\n",
    "print(f\"Cross Validation (3-folds) R-squared: {cv_3folds_score:.4f}\")\n",
    "\n",
    "# Cross-validation with 5-folds\n",
    "cv_5folds_score = perform_cross_validation(multi_linear_model, X, y, cv=5)\n",
    "print(f\"Cross Validation (5-folds) R-squared: {cv_5folds_score:.4f}\")\n",
    "\n",
    "# Cross-validation with 10-folds\n",
    "cv_10folds_score = perform_cross_validation(multi_linear_model, X, y, cv=10)\n",
    "print(f\"Cross Validation (10-folds) R-squared: {cv_10folds_score:.4f}\")"
   ],
   "metadata": {
    "colab": {
     "base_uri": "https://localhost:8080/"
    },
    "id": "a-vqMTNnYhp8",
    "outputId": "22ae2526-e152-475e-8f4e-c39bf0970b9c",
    "ExecuteTime": {
     "end_time": "2025-04-23T16:33:15.915185Z",
     "start_time": "2025-04-23T16:33:15.898152Z"
    }
   },
   "outputs": [
    {
     "name": "stdout",
     "output_type": "stream",
     "text": [
      "Cross Validation (3-folds) R-squared: 0.4887\n",
      "Cross Validation (5-folds) R-squared: 0.4823\n",
      "Cross Validation (10-folds) R-squared: 0.4620\n"
     ]
    }
   ],
   "execution_count": 6
  },
  {
   "cell_type": "markdown",
   "source": [
    "## Ensemble Methods\n",
    "Now, let's apply Ensemble Methods using Bagging, Boosting, and Stacking techniques.\n",
    "### Bagging - Random Forest Regression"
   ],
   "metadata": {
    "id": "vlAPmT1lYlK9"
   }
  },
  {
   "cell_type": "code",
   "source": [
    "# Create and fit the Random Forest regression model\n",
    "rf_model = RandomForestRegressor(n_estimators=100, max_features=3, random_state=42)\n",
    "rf_model.fit(X_train, y_train)\n",
    "\n",
    "# Make predictions on training and testing data\n",
    "y_train_pred_rf = rf_model.predict(X_train)\n",
    "y_test_pred_rf = rf_model.predict(X_test)\n",
    "\n",
    "# Calculate R-squared and mean squared error for evaluation\n",
    "rf_r2_train = r2_score(y_train, y_train_pred_rf)\n",
    "rf_r2_test = r2_score(y_test, y_test_pred_rf)\n",
    "rf_mse_train = mean_squared_error(y_train, y_train_pred_rf)\n",
    "rf_mse_test = mean_squared_error(y_test, y_test_pred_rf)\n",
    "\n",
    "print(f\"\\nRandom Forest Regression (Bagging):\")\n",
    "print(f\"Training R-squared: {rf_r2_train:.4f}, Training MSE: {rf_mse_train:.4f}\")\n",
    "print(f\"Testing R-squared: {rf_r2_test:.4f}, Testing MSE: {rf_mse_test:.4f}\")"
   ],
   "metadata": {
    "colab": {
     "base_uri": "https://localhost:8080/"
    },
    "id": "oYTONPlCYpGz",
    "outputId": "a1b75448-28bd-4a27-c88a-a999c085d58d",
    "ExecuteTime": {
     "end_time": "2025-04-23T16:33:16.008669Z",
     "start_time": "2025-04-23T16:33:15.935434Z"
    }
   },
   "outputs": [
    {
     "name": "stdout",
     "output_type": "stream",
     "text": [
      "\n",
      "Random Forest Regression (Bagging):\n",
      "Training R-squared: 0.9206, Training MSE: 482.5544\n",
      "Testing R-squared: 0.4669, Testing MSE: 2824.4323\n"
     ]
    }
   ],
   "execution_count": 7
  },
  {
   "cell_type": "markdown",
   "source": [
    "### Boosting - Gradient Boosting Regression"
   ],
   "metadata": {
    "id": "N9HwgECpYseL"
   }
  },
  {
   "cell_type": "code",
   "source": [
    "# Create and fit the Gradient Boosting regression model\n",
    "gb_model = GradientBoostingRegressor(n_estimators=100, learning_rate=0.1, random_state=42)\n",
    "gb_model.fit(X_train, y_train)\n",
    "\n",
    "# Make predictions on training and testing data\n",
    "y_train_pred_gb = gb_model.predict(X_train)\n",
    "y_test_pred_gb = gb_model.predict(X_test)\n",
    "\n",
    "# Calculate R-squared and mean squared error for evaluation\n",
    "gb_r2_train = r2_score(y_train, y_train_pred_gb)\n",
    "gb_r2_test = r2_score(y_test, y_test_pred_gb)\n",
    "gb_mse_train = mean_squared_error(y_train, y_train_pred_gb)\n",
    "gb_mse_test = mean_squared_error(y_test, y_test_pred_gb)\n",
    "\n",
    "print(f\"\\nGradient Boosting Regression (Boosting):\")\n",
    "print(f\"Training R-squared: {gb_r2_train:.4f}, Training MSE: {gb_mse_train:.4f}\")\n",
    "print(f\"Testing R-squared: {gb_r2_test:.4f}, Testing MSE: {gb_mse_test:.4f}\")"
   ],
   "metadata": {
    "colab": {
     "base_uri": "https://localhost:8080/"
    },
    "id": "AOvDyptsYtdM",
    "outputId": "068c72c7-4274-4f18-ec48-6fd46afb9a76",
    "ExecuteTime": {
     "end_time": "2025-04-23T16:33:16.090152Z",
     "start_time": "2025-04-23T16:33:16.029476Z"
    }
   },
   "outputs": [
    {
     "name": "stdout",
     "output_type": "stream",
     "text": [
      "\n",
      "Gradient Boosting Regression (Boosting):\n",
      "Training R-squared: 0.8359, Training MSE: 997.1211\n",
      "Testing R-squared: 0.4529, Testing MSE: 2898.4367\n"
     ]
    }
   ],
   "execution_count": 8
  },
  {
   "cell_type": "markdown",
   "source": [
    "### Stacking - Stacking Regressor"
   ],
   "metadata": {
    "id": "s9xFoSyhYxHq"
   }
  },
  {
   "cell_type": "code",
   "source": [
    "# Create a list of base models for stacking\n",
    "base_models = [\n",
    "    ('ridge', Ridge(alpha=best_alpha_ridge)),\n",
    "    ('lasso', Lasso(alpha=best_alpha_lasso)),\n",
    "    ('elasticnet', ElasticNet(alpha=best_alpha_elasticnet, l1_ratio=best_l1_ratio_elasticnet))\n",
    "]\n",
    "\n",
    "# Create and fit the Stacking Regressor\n",
    "stacking_model = StackingRegressor(estimators=base_models, final_estimator=multi_linear_model)\n",
    "stacking_model.fit(X_train, y_train)\n",
    "\n",
    "# Make predictions on training and testing data\n",
    "y_train_pred_stack = stacking_model.predict(X_train)\n",
    "y_test_pred_stack = stacking_model.predict(X_test)\n",
    "\n",
    "# Calculate R-squared and mean squared error for evaluation\n",
    "stack_r2_train = r2_score(y_train, y_train_pred_stack)\n",
    "stack_r2_test = r2_score(y_test, y_test_pred_stack)\n",
    "stack_mse_train = mean_squared_error(y_train, y_train_pred_stack)\n",
    "stack_mse_test = mean_squared_error(y_test, y_test_pred_stack)\n",
    "\n",
    "print(f\"\\nStacking Regressor (Stacking):\")\n",
    "print(f\"Training R-squared: {stack_r2_train:.4f}, Training MSE: {stack_mse_train:.4f}\")\n",
    "print(f\"Testing R-squared: {stack_r2_test:.4f}, Testing MSE: {stack_mse_test:.4f}\")"
   ],
   "metadata": {
    "colab": {
     "base_uri": "https://localhost:8080/"
    },
    "id": "MjhkK9TEYyuj",
    "outputId": "6da18194-29c6-4e2a-a542-25ed4e112ecf",
    "ExecuteTime": {
     "end_time": "2025-04-23T16:33:16.128210Z",
     "start_time": "2025-04-23T16:33:16.110775Z"
    }
   },
   "outputs": [
    {
     "name": "stdout",
     "output_type": "stream",
     "text": [
      "\n",
      "Stacking Regressor (Stacking):\n",
      "Training R-squared: 0.5264, Training MSE: 2877.9006\n",
      "Testing R-squared: 0.4548, Testing MSE: 2888.4670\n"
     ]
    }
   ],
   "execution_count": 9
  },
  {
   "cell_type": "markdown",
   "source": [
    "## Visualize the Comparison\n",
    "Let's visualize the R-squared scores of different regression methods. This bar chart will show the comparison of different regression methods, Cross Validation, and Ensemble Methods based on their training and testing R-squared scores. The higher the R-squared score, the better the model fits the data. The chart will help you understand which regression method performs best for the \"Diabetes\" dataset."
   ],
   "metadata": {
    "id": "IWu19AaBbn89"
   }
  },
  {
   "cell_type": "code",
   "source": [
    "# Create a DataFrame to store the R-squared scores\n",
    "method_names = ['Simple Linear', f'Polynomial Degree {best_degree}', 'Ridge', 'Lasso', 'ElasticNet',\n",
    "                'Multivariable Regression', 'Bagging (Random Forest)', 'Boosting (Gradient Boosting)', 'Stacking']\n",
    "train_r2_scores = [slr_r2_train, polynomial_r2_train_scores[np.argmax(polynomial_r2_test_scores)],\n",
    "                   ridge_r2_train_scores[np.argmax(ridge_r2_test_scores)], lasso_r2_train_scores[np.argmax(lasso_r2_test_scores)],\n",
    "                   elasticnet_r2_train_scores[np.argmax(elasticnet_r2_test_scores)], multi_r2_train, rf_r2_train, gb_r2_train, stack_r2_train]\n",
    "\n",
    "test_r2_scores = [slr_r2_test, polynomial_r2_test_scores[np.argmax(polynomial_r2_test_scores)],\n",
    "                  ridge_r2_test_scores[np.argmax(ridge_r2_test_scores)], lasso_r2_test_scores[np.argmax(lasso_r2_test_scores)],\n",
    "                  elasticnet_r2_test_scores[np.argmax(elasticnet_r2_test_scores)], multi_r2_test, rf_r2_test, gb_r2_test, stack_r2_test]\n",
    "\n",
    "r2_scores_df = pd.DataFrame({'Method': method_names, 'Training R-squared': train_r2_scores, 'Testing R-squared': test_r2_scores})\n",
    "\n",
    "# Visualize the R-squared scores\n",
    "plt.figure(figsize=(12, 6))\n",
    "plt.bar(method_names, train_r2_scores, label='Training R-squared', alpha=0.7)\n",
    "plt.bar(method_names, test_r2_scores, label='Testing R-squared', alpha=0.7)\n",
    "plt.xlabel('Regression Method')\n",
    "plt.ylabel('R-squared Score')\n",
    "plt.title('Comparison of Regression Methods on Diabetes Dataset')\n",
    "plt.legend()\n",
    "plt.xticks(rotation=45, ha='right')\n",
    "plt.ylim(0, 1)\n",
    "plt.tight_layout()\n",
    "plt.show()"
   ],
   "metadata": {
    "colab": {
     "base_uri": "https://localhost:8080/",
     "height": 607
    },
    "id": "Ao1nNZXDY-RJ",
    "outputId": "da8a23f5-b15e-4ccf-df58-d42f2d465265",
    "ExecuteTime": {
     "end_time": "2025-04-23T16:33:16.270190Z",
     "start_time": "2025-04-23T16:33:16.150437Z"
    }
   },
   "outputs": [
    {
     "data": {
      "text/plain": [
       "<Figure size 1200x600 with 1 Axes>"
      ],
      "image/png": "[encoded data removed]"
     },
     "metadata": {},
     "output_type": "display_data"
    }
   ],
   "execution_count": 10
  }
 ]
}
