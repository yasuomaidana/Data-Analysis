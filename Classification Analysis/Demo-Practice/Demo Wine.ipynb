{
 "nbformat": 4,
 "nbformat_minor": 0,
 "metadata": {
  "colab": {
   "provenance": [],
   "authorship_tag": "ABX9TyNCENRw5bz9R3plRrMmLawZ"
  },
  "kernelspec": {
   "name": "python3",
   "display_name": "Python 3 (ipykernel)",
   "language": "python"
  },
  "language_info": {
   "name": "python"
  }
 },
 "cells": [
  {
   "cell_type": "markdown",
   "source": [
    "# Case Study\n",
    "Let's proceed with the Wine Dataset and apply the same classification methods we used before, including Nearest Neighbors (KNN), Decision Trees, SVM, Naive Bayes, and Logistic Regression. We will explore each method with different hyperparameters and summarize their performance in terms of accuracy. At the end, we will visualize the results for comparison.\n",
    "\n",
    "The Wine Dataset is a popular dataset for classification tasks, where the target class represents the origin of different wines. It contains 13 features that describe various properties of the wines.\n",
    "\n"
   ],
   "metadata": {
    "id": "K80Co7XfyURw"
   }
  },
  {
   "cell_type": "markdown",
   "source": [
    "## Setup"
   ],
   "metadata": {
    "id": "tlYaM9qSyXy3"
   }
  },
  {
   "cell_type": "code",
   "metadata": {
    "id": "-wNNbw-OyLqh",
    "executionInfo": {
     "status": "ok",
     "timestamp": 1690771185318,
     "user_tz": 240,
     "elapsed": 147,
     "user": {
      "displayName": "Di Wu",
      "userId": "05255951341257561169"
     }
    },
    "ExecuteTime": {
     "end_time": "2025-02-15T00:17:40.811565Z",
     "start_time": "2025-02-15T00:17:39.969756Z"
    }
   },
   "source": [
    "import pandas as pd\n",
    "import matplotlib.pyplot as plt\n",
    "from sklearn.datasets import load_wine\n",
    "from sklearn.model_selection import train_test_split\n",
    "from sklearn.neighbors import KNeighborsClassifier\n",
    "from sklearn.tree import DecisionTreeClassifier\n",
    "from sklearn.svm import SVC\n",
    "from sklearn.naive_bayes import GaussianNB\n",
    "from sklearn.linear_model import LogisticRegression\n",
    "from sklearn.metrics import accuracy_score\n",
    "\n",
    "# Load the Wine dataset\n",
    "data = load_wine()\n",
    "X = pd.DataFrame(data.data, columns=data.feature_names)\n",
    "y = pd.Series(data.target, name='target')\n",
    "\n",
    "# Split the dataset into training and testing sets (80% train, 20% test)\n",
    "X_train, X_test, y_train, y_test = train_test_split(X, y, test_size=0.2, random_state=42)"
   ],
   "outputs": [],
   "execution_count": 1
  },
  {
   "cell_type": "markdown",
   "source": [
    "## Apply Nearest Neighbors (KNN) with different values of k."
   ],
   "metadata": {
    "id": "ZfmRLPIg0QDq"
   }
  },
  {
   "cell_type": "code",
   "source": [
    "# Create a list of k values\n",
    "k_values = range(1, 51, 4)\n",
    "\n",
    "# Create an empty dictionary to store the results\n",
    "knn_results = {}\n",
    "\n",
    "# Train KNN models with different k values\n",
    "for k in k_values:\n",
    "    knn_model = KNeighborsClassifier(n_neighbors=k)\n",
    "    knn_model.fit(X_train, y_train)\n",
    "    y_pred = knn_model.predict(X_test)\n",
    "    accuracy = accuracy_score(y_test, y_pred)\n",
    "    knn_results[k] = accuracy\n"
   ],
   "metadata": {
    "id": "mKSOrfmx0R14",
    "executionInfo": {
     "status": "ok",
     "timestamp": 1690771404409,
     "user_tz": 240,
     "elapsed": 129,
     "user": {
      "displayName": "Di Wu",
      "userId": "05255951341257561169"
     }
    },
    "ExecuteTime": {
     "end_time": "2025-02-15T00:17:40.834198Z",
     "start_time": "2025-02-15T00:17:40.814405Z"
    }
   },
   "outputs": [],
   "execution_count": 2
  },
  {
   "cell_type": "markdown",
   "source": [
    "## Apply Decision Trees with different values of max depth."
   ],
   "metadata": {
    "id": "fSe80_Su0Utg"
   }
  },
  {
   "cell_type": "code",
   "source": [
    "# Create a list of max depth values\n",
    "max_depth_values = range(1, 21, 2)\n",
    "\n",
    "# Create an empty dictionary to store the results\n",
    "dt_results = {}\n",
    "\n",
    "# Train Decision Tree models with different max depth values\n",
    "for max_depth in max_depth_values:\n",
    "    dt_model = DecisionTreeClassifier(max_depth=max_depth)\n",
    "    dt_model.fit(X_train, y_train)\n",
    "    y_pred = dt_model.predict(X_test)\n",
    "    accuracy = accuracy_score(y_test, y_pred)\n",
    "    dt_results[max_depth] = accuracy\n"
   ],
   "metadata": {
    "id": "r9KSyYMN0WM5",
    "executionInfo": {
     "status": "ok",
     "timestamp": 1690771413826,
     "user_tz": 240,
     "elapsed": 163,
     "user": {
      "displayName": "Di Wu",
      "userId": "05255951341257561169"
     }
    },
    "ExecuteTime": {
     "end_time": "2025-02-15T00:17:40.911827Z",
     "start_time": "2025-02-15T00:17:40.899570Z"
    }
   },
   "outputs": [],
   "execution_count": 3
  },
  {
   "cell_type": "markdown",
   "source": [
    "##  Apply SVM with different values of C."
   ],
   "metadata": {
    "id": "TEBBY-RU0YT-"
   }
  },
  {
   "cell_type": "code",
   "source": [
    "# Create a list of C values\n",
    "C_values = [0.001, 0.01, 0.1, 1, 10, 100, 200]\n",
    "\n",
    "# Create an empty dictionary to store the results\n",
    "svm_results = {}\n",
    "\n",
    "# Train SVM models with different C values\n",
    "for C in C_values:\n",
    "    svm_model = SVC(C=C)\n",
    "    svm_model.fit(X_train, y_train)\n",
    "    y_pred = svm_model.predict(X_test)\n",
    "    accuracy = accuracy_score(y_test, y_pred)\n",
    "    svm_results[C] = accuracy\n"
   ],
   "metadata": {
    "id": "4Srm5J9P0Zgs",
    "executionInfo": {
     "status": "ok",
     "timestamp": 1690771425393,
     "user_tz": 240,
     "elapsed": 172,
     "user": {
      "displayName": "Di Wu",
      "userId": "05255951341257561169"
     }
    },
    "ExecuteTime": {
     "end_time": "2025-02-15T00:17:40.930783Z",
     "start_time": "2025-02-15T00:17:40.920443Z"
    }
   },
   "outputs": [],
   "execution_count": 4
  },
  {
   "cell_type": "markdown",
   "source": [
    "## Apply Naive Bayes (GaussianNB)."
   ],
   "metadata": {
    "id": "ME0HOPWU0bwe"
   }
  },
  {
   "cell_type": "code",
   "source": [
    "# Train Naive Bayes model\n",
    "nb_model = GaussianNB()\n",
    "nb_model.fit(X_train, y_train)\n",
    "y_pred = nb_model.predict(X_test)\n",
    "nb_accuracy = accuracy_score(y_test, y_pred)\n"
   ],
   "metadata": {
    "id": "nXEcg2Hl0dPJ",
    "executionInfo": {
     "status": "ok",
     "timestamp": 1690771431101,
     "user_tz": 240,
     "elapsed": 122,
     "user": {
      "displayName": "Di Wu",
      "userId": "05255951341257561169"
     }
    },
    "ExecuteTime": {
     "end_time": "2025-02-15T00:17:40.942282Z",
     "start_time": "2025-02-15T00:17:40.938457Z"
    }
   },
   "outputs": [],
   "execution_count": 5
  },
  {
   "cell_type": "markdown",
   "source": [
    "## Apply Logistic Regression with different values of C."
   ],
   "metadata": {
    "id": "7OSwK0m40ezX"
   }
  },
  {
   "cell_type": "code",
   "source": [
    "# Create an empty dictionary to store the results\n",
    "logreg_results = {}\n",
    "\n",
    "# Train Logistic Regression models with different C values\n",
    "for C in C_values:\n",
    "    lr_model = LogisticRegression(C=C, random_state=42, max_iter=10000)\n",
    "    lr_model.fit(X_train, y_train)\n",
    "    y_pred = lr_model.predict(X_test)\n",
    "    accuracy = accuracy_score(y_test, y_pred)\n",
    "    logreg_results[C] = accuracy\n"
   ],
   "metadata": {
    "colab": {
     "base_uri": "https://localhost:8080/"
    },
    "id": "Wq__tyRR0gna",
    "executionInfo": {
     "status": "ok",
     "timestamp": 1690771442830,
     "user_tz": 240,
     "elapsed": 284,
     "user": {
      "displayName": "Di Wu",
      "userId": "05255951341257561169"
     }
    },
    "outputId": "d1b36d9e-109e-4a96-d2e5-16d2042135d3",
    "ExecuteTime": {
     "end_time": "2025-02-15T00:17:42.154413Z",
     "start_time": "2025-02-15T00:17:40.952201Z"
    }
   },
   "outputs": [],
   "execution_count": 6
  },
  {
   "cell_type": "markdown",
   "source": [
    "## Summarize the performance of each method in terms of accuracy."
   ],
   "metadata": {
    "id": "l2xXGYQ40jXA"
   }
  },
  {
   "cell_type": "code",
   "source": [
    "# Print the results of each method\n",
    "print(\"Results of Classification Methods:\")\n",
    "print(\"KNN:\")\n",
    "for k, accuracy in knn_results.items():\n",
    "    print(f\"k = {k}, Accuracy: {accuracy:.2f}\")\n",
    "\n",
    "print(\"\\nDecision Trees:\")\n",
    "for max_depth, accuracy in dt_results.items():\n",
    "    print(f\"Max Depth = {max_depth}, Accuracy: {accuracy:.2f}\")\n",
    "\n",
    "print(\"\\nSVM:\")\n",
    "for C, accuracy in svm_results.items():\n",
    "    print(f\"C = {C}, Accuracy: {accuracy:.2f}\")\n",
    "\n",
    "print(\"\\nNaive Bayes:\")\n",
    "print(f\"Accuracy: {nb_accuracy:.2f}\")\n",
    "\n",
    "print(\"\\nLogistic Regression:\")\n",
    "for C, accuracy in logreg_results.items():\n",
    "    print(f\"C = {C}, Accuracy: {accuracy:.2f}\")\n"
   ],
   "metadata": {
    "colab": {
     "base_uri": "https://localhost:8080/"
    },
    "id": "mhKQK7LQ0kv4",
    "executionInfo": {
     "status": "ok",
     "timestamp": 1690771446631,
     "user_tz": 240,
     "elapsed": 134,
     "user": {
      "displayName": "Di Wu",
      "userId": "05255951341257561169"
     }
    },
    "outputId": "5ec16325-1d82-470e-da49-5c09ee47ba92",
    "ExecuteTime": {
     "end_time": "2025-02-15T00:17:42.166364Z",
     "start_time": "2025-02-15T00:17:42.163477Z"
    }
   },
   "outputs": [
    {
     "name": "stdout",
     "output_type": "stream",
     "text": [
      "Results of Classification Methods:\n",
      "KNN:\n",
      "k = 1, Accuracy: 0.78\n",
      "k = 5, Accuracy: 0.72\n",
      "k = 9, Accuracy: 0.72\n",
      "k = 13, Accuracy: 0.72\n",
      "k = 17, Accuracy: 0.78\n",
      "k = 21, Accuracy: 0.78\n",
      "k = 25, Accuracy: 0.78\n",
      "k = 29, Accuracy: 0.78\n",
      "k = 33, Accuracy: 0.78\n",
      "k = 37, Accuracy: 0.81\n",
      "k = 41, Accuracy: 0.81\n",
      "k = 45, Accuracy: 0.81\n",
      "k = 49, Accuracy: 0.75\n",
      "\n",
      "Decision Trees:\n",
      "Max Depth = 1, Accuracy: 0.67\n",
      "Max Depth = 3, Accuracy: 0.94\n",
      "Max Depth = 5, Accuracy: 0.94\n",
      "Max Depth = 7, Accuracy: 0.94\n",
      "Max Depth = 9, Accuracy: 0.94\n",
      "Max Depth = 11, Accuracy: 0.94\n",
      "Max Depth = 13, Accuracy: 0.94\n",
      "Max Depth = 15, Accuracy: 0.94\n",
      "Max Depth = 17, Accuracy: 0.94\n",
      "Max Depth = 19, Accuracy: 0.94\n",
      "\n",
      "SVM:\n",
      "C = 0.001, Accuracy: 0.39\n",
      "C = 0.01, Accuracy: 0.39\n",
      "C = 0.1, Accuracy: 0.78\n",
      "C = 1, Accuracy: 0.81\n",
      "C = 10, Accuracy: 0.78\n",
      "C = 100, Accuracy: 0.83\n",
      "C = 200, Accuracy: 0.83\n",
      "\n",
      "Naive Bayes:\n",
      "Accuracy: 1.00\n",
      "\n",
      "Logistic Regression:\n",
      "C = 0.001, Accuracy: 0.89\n",
      "C = 0.01, Accuracy: 1.00\n",
      "C = 0.1, Accuracy: 1.00\n",
      "C = 1, Accuracy: 1.00\n",
      "C = 10, Accuracy: 1.00\n",
      "C = 100, Accuracy: 1.00\n",
      "C = 200, Accuracy: 1.00\n"
     ]
    }
   ],
   "execution_count": 7
  },
  {
   "cell_type": "markdown",
   "source": [
    "## Visualize the accuracy for each method."
   ],
   "metadata": {
    "id": "9HEOV2ta0rxA"
   }
  },
  {
   "cell_type": "code",
   "source": [
    "# Visualize the accuracy vs hyperparameter for each method\n",
    "plt.figure(figsize=(12, 6))\n",
    "plt.subplot(2, 2, 1)\n",
    "plt.plot(list(knn_results.keys()), list(knn_results.values()), marker='o')\n",
    "plt.xlabel('k Value')\n",
    "plt.ylabel('Accuracy')\n",
    "plt.title('Accuracy vs k for KNN')\n",
    "\n",
    "plt.subplot(2, 2, 2)\n",
    "plt.plot(list(dt_results.keys()), list(dt_results.values()), marker='o')\n",
    "plt.xlabel('Max Depth')\n",
    "plt.ylabel('Accuracy')\n",
    "plt.title('Accuracy vs Max Depth for Decision Trees')\n",
    "\n",
    "plt.subplot(2, 2, 3)\n",
    "plt.plot(C_values, list(svm_results.values()), marker='o')\n",
    "plt.xscale('log')\n",
    "plt.xlabel('C Value')\n",
    "plt.ylabel('Accuracy')\n",
    "plt.title('Accuracy vs C for SVM')\n",
    "\n",
    "plt.subplot(2, 2, 4)\n",
    "plt.plot(C_values, list(logreg_results.values()), marker='o')\n",
    "plt.xscale('log')\n",
    "plt.xlabel('C Value')\n",
    "plt.ylabel('Accuracy')\n",
    "plt.title('Accuracy vs C for Logistic Regression')\n",
    "\n",
    "plt.tight_layout()\n",
    "plt.show()"
   ],
   "metadata": {
    "colab": {
     "base_uri": "https://localhost:8080/",
     "height": 607
    },
    "id": "m72bPAkp0tJt",
    "executionInfo": {
     "status": "ok",
     "timestamp": 1690771467765,
     "user_tz": 240,
     "elapsed": 1450,
     "user": {
      "displayName": "Di Wu",
      "userId": "05255951341257561169"
     }
    },
    "outputId": "cf372977-7d29-4dbe-de13-9dc1c74227f2",
    "ExecuteTime": {
     "end_time": "2025-02-15T00:17:42.479007Z",
     "start_time": "2025-02-15T00:17:42.175652Z"
    }
   },
   "outputs": [
    {
     "data": {
      "text/plain": [
       "<Figure size 1200x600 with 4 Axes>"
      ],
      "image/png": "[encoded data removed]"
     },
     "metadata": {},
     "output_type": "display_data"
    }
   ],
   "execution_count": 8
  },
  {
   "cell_type": "markdown",
   "source": [
    "## Conclusion\n",
    "This tutorial covers various classification methods (KNN, Decision Trees, SVM, Naive Bayes, and Logistic Regression) using the Wine Dataset. It demonstrates how to apply each method with different hyperparameters, summarizes their performance in terms of accuracy, and visualizes the accuracy for comparison.\n",
    "\n",
    "Feel free to experiment with other classification algorithms, hyperparameters, or additional datasets to further explore different classification techniques."
   ],
   "metadata": {
    "id": "Tf63KOGZ0zw6"
   }
  }
 ]
}
