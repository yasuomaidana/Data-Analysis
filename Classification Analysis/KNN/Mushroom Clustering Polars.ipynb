{
 "cells": [
  {
   "cell_type": "code",
   "id": "initial_id",
   "metadata": {
    "collapsed": true,
    "ExecuteTime": {
     "end_time": "2024-12-24T00:27:42.937211Z",
     "start_time": "2024-12-24T00:27:42.933729Z"
    }
   },
   "source": [
    "import polars as pl\n",
    "from kmodes.kmodes import KModes\n",
    "from polars import DataFrame\n",
    "from sklearn import preprocessing\n",
    "import altair as alt"
   ],
   "outputs": [],
   "execution_count": 76
  },
  {
   "metadata": {},
   "cell_type": "markdown",
   "source": "## Load the dataset",
   "id": "e1dc3240df690ea0"
  },
  {
   "metadata": {
    "ExecuteTime": {
     "end_time": "2024-12-24T00:27:42.962391Z",
     "start_time": "2024-12-24T00:27:42.956189Z"
    }
   },
   "cell_type": "code",
   "source": [
    "df = pl.read_csv('Data-Mushroom/mushrooms.csv', skip_rows=2)\n",
    "df.head()"
   ],
   "id": "92ad58e2f5e374bc",
   "outputs": [
    {
     "data": {
      "text/plain": [
       "shape: (5, 23)\n",
       "┌───────┬───────────┬─────────────┬───────────┬───┬───────────┬─────────────┬────────────┬─────────┐\n",
       "│ class ┆ cap-shape ┆ cap-surface ┆ cap-color ┆ … ┆ ring-type ┆ spore-print ┆ population ┆ habitat │\n",
       "│ ---   ┆ ---       ┆ ---         ┆ ---       ┆   ┆ ---       ┆ -color      ┆ ---        ┆ ---     │\n",
       "│ str   ┆ str       ┆ str         ┆ str       ┆   ┆ str       ┆ ---         ┆ str        ┆ str     │\n",
       "│       ┆           ┆             ┆           ┆   ┆           ┆ str         ┆            ┆         │\n",
       "╞═══════╪═══════════╪═════════════╪═══════════╪═══╪═══════════╪═════════════╪════════════╪═════════╡\n",
       "│ p     ┆ x         ┆ s           ┆ n         ┆ … ┆ p         ┆ k           ┆ s          ┆ u       │\n",
       "│ e     ┆ x         ┆ s           ┆ y         ┆ … ┆ p         ┆ n           ┆ n          ┆ g       │\n",
       "│ e     ┆ b         ┆ s           ┆ w         ┆ … ┆ p         ┆ n           ┆ n          ┆ m       │\n",
       "│ p     ┆ x         ┆ y           ┆ w         ┆ … ┆ p         ┆ k           ┆ s          ┆ u       │\n",
       "│ e     ┆ x         ┆ s           ┆ g         ┆ … ┆ e         ┆ n           ┆ a          ┆ g       │\n",
       "└───────┴───────────┴─────────────┴───────────┴───┴───────────┴─────────────┴────────────┴─────────┘"
      ],
      "text/html": [
       "<div><style>\n",
       ".dataframe > thead > tr,\n",
       ".dataframe > tbody > tr {\n",
       "  text-align: right;\n",
       "  white-space: pre-wrap;\n",
       "}\n",
       "</style>\n",
       "<small>shape: (5, 23)</small><table border=\"1\" class=\"dataframe\"><thead><tr><th>class</th><th>cap-shape</th><th>cap-surface</th><th>cap-color</th><th>bruises</th><th>odor</th><th>gill-attachment</th><th>gill-spacing</th><th>gill-size</th><th>gill-color</th><th>stalk-shape</th><th>stalk-root</th><th>stalk-surface-above-ring</th><th>stalk-surface-below-ring</th><th>stalk-color-above-ring</th><th>stalk-color-below-ring</th><th>veil-type</th><th>veil-color</th><th>ring-number</th><th>ring-type</th><th>spore-print-color</th><th>population</th><th>habitat</th></tr><tr><td>str</td><td>str</td><td>str</td><td>str</td><td>str</td><td>str</td><td>str</td><td>str</td><td>str</td><td>str</td><td>str</td><td>str</td><td>str</td><td>str</td><td>str</td><td>str</td><td>str</td><td>str</td><td>str</td><td>str</td><td>str</td><td>str</td><td>str</td></tr></thead><tbody><tr><td>&quot;p&quot;</td><td>&quot;x&quot;</td><td>&quot;s&quot;</td><td>&quot;n&quot;</td><td>&quot;t&quot;</td><td>&quot;p&quot;</td><td>&quot;f&quot;</td><td>&quot;c&quot;</td><td>&quot;n&quot;</td><td>&quot;k&quot;</td><td>&quot;e&quot;</td><td>&quot;e&quot;</td><td>&quot;s&quot;</td><td>&quot;s&quot;</td><td>&quot;w&quot;</td><td>&quot;w&quot;</td><td>&quot;p&quot;</td><td>&quot;w&quot;</td><td>&quot;o&quot;</td><td>&quot;p&quot;</td><td>&quot;k&quot;</td><td>&quot;s&quot;</td><td>&quot;u&quot;</td></tr><tr><td>&quot;e&quot;</td><td>&quot;x&quot;</td><td>&quot;s&quot;</td><td>&quot;y&quot;</td><td>&quot;t&quot;</td><td>&quot;a&quot;</td><td>&quot;f&quot;</td><td>&quot;c&quot;</td><td>&quot;b&quot;</td><td>&quot;k&quot;</td><td>&quot;e&quot;</td><td>&quot;c&quot;</td><td>&quot;s&quot;</td><td>&quot;s&quot;</td><td>&quot;w&quot;</td><td>&quot;w&quot;</td><td>&quot;p&quot;</td><td>&quot;w&quot;</td><td>&quot;o&quot;</td><td>&quot;p&quot;</td><td>&quot;n&quot;</td><td>&quot;n&quot;</td><td>&quot;g&quot;</td></tr><tr><td>&quot;e&quot;</td><td>&quot;b&quot;</td><td>&quot;s&quot;</td><td>&quot;w&quot;</td><td>&quot;t&quot;</td><td>&quot;l&quot;</td><td>&quot;f&quot;</td><td>&quot;c&quot;</td><td>&quot;b&quot;</td><td>&quot;n&quot;</td><td>&quot;e&quot;</td><td>&quot;c&quot;</td><td>&quot;s&quot;</td><td>&quot;s&quot;</td><td>&quot;w&quot;</td><td>&quot;w&quot;</td><td>&quot;p&quot;</td><td>&quot;w&quot;</td><td>&quot;o&quot;</td><td>&quot;p&quot;</td><td>&quot;n&quot;</td><td>&quot;n&quot;</td><td>&quot;m&quot;</td></tr><tr><td>&quot;p&quot;</td><td>&quot;x&quot;</td><td>&quot;y&quot;</td><td>&quot;w&quot;</td><td>&quot;t&quot;</td><td>&quot;p&quot;</td><td>&quot;f&quot;</td><td>&quot;c&quot;</td><td>&quot;n&quot;</td><td>&quot;n&quot;</td><td>&quot;e&quot;</td><td>&quot;e&quot;</td><td>&quot;s&quot;</td><td>&quot;s&quot;</td><td>&quot;w&quot;</td><td>&quot;w&quot;</td><td>&quot;p&quot;</td><td>&quot;w&quot;</td><td>&quot;o&quot;</td><td>&quot;p&quot;</td><td>&quot;k&quot;</td><td>&quot;s&quot;</td><td>&quot;u&quot;</td></tr><tr><td>&quot;e&quot;</td><td>&quot;x&quot;</td><td>&quot;s&quot;</td><td>&quot;g&quot;</td><td>&quot;f&quot;</td><td>&quot;n&quot;</td><td>&quot;f&quot;</td><td>&quot;w&quot;</td><td>&quot;b&quot;</td><td>&quot;k&quot;</td><td>&quot;t&quot;</td><td>&quot;e&quot;</td><td>&quot;s&quot;</td><td>&quot;s&quot;</td><td>&quot;w&quot;</td><td>&quot;w&quot;</td><td>&quot;p&quot;</td><td>&quot;w&quot;</td><td>&quot;o&quot;</td><td>&quot;e&quot;</td><td>&quot;n&quot;</td><td>&quot;a&quot;</td><td>&quot;g&quot;</td></tr></tbody></table></div>"
      ]
     },
     "execution_count": 77,
     "metadata": {},
     "output_type": "execute_result"
    }
   ],
   "execution_count": 77
  },
  {
   "metadata": {
    "ExecuteTime": {
     "end_time": "2024-12-24T00:27:42.991926Z",
     "start_time": "2024-12-24T00:27:42.987161Z"
    }
   },
   "cell_type": "code",
   "source": "df.describe()",
   "id": "70d00a16b9e4f2ae",
   "outputs": [
    {
     "data": {
      "text/plain": [
       "shape: (9, 24)\n",
       "┌────────────┬───────┬───────────┬─────────────┬───┬───────────┬────────────┬────────────┬─────────┐\n",
       "│ statistic  ┆ class ┆ cap-shape ┆ cap-surface ┆ … ┆ ring-type ┆ spore-prin ┆ population ┆ habitat │\n",
       "│ ---        ┆ ---   ┆ ---       ┆ ---         ┆   ┆ ---       ┆ t-color    ┆ ---        ┆ ---     │\n",
       "│ str        ┆ str   ┆ str       ┆ str         ┆   ┆ str       ┆ ---        ┆ str        ┆ str     │\n",
       "│            ┆       ┆           ┆             ┆   ┆           ┆ str        ┆            ┆         │\n",
       "╞════════════╪═══════╪═══════════╪═════════════╪═══╪═══════════╪════════════╪════════════╪═════════╡\n",
       "│ count      ┆ 8124  ┆ 8124      ┆ 8124        ┆ … ┆ 8124      ┆ 8124       ┆ 8124       ┆ 8124    │\n",
       "│ null_count ┆ 0     ┆ 0         ┆ 0           ┆ … ┆ 0         ┆ 0          ┆ 0          ┆ 0       │\n",
       "│ mean       ┆ null  ┆ null      ┆ null        ┆ … ┆ null      ┆ null       ┆ null       ┆ null    │\n",
       "│ std        ┆ null  ┆ null      ┆ null        ┆ … ┆ null      ┆ null       ┆ null       ┆ null    │\n",
       "│ min        ┆ e     ┆ b         ┆ f           ┆ … ┆ e         ┆ b          ┆ a          ┆ d       │\n",
       "│ 25%        ┆ null  ┆ null      ┆ null        ┆ … ┆ null      ┆ null       ┆ null       ┆ null    │\n",
       "│ 50%        ┆ null  ┆ null      ┆ null        ┆ … ┆ null      ┆ null       ┆ null       ┆ null    │\n",
       "│ 75%        ┆ null  ┆ null      ┆ null        ┆ … ┆ null      ┆ null       ┆ null       ┆ null    │\n",
       "│ max        ┆ p     ┆ x         ┆ y           ┆ … ┆ p         ┆ y          ┆ y          ┆ w       │\n",
       "└────────────┴───────┴───────────┴─────────────┴───┴───────────┴────────────┴────────────┴─────────┘"
      ],
      "text/html": [
       "<div><style>\n",
       ".dataframe > thead > tr,\n",
       ".dataframe > tbody > tr {\n",
       "  text-align: right;\n",
       "  white-space: pre-wrap;\n",
       "}\n",
       "</style>\n",
       "<small>shape: (9, 24)</small><table border=\"1\" class=\"dataframe\"><thead><tr><th>statistic</th><th>class</th><th>cap-shape</th><th>cap-surface</th><th>cap-color</th><th>bruises</th><th>odor</th><th>gill-attachment</th><th>gill-spacing</th><th>gill-size</th><th>gill-color</th><th>stalk-shape</th><th>stalk-root</th><th>stalk-surface-above-ring</th><th>stalk-surface-below-ring</th><th>stalk-color-above-ring</th><th>stalk-color-below-ring</th><th>veil-type</th><th>veil-color</th><th>ring-number</th><th>ring-type</th><th>spore-print-color</th><th>population</th><th>habitat</th></tr><tr><td>str</td><td>str</td><td>str</td><td>str</td><td>str</td><td>str</td><td>str</td><td>str</td><td>str</td><td>str</td><td>str</td><td>str</td><td>str</td><td>str</td><td>str</td><td>str</td><td>str</td><td>str</td><td>str</td><td>str</td><td>str</td><td>str</td><td>str</td><td>str</td></tr></thead><tbody><tr><td>&quot;count&quot;</td><td>&quot;8124&quot;</td><td>&quot;8124&quot;</td><td>&quot;8124&quot;</td><td>&quot;8124&quot;</td><td>&quot;8124&quot;</td><td>&quot;8124&quot;</td><td>&quot;8124&quot;</td><td>&quot;8124&quot;</td><td>&quot;8124&quot;</td><td>&quot;8124&quot;</td><td>&quot;8124&quot;</td><td>&quot;8124&quot;</td><td>&quot;8124&quot;</td><td>&quot;8124&quot;</td><td>&quot;8124&quot;</td><td>&quot;8124&quot;</td><td>&quot;8124&quot;</td><td>&quot;8124&quot;</td><td>&quot;8124&quot;</td><td>&quot;8124&quot;</td><td>&quot;8124&quot;</td><td>&quot;8124&quot;</td><td>&quot;8124&quot;</td></tr><tr><td>&quot;null_count&quot;</td><td>&quot;0&quot;</td><td>&quot;0&quot;</td><td>&quot;0&quot;</td><td>&quot;0&quot;</td><td>&quot;0&quot;</td><td>&quot;0&quot;</td><td>&quot;0&quot;</td><td>&quot;0&quot;</td><td>&quot;0&quot;</td><td>&quot;0&quot;</td><td>&quot;0&quot;</td><td>&quot;0&quot;</td><td>&quot;0&quot;</td><td>&quot;0&quot;</td><td>&quot;0&quot;</td><td>&quot;0&quot;</td><td>&quot;0&quot;</td><td>&quot;0&quot;</td><td>&quot;0&quot;</td><td>&quot;0&quot;</td><td>&quot;0&quot;</td><td>&quot;0&quot;</td><td>&quot;0&quot;</td></tr><tr><td>&quot;mean&quot;</td><td>null</td><td>null</td><td>null</td><td>null</td><td>null</td><td>null</td><td>null</td><td>null</td><td>null</td><td>null</td><td>null</td><td>null</td><td>null</td><td>null</td><td>null</td><td>null</td><td>null</td><td>null</td><td>null</td><td>null</td><td>null</td><td>null</td><td>null</td></tr><tr><td>&quot;std&quot;</td><td>null</td><td>null</td><td>null</td><td>null</td><td>null</td><td>null</td><td>null</td><td>null</td><td>null</td><td>null</td><td>null</td><td>null</td><td>null</td><td>null</td><td>null</td><td>null</td><td>null</td><td>null</td><td>null</td><td>null</td><td>null</td><td>null</td><td>null</td></tr><tr><td>&quot;min&quot;</td><td>&quot;e&quot;</td><td>&quot;b&quot;</td><td>&quot;f&quot;</td><td>&quot;b&quot;</td><td>&quot;f&quot;</td><td>&quot;a&quot;</td><td>&quot;a&quot;</td><td>&quot;c&quot;</td><td>&quot;b&quot;</td><td>&quot;b&quot;</td><td>&quot;e&quot;</td><td>&quot;?&quot;</td><td>&quot;f&quot;</td><td>&quot;f&quot;</td><td>&quot;b&quot;</td><td>&quot;b&quot;</td><td>&quot;p&quot;</td><td>&quot;n&quot;</td><td>&quot;n&quot;</td><td>&quot;e&quot;</td><td>&quot;b&quot;</td><td>&quot;a&quot;</td><td>&quot;d&quot;</td></tr><tr><td>&quot;25%&quot;</td><td>null</td><td>null</td><td>null</td><td>null</td><td>null</td><td>null</td><td>null</td><td>null</td><td>null</td><td>null</td><td>null</td><td>null</td><td>null</td><td>null</td><td>null</td><td>null</td><td>null</td><td>null</td><td>null</td><td>null</td><td>null</td><td>null</td><td>null</td></tr><tr><td>&quot;50%&quot;</td><td>null</td><td>null</td><td>null</td><td>null</td><td>null</td><td>null</td><td>null</td><td>null</td><td>null</td><td>null</td><td>null</td><td>null</td><td>null</td><td>null</td><td>null</td><td>null</td><td>null</td><td>null</td><td>null</td><td>null</td><td>null</td><td>null</td><td>null</td></tr><tr><td>&quot;75%&quot;</td><td>null</td><td>null</td><td>null</td><td>null</td><td>null</td><td>null</td><td>null</td><td>null</td><td>null</td><td>null</td><td>null</td><td>null</td><td>null</td><td>null</td><td>null</td><td>null</td><td>null</td><td>null</td><td>null</td><td>null</td><td>null</td><td>null</td><td>null</td></tr><tr><td>&quot;max&quot;</td><td>&quot;p&quot;</td><td>&quot;x&quot;</td><td>&quot;y&quot;</td><td>&quot;y&quot;</td><td>&quot;t&quot;</td><td>&quot;y&quot;</td><td>&quot;f&quot;</td><td>&quot;w&quot;</td><td>&quot;n&quot;</td><td>&quot;y&quot;</td><td>&quot;t&quot;</td><td>&quot;r&quot;</td><td>&quot;y&quot;</td><td>&quot;y&quot;</td><td>&quot;y&quot;</td><td>&quot;y&quot;</td><td>&quot;p&quot;</td><td>&quot;y&quot;</td><td>&quot;t&quot;</td><td>&quot;p&quot;</td><td>&quot;y&quot;</td><td>&quot;y&quot;</td><td>&quot;w&quot;</td></tr></tbody></table></div>"
      ]
     },
     "execution_count": 78,
     "metadata": {},
     "output_type": "execute_result"
    }
   ],
   "execution_count": 78
  },
  {
   "metadata": {
    "ExecuteTime": {
     "end_time": "2024-12-24T00:27:43.027465Z",
     "start_time": "2024-12-24T00:27:43.025754Z"
    }
   },
   "cell_type": "code",
   "source": [
    "y = df.select('class')\n",
    "x = df.drop('class')"
   ],
   "id": "3aabe01c6599c10",
   "outputs": [],
   "execution_count": 79
  },
  {
   "metadata": {
    "ExecuteTime": {
     "end_time": "2024-12-24T00:27:43.076997Z",
     "start_time": "2024-12-24T00:27:43.074412Z"
    }
   },
   "cell_type": "code",
   "source": "x.schema",
   "id": "8f7778f8c17369fc",
   "outputs": [
    {
     "data": {
      "text/plain": [
       "Schema([('cap-shape', String),\n",
       "        ('cap-surface', String),\n",
       "        ('cap-color', String),\n",
       "        ('bruises', String),\n",
       "        ('odor', String),\n",
       "        ('gill-attachment', String),\n",
       "        ('gill-spacing', String),\n",
       "        ('gill-size', String),\n",
       "        ('gill-color', String),\n",
       "        ('stalk-shape', String),\n",
       "        ('stalk-root', String),\n",
       "        ('stalk-surface-above-ring', String),\n",
       "        ('stalk-surface-below-ring', String),\n",
       "        ('stalk-color-above-ring', String),\n",
       "        ('stalk-color-below-ring', String),\n",
       "        ('veil-type', String),\n",
       "        ('veil-color', String),\n",
       "        ('ring-number', String),\n",
       "        ('ring-type', String),\n",
       "        ('spore-print-color', String),\n",
       "        ('population', String),\n",
       "        ('habitat', String)])"
      ]
     },
     "execution_count": 80,
     "metadata": {},
     "output_type": "execute_result"
    }
   ],
   "execution_count": 80
  },
  {
   "metadata": {
    "ExecuteTime": {
     "end_time": "2024-12-24T00:27:43.112214Z",
     "start_time": "2024-12-24T00:27:43.110041Z"
    }
   },
   "cell_type": "code",
   "source": "df.null_count()",
   "id": "e31f2642b37d2479",
   "outputs": [
    {
     "data": {
      "text/plain": [
       "shape: (1, 23)\n",
       "┌───────┬───────────┬─────────────┬───────────┬───┬───────────┬─────────────┬────────────┬─────────┐\n",
       "│ class ┆ cap-shape ┆ cap-surface ┆ cap-color ┆ … ┆ ring-type ┆ spore-print ┆ population ┆ habitat │\n",
       "│ ---   ┆ ---       ┆ ---         ┆ ---       ┆   ┆ ---       ┆ -color      ┆ ---        ┆ ---     │\n",
       "│ u32   ┆ u32       ┆ u32         ┆ u32       ┆   ┆ u32       ┆ ---         ┆ u32        ┆ u32     │\n",
       "│       ┆           ┆             ┆           ┆   ┆           ┆ u32         ┆            ┆         │\n",
       "╞═══════╪═══════════╪═════════════╪═══════════╪═══╪═══════════╪═════════════╪════════════╪═════════╡\n",
       "│ 0     ┆ 0         ┆ 0           ┆ 0         ┆ … ┆ 0         ┆ 0           ┆ 0          ┆ 0       │\n",
       "└───────┴───────────┴─────────────┴───────────┴───┴───────────┴─────────────┴────────────┴─────────┘"
      ],
      "text/html": [
       "<div><style>\n",
       ".dataframe > thead > tr,\n",
       ".dataframe > tbody > tr {\n",
       "  text-align: right;\n",
       "  white-space: pre-wrap;\n",
       "}\n",
       "</style>\n",
       "<small>shape: (1, 23)</small><table border=\"1\" class=\"dataframe\"><thead><tr><th>class</th><th>cap-shape</th><th>cap-surface</th><th>cap-color</th><th>bruises</th><th>odor</th><th>gill-attachment</th><th>gill-spacing</th><th>gill-size</th><th>gill-color</th><th>stalk-shape</th><th>stalk-root</th><th>stalk-surface-above-ring</th><th>stalk-surface-below-ring</th><th>stalk-color-above-ring</th><th>stalk-color-below-ring</th><th>veil-type</th><th>veil-color</th><th>ring-number</th><th>ring-type</th><th>spore-print-color</th><th>population</th><th>habitat</th></tr><tr><td>u32</td><td>u32</td><td>u32</td><td>u32</td><td>u32</td><td>u32</td><td>u32</td><td>u32</td><td>u32</td><td>u32</td><td>u32</td><td>u32</td><td>u32</td><td>u32</td><td>u32</td><td>u32</td><td>u32</td><td>u32</td><td>u32</td><td>u32</td><td>u32</td><td>u32</td><td>u32</td></tr></thead><tbody><tr><td>0</td><td>0</td><td>0</td><td>0</td><td>0</td><td>0</td><td>0</td><td>0</td><td>0</td><td>0</td><td>0</td><td>0</td><td>0</td><td>0</td><td>0</td><td>0</td><td>0</td><td>0</td><td>0</td><td>0</td><td>0</td><td>0</td><td>0</td></tr></tbody></table></div>"
      ]
     },
     "execution_count": 81,
     "metadata": {},
     "output_type": "execute_result"
    }
   ],
   "execution_count": 81
  },
  {
   "metadata": {},
   "cell_type": "markdown",
   "source": "## Preprocessing data\n",
   "id": "c861be2649126f7b"
  },
  {
   "metadata": {
    "ExecuteTime": {
     "end_time": "2024-12-24T00:27:43.179638Z",
     "start_time": "2024-12-24T00:27:43.159268Z"
    }
   },
   "cell_type": "code",
   "source": [
    "encoder = preprocessing.LabelEncoder()\n",
    "x = x.select(\n",
    "    [\n",
    "        pl.all().map_batches(encoder.fit_transform)\n",
    "    ]\n",
    ")"
   ],
   "id": "8aaeaded9315f16e",
   "outputs": [],
   "execution_count": 82
  },
  {
   "metadata": {
    "ExecuteTime": {
     "end_time": "2024-12-24T00:27:43.207744Z",
     "start_time": "2024-12-24T00:27:43.203926Z"
    }
   },
   "cell_type": "code",
   "source": "x.head()",
   "id": "7bb88bfa15402728",
   "outputs": [
    {
     "data": {
      "text/plain": [
       "shape: (5, 22)\n",
       "┌───────────┬────────────┬───────────┬─────────┬───┬───────────┬────────────┬────────────┬─────────┐\n",
       "│ cap-shape ┆ cap-surfac ┆ cap-color ┆ bruises ┆ … ┆ ring-type ┆ spore-prin ┆ population ┆ habitat │\n",
       "│ ---       ┆ e          ┆ ---       ┆ ---     ┆   ┆ ---       ┆ t-color    ┆ ---        ┆ ---     │\n",
       "│ i64       ┆ ---        ┆ i64       ┆ i64     ┆   ┆ i64       ┆ ---        ┆ i64        ┆ i64     │\n",
       "│           ┆ i64        ┆           ┆         ┆   ┆           ┆ i64        ┆            ┆         │\n",
       "╞═══════════╪════════════╪═══════════╪═════════╪═══╪═══════════╪════════════╪════════════╪═════════╡\n",
       "│ 5         ┆ 2          ┆ 4         ┆ 1       ┆ … ┆ 4         ┆ 2          ┆ 3          ┆ 5       │\n",
       "│ 5         ┆ 2          ┆ 9         ┆ 1       ┆ … ┆ 4         ┆ 3          ┆ 2          ┆ 1       │\n",
       "│ 0         ┆ 2          ┆ 8         ┆ 1       ┆ … ┆ 4         ┆ 3          ┆ 2          ┆ 3       │\n",
       "│ 5         ┆ 3          ┆ 8         ┆ 1       ┆ … ┆ 4         ┆ 2          ┆ 3          ┆ 5       │\n",
       "│ 5         ┆ 2          ┆ 3         ┆ 0       ┆ … ┆ 0         ┆ 3          ┆ 0          ┆ 1       │\n",
       "└───────────┴────────────┴───────────┴─────────┴───┴───────────┴────────────┴────────────┴─────────┘"
      ],
      "text/html": [
       "<div><style>\n",
       ".dataframe > thead > tr,\n",
       ".dataframe > tbody > tr {\n",
       "  text-align: right;\n",
       "  white-space: pre-wrap;\n",
       "}\n",
       "</style>\n",
       "<small>shape: (5, 22)</small><table border=\"1\" class=\"dataframe\"><thead><tr><th>cap-shape</th><th>cap-surface</th><th>cap-color</th><th>bruises</th><th>odor</th><th>gill-attachment</th><th>gill-spacing</th><th>gill-size</th><th>gill-color</th><th>stalk-shape</th><th>stalk-root</th><th>stalk-surface-above-ring</th><th>stalk-surface-below-ring</th><th>stalk-color-above-ring</th><th>stalk-color-below-ring</th><th>veil-type</th><th>veil-color</th><th>ring-number</th><th>ring-type</th><th>spore-print-color</th><th>population</th><th>habitat</th></tr><tr><td>i64</td><td>i64</td><td>i64</td><td>i64</td><td>i64</td><td>i64</td><td>i64</td><td>i64</td><td>i64</td><td>i64</td><td>i64</td><td>i64</td><td>i64</td><td>i64</td><td>i64</td><td>i64</td><td>i64</td><td>i64</td><td>i64</td><td>i64</td><td>i64</td><td>i64</td></tr></thead><tbody><tr><td>5</td><td>2</td><td>4</td><td>1</td><td>6</td><td>1</td><td>0</td><td>1</td><td>4</td><td>0</td><td>3</td><td>2</td><td>2</td><td>7</td><td>7</td><td>0</td><td>2</td><td>1</td><td>4</td><td>2</td><td>3</td><td>5</td></tr><tr><td>5</td><td>2</td><td>9</td><td>1</td><td>0</td><td>1</td><td>0</td><td>0</td><td>4</td><td>0</td><td>2</td><td>2</td><td>2</td><td>7</td><td>7</td><td>0</td><td>2</td><td>1</td><td>4</td><td>3</td><td>2</td><td>1</td></tr><tr><td>0</td><td>2</td><td>8</td><td>1</td><td>3</td><td>1</td><td>0</td><td>0</td><td>5</td><td>0</td><td>2</td><td>2</td><td>2</td><td>7</td><td>7</td><td>0</td><td>2</td><td>1</td><td>4</td><td>3</td><td>2</td><td>3</td></tr><tr><td>5</td><td>3</td><td>8</td><td>1</td><td>6</td><td>1</td><td>0</td><td>1</td><td>5</td><td>0</td><td>3</td><td>2</td><td>2</td><td>7</td><td>7</td><td>0</td><td>2</td><td>1</td><td>4</td><td>2</td><td>3</td><td>5</td></tr><tr><td>5</td><td>2</td><td>3</td><td>0</td><td>5</td><td>1</td><td>1</td><td>0</td><td>4</td><td>1</td><td>3</td><td>2</td><td>2</td><td>7</td><td>7</td><td>0</td><td>2</td><td>1</td><td>0</td><td>3</td><td>0</td><td>1</td></tr></tbody></table></div>"
      ]
     },
     "execution_count": 83,
     "metadata": {},
     "output_type": "execute_result"
    }
   ],
   "execution_count": 83
  },
  {
   "metadata": {},
   "cell_type": "markdown",
   "source": "## Clustering using K-Modes\n",
   "id": "f3ccbd74f792839b"
  },
  {
   "metadata": {
    "ExecuteTime": {
     "end_time": "2024-12-24T00:27:43.239681Z",
     "start_time": "2024-12-24T00:27:43.237997Z"
    }
   },
   "cell_type": "code",
   "source": "km = KModes(n_clusters=2, init='Huang', n_init=5, verbose=1)  # Huang, Cao, random",
   "id": "da59234df64e26aa",
   "outputs": [],
   "execution_count": 84
  },
  {
   "metadata": {
    "ExecuteTime": {
     "end_time": "2024-12-24T00:27:44.797525Z",
     "start_time": "2024-12-24T00:27:43.287507Z"
    }
   },
   "cell_type": "code",
   "source": "clusters = km.fit_predict(x)",
   "id": "c9770a09e797260",
   "outputs": [
    {
     "name": "stdout",
     "output_type": "stream",
     "text": [
      "Init: initializing centroids\n",
      "Init: initializing clusters\n",
      "Starting iterations...\n",
      "Run 1, iteration: 1/100, moves: 1727, cost: 63002.0\n",
      "Run 1, iteration: 2/100, moves: 37, cost: 63002.0\n",
      "Init: initializing centroids\n",
      "Init: initializing clusters\n",
      "Starting iterations...\n",
      "Run 2, iteration: 1/100, moves: 606, cost: 62730.0\n",
      "Run 2, iteration: 2/100, moves: 168, cost: 62730.0\n",
      "Init: initializing centroids\n",
      "Init: initializing clusters\n",
      "Starting iterations...\n",
      "Run 3, iteration: 1/100, moves: 759, cost: 63138.0\n",
      "Run 3, iteration: 2/100, moves: 47, cost: 63138.0\n",
      "Init: initializing centroids\n",
      "Init: initializing clusters\n",
      "Starting iterations...\n",
      "Run 4, iteration: 1/100, moves: 2135, cost: 62534.0\n",
      "Run 4, iteration: 2/100, moves: 249, cost: 62534.0\n",
      "Init: initializing centroids\n",
      "Init: initializing clusters\n",
      "Starting iterations...\n",
      "Run 5, iteration: 1/100, moves: 419, cost: 63615.0\n",
      "Best run was number 4\n"
     ]
    }
   ],
   "execution_count": 85
  },
  {
   "metadata": {
    "ExecuteTime": {
     "end_time": "2024-12-24T00:27:44.826995Z",
     "start_time": "2024-12-24T00:27:44.824894Z"
    }
   },
   "cell_type": "code",
   "source": [
    "yp = DataFrame({\n",
    "    'predicted-label': clusters\n",
    "})\n",
    "yp.head()"
   ],
   "id": "8242b47f02ecae19",
   "outputs": [
    {
     "data": {
      "text/plain": [
       "shape: (5, 1)\n",
       "┌─────────────────┐\n",
       "│ predicted-label │\n",
       "│ ---             │\n",
       "│ u16             │\n",
       "╞═════════════════╡\n",
       "│ 0               │\n",
       "│ 0               │\n",
       "│ 0               │\n",
       "│ 0               │\n",
       "│ 0               │\n",
       "└─────────────────┘"
      ],
      "text/html": [
       "<div><style>\n",
       ".dataframe > thead > tr,\n",
       ".dataframe > tbody > tr {\n",
       "  text-align: right;\n",
       "  white-space: pre-wrap;\n",
       "}\n",
       "</style>\n",
       "<small>shape: (5, 1)</small><table border=\"1\" class=\"dataframe\"><thead><tr><th>predicted-label</th></tr><tr><td>u16</td></tr></thead><tbody><tr><td>0</td></tr><tr><td>0</td></tr><tr><td>0</td></tr><tr><td>0</td></tr><tr><td>0</td></tr></tbody></table></div>"
      ]
     },
     "execution_count": 86,
     "metadata": {},
     "output_type": "execute_result"
    }
   ],
   "execution_count": 86
  },
  {
   "metadata": {
    "ExecuteTime": {
     "end_time": "2024-12-24T00:35:33.824306Z",
     "start_time": "2024-12-24T00:35:33.813873Z"
    }
   },
   "cell_type": "code",
   "source": [
    "counting = yp.select(pl.col('predicted-label').value_counts()).unnest('predicted-label')\n",
    "\n",
    "pie = (alt.Chart(counting).mark_arc()\n",
    ".encode(\n",
    "    theta=alt.Theta('count', stack='normalize', type='quantitative'),\n",
    "    color=alt.Color('predicted-label', type='nominal'),\n",
    "    tooltip=['predicted-label', 'count:N'],\n",
    "))\n",
    "\n",
    "pie"
   ],
   "id": "7144bf50b9e270bf",
   "outputs": [
    {
     "data": {
      "text/html": [
       "\n",
       "<style>\n",
       "  #altair-viz-05c59374903447198ad019db1e571deb.vega-embed {\n",
       "    width: 100%;\n",
       "    display: flex;\n",
       "  }\n",
       "\n",
       "  #altair-viz-05c59374903447198ad019db1e571deb.vega-embed details,\n",
       "  #altair-viz-05c59374903447198ad019db1e571deb.vega-embed details summary {\n",
       "    position: relative;\n",
       "  }\n",
       "</style>\n",
       "<div id=\"altair-viz-05c59374903447198ad019db1e571deb\"></div>\n",
       "<script type=\"text/javascript\">\n",
       "  var VEGA_DEBUG = (typeof VEGA_DEBUG == \"undefined\") ? {} : VEGA_DEBUG;\n",
       "  (function(spec, embedOpt){\n",
       "    let outputDiv = document.currentScript.previousElementSibling;\n",
       "    if (outputDiv.id !== \"altair-viz-05c59374903447198ad019db1e571deb\") {\n",
       "      outputDiv = document.getElementById(\"altair-viz-05c59374903447198ad019db1e571deb\");\n",
       "    }\n",
       "\n",
       "    const paths = {\n",
       "      \"vega\": \"https://cdn.jsdelivr.net/npm/vega@5?noext\",\n",
       "      \"vega-lib\": \"https://cdn.jsdelivr.net/npm/vega-lib?noext\",\n",
       "      \"vega-lite\": \"https://cdn.jsdelivr.net/npm/vega-lite@5.20.1?noext\",\n",
       "      \"vega-embed\": \"https://cdn.jsdelivr.net/npm/vega-embed@6?noext\",\n",
       "    };\n",
       "\n",
       "    function maybeLoadScript(lib, version) {\n",
       "      var key = `${lib.replace(\"-\", \"\")}_version`;\n",
       "      return (VEGA_DEBUG[key] == version) ?\n",
       "        Promise.resolve(paths[lib]) :\n",
       "        new Promise(function(resolve, reject) {\n",
       "          var s = document.createElement('script');\n",
       "          document.getElementsByTagName(\"head\")[0].appendChild(s);\n",
       "          s.async = true;\n",
       "          s.onload = () => {\n",
       "            VEGA_DEBUG[key] = version;\n",
       "            return resolve(paths[lib]);\n",
       "          };\n",
       "          s.onerror = () => reject(`Error loading script: ${paths[lib]}`);\n",
       "          s.src = paths[lib];\n",
       "        });\n",
       "    }\n",
       "\n",
       "    function showError(err) {\n",
       "      outputDiv.innerHTML = `<div class=\"error\" style=\"color:red;\">${err}</div>`;\n",
       "      throw err;\n",
       "    }\n",
       "\n",
       "    function displayChart(vegaEmbed) {\n",
       "      vegaEmbed(outputDiv, spec, embedOpt)\n",
       "        .catch(err => showError(`Javascript Error: ${err.message}<br>This usually means there's a typo in your chart specification. See the javascript console for the full traceback.`));\n",
       "    }\n",
       "\n",
       "    if(typeof define === \"function\" && define.amd) {\n",
       "      requirejs.config({paths});\n",
       "      let deps = [\"vega-embed\"];\n",
       "      require(deps, displayChart, err => showError(`Error loading script: ${err.message}`));\n",
       "    } else {\n",
       "      maybeLoadScript(\"vega\", \"5\")\n",
       "        .then(() => maybeLoadScript(\"vega-lite\", \"5.20.1\"))\n",
       "        .then(() => maybeLoadScript(\"vega-embed\", \"6\"))\n",
       "        .catch(showError)\n",
       "        .then(() => displayChart(vegaEmbed));\n",
       "    }\n",
       "  })({\"config\": {\"view\": {\"continuousWidth\": 300, \"continuousHeight\": 300}}, \"data\": {\"name\": \"data-18ea41b6c868a1d8f2bbdd6b5b3c4b7e\"}, \"mark\": {\"type\": \"arc\"}, \"encoding\": {\"color\": {\"field\": \"predicted-label\", \"type\": \"nominal\"}, \"theta\": {\"field\": \"count\", \"stack\": \"normalize\", \"type\": \"quantitative\"}, \"tooltip\": [{\"field\": \"predicted-label\", \"type\": \"quantitative\"}, {\"field\": \"count\", \"type\": \"nominal\"}]}, \"$schema\": \"https://vega.github.io/schema/vega-lite/v5.20.1.json\", \"datasets\": {\"data-18ea41b6c868a1d8f2bbdd6b5b3c4b7e\": [{\"predicted-label\": 0, \"count\": 5180}, {\"predicted-label\": 1, \"count\": 2944}]}}, {\"mode\": \"vega-lite\"});\n",
       "</script>"
      ],
      "text/plain": [
       "alt.Chart(...)"
      ]
     },
     "execution_count": 101,
     "metadata": {},
     "output_type": "execute_result"
    }
   ],
   "execution_count": 101
  },
  {
   "metadata": {
    "ExecuteTime": {
     "end_time": "2024-12-24T00:27:44.875550Z",
     "start_time": "2024-12-24T00:27:44.873783Z"
    }
   },
   "cell_type": "code",
   "source": "",
   "id": "9352f1a76fb2b13f",
   "outputs": [],
   "execution_count": null
  }
 ],
 "metadata": {
  "kernelspec": {
   "display_name": "Python 3",
   "language": "python",
   "name": "python3"
  },
  "language_info": {
   "codemirror_mode": {
    "name": "ipython",
    "version": 2
   },
   "file_extension": ".py",
   "mimetype": "text/x-python",
   "name": "python",
   "nbconvert_exporter": "python",
   "pygments_lexer": "ipython2",
   "version": "2.7.6"
  }
 },
 "nbformat": 4,
 "nbformat_minor": 5
}
