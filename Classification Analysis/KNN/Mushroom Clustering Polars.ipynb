{
 "cells": [
  {
   "cell_type": "code",
   "id": "initial_id",
   "metadata": {
    "collapsed": true,
    "ExecuteTime": {
     "end_time": "2025-01-02T23:14:56.092576Z",
     "start_time": "2025-01-02T23:14:55.742550Z"
    }
   },
   "source": [
    "import polars as pl\n",
    "from kmodes.kmodes import KModes\n",
    "from polars import DataFrame\n",
    "from sklearn import preprocessing\n",
    "import altair as alt\n",
    "import numpy as np\n",
    "from sklearn.metrics import confusion_matrix\n",
    "np.random.seed(42)"
   ],
   "outputs": [],
   "execution_count": 1
  },
  {
   "metadata": {},
   "cell_type": "markdown",
   "source": "## Load the dataset",
   "id": "e1dc3240df690ea0"
  },
  {
   "metadata": {
    "ExecuteTime": {
     "end_time": "2025-01-02T23:14:56.103078Z",
     "start_time": "2025-01-02T23:14:56.096791Z"
    }
   },
   "cell_type": "code",
   "source": [
    "df = pl.read_csv('Data-Mushroom/mushrooms.csv', skip_rows=2)\n",
    "df.head()"
   ],
   "id": "92ad58e2f5e374bc",
   "outputs": [
    {
     "data": {
      "text/plain": [
       "shape: (5, 23)\n",
       "┌───────┬───────────┬─────────────┬───────────┬───┬───────────┬─────────────┬────────────┬─────────┐\n",
       "│ class ┆ cap-shape ┆ cap-surface ┆ cap-color ┆ … ┆ ring-type ┆ spore-print ┆ population ┆ habitat │\n",
       "│ ---   ┆ ---       ┆ ---         ┆ ---       ┆   ┆ ---       ┆ -color      ┆ ---        ┆ ---     │\n",
       "│ str   ┆ str       ┆ str         ┆ str       ┆   ┆ str       ┆ ---         ┆ str        ┆ str     │\n",
       "│       ┆           ┆             ┆           ┆   ┆           ┆ str         ┆            ┆         │\n",
       "╞═══════╪═══════════╪═════════════╪═══════════╪═══╪═══════════╪═════════════╪════════════╪═════════╡\n",
       "│ p     ┆ x         ┆ s           ┆ n         ┆ … ┆ p         ┆ k           ┆ s          ┆ u       │\n",
       "│ e     ┆ x         ┆ s           ┆ y         ┆ … ┆ p         ┆ n           ┆ n          ┆ g       │\n",
       "│ e     ┆ b         ┆ s           ┆ w         ┆ … ┆ p         ┆ n           ┆ n          ┆ m       │\n",
       "│ p     ┆ x         ┆ y           ┆ w         ┆ … ┆ p         ┆ k           ┆ s          ┆ u       │\n",
       "│ e     ┆ x         ┆ s           ┆ g         ┆ … ┆ e         ┆ n           ┆ a          ┆ g       │\n",
       "└───────┴───────────┴─────────────┴───────────┴───┴───────────┴─────────────┴────────────┴─────────┘"
      ],
      "text/html": [
       "<div><style>\n",
       ".dataframe > thead > tr,\n",
       ".dataframe > tbody > tr {\n",
       "  text-align: right;\n",
       "  white-space: pre-wrap;\n",
       "}\n",
       "</style>\n",
       "<small>shape: (5, 23)</small><table border=\"1\" class=\"dataframe\"><thead><tr><th>class</th><th>cap-shape</th><th>cap-surface</th><th>cap-color</th><th>bruises</th><th>odor</th><th>gill-attachment</th><th>gill-spacing</th><th>gill-size</th><th>gill-color</th><th>stalk-shape</th><th>stalk-root</th><th>stalk-surface-above-ring</th><th>stalk-surface-below-ring</th><th>stalk-color-above-ring</th><th>stalk-color-below-ring</th><th>veil-type</th><th>veil-color</th><th>ring-number</th><th>ring-type</th><th>spore-print-color</th><th>population</th><th>habitat</th></tr><tr><td>str</td><td>str</td><td>str</td><td>str</td><td>str</td><td>str</td><td>str</td><td>str</td><td>str</td><td>str</td><td>str</td><td>str</td><td>str</td><td>str</td><td>str</td><td>str</td><td>str</td><td>str</td><td>str</td><td>str</td><td>str</td><td>str</td><td>str</td></tr></thead><tbody><tr><td>&quot;p&quot;</td><td>&quot;x&quot;</td><td>&quot;s&quot;</td><td>&quot;n&quot;</td><td>&quot;t&quot;</td><td>&quot;p&quot;</td><td>&quot;f&quot;</td><td>&quot;c&quot;</td><td>&quot;n&quot;</td><td>&quot;k&quot;</td><td>&quot;e&quot;</td><td>&quot;e&quot;</td><td>&quot;s&quot;</td><td>&quot;s&quot;</td><td>&quot;w&quot;</td><td>&quot;w&quot;</td><td>&quot;p&quot;</td><td>&quot;w&quot;</td><td>&quot;o&quot;</td><td>&quot;p&quot;</td><td>&quot;k&quot;</td><td>&quot;s&quot;</td><td>&quot;u&quot;</td></tr><tr><td>&quot;e&quot;</td><td>&quot;x&quot;</td><td>&quot;s&quot;</td><td>&quot;y&quot;</td><td>&quot;t&quot;</td><td>&quot;a&quot;</td><td>&quot;f&quot;</td><td>&quot;c&quot;</td><td>&quot;b&quot;</td><td>&quot;k&quot;</td><td>&quot;e&quot;</td><td>&quot;c&quot;</td><td>&quot;s&quot;</td><td>&quot;s&quot;</td><td>&quot;w&quot;</td><td>&quot;w&quot;</td><td>&quot;p&quot;</td><td>&quot;w&quot;</td><td>&quot;o&quot;</td><td>&quot;p&quot;</td><td>&quot;n&quot;</td><td>&quot;n&quot;</td><td>&quot;g&quot;</td></tr><tr><td>&quot;e&quot;</td><td>&quot;b&quot;</td><td>&quot;s&quot;</td><td>&quot;w&quot;</td><td>&quot;t&quot;</td><td>&quot;l&quot;</td><td>&quot;f&quot;</td><td>&quot;c&quot;</td><td>&quot;b&quot;</td><td>&quot;n&quot;</td><td>&quot;e&quot;</td><td>&quot;c&quot;</td><td>&quot;s&quot;</td><td>&quot;s&quot;</td><td>&quot;w&quot;</td><td>&quot;w&quot;</td><td>&quot;p&quot;</td><td>&quot;w&quot;</td><td>&quot;o&quot;</td><td>&quot;p&quot;</td><td>&quot;n&quot;</td><td>&quot;n&quot;</td><td>&quot;m&quot;</td></tr><tr><td>&quot;p&quot;</td><td>&quot;x&quot;</td><td>&quot;y&quot;</td><td>&quot;w&quot;</td><td>&quot;t&quot;</td><td>&quot;p&quot;</td><td>&quot;f&quot;</td><td>&quot;c&quot;</td><td>&quot;n&quot;</td><td>&quot;n&quot;</td><td>&quot;e&quot;</td><td>&quot;e&quot;</td><td>&quot;s&quot;</td><td>&quot;s&quot;</td><td>&quot;w&quot;</td><td>&quot;w&quot;</td><td>&quot;p&quot;</td><td>&quot;w&quot;</td><td>&quot;o&quot;</td><td>&quot;p&quot;</td><td>&quot;k&quot;</td><td>&quot;s&quot;</td><td>&quot;u&quot;</td></tr><tr><td>&quot;e&quot;</td><td>&quot;x&quot;</td><td>&quot;s&quot;</td><td>&quot;g&quot;</td><td>&quot;f&quot;</td><td>&quot;n&quot;</td><td>&quot;f&quot;</td><td>&quot;w&quot;</td><td>&quot;b&quot;</td><td>&quot;k&quot;</td><td>&quot;t&quot;</td><td>&quot;e&quot;</td><td>&quot;s&quot;</td><td>&quot;s&quot;</td><td>&quot;w&quot;</td><td>&quot;w&quot;</td><td>&quot;p&quot;</td><td>&quot;w&quot;</td><td>&quot;o&quot;</td><td>&quot;e&quot;</td><td>&quot;n&quot;</td><td>&quot;a&quot;</td><td>&quot;g&quot;</td></tr></tbody></table></div>"
      ]
     },
     "execution_count": 2,
     "metadata": {},
     "output_type": "execute_result"
    }
   ],
   "execution_count": 2
  },
  {
   "metadata": {
    "ExecuteTime": {
     "end_time": "2025-01-02T23:14:56.278362Z",
     "start_time": "2025-01-02T23:14:56.273408Z"
    }
   },
   "cell_type": "code",
   "source": "df.describe()",
   "id": "70d00a16b9e4f2ae",
   "outputs": [
    {
     "data": {
      "text/plain": [
       "shape: (9, 24)\n",
       "┌────────────┬───────┬───────────┬─────────────┬───┬───────────┬────────────┬────────────┬─────────┐\n",
       "│ statistic  ┆ class ┆ cap-shape ┆ cap-surface ┆ … ┆ ring-type ┆ spore-prin ┆ population ┆ habitat │\n",
       "│ ---        ┆ ---   ┆ ---       ┆ ---         ┆   ┆ ---       ┆ t-color    ┆ ---        ┆ ---     │\n",
       "│ str        ┆ str   ┆ str       ┆ str         ┆   ┆ str       ┆ ---        ┆ str        ┆ str     │\n",
       "│            ┆       ┆           ┆             ┆   ┆           ┆ str        ┆            ┆         │\n",
       "╞════════════╪═══════╪═══════════╪═════════════╪═══╪═══════════╪════════════╪════════════╪═════════╡\n",
       "│ count      ┆ 8124  ┆ 8124      ┆ 8124        ┆ … ┆ 8124      ┆ 8124       ┆ 8124       ┆ 8124    │\n",
       "│ null_count ┆ 0     ┆ 0         ┆ 0           ┆ … ┆ 0         ┆ 0          ┆ 0          ┆ 0       │\n",
       "│ mean       ┆ null  ┆ null      ┆ null        ┆ … ┆ null      ┆ null       ┆ null       ┆ null    │\n",
       "│ std        ┆ null  ┆ null      ┆ null        ┆ … ┆ null      ┆ null       ┆ null       ┆ null    │\n",
       "│ min        ┆ e     ┆ b         ┆ f           ┆ … ┆ e         ┆ b          ┆ a          ┆ d       │\n",
       "│ 25%        ┆ null  ┆ null      ┆ null        ┆ … ┆ null      ┆ null       ┆ null       ┆ null    │\n",
       "│ 50%        ┆ null  ┆ null      ┆ null        ┆ … ┆ null      ┆ null       ┆ null       ┆ null    │\n",
       "│ 75%        ┆ null  ┆ null      ┆ null        ┆ … ┆ null      ┆ null       ┆ null       ┆ null    │\n",
       "│ max        ┆ p     ┆ x         ┆ y           ┆ … ┆ p         ┆ y          ┆ y          ┆ w       │\n",
       "└────────────┴───────┴───────────┴─────────────┴───┴───────────┴────────────┴────────────┴─────────┘"
      ],
      "text/html": [
       "<div><style>\n",
       ".dataframe > thead > tr,\n",
       ".dataframe > tbody > tr {\n",
       "  text-align: right;\n",
       "  white-space: pre-wrap;\n",
       "}\n",
       "</style>\n",
       "<small>shape: (9, 24)</small><table border=\"1\" class=\"dataframe\"><thead><tr><th>statistic</th><th>class</th><th>cap-shape</th><th>cap-surface</th><th>cap-color</th><th>bruises</th><th>odor</th><th>gill-attachment</th><th>gill-spacing</th><th>gill-size</th><th>gill-color</th><th>stalk-shape</th><th>stalk-root</th><th>stalk-surface-above-ring</th><th>stalk-surface-below-ring</th><th>stalk-color-above-ring</th><th>stalk-color-below-ring</th><th>veil-type</th><th>veil-color</th><th>ring-number</th><th>ring-type</th><th>spore-print-color</th><th>population</th><th>habitat</th></tr><tr><td>str</td><td>str</td><td>str</td><td>str</td><td>str</td><td>str</td><td>str</td><td>str</td><td>str</td><td>str</td><td>str</td><td>str</td><td>str</td><td>str</td><td>str</td><td>str</td><td>str</td><td>str</td><td>str</td><td>str</td><td>str</td><td>str</td><td>str</td><td>str</td></tr></thead><tbody><tr><td>&quot;count&quot;</td><td>&quot;8124&quot;</td><td>&quot;8124&quot;</td><td>&quot;8124&quot;</td><td>&quot;8124&quot;</td><td>&quot;8124&quot;</td><td>&quot;8124&quot;</td><td>&quot;8124&quot;</td><td>&quot;8124&quot;</td><td>&quot;8124&quot;</td><td>&quot;8124&quot;</td><td>&quot;8124&quot;</td><td>&quot;8124&quot;</td><td>&quot;8124&quot;</td><td>&quot;8124&quot;</td><td>&quot;8124&quot;</td><td>&quot;8124&quot;</td><td>&quot;8124&quot;</td><td>&quot;8124&quot;</td><td>&quot;8124&quot;</td><td>&quot;8124&quot;</td><td>&quot;8124&quot;</td><td>&quot;8124&quot;</td><td>&quot;8124&quot;</td></tr><tr><td>&quot;null_count&quot;</td><td>&quot;0&quot;</td><td>&quot;0&quot;</td><td>&quot;0&quot;</td><td>&quot;0&quot;</td><td>&quot;0&quot;</td><td>&quot;0&quot;</td><td>&quot;0&quot;</td><td>&quot;0&quot;</td><td>&quot;0&quot;</td><td>&quot;0&quot;</td><td>&quot;0&quot;</td><td>&quot;0&quot;</td><td>&quot;0&quot;</td><td>&quot;0&quot;</td><td>&quot;0&quot;</td><td>&quot;0&quot;</td><td>&quot;0&quot;</td><td>&quot;0&quot;</td><td>&quot;0&quot;</td><td>&quot;0&quot;</td><td>&quot;0&quot;</td><td>&quot;0&quot;</td><td>&quot;0&quot;</td></tr><tr><td>&quot;mean&quot;</td><td>null</td><td>null</td><td>null</td><td>null</td><td>null</td><td>null</td><td>null</td><td>null</td><td>null</td><td>null</td><td>null</td><td>null</td><td>null</td><td>null</td><td>null</td><td>null</td><td>null</td><td>null</td><td>null</td><td>null</td><td>null</td><td>null</td><td>null</td></tr><tr><td>&quot;std&quot;</td><td>null</td><td>null</td><td>null</td><td>null</td><td>null</td><td>null</td><td>null</td><td>null</td><td>null</td><td>null</td><td>null</td><td>null</td><td>null</td><td>null</td><td>null</td><td>null</td><td>null</td><td>null</td><td>null</td><td>null</td><td>null</td><td>null</td><td>null</td></tr><tr><td>&quot;min&quot;</td><td>&quot;e&quot;</td><td>&quot;b&quot;</td><td>&quot;f&quot;</td><td>&quot;b&quot;</td><td>&quot;f&quot;</td><td>&quot;a&quot;</td><td>&quot;a&quot;</td><td>&quot;c&quot;</td><td>&quot;b&quot;</td><td>&quot;b&quot;</td><td>&quot;e&quot;</td><td>&quot;?&quot;</td><td>&quot;f&quot;</td><td>&quot;f&quot;</td><td>&quot;b&quot;</td><td>&quot;b&quot;</td><td>&quot;p&quot;</td><td>&quot;n&quot;</td><td>&quot;n&quot;</td><td>&quot;e&quot;</td><td>&quot;b&quot;</td><td>&quot;a&quot;</td><td>&quot;d&quot;</td></tr><tr><td>&quot;25%&quot;</td><td>null</td><td>null</td><td>null</td><td>null</td><td>null</td><td>null</td><td>null</td><td>null</td><td>null</td><td>null</td><td>null</td><td>null</td><td>null</td><td>null</td><td>null</td><td>null</td><td>null</td><td>null</td><td>null</td><td>null</td><td>null</td><td>null</td><td>null</td></tr><tr><td>&quot;50%&quot;</td><td>null</td><td>null</td><td>null</td><td>null</td><td>null</td><td>null</td><td>null</td><td>null</td><td>null</td><td>null</td><td>null</td><td>null</td><td>null</td><td>null</td><td>null</td><td>null</td><td>null</td><td>null</td><td>null</td><td>null</td><td>null</td><td>null</td><td>null</td></tr><tr><td>&quot;75%&quot;</td><td>null</td><td>null</td><td>null</td><td>null</td><td>null</td><td>null</td><td>null</td><td>null</td><td>null</td><td>null</td><td>null</td><td>null</td><td>null</td><td>null</td><td>null</td><td>null</td><td>null</td><td>null</td><td>null</td><td>null</td><td>null</td><td>null</td><td>null</td></tr><tr><td>&quot;max&quot;</td><td>&quot;p&quot;</td><td>&quot;x&quot;</td><td>&quot;y&quot;</td><td>&quot;y&quot;</td><td>&quot;t&quot;</td><td>&quot;y&quot;</td><td>&quot;f&quot;</td><td>&quot;w&quot;</td><td>&quot;n&quot;</td><td>&quot;y&quot;</td><td>&quot;t&quot;</td><td>&quot;r&quot;</td><td>&quot;y&quot;</td><td>&quot;y&quot;</td><td>&quot;y&quot;</td><td>&quot;y&quot;</td><td>&quot;p&quot;</td><td>&quot;y&quot;</td><td>&quot;t&quot;</td><td>&quot;p&quot;</td><td>&quot;y&quot;</td><td>&quot;y&quot;</td><td>&quot;w&quot;</td></tr></tbody></table></div>"
      ]
     },
     "execution_count": 3,
     "metadata": {},
     "output_type": "execute_result"
    }
   ],
   "execution_count": 3
  },
  {
   "metadata": {
    "ExecuteTime": {
     "end_time": "2025-01-02T23:14:56.311656Z",
     "start_time": "2025-01-02T23:14:56.309804Z"
    }
   },
   "cell_type": "code",
   "source": [
    "y = df.select('class')\n",
    "x = df.drop('class')"
   ],
   "id": "3aabe01c6599c10",
   "outputs": [],
   "execution_count": 4
  },
  {
   "metadata": {
    "ExecuteTime": {
     "end_time": "2025-01-02T23:14:56.374434Z",
     "start_time": "2025-01-02T23:14:56.371593Z"
    }
   },
   "cell_type": "code",
   "source": "x.schema",
   "id": "8f7778f8c17369fc",
   "outputs": [
    {
     "data": {
      "text/plain": [
       "Schema([('cap-shape', String),\n",
       "        ('cap-surface', String),\n",
       "        ('cap-color', String),\n",
       "        ('bruises', String),\n",
       "        ('odor', String),\n",
       "        ('gill-attachment', String),\n",
       "        ('gill-spacing', String),\n",
       "        ('gill-size', String),\n",
       "        ('gill-color', String),\n",
       "        ('stalk-shape', String),\n",
       "        ('stalk-root', String),\n",
       "        ('stalk-surface-above-ring', String),\n",
       "        ('stalk-surface-below-ring', String),\n",
       "        ('stalk-color-above-ring', String),\n",
       "        ('stalk-color-below-ring', String),\n",
       "        ('veil-type', String),\n",
       "        ('veil-color', String),\n",
       "        ('ring-number', String),\n",
       "        ('ring-type', String),\n",
       "        ('spore-print-color', String),\n",
       "        ('population', String),\n",
       "        ('habitat', String)])"
      ]
     },
     "execution_count": 5,
     "metadata": {},
     "output_type": "execute_result"
    }
   ],
   "execution_count": 5
  },
  {
   "metadata": {
    "ExecuteTime": {
     "end_time": "2025-01-02T23:14:56.422082Z",
     "start_time": "2025-01-02T23:14:56.418757Z"
    }
   },
   "cell_type": "code",
   "source": "df.null_count()",
   "id": "e31f2642b37d2479",
   "outputs": [
    {
     "data": {
      "text/plain": [
       "shape: (1, 23)\n",
       "┌───────┬───────────┬─────────────┬───────────┬───┬───────────┬─────────────┬────────────┬─────────┐\n",
       "│ class ┆ cap-shape ┆ cap-surface ┆ cap-color ┆ … ┆ ring-type ┆ spore-print ┆ population ┆ habitat │\n",
       "│ ---   ┆ ---       ┆ ---         ┆ ---       ┆   ┆ ---       ┆ -color      ┆ ---        ┆ ---     │\n",
       "│ u32   ┆ u32       ┆ u32         ┆ u32       ┆   ┆ u32       ┆ ---         ┆ u32        ┆ u32     │\n",
       "│       ┆           ┆             ┆           ┆   ┆           ┆ u32         ┆            ┆         │\n",
       "╞═══════╪═══════════╪═════════════╪═══════════╪═══╪═══════════╪═════════════╪════════════╪═════════╡\n",
       "│ 0     ┆ 0         ┆ 0           ┆ 0         ┆ … ┆ 0         ┆ 0           ┆ 0          ┆ 0       │\n",
       "└───────┴───────────┴─────────────┴───────────┴───┴───────────┴─────────────┴────────────┴─────────┘"
      ],
      "text/html": [
       "<div><style>\n",
       ".dataframe > thead > tr,\n",
       ".dataframe > tbody > tr {\n",
       "  text-align: right;\n",
       "  white-space: pre-wrap;\n",
       "}\n",
       "</style>\n",
       "<small>shape: (1, 23)</small><table border=\"1\" class=\"dataframe\"><thead><tr><th>class</th><th>cap-shape</th><th>cap-surface</th><th>cap-color</th><th>bruises</th><th>odor</th><th>gill-attachment</th><th>gill-spacing</th><th>gill-size</th><th>gill-color</th><th>stalk-shape</th><th>stalk-root</th><th>stalk-surface-above-ring</th><th>stalk-surface-below-ring</th><th>stalk-color-above-ring</th><th>stalk-color-below-ring</th><th>veil-type</th><th>veil-color</th><th>ring-number</th><th>ring-type</th><th>spore-print-color</th><th>population</th><th>habitat</th></tr><tr><td>u32</td><td>u32</td><td>u32</td><td>u32</td><td>u32</td><td>u32</td><td>u32</td><td>u32</td><td>u32</td><td>u32</td><td>u32</td><td>u32</td><td>u32</td><td>u32</td><td>u32</td><td>u32</td><td>u32</td><td>u32</td><td>u32</td><td>u32</td><td>u32</td><td>u32</td><td>u32</td></tr></thead><tbody><tr><td>0</td><td>0</td><td>0</td><td>0</td><td>0</td><td>0</td><td>0</td><td>0</td><td>0</td><td>0</td><td>0</td><td>0</td><td>0</td><td>0</td><td>0</td><td>0</td><td>0</td><td>0</td><td>0</td><td>0</td><td>0</td><td>0</td><td>0</td></tr></tbody></table></div>"
      ]
     },
     "execution_count": 6,
     "metadata": {},
     "output_type": "execute_result"
    }
   ],
   "execution_count": 6
  },
  {
   "metadata": {},
   "cell_type": "markdown",
   "source": "## Preprocessing data\n",
   "id": "c861be2649126f7b"
  },
  {
   "metadata": {
    "ExecuteTime": {
     "end_time": "2025-01-02T23:14:56.500501Z",
     "start_time": "2025-01-02T23:14:56.482410Z"
    }
   },
   "cell_type": "code",
   "source": [
    "encoder = preprocessing.LabelEncoder()\n",
    "x = x.select(\n",
    "    [\n",
    "        pl.all().map_batches(encoder.fit_transform)\n",
    "    ]\n",
    ")"
   ],
   "id": "8aaeaded9315f16e",
   "outputs": [],
   "execution_count": 7
  },
  {
   "metadata": {
    "ExecuteTime": {
     "end_time": "2025-01-02T23:14:56.543835Z",
     "start_time": "2025-01-02T23:14:56.540949Z"
    }
   },
   "cell_type": "code",
   "source": "x.head()",
   "id": "7bb88bfa15402728",
   "outputs": [
    {
     "data": {
      "text/plain": [
       "shape: (5, 22)\n",
       "┌───────────┬────────────┬───────────┬─────────┬───┬───────────┬────────────┬────────────┬─────────┐\n",
       "│ cap-shape ┆ cap-surfac ┆ cap-color ┆ bruises ┆ … ┆ ring-type ┆ spore-prin ┆ population ┆ habitat │\n",
       "│ ---       ┆ e          ┆ ---       ┆ ---     ┆   ┆ ---       ┆ t-color    ┆ ---        ┆ ---     │\n",
       "│ i64       ┆ ---        ┆ i64       ┆ i64     ┆   ┆ i64       ┆ ---        ┆ i64        ┆ i64     │\n",
       "│           ┆ i64        ┆           ┆         ┆   ┆           ┆ i64        ┆            ┆         │\n",
       "╞═══════════╪════════════╪═══════════╪═════════╪═══╪═══════════╪════════════╪════════════╪═════════╡\n",
       "│ 5         ┆ 2          ┆ 4         ┆ 1       ┆ … ┆ 4         ┆ 2          ┆ 3          ┆ 5       │\n",
       "│ 5         ┆ 2          ┆ 9         ┆ 1       ┆ … ┆ 4         ┆ 3          ┆ 2          ┆ 1       │\n",
       "│ 0         ┆ 2          ┆ 8         ┆ 1       ┆ … ┆ 4         ┆ 3          ┆ 2          ┆ 3       │\n",
       "│ 5         ┆ 3          ┆ 8         ┆ 1       ┆ … ┆ 4         ┆ 2          ┆ 3          ┆ 5       │\n",
       "│ 5         ┆ 2          ┆ 3         ┆ 0       ┆ … ┆ 0         ┆ 3          ┆ 0          ┆ 1       │\n",
       "└───────────┴────────────┴───────────┴─────────┴───┴───────────┴────────────┴────────────┴─────────┘"
      ],
      "text/html": [
       "<div><style>\n",
       ".dataframe > thead > tr,\n",
       ".dataframe > tbody > tr {\n",
       "  text-align: right;\n",
       "  white-space: pre-wrap;\n",
       "}\n",
       "</style>\n",
       "<small>shape: (5, 22)</small><table border=\"1\" class=\"dataframe\"><thead><tr><th>cap-shape</th><th>cap-surface</th><th>cap-color</th><th>bruises</th><th>odor</th><th>gill-attachment</th><th>gill-spacing</th><th>gill-size</th><th>gill-color</th><th>stalk-shape</th><th>stalk-root</th><th>stalk-surface-above-ring</th><th>stalk-surface-below-ring</th><th>stalk-color-above-ring</th><th>stalk-color-below-ring</th><th>veil-type</th><th>veil-color</th><th>ring-number</th><th>ring-type</th><th>spore-print-color</th><th>population</th><th>habitat</th></tr><tr><td>i64</td><td>i64</td><td>i64</td><td>i64</td><td>i64</td><td>i64</td><td>i64</td><td>i64</td><td>i64</td><td>i64</td><td>i64</td><td>i64</td><td>i64</td><td>i64</td><td>i64</td><td>i64</td><td>i64</td><td>i64</td><td>i64</td><td>i64</td><td>i64</td><td>i64</td></tr></thead><tbody><tr><td>5</td><td>2</td><td>4</td><td>1</td><td>6</td><td>1</td><td>0</td><td>1</td><td>4</td><td>0</td><td>3</td><td>2</td><td>2</td><td>7</td><td>7</td><td>0</td><td>2</td><td>1</td><td>4</td><td>2</td><td>3</td><td>5</td></tr><tr><td>5</td><td>2</td><td>9</td><td>1</td><td>0</td><td>1</td><td>0</td><td>0</td><td>4</td><td>0</td><td>2</td><td>2</td><td>2</td><td>7</td><td>7</td><td>0</td><td>2</td><td>1</td><td>4</td><td>3</td><td>2</td><td>1</td></tr><tr><td>0</td><td>2</td><td>8</td><td>1</td><td>3</td><td>1</td><td>0</td><td>0</td><td>5</td><td>0</td><td>2</td><td>2</td><td>2</td><td>7</td><td>7</td><td>0</td><td>2</td><td>1</td><td>4</td><td>3</td><td>2</td><td>3</td></tr><tr><td>5</td><td>3</td><td>8</td><td>1</td><td>6</td><td>1</td><td>0</td><td>1</td><td>5</td><td>0</td><td>3</td><td>2</td><td>2</td><td>7</td><td>7</td><td>0</td><td>2</td><td>1</td><td>4</td><td>2</td><td>3</td><td>5</td></tr><tr><td>5</td><td>2</td><td>3</td><td>0</td><td>5</td><td>1</td><td>1</td><td>0</td><td>4</td><td>1</td><td>3</td><td>2</td><td>2</td><td>7</td><td>7</td><td>0</td><td>2</td><td>1</td><td>0</td><td>3</td><td>0</td><td>1</td></tr></tbody></table></div>"
      ]
     },
     "execution_count": 8,
     "metadata": {},
     "output_type": "execute_result"
    }
   ],
   "execution_count": 8
  },
  {
   "metadata": {
    "ExecuteTime": {
     "end_time": "2025-01-02T23:14:56.569917Z",
     "start_time": "2025-01-02T23:14:56.567264Z"
    }
   },
   "cell_type": "code",
   "source": [
    "unique_counts = x.select(pl.all().n_unique())\n",
    "single_unique_cols = [unique_counts.columns[i]\n",
    "                      for i, val in enumerate(unique_counts.row(0))\n",
    "                      if val == 1]\n",
    "x = x.drop(single_unique_cols)"
   ],
   "id": "eca19854514e05",
   "outputs": [],
   "execution_count": 9
  },
  {
   "metadata": {},
   "cell_type": "markdown",
   "source": "## Clustering using K-Modes\n",
   "id": "f3ccbd74f792839b"
  },
  {
   "metadata": {
    "ExecuteTime": {
     "end_time": "2025-01-02T23:14:56.627830Z",
     "start_time": "2025-01-02T23:14:56.625723Z"
    }
   },
   "cell_type": "code",
   "source": "km = KModes(n_clusters=2, init='Huang', n_init=5, verbose=1)  # Huang, Cao, random",
   "id": "da59234df64e26aa",
   "outputs": [],
   "execution_count": 10
  },
  {
   "metadata": {
    "ExecuteTime": {
     "end_time": "2025-01-02T23:14:58.276175Z",
     "start_time": "2025-01-02T23:14:56.665314Z"
    }
   },
   "cell_type": "code",
   "source": "clusters = km.fit_predict(x)",
   "id": "c9770a09e797260",
   "outputs": [
    {
     "name": "stdout",
     "output_type": "stream",
     "text": [
      "Init: initializing centroids\n",
      "Init: initializing clusters\n",
      "Starting iterations...\n",
      "Run 1, iteration: 1/100, moves: 780, cost: 62474.0\n",
      "Run 1, iteration: 2/100, moves: 0, cost: 62474.0\n",
      "Init: initializing centroids\n",
      "Init: initializing clusters\n",
      "Starting iterations...\n",
      "Run 2, iteration: 1/100, moves: 733, cost: 63972.0\n",
      "Run 2, iteration: 2/100, moves: 0, cost: 63972.0\n",
      "Init: initializing centroids\n",
      "Init: initializing clusters\n",
      "Starting iterations...\n",
      "Run 3, iteration: 1/100, moves: 582, cost: 65013.0\n",
      "Run 3, iteration: 2/100, moves: 224, cost: 64970.0\n",
      "Run 3, iteration: 3/100, moves: 17, cost: 64970.0\n",
      "Init: initializing centroids\n",
      "Init: initializing clusters\n",
      "Starting iterations...\n",
      "Run 4, iteration: 1/100, moves: 595, cost: 63851.0\n",
      "Run 4, iteration: 2/100, moves: 148, cost: 63851.0\n",
      "Init: initializing centroids\n",
      "Init: initializing clusters\n",
      "Starting iterations...\n",
      "Run 5, iteration: 1/100, moves: 2712, cost: 64120.0\n",
      "Run 5, iteration: 2/100, moves: 340, cost: 64120.0\n",
      "Best run was number 1\n"
     ]
    }
   ],
   "execution_count": 11
  },
  {
   "metadata": {
    "ExecuteTime": {
     "end_time": "2025-01-02T23:14:58.308560Z",
     "start_time": "2025-01-02T23:14:58.306107Z"
    }
   },
   "cell_type": "code",
   "source": [
    "yp = DataFrame({\n",
    "    'predicted-label': clusters\n",
    "})\n",
    "yp.head()"
   ],
   "id": "8242b47f02ecae19",
   "outputs": [
    {
     "data": {
      "text/plain": [
       "shape: (5, 1)\n",
       "┌─────────────────┐\n",
       "│ predicted-label │\n",
       "│ ---             │\n",
       "│ u16             │\n",
       "╞═════════════════╡\n",
       "│ 0               │\n",
       "│ 0               │\n",
       "│ 0               │\n",
       "│ 0               │\n",
       "│ 0               │\n",
       "└─────────────────┘"
      ],
      "text/html": [
       "<div><style>\n",
       ".dataframe > thead > tr,\n",
       ".dataframe > tbody > tr {\n",
       "  text-align: right;\n",
       "  white-space: pre-wrap;\n",
       "}\n",
       "</style>\n",
       "<small>shape: (5, 1)</small><table border=\"1\" class=\"dataframe\"><thead><tr><th>predicted-label</th></tr><tr><td>u16</td></tr></thead><tbody><tr><td>0</td></tr><tr><td>0</td></tr><tr><td>0</td></tr><tr><td>0</td></tr><tr><td>0</td></tr></tbody></table></div>"
      ]
     },
     "execution_count": 12,
     "metadata": {},
     "output_type": "execute_result"
    }
   ],
   "execution_count": 12
  },
  {
   "metadata": {
    "ExecuteTime": {
     "end_time": "2025-01-02T23:14:58.353313Z",
     "start_time": "2025-01-02T23:14:58.337857Z"
    }
   },
   "cell_type": "code",
   "source": [
    "counting = yp.select(pl.col('predicted-label').value_counts()).unnest('predicted-label')\n",
    "\n",
    "pie = (alt.Chart(counting).mark_arc()\n",
    ".encode(\n",
    "    theta=alt.Theta('count', stack='normalize', type='quantitative'),\n",
    "    color=alt.Color('predicted-label', type='nominal'),\n",
    "    tooltip=['predicted-label', 'count:N'],\n",
    "))\n",
    "\n",
    "pie"
   ],
   "id": "7144bf50b9e270bf",
   "outputs": [
    {
     "data": {
      "text/html": [
       "\n",
       "<style>\n",
       "  #altair-viz-19e5c8aec71a42c09da8c291cbef1785.vega-embed {\n",
       "    width: 100%;\n",
       "    display: flex;\n",
       "  }\n",
       "\n",
       "  #altair-viz-19e5c8aec71a42c09da8c291cbef1785.vega-embed details,\n",
       "  #altair-viz-19e5c8aec71a42c09da8c291cbef1785.vega-embed details summary {\n",
       "    position: relative;\n",
       "  }\n",
       "</style>\n",
       "<div id=\"altair-viz-19e5c8aec71a42c09da8c291cbef1785\"></div>\n",
       "<script type=\"text/javascript\">\n",
       "  var VEGA_DEBUG = (typeof VEGA_DEBUG == \"undefined\") ? {} : VEGA_DEBUG;\n",
       "  (function(spec, embedOpt){\n",
       "    let outputDiv = document.currentScript.previousElementSibling;\n",
       "    if (outputDiv.id !== \"altair-viz-19e5c8aec71a42c09da8c291cbef1785\") {\n",
       "      outputDiv = document.getElementById(\"altair-viz-19e5c8aec71a42c09da8c291cbef1785\");\n",
       "    }\n",
       "\n",
       "    const paths = {\n",
       "      \"vega\": \"https://cdn.jsdelivr.net/npm/vega@5?noext\",\n",
       "      \"vega-lib\": \"https://cdn.jsdelivr.net/npm/vega-lib?noext\",\n",
       "      \"vega-lite\": \"https://cdn.jsdelivr.net/npm/vega-lite@5.20.1?noext\",\n",
       "      \"vega-embed\": \"https://cdn.jsdelivr.net/npm/vega-embed@6?noext\",\n",
       "    };\n",
       "\n",
       "    function maybeLoadScript(lib, version) {\n",
       "      var key = `${lib.replace(\"-\", \"\")}_version`;\n",
       "      return (VEGA_DEBUG[key] == version) ?\n",
       "        Promise.resolve(paths[lib]) :\n",
       "        new Promise(function(resolve, reject) {\n",
       "          var s = document.createElement('script');\n",
       "          document.getElementsByTagName(\"head\")[0].appendChild(s);\n",
       "          s.async = true;\n",
       "          s.onload = () => {\n",
       "            VEGA_DEBUG[key] = version;\n",
       "            return resolve(paths[lib]);\n",
       "          };\n",
       "          s.onerror = () => reject(`Error loading script: ${paths[lib]}`);\n",
       "          s.src = paths[lib];\n",
       "        });\n",
       "    }\n",
       "\n",
       "    function showError(err) {\n",
       "      outputDiv.innerHTML = `<div class=\"error\" style=\"color:red;\">${err}</div>`;\n",
       "      throw err;\n",
       "    }\n",
       "\n",
       "    function displayChart(vegaEmbed) {\n",
       "      vegaEmbed(outputDiv, spec, embedOpt)\n",
       "        .catch(err => showError(`Javascript Error: ${err.message}<br>This usually means there's a typo in your chart specification. See the javascript console for the full traceback.`));\n",
       "    }\n",
       "\n",
       "    if(typeof define === \"function\" && define.amd) {\n",
       "      requirejs.config({paths});\n",
       "      let deps = [\"vega-embed\"];\n",
       "      require(deps, displayChart, err => showError(`Error loading script: ${err.message}`));\n",
       "    } else {\n",
       "      maybeLoadScript(\"vega\", \"5\")\n",
       "        .then(() => maybeLoadScript(\"vega-lite\", \"5.20.1\"))\n",
       "        .then(() => maybeLoadScript(\"vega-embed\", \"6\"))\n",
       "        .catch(showError)\n",
       "        .then(() => displayChart(vegaEmbed));\n",
       "    }\n",
       "  })({\"config\": {\"view\": {\"continuousWidth\": 300, \"continuousHeight\": 300}}, \"data\": {\"name\": \"data-f87bc36ddeea28d22bd1c527fae72377\"}, \"mark\": {\"type\": \"arc\"}, \"encoding\": {\"color\": {\"field\": \"predicted-label\", \"type\": \"nominal\"}, \"theta\": {\"field\": \"count\", \"stack\": \"normalize\", \"type\": \"quantitative\"}, \"tooltip\": [{\"field\": \"predicted-label\", \"type\": \"quantitative\"}, {\"field\": \"count\", \"type\": \"nominal\"}]}, \"$schema\": \"https://vega.github.io/schema/vega-lite/v5.20.1.json\", \"datasets\": {\"data-f87bc36ddeea28d22bd1c527fae72377\": [{\"predicted-label\": 1, \"count\": 3116}, {\"predicted-label\": 0, \"count\": 5008}]}}, {\"mode\": \"vega-lite\"});\n",
       "</script>"
      ],
      "text/plain": [
       "alt.Chart(...)"
      ]
     },
     "execution_count": 13,
     "metadata": {},
     "output_type": "execute_result"
    }
   ],
   "execution_count": 13
  },
  {
   "metadata": {
    "ExecuteTime": {
     "end_time": "2025-01-02T23:14:58.377655Z",
     "start_time": "2025-01-02T23:14:58.374415Z"
    }
   },
   "cell_type": "code",
   "source": "encoded_y = y.select(pl.all().map_batches(encoder.fit_transform))",
   "id": "9352f1a76fb2b13f",
   "outputs": [],
   "execution_count": 14
  },
  {
   "metadata": {
    "ExecuteTime": {
     "end_time": "2025-01-02T23:14:58.390099Z",
     "start_time": "2025-01-02T23:14:58.387740Z"
    }
   },
   "cell_type": "code",
   "source": "encoded_y.head()",
   "id": "5c7d625fb5abfa9c",
   "outputs": [
    {
     "data": {
      "text/plain": [
       "shape: (5, 1)\n",
       "┌───────┐\n",
       "│ class │\n",
       "│ ---   │\n",
       "│ i64   │\n",
       "╞═══════╡\n",
       "│ 1     │\n",
       "│ 0     │\n",
       "│ 0     │\n",
       "│ 1     │\n",
       "│ 0     │\n",
       "└───────┘"
      ],
      "text/html": [
       "<div><style>\n",
       ".dataframe > thead > tr,\n",
       ".dataframe > tbody > tr {\n",
       "  text-align: right;\n",
       "  white-space: pre-wrap;\n",
       "}\n",
       "</style>\n",
       "<small>shape: (5, 1)</small><table border=\"1\" class=\"dataframe\"><thead><tr><th>class</th></tr><tr><td>i64</td></tr></thead><tbody><tr><td>1</td></tr><tr><td>0</td></tr><tr><td>0</td></tr><tr><td>1</td></tr><tr><td>0</td></tr></tbody></table></div>"
      ]
     },
     "execution_count": 15,
     "metadata": {},
     "output_type": "execute_result"
    }
   ],
   "execution_count": 15
  },
  {
   "metadata": {
    "ExecuteTime": {
     "end_time": "2025-01-02T23:14:58.440460Z",
     "start_time": "2025-01-02T23:14:58.438090Z"
    }
   },
   "cell_type": "code",
   "source": "print(f'in this encoding, {encoded_y.row(0)} represents {y.row(0)}')",
   "id": "ee83ed69095c4772",
   "outputs": [
    {
     "name": "stdout",
     "output_type": "stream",
     "text": [
      "in this encoding, (1,) represents ('p',)\n"
     ]
    }
   ],
   "execution_count": 16
  },
  {
   "metadata": {},
   "cell_type": "markdown",
   "source": "## Evaluation",
   "id": "1be91b280e125e3d"
  },
  {
   "metadata": {
    "ExecuteTime": {
     "end_time": "2025-01-02T23:14:58.473191Z",
     "start_time": "2025-01-02T23:14:58.470905Z"
    }
   },
   "cell_type": "code",
   "source": [
    "labels = DataFrame({\n",
    "    'y': encoded_y,\n",
    "    'yp': clusters\n",
    "})\n",
    "labels.head()"
   ],
   "id": "c00ef124e4c0263e",
   "outputs": [
    {
     "data": {
      "text/plain": [
       "shape: (5, 2)\n",
       "┌─────┬─────┐\n",
       "│ y   ┆ yp  │\n",
       "│ --- ┆ --- │\n",
       "│ i64 ┆ u16 │\n",
       "╞═════╪═════╡\n",
       "│ 1   ┆ 0   │\n",
       "│ 0   ┆ 0   │\n",
       "│ 0   ┆ 0   │\n",
       "│ 1   ┆ 0   │\n",
       "│ 0   ┆ 0   │\n",
       "└─────┴─────┘"
      ],
      "text/html": [
       "<div><style>\n",
       ".dataframe > thead > tr,\n",
       ".dataframe > tbody > tr {\n",
       "  text-align: right;\n",
       "  white-space: pre-wrap;\n",
       "}\n",
       "</style>\n",
       "<small>shape: (5, 2)</small><table border=\"1\" class=\"dataframe\"><thead><tr><th>y</th><th>yp</th></tr><tr><td>i64</td><td>u16</td></tr></thead><tbody><tr><td>1</td><td>0</td></tr><tr><td>0</td><td>0</td></tr><tr><td>0</td><td>0</td></tr><tr><td>1</td><td>0</td></tr><tr><td>0</td><td>0</td></tr></tbody></table></div>"
      ]
     },
     "execution_count": 17,
     "metadata": {},
     "output_type": "execute_result"
    }
   ],
   "execution_count": 17
  },
  {
   "metadata": {
    "ExecuteTime": {
     "end_time": "2025-01-02T23:14:58.501797Z",
     "start_time": "2025-01-02T23:14:58.499312Z"
    }
   },
   "cell_type": "code",
   "source": [
    "values_count = labels.group_by(['y', 'yp']).len()\n",
    "values_count"
   ],
   "id": "1e414e6a4241d7a",
   "outputs": [
    {
     "data": {
      "text/plain": [
       "shape: (4, 3)\n",
       "┌─────┬─────┬──────┐\n",
       "│ y   ┆ yp  ┆ len  │\n",
       "│ --- ┆ --- ┆ ---  │\n",
       "│ i64 ┆ u16 ┆ u32  │\n",
       "╞═════╪═════╪══════╡\n",
       "│ 1   ┆ 1   ┆ 3088 │\n",
       "│ 1   ┆ 0   ┆ 828  │\n",
       "│ 0   ┆ 1   ┆ 28   │\n",
       "│ 0   ┆ 0   ┆ 4180 │\n",
       "└─────┴─────┴──────┘"
      ],
      "text/html": [
       "<div><style>\n",
       ".dataframe > thead > tr,\n",
       ".dataframe > tbody > tr {\n",
       "  text-align: right;\n",
       "  white-space: pre-wrap;\n",
       "}\n",
       "</style>\n",
       "<small>shape: (4, 3)</small><table border=\"1\" class=\"dataframe\"><thead><tr><th>y</th><th>yp</th><th>len</th></tr><tr><td>i64</td><td>u16</td><td>u32</td></tr></thead><tbody><tr><td>1</td><td>1</td><td>3088</td></tr><tr><td>1</td><td>0</td><td>828</td></tr><tr><td>0</td><td>1</td><td>28</td></tr><tr><td>0</td><td>0</td><td>4180</td></tr></tbody></table></div>"
      ]
     },
     "execution_count": 18,
     "metadata": {},
     "output_type": "execute_result"
    }
   ],
   "execution_count": 18
  },
  {
   "metadata": {
    "ExecuteTime": {
     "end_time": "2025-01-02T23:14:58.606663Z",
     "start_time": "2025-01-02T23:14:58.590652Z"
    }
   },
   "cell_type": "code",
   "source": [
    "cf_matrix = confusion_matrix(encoded_y, clusters)\n",
    "cf_df = DataFrame({\n",
    "    'True Label': np.repeat(np.arange(cf_matrix.shape[0]), cf_matrix.shape[1]),\n",
    "    'Predicted Label': np.tile(np.arange(cf_matrix.shape[1]), cf_matrix.shape[0]),\n",
    "    'Count': cf_matrix.flatten()\n",
    "})\n",
    "\n",
    "heatmap = alt.Chart(cf_df).mark_rect().encode(\n",
    "    x='Predicted Label:O',\n",
    "    y='True Label:O',\n",
    "    color='Count:Q',\n",
    "    tooltip=['True Label', 'Predicted Label', 'Count']\n",
    ").properties(\n",
    "    width=300,\n",
    "    height=300\n",
    ")\n",
    "\n",
    "heatmap"
   ],
   "id": "661481b39edbabc5",
   "outputs": [
    {
     "data": {
      "text/html": [
       "\n",
       "<style>\n",
       "  #altair-viz-02ff02af8cad44ea970fef4e6535292b.vega-embed {\n",
       "    width: 100%;\n",
       "    display: flex;\n",
       "  }\n",
       "\n",
       "  #altair-viz-02ff02af8cad44ea970fef4e6535292b.vega-embed details,\n",
       "  #altair-viz-02ff02af8cad44ea970fef4e6535292b.vega-embed details summary {\n",
       "    position: relative;\n",
       "  }\n",
       "</style>\n",
       "<div id=\"altair-viz-02ff02af8cad44ea970fef4e6535292b\"></div>\n",
       "<script type=\"text/javascript\">\n",
       "  var VEGA_DEBUG = (typeof VEGA_DEBUG == \"undefined\") ? {} : VEGA_DEBUG;\n",
       "  (function(spec, embedOpt){\n",
       "    let outputDiv = document.currentScript.previousElementSibling;\n",
       "    if (outputDiv.id !== \"altair-viz-02ff02af8cad44ea970fef4e6535292b\") {\n",
       "      outputDiv = document.getElementById(\"altair-viz-02ff02af8cad44ea970fef4e6535292b\");\n",
       "    }\n",
       "\n",
       "    const paths = {\n",
       "      \"vega\": \"https://cdn.jsdelivr.net/npm/vega@5?noext\",\n",
       "      \"vega-lib\": \"https://cdn.jsdelivr.net/npm/vega-lib?noext\",\n",
       "      \"vega-lite\": \"https://cdn.jsdelivr.net/npm/vega-lite@5.20.1?noext\",\n",
       "      \"vega-embed\": \"https://cdn.jsdelivr.net/npm/vega-embed@6?noext\",\n",
       "    };\n",
       "\n",
       "    function maybeLoadScript(lib, version) {\n",
       "      var key = `${lib.replace(\"-\", \"\")}_version`;\n",
       "      return (VEGA_DEBUG[key] == version) ?\n",
       "        Promise.resolve(paths[lib]) :\n",
       "        new Promise(function(resolve, reject) {\n",
       "          var s = document.createElement('script');\n",
       "          document.getElementsByTagName(\"head\")[0].appendChild(s);\n",
       "          s.async = true;\n",
       "          s.onload = () => {\n",
       "            VEGA_DEBUG[key] = version;\n",
       "            return resolve(paths[lib]);\n",
       "          };\n",
       "          s.onerror = () => reject(`Error loading script: ${paths[lib]}`);\n",
       "          s.src = paths[lib];\n",
       "        });\n",
       "    }\n",
       "\n",
       "    function showError(err) {\n",
       "      outputDiv.innerHTML = `<div class=\"error\" style=\"color:red;\">${err}</div>`;\n",
       "      throw err;\n",
       "    }\n",
       "\n",
       "    function displayChart(vegaEmbed) {\n",
       "      vegaEmbed(outputDiv, spec, embedOpt)\n",
       "        .catch(err => showError(`Javascript Error: ${err.message}<br>This usually means there's a typo in your chart specification. See the javascript console for the full traceback.`));\n",
       "    }\n",
       "\n",
       "    if(typeof define === \"function\" && define.amd) {\n",
       "      requirejs.config({paths});\n",
       "      let deps = [\"vega-embed\"];\n",
       "      require(deps, displayChart, err => showError(`Error loading script: ${err.message}`));\n",
       "    } else {\n",
       "      maybeLoadScript(\"vega\", \"5\")\n",
       "        .then(() => maybeLoadScript(\"vega-lite\", \"5.20.1\"))\n",
       "        .then(() => maybeLoadScript(\"vega-embed\", \"6\"))\n",
       "        .catch(showError)\n",
       "        .then(() => displayChart(vegaEmbed));\n",
       "    }\n",
       "  })({\"config\": {\"view\": {\"continuousWidth\": 300, \"continuousHeight\": 300}}, \"data\": {\"name\": \"data-269fe9c3b1c9308e366c645f885b39ad\"}, \"mark\": {\"type\": \"rect\"}, \"encoding\": {\"color\": {\"field\": \"Count\", \"type\": \"quantitative\"}, \"tooltip\": [{\"field\": \"True Label\", \"type\": \"quantitative\"}, {\"field\": \"Predicted Label\", \"type\": \"quantitative\"}, {\"field\": \"Count\", \"type\": \"quantitative\"}], \"x\": {\"field\": \"Predicted Label\", \"type\": \"ordinal\"}, \"y\": {\"field\": \"True Label\", \"type\": \"ordinal\"}}, \"height\": 300, \"width\": 300, \"$schema\": \"https://vega.github.io/schema/vega-lite/v5.20.1.json\", \"datasets\": {\"data-269fe9c3b1c9308e366c645f885b39ad\": [{\"True Label\": 0, \"Predicted Label\": 0, \"Count\": 4180}, {\"True Label\": 0, \"Predicted Label\": 1, \"Count\": 28}, {\"True Label\": 1, \"Predicted Label\": 0, \"Count\": 828}, {\"True Label\": 1, \"Predicted Label\": 1, \"Count\": 3088}]}}, {\"mode\": \"vega-lite\"});\n",
       "</script>"
      ],
      "text/plain": [
       "alt.Chart(...)"
      ]
     },
     "execution_count": 19,
     "metadata": {},
     "output_type": "execute_result"
    }
   ],
   "execution_count": 19
  },
  {
   "metadata": {
    "ExecuteTime": {
     "end_time": "2025-01-02T23:14:58.735425Z",
     "start_time": "2025-01-02T23:14:58.663102Z"
    }
   },
   "cell_type": "code",
   "source": [
    "from matplotlib import pyplot as plt\n",
    "import seaborn as sns\n",
    "\n",
    "cf_matrix = confusion_matrix(encoded_y, clusters)\n",
    "print(cf_matrix/np.sum(cf_matrix))\n",
    "labels = ['True Neg','False Pos','False Neg','True Pos']\n",
    "labels = np.asarray(labels).reshape(2,2)\n",
    "\n",
    "fig, ax = plt.subplots(1, 1)\n",
    "sns.heatmap(cf_matrix/np.sum(cf_matrix), annot=labels, fmt='', cmap='Blues')\n",
    "ax.set_ylabel('Target Labels')\n",
    "ax.set_xlabel('Predicted Labels')"
   ],
   "id": "7a681c9b2281c364",
   "outputs": [
    {
     "name": "stdout",
     "output_type": "stream",
     "text": [
      "[[0.51452486 0.00344658]\n",
      " [0.10192024 0.38010832]]\n"
     ]
    },
    {
     "data": {
      "text/plain": [
       "Text(0.5, 23.52222222222222, 'Predicted Labels')"
      ]
     },
     "execution_count": 20,
     "metadata": {},
     "output_type": "execute_result"
    },
    {
     "data": {
      "text/plain": [
       "<Figure size 640x480 with 2 Axes>"
      ],
      "image/png": "[encoded data removed]"
     },
     "metadata": {},
     "output_type": "display_data"
    }
   ],
   "execution_count": 20
  },
  {
   "metadata": {
    "ExecuteTime": {
     "end_time": "2025-01-02T23:14:58.753373Z",
     "start_time": "2025-01-02T23:14:58.751354Z"
    }
   },
   "cell_type": "code",
   "source": [
    "labels = DataFrame({\n",
    "    'y': encoded_y,\n",
    "    'yp': clusters\n",
    "})"
   ],
   "id": "972000f65a0e7efd",
   "outputs": [],
   "execution_count": 21
  },
  {
   "metadata": {
    "ExecuteTime": {
     "end_time": "2025-01-02T23:14:58.772837Z",
     "start_time": "2025-01-02T23:14:58.765800Z"
    }
   },
   "cell_type": "code",
   "source": [
    "from sklearn.metrics import rand_score, adjusted_rand_score\n",
    "\n",
    "ri = rand_score(labels.select('y').to_numpy().flatten(), labels.select('yp').to_numpy().flatten())\n",
    "ari = adjusted_rand_score(y.to_numpy().flatten(), clusters)\n",
    "\n",
    "print(f'Rand Index: {ri}')\n",
    "print(f'Adjusted Rand Index: {ari}')"
   ],
   "id": "437b2a4afdec2ecf",
   "outputs": [
    {
     "name": "stdout",
     "output_type": "stream",
     "text": [
      "Rand Index: 0.8114474930707483\n",
      "Adjusted Rand Index: 0.6228711271435307\n"
     ]
    }
   ],
   "execution_count": 22
  },
  {
   "metadata": {
    "ExecuteTime": {
     "end_time": "2025-01-02T23:14:58.807715Z",
     "start_time": "2025-01-02T23:14:58.805168Z"
    }
   },
   "cell_type": "code",
   "source": [
    "True_neg = cf_matrix[0,0]\n",
    "False_pos = cf_matrix[0,1]\n",
    "True_pos = cf_matrix[1,1]\n",
    "False_neg = cf_matrix[1,0]\n",
    "\n",
    "accuracy = (True_neg + True_pos)/(True_neg + False_neg + True_pos + False_pos)\n",
    "recall = (True_pos)/(False_neg+True_pos)\n",
    "precision = (True_pos)/(False_pos + True_pos)\n",
    "F1_score = 2 * ((precision*recall)/(precision+recall))\n",
    "print(f'Accuracy: {accuracy}')\n",
    "print(f'Recall: {recall}')\n",
    "print(f'Precision: {precision}')\n",
    "print(f'F1_score: {F1_score}')"
   ],
   "id": "93d68cc583c07700",
   "outputs": [
    {
     "name": "stdout",
     "output_type": "stream",
     "text": [
      "Accuracy: 0.8946331856228459\n",
      "Recall: 0.7885597548518897\n",
      "Precision: 0.9910141206675225\n",
      "F1_score: 0.8782707622298066\n"
     ]
    }
   ],
   "execution_count": 23
  }
 ],
 "metadata": {
  "kernelspec": {
   "display_name": "Python 3",
   "language": "python",
   "name": "python3"
  },
  "language_info": {
   "codemirror_mode": {
    "name": "ipython",
    "version": 2
   },
   "file_extension": ".py",
   "mimetype": "text/x-python",
   "name": "python",
   "nbconvert_exporter": "python",
   "pygments_lexer": "ipython2",
   "version": "2.7.6"
  }
 },
 "nbformat": 4,
 "nbformat_minor": 5
}
