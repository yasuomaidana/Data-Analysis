{
 "cells": [
  {
   "cell_type": "code",
   "id": "initial_id",
   "metadata": {
    "collapsed": true,
    "ExecuteTime": {
     "end_time": "2024-12-21T01:52:32.505146Z",
     "start_time": "2024-12-21T01:52:32.377183Z"
    }
   },
   "source": [
    "import polars as pl\n",
    "from sklearn import preprocessing"
   ],
   "outputs": [],
   "execution_count": 15
  },
  {
   "metadata": {},
   "cell_type": "markdown",
   "source": "## Load the dataset",
   "id": "e1dc3240df690ea0"
  },
  {
   "metadata": {
    "ExecuteTime": {
     "end_time": "2024-12-20T23:40:52.068877Z",
     "start_time": "2024-12-20T23:40:52.062309Z"
    }
   },
   "cell_type": "code",
   "source": [
    "df = pl.read_csv('Data-Mushroom/mushrooms.csv', skip_rows=2)\n",
    "df.head()"
   ],
   "id": "92ad58e2f5e374bc",
   "outputs": [
    {
     "data": {
      "text/plain": [
       "shape: (5, 23)\n",
       "┌───────┬───────────┬─────────────┬───────────┬───┬───────────┬─────────────┬────────────┬─────────┐\n",
       "│ class ┆ cap-shape ┆ cap-surface ┆ cap-color ┆ … ┆ ring-type ┆ spore-print ┆ population ┆ habitat │\n",
       "│ ---   ┆ ---       ┆ ---         ┆ ---       ┆   ┆ ---       ┆ -color      ┆ ---        ┆ ---     │\n",
       "│ str   ┆ str       ┆ str         ┆ str       ┆   ┆ str       ┆ ---         ┆ str        ┆ str     │\n",
       "│       ┆           ┆             ┆           ┆   ┆           ┆ str         ┆            ┆         │\n",
       "╞═══════╪═══════════╪═════════════╪═══════════╪═══╪═══════════╪═════════════╪════════════╪═════════╡\n",
       "│ p     ┆ x         ┆ s           ┆ n         ┆ … ┆ p         ┆ k           ┆ s          ┆ u       │\n",
       "│ e     ┆ x         ┆ s           ┆ y         ┆ … ┆ p         ┆ n           ┆ n          ┆ g       │\n",
       "│ e     ┆ b         ┆ s           ┆ w         ┆ … ┆ p         ┆ n           ┆ n          ┆ m       │\n",
       "│ p     ┆ x         ┆ y           ┆ w         ┆ … ┆ p         ┆ k           ┆ s          ┆ u       │\n",
       "│ e     ┆ x         ┆ s           ┆ g         ┆ … ┆ e         ┆ n           ┆ a          ┆ g       │\n",
       "└───────┴───────────┴─────────────┴───────────┴───┴───────────┴─────────────┴────────────┴─────────┘"
      ],
      "text/html": [
       "<div><style>\n",
       ".dataframe > thead > tr,\n",
       ".dataframe > tbody > tr {\n",
       "  text-align: right;\n",
       "  white-space: pre-wrap;\n",
       "}\n",
       "</style>\n",
       "<small>shape: (5, 23)</small><table border=\"1\" class=\"dataframe\"><thead><tr><th>class</th><th>cap-shape</th><th>cap-surface</th><th>cap-color</th><th>bruises</th><th>odor</th><th>gill-attachment</th><th>gill-spacing</th><th>gill-size</th><th>gill-color</th><th>stalk-shape</th><th>stalk-root</th><th>stalk-surface-above-ring</th><th>stalk-surface-below-ring</th><th>stalk-color-above-ring</th><th>stalk-color-below-ring</th><th>veil-type</th><th>veil-color</th><th>ring-number</th><th>ring-type</th><th>spore-print-color</th><th>population</th><th>habitat</th></tr><tr><td>str</td><td>str</td><td>str</td><td>str</td><td>str</td><td>str</td><td>str</td><td>str</td><td>str</td><td>str</td><td>str</td><td>str</td><td>str</td><td>str</td><td>str</td><td>str</td><td>str</td><td>str</td><td>str</td><td>str</td><td>str</td><td>str</td><td>str</td></tr></thead><tbody><tr><td>&quot;p&quot;</td><td>&quot;x&quot;</td><td>&quot;s&quot;</td><td>&quot;n&quot;</td><td>&quot;t&quot;</td><td>&quot;p&quot;</td><td>&quot;f&quot;</td><td>&quot;c&quot;</td><td>&quot;n&quot;</td><td>&quot;k&quot;</td><td>&quot;e&quot;</td><td>&quot;e&quot;</td><td>&quot;s&quot;</td><td>&quot;s&quot;</td><td>&quot;w&quot;</td><td>&quot;w&quot;</td><td>&quot;p&quot;</td><td>&quot;w&quot;</td><td>&quot;o&quot;</td><td>&quot;p&quot;</td><td>&quot;k&quot;</td><td>&quot;s&quot;</td><td>&quot;u&quot;</td></tr><tr><td>&quot;e&quot;</td><td>&quot;x&quot;</td><td>&quot;s&quot;</td><td>&quot;y&quot;</td><td>&quot;t&quot;</td><td>&quot;a&quot;</td><td>&quot;f&quot;</td><td>&quot;c&quot;</td><td>&quot;b&quot;</td><td>&quot;k&quot;</td><td>&quot;e&quot;</td><td>&quot;c&quot;</td><td>&quot;s&quot;</td><td>&quot;s&quot;</td><td>&quot;w&quot;</td><td>&quot;w&quot;</td><td>&quot;p&quot;</td><td>&quot;w&quot;</td><td>&quot;o&quot;</td><td>&quot;p&quot;</td><td>&quot;n&quot;</td><td>&quot;n&quot;</td><td>&quot;g&quot;</td></tr><tr><td>&quot;e&quot;</td><td>&quot;b&quot;</td><td>&quot;s&quot;</td><td>&quot;w&quot;</td><td>&quot;t&quot;</td><td>&quot;l&quot;</td><td>&quot;f&quot;</td><td>&quot;c&quot;</td><td>&quot;b&quot;</td><td>&quot;n&quot;</td><td>&quot;e&quot;</td><td>&quot;c&quot;</td><td>&quot;s&quot;</td><td>&quot;s&quot;</td><td>&quot;w&quot;</td><td>&quot;w&quot;</td><td>&quot;p&quot;</td><td>&quot;w&quot;</td><td>&quot;o&quot;</td><td>&quot;p&quot;</td><td>&quot;n&quot;</td><td>&quot;n&quot;</td><td>&quot;m&quot;</td></tr><tr><td>&quot;p&quot;</td><td>&quot;x&quot;</td><td>&quot;y&quot;</td><td>&quot;w&quot;</td><td>&quot;t&quot;</td><td>&quot;p&quot;</td><td>&quot;f&quot;</td><td>&quot;c&quot;</td><td>&quot;n&quot;</td><td>&quot;n&quot;</td><td>&quot;e&quot;</td><td>&quot;e&quot;</td><td>&quot;s&quot;</td><td>&quot;s&quot;</td><td>&quot;w&quot;</td><td>&quot;w&quot;</td><td>&quot;p&quot;</td><td>&quot;w&quot;</td><td>&quot;o&quot;</td><td>&quot;p&quot;</td><td>&quot;k&quot;</td><td>&quot;s&quot;</td><td>&quot;u&quot;</td></tr><tr><td>&quot;e&quot;</td><td>&quot;x&quot;</td><td>&quot;s&quot;</td><td>&quot;g&quot;</td><td>&quot;f&quot;</td><td>&quot;n&quot;</td><td>&quot;f&quot;</td><td>&quot;w&quot;</td><td>&quot;b&quot;</td><td>&quot;k&quot;</td><td>&quot;t&quot;</td><td>&quot;e&quot;</td><td>&quot;s&quot;</td><td>&quot;s&quot;</td><td>&quot;w&quot;</td><td>&quot;w&quot;</td><td>&quot;p&quot;</td><td>&quot;w&quot;</td><td>&quot;o&quot;</td><td>&quot;e&quot;</td><td>&quot;n&quot;</td><td>&quot;a&quot;</td><td>&quot;g&quot;</td></tr></tbody></table></div>"
      ]
     },
     "execution_count": 6,
     "metadata": {},
     "output_type": "execute_result"
    }
   ],
   "execution_count": 6
  },
  {
   "metadata": {
    "ExecuteTime": {
     "end_time": "2024-12-20T23:41:18.213142Z",
     "start_time": "2024-12-20T23:41:18.207715Z"
    }
   },
   "cell_type": "code",
   "source": "df.describe()",
   "id": "70d00a16b9e4f2ae",
   "outputs": [
    {
     "data": {
      "text/plain": [
       "shape: (9, 24)\n",
       "┌────────────┬───────┬───────────┬─────────────┬───┬───────────┬────────────┬────────────┬─────────┐\n",
       "│ statistic  ┆ class ┆ cap-shape ┆ cap-surface ┆ … ┆ ring-type ┆ spore-prin ┆ population ┆ habitat │\n",
       "│ ---        ┆ ---   ┆ ---       ┆ ---         ┆   ┆ ---       ┆ t-color    ┆ ---        ┆ ---     │\n",
       "│ str        ┆ str   ┆ str       ┆ str         ┆   ┆ str       ┆ ---        ┆ str        ┆ str     │\n",
       "│            ┆       ┆           ┆             ┆   ┆           ┆ str        ┆            ┆         │\n",
       "╞════════════╪═══════╪═══════════╪═════════════╪═══╪═══════════╪════════════╪════════════╪═════════╡\n",
       "│ count      ┆ 8124  ┆ 8124      ┆ 8124        ┆ … ┆ 8124      ┆ 8124       ┆ 8124       ┆ 8124    │\n",
       "│ null_count ┆ 0     ┆ 0         ┆ 0           ┆ … ┆ 0         ┆ 0          ┆ 0          ┆ 0       │\n",
       "│ mean       ┆ null  ┆ null      ┆ null        ┆ … ┆ null      ┆ null       ┆ null       ┆ null    │\n",
       "│ std        ┆ null  ┆ null      ┆ null        ┆ … ┆ null      ┆ null       ┆ null       ┆ null    │\n",
       "│ min        ┆ e     ┆ b         ┆ f           ┆ … ┆ e         ┆ b          ┆ a          ┆ d       │\n",
       "│ 25%        ┆ null  ┆ null      ┆ null        ┆ … ┆ null      ┆ null       ┆ null       ┆ null    │\n",
       "│ 50%        ┆ null  ┆ null      ┆ null        ┆ … ┆ null      ┆ null       ┆ null       ┆ null    │\n",
       "│ 75%        ┆ null  ┆ null      ┆ null        ┆ … ┆ null      ┆ null       ┆ null       ┆ null    │\n",
       "│ max        ┆ p     ┆ x         ┆ y           ┆ … ┆ p         ┆ y          ┆ y          ┆ w       │\n",
       "└────────────┴───────┴───────────┴─────────────┴───┴───────────┴────────────┴────────────┴─────────┘"
      ],
      "text/html": [
       "<div><style>\n",
       ".dataframe > thead > tr,\n",
       ".dataframe > tbody > tr {\n",
       "  text-align: right;\n",
       "  white-space: pre-wrap;\n",
       "}\n",
       "</style>\n",
       "<small>shape: (9, 24)</small><table border=\"1\" class=\"dataframe\"><thead><tr><th>statistic</th><th>class</th><th>cap-shape</th><th>cap-surface</th><th>cap-color</th><th>bruises</th><th>odor</th><th>gill-attachment</th><th>gill-spacing</th><th>gill-size</th><th>gill-color</th><th>stalk-shape</th><th>stalk-root</th><th>stalk-surface-above-ring</th><th>stalk-surface-below-ring</th><th>stalk-color-above-ring</th><th>stalk-color-below-ring</th><th>veil-type</th><th>veil-color</th><th>ring-number</th><th>ring-type</th><th>spore-print-color</th><th>population</th><th>habitat</th></tr><tr><td>str</td><td>str</td><td>str</td><td>str</td><td>str</td><td>str</td><td>str</td><td>str</td><td>str</td><td>str</td><td>str</td><td>str</td><td>str</td><td>str</td><td>str</td><td>str</td><td>str</td><td>str</td><td>str</td><td>str</td><td>str</td><td>str</td><td>str</td><td>str</td></tr></thead><tbody><tr><td>&quot;count&quot;</td><td>&quot;8124&quot;</td><td>&quot;8124&quot;</td><td>&quot;8124&quot;</td><td>&quot;8124&quot;</td><td>&quot;8124&quot;</td><td>&quot;8124&quot;</td><td>&quot;8124&quot;</td><td>&quot;8124&quot;</td><td>&quot;8124&quot;</td><td>&quot;8124&quot;</td><td>&quot;8124&quot;</td><td>&quot;8124&quot;</td><td>&quot;8124&quot;</td><td>&quot;8124&quot;</td><td>&quot;8124&quot;</td><td>&quot;8124&quot;</td><td>&quot;8124&quot;</td><td>&quot;8124&quot;</td><td>&quot;8124&quot;</td><td>&quot;8124&quot;</td><td>&quot;8124&quot;</td><td>&quot;8124&quot;</td><td>&quot;8124&quot;</td></tr><tr><td>&quot;null_count&quot;</td><td>&quot;0&quot;</td><td>&quot;0&quot;</td><td>&quot;0&quot;</td><td>&quot;0&quot;</td><td>&quot;0&quot;</td><td>&quot;0&quot;</td><td>&quot;0&quot;</td><td>&quot;0&quot;</td><td>&quot;0&quot;</td><td>&quot;0&quot;</td><td>&quot;0&quot;</td><td>&quot;0&quot;</td><td>&quot;0&quot;</td><td>&quot;0&quot;</td><td>&quot;0&quot;</td><td>&quot;0&quot;</td><td>&quot;0&quot;</td><td>&quot;0&quot;</td><td>&quot;0&quot;</td><td>&quot;0&quot;</td><td>&quot;0&quot;</td><td>&quot;0&quot;</td><td>&quot;0&quot;</td></tr><tr><td>&quot;mean&quot;</td><td>null</td><td>null</td><td>null</td><td>null</td><td>null</td><td>null</td><td>null</td><td>null</td><td>null</td><td>null</td><td>null</td><td>null</td><td>null</td><td>null</td><td>null</td><td>null</td><td>null</td><td>null</td><td>null</td><td>null</td><td>null</td><td>null</td><td>null</td></tr><tr><td>&quot;std&quot;</td><td>null</td><td>null</td><td>null</td><td>null</td><td>null</td><td>null</td><td>null</td><td>null</td><td>null</td><td>null</td><td>null</td><td>null</td><td>null</td><td>null</td><td>null</td><td>null</td><td>null</td><td>null</td><td>null</td><td>null</td><td>null</td><td>null</td><td>null</td></tr><tr><td>&quot;min&quot;</td><td>&quot;e&quot;</td><td>&quot;b&quot;</td><td>&quot;f&quot;</td><td>&quot;b&quot;</td><td>&quot;f&quot;</td><td>&quot;a&quot;</td><td>&quot;a&quot;</td><td>&quot;c&quot;</td><td>&quot;b&quot;</td><td>&quot;b&quot;</td><td>&quot;e&quot;</td><td>&quot;?&quot;</td><td>&quot;f&quot;</td><td>&quot;f&quot;</td><td>&quot;b&quot;</td><td>&quot;b&quot;</td><td>&quot;p&quot;</td><td>&quot;n&quot;</td><td>&quot;n&quot;</td><td>&quot;e&quot;</td><td>&quot;b&quot;</td><td>&quot;a&quot;</td><td>&quot;d&quot;</td></tr><tr><td>&quot;25%&quot;</td><td>null</td><td>null</td><td>null</td><td>null</td><td>null</td><td>null</td><td>null</td><td>null</td><td>null</td><td>null</td><td>null</td><td>null</td><td>null</td><td>null</td><td>null</td><td>null</td><td>null</td><td>null</td><td>null</td><td>null</td><td>null</td><td>null</td><td>null</td></tr><tr><td>&quot;50%&quot;</td><td>null</td><td>null</td><td>null</td><td>null</td><td>null</td><td>null</td><td>null</td><td>null</td><td>null</td><td>null</td><td>null</td><td>null</td><td>null</td><td>null</td><td>null</td><td>null</td><td>null</td><td>null</td><td>null</td><td>null</td><td>null</td><td>null</td><td>null</td></tr><tr><td>&quot;75%&quot;</td><td>null</td><td>null</td><td>null</td><td>null</td><td>null</td><td>null</td><td>null</td><td>null</td><td>null</td><td>null</td><td>null</td><td>null</td><td>null</td><td>null</td><td>null</td><td>null</td><td>null</td><td>null</td><td>null</td><td>null</td><td>null</td><td>null</td><td>null</td></tr><tr><td>&quot;max&quot;</td><td>&quot;p&quot;</td><td>&quot;x&quot;</td><td>&quot;y&quot;</td><td>&quot;y&quot;</td><td>&quot;t&quot;</td><td>&quot;y&quot;</td><td>&quot;f&quot;</td><td>&quot;w&quot;</td><td>&quot;n&quot;</td><td>&quot;y&quot;</td><td>&quot;t&quot;</td><td>&quot;r&quot;</td><td>&quot;y&quot;</td><td>&quot;y&quot;</td><td>&quot;y&quot;</td><td>&quot;y&quot;</td><td>&quot;p&quot;</td><td>&quot;y&quot;</td><td>&quot;t&quot;</td><td>&quot;p&quot;</td><td>&quot;y&quot;</td><td>&quot;y&quot;</td><td>&quot;w&quot;</td></tr></tbody></table></div>"
      ]
     },
     "execution_count": 7,
     "metadata": {},
     "output_type": "execute_result"
    }
   ],
   "execution_count": 7
  },
  {
   "metadata": {
    "ExecuteTime": {
     "end_time": "2024-12-21T01:17:21.367718Z",
     "start_time": "2024-12-21T01:17:21.357548Z"
    }
   },
   "cell_type": "code",
   "source": [
    "y = df.select('class')\n",
    "x = df.drop('class')"
   ],
   "id": "3aabe01c6599c10",
   "outputs": [],
   "execution_count": 12
  },
  {
   "metadata": {
    "ExecuteTime": {
     "end_time": "2024-12-21T01:17:26.698714Z",
     "start_time": "2024-12-21T01:17:26.695167Z"
    }
   },
   "cell_type": "code",
   "source": "x.schema",
   "id": "8f7778f8c17369fc",
   "outputs": [
    {
     "data": {
      "text/plain": [
       "Schema([('cap-shape', String),\n",
       "        ('cap-surface', String),\n",
       "        ('cap-color', String),\n",
       "        ('bruises', String),\n",
       "        ('odor', String),\n",
       "        ('gill-attachment', String),\n",
       "        ('gill-spacing', String),\n",
       "        ('gill-size', String),\n",
       "        ('gill-color', String),\n",
       "        ('stalk-shape', String),\n",
       "        ('stalk-root', String),\n",
       "        ('stalk-surface-above-ring', String),\n",
       "        ('stalk-surface-below-ring', String),\n",
       "        ('stalk-color-above-ring', String),\n",
       "        ('stalk-color-below-ring', String),\n",
       "        ('veil-type', String),\n",
       "        ('veil-color', String),\n",
       "        ('ring-number', String),\n",
       "        ('ring-type', String),\n",
       "        ('spore-print-color', String),\n",
       "        ('population', String),\n",
       "        ('habitat', String)])"
      ]
     },
     "execution_count": 13,
     "metadata": {},
     "output_type": "execute_result"
    }
   ],
   "execution_count": 13
  },
  {
   "metadata": {
    "ExecuteTime": {
     "end_time": "2024-12-21T01:17:34.317066Z",
     "start_time": "2024-12-21T01:17:34.313439Z"
    }
   },
   "cell_type": "code",
   "source": "df.null_count()",
   "id": "e31f2642b37d2479",
   "outputs": [
    {
     "data": {
      "text/plain": [
       "shape: (1, 23)\n",
       "┌───────┬───────────┬─────────────┬───────────┬───┬───────────┬─────────────┬────────────┬─────────┐\n",
       "│ class ┆ cap-shape ┆ cap-surface ┆ cap-color ┆ … ┆ ring-type ┆ spore-print ┆ population ┆ habitat │\n",
       "│ ---   ┆ ---       ┆ ---         ┆ ---       ┆   ┆ ---       ┆ -color      ┆ ---        ┆ ---     │\n",
       "│ u32   ┆ u32       ┆ u32         ┆ u32       ┆   ┆ u32       ┆ ---         ┆ u32        ┆ u32     │\n",
       "│       ┆           ┆             ┆           ┆   ┆           ┆ u32         ┆            ┆         │\n",
       "╞═══════╪═══════════╪═════════════╪═══════════╪═══╪═══════════╪═════════════╪════════════╪═════════╡\n",
       "│ 0     ┆ 0         ┆ 0           ┆ 0         ┆ … ┆ 0         ┆ 0           ┆ 0          ┆ 0       │\n",
       "└───────┴───────────┴─────────────┴───────────┴───┴───────────┴─────────────┴────────────┴─────────┘"
      ],
      "text/html": [
       "<div><style>\n",
       ".dataframe > thead > tr,\n",
       ".dataframe > tbody > tr {\n",
       "  text-align: right;\n",
       "  white-space: pre-wrap;\n",
       "}\n",
       "</style>\n",
       "<small>shape: (1, 23)</small><table border=\"1\" class=\"dataframe\"><thead><tr><th>class</th><th>cap-shape</th><th>cap-surface</th><th>cap-color</th><th>bruises</th><th>odor</th><th>gill-attachment</th><th>gill-spacing</th><th>gill-size</th><th>gill-color</th><th>stalk-shape</th><th>stalk-root</th><th>stalk-surface-above-ring</th><th>stalk-surface-below-ring</th><th>stalk-color-above-ring</th><th>stalk-color-below-ring</th><th>veil-type</th><th>veil-color</th><th>ring-number</th><th>ring-type</th><th>spore-print-color</th><th>population</th><th>habitat</th></tr><tr><td>u32</td><td>u32</td><td>u32</td><td>u32</td><td>u32</td><td>u32</td><td>u32</td><td>u32</td><td>u32</td><td>u32</td><td>u32</td><td>u32</td><td>u32</td><td>u32</td><td>u32</td><td>u32</td><td>u32</td><td>u32</td><td>u32</td><td>u32</td><td>u32</td><td>u32</td><td>u32</td></tr></thead><tbody><tr><td>0</td><td>0</td><td>0</td><td>0</td><td>0</td><td>0</td><td>0</td><td>0</td><td>0</td><td>0</td><td>0</td><td>0</td><td>0</td><td>0</td><td>0</td><td>0</td><td>0</td><td>0</td><td>0</td><td>0</td><td>0</td><td>0</td><td>0</td></tr></tbody></table></div>"
      ]
     },
     "execution_count": 14,
     "metadata": {},
     "output_type": "execute_result"
    }
   ],
   "execution_count": 14
  },
  {
   "metadata": {},
   "cell_type": "markdown",
   "source": "## Preprocessing data\n",
   "id": "c861be2649126f7b"
  },
  {
   "metadata": {
    "ExecuteTime": {
     "end_time": "2024-12-21T01:59:17.658792Z",
     "start_time": "2024-12-21T01:59:17.620540Z"
    }
   },
   "cell_type": "code",
   "source": [
    "encoder = preprocessing.LabelEncoder()\n",
    "x.select(\n",
    "    [\n",
    "        pl.all().map_batches(encoder.fit_transform)\n",
    "    ]\n",
    ")"
   ],
   "id": "8aaeaded9315f16e",
   "outputs": [
    {
     "data": {
      "text/plain": [
       "shape: (8_124, 22)\n",
       "┌───────────┬────────────┬───────────┬─────────┬───┬───────────┬────────────┬────────────┬─────────┐\n",
       "│ cap-shape ┆ cap-surfac ┆ cap-color ┆ bruises ┆ … ┆ ring-type ┆ spore-prin ┆ population ┆ habitat │\n",
       "│ ---       ┆ e          ┆ ---       ┆ ---     ┆   ┆ ---       ┆ t-color    ┆ ---        ┆ ---     │\n",
       "│ i64       ┆ ---        ┆ i64       ┆ i64     ┆   ┆ i64       ┆ ---        ┆ i64        ┆ i64     │\n",
       "│           ┆ i64        ┆           ┆         ┆   ┆           ┆ i64        ┆            ┆         │\n",
       "╞═══════════╪════════════╪═══════════╪═════════╪═══╪═══════════╪════════════╪════════════╪═════════╡\n",
       "│ 5         ┆ 2          ┆ 4         ┆ 1       ┆ … ┆ 4         ┆ 2          ┆ 3          ┆ 5       │\n",
       "│ 5         ┆ 2          ┆ 9         ┆ 1       ┆ … ┆ 4         ┆ 3          ┆ 2          ┆ 1       │\n",
       "│ 0         ┆ 2          ┆ 8         ┆ 1       ┆ … ┆ 4         ┆ 3          ┆ 2          ┆ 3       │\n",
       "│ 5         ┆ 3          ┆ 8         ┆ 1       ┆ … ┆ 4         ┆ 2          ┆ 3          ┆ 5       │\n",
       "│ 5         ┆ 2          ┆ 3         ┆ 0       ┆ … ┆ 0         ┆ 3          ┆ 0          ┆ 1       │\n",
       "│ …         ┆ …          ┆ …         ┆ …       ┆ … ┆ …         ┆ …          ┆ …          ┆ …       │\n",
       "│ 3         ┆ 2          ┆ 4         ┆ 0       ┆ … ┆ 4         ┆ 0          ┆ 1          ┆ 2       │\n",
       "│ 5         ┆ 2          ┆ 4         ┆ 0       ┆ … ┆ 4         ┆ 0          ┆ 4          ┆ 2       │\n",
       "│ 2         ┆ 2          ┆ 4         ┆ 0       ┆ … ┆ 4         ┆ 0          ┆ 1          ┆ 2       │\n",
       "│ 3         ┆ 3          ┆ 4         ┆ 0       ┆ … ┆ 0         ┆ 7          ┆ 4          ┆ 2       │\n",
       "│ 5         ┆ 2          ┆ 4         ┆ 0       ┆ … ┆ 4         ┆ 4          ┆ 1          ┆ 2       │\n",
       "└───────────┴────────────┴───────────┴─────────┴───┴───────────┴────────────┴────────────┴─────────┘"
      ],
      "text/html": [
       "<div><style>\n",
       ".dataframe > thead > tr,\n",
       ".dataframe > tbody > tr {\n",
       "  text-align: right;\n",
       "  white-space: pre-wrap;\n",
       "}\n",
       "</style>\n",
       "<small>shape: (8_124, 22)</small><table border=\"1\" class=\"dataframe\"><thead><tr><th>cap-shape</th><th>cap-surface</th><th>cap-color</th><th>bruises</th><th>odor</th><th>gill-attachment</th><th>gill-spacing</th><th>gill-size</th><th>gill-color</th><th>stalk-shape</th><th>stalk-root</th><th>stalk-surface-above-ring</th><th>stalk-surface-below-ring</th><th>stalk-color-above-ring</th><th>stalk-color-below-ring</th><th>veil-type</th><th>veil-color</th><th>ring-number</th><th>ring-type</th><th>spore-print-color</th><th>population</th><th>habitat</th></tr><tr><td>i64</td><td>i64</td><td>i64</td><td>i64</td><td>i64</td><td>i64</td><td>i64</td><td>i64</td><td>i64</td><td>i64</td><td>i64</td><td>i64</td><td>i64</td><td>i64</td><td>i64</td><td>i64</td><td>i64</td><td>i64</td><td>i64</td><td>i64</td><td>i64</td><td>i64</td></tr></thead><tbody><tr><td>5</td><td>2</td><td>4</td><td>1</td><td>6</td><td>1</td><td>0</td><td>1</td><td>4</td><td>0</td><td>3</td><td>2</td><td>2</td><td>7</td><td>7</td><td>0</td><td>2</td><td>1</td><td>4</td><td>2</td><td>3</td><td>5</td></tr><tr><td>5</td><td>2</td><td>9</td><td>1</td><td>0</td><td>1</td><td>0</td><td>0</td><td>4</td><td>0</td><td>2</td><td>2</td><td>2</td><td>7</td><td>7</td><td>0</td><td>2</td><td>1</td><td>4</td><td>3</td><td>2</td><td>1</td></tr><tr><td>0</td><td>2</td><td>8</td><td>1</td><td>3</td><td>1</td><td>0</td><td>0</td><td>5</td><td>0</td><td>2</td><td>2</td><td>2</td><td>7</td><td>7</td><td>0</td><td>2</td><td>1</td><td>4</td><td>3</td><td>2</td><td>3</td></tr><tr><td>5</td><td>3</td><td>8</td><td>1</td><td>6</td><td>1</td><td>0</td><td>1</td><td>5</td><td>0</td><td>3</td><td>2</td><td>2</td><td>7</td><td>7</td><td>0</td><td>2</td><td>1</td><td>4</td><td>2</td><td>3</td><td>5</td></tr><tr><td>5</td><td>2</td><td>3</td><td>0</td><td>5</td><td>1</td><td>1</td><td>0</td><td>4</td><td>1</td><td>3</td><td>2</td><td>2</td><td>7</td><td>7</td><td>0</td><td>2</td><td>1</td><td>0</td><td>3</td><td>0</td><td>1</td></tr><tr><td>&hellip;</td><td>&hellip;</td><td>&hellip;</td><td>&hellip;</td><td>&hellip;</td><td>&hellip;</td><td>&hellip;</td><td>&hellip;</td><td>&hellip;</td><td>&hellip;</td><td>&hellip;</td><td>&hellip;</td><td>&hellip;</td><td>&hellip;</td><td>&hellip;</td><td>&hellip;</td><td>&hellip;</td><td>&hellip;</td><td>&hellip;</td><td>&hellip;</td><td>&hellip;</td><td>&hellip;</td></tr><tr><td>3</td><td>2</td><td>4</td><td>0</td><td>5</td><td>0</td><td>0</td><td>0</td><td>11</td><td>0</td><td>0</td><td>2</td><td>2</td><td>5</td><td>5</td><td>0</td><td>1</td><td>1</td><td>4</td><td>0</td><td>1</td><td>2</td></tr><tr><td>5</td><td>2</td><td>4</td><td>0</td><td>5</td><td>0</td><td>0</td><td>0</td><td>11</td><td>0</td><td>0</td><td>2</td><td>2</td><td>5</td><td>5</td><td>0</td><td>0</td><td>1</td><td>4</td><td>0</td><td>4</td><td>2</td></tr><tr><td>2</td><td>2</td><td>4</td><td>0</td><td>5</td><td>0</td><td>0</td><td>0</td><td>5</td><td>0</td><td>0</td><td>2</td><td>2</td><td>5</td><td>5</td><td>0</td><td>1</td><td>1</td><td>4</td><td>0</td><td>1</td><td>2</td></tr><tr><td>3</td><td>3</td><td>4</td><td>0</td><td>8</td><td>1</td><td>0</td><td>1</td><td>0</td><td>1</td><td>0</td><td>2</td><td>1</td><td>7</td><td>7</td><td>0</td><td>2</td><td>1</td><td>0</td><td>7</td><td>4</td><td>2</td></tr><tr><td>5</td><td>2</td><td>4</td><td>0</td><td>5</td><td>0</td><td>0</td><td>0</td><td>11</td><td>0</td><td>0</td><td>2</td><td>2</td><td>5</td><td>5</td><td>0</td><td>1</td><td>1</td><td>4</td><td>4</td><td>1</td><td>2</td></tr></tbody></table></div>"
      ]
     },
     "execution_count": 20,
     "metadata": {},
     "output_type": "execute_result"
    }
   ],
   "execution_count": 20
  }
 ],
 "metadata": {
  "kernelspec": {
   "display_name": "Python 3",
   "language": "python",
   "name": "python3"
  },
  "language_info": {
   "codemirror_mode": {
    "name": "ipython",
    "version": 2
   },
   "file_extension": ".py",
   "mimetype": "text/x-python",
   "name": "python",
   "nbconvert_exporter": "python",
   "pygments_lexer": "ipython2",
   "version": "2.7.6"
  }
 },
 "nbformat": 4,
 "nbformat_minor": 5
}
