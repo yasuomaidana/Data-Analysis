{
 "cells": [
  {
   "cell_type": "code",
   "id": "initial_id",
   "metadata": {
    "collapsed": true,
    "ExecuteTime": {
     "end_time": "2025-01-03T01:49:13.079338Z",
     "start_time": "2025-01-03T01:49:12.598568Z"
    }
   },
   "source": [
    "import numpy as np\n",
    "import pandas as pd\n",
    "import polars as pl\n",
    "from matplotlib import pyplot as plt\n",
    "from sklearn import preprocessing\n",
    "from sklearn.cluster import KMeans\n",
    "from sklearn.metrics import confusion_matrix, rand_score, adjusted_rand_score\n",
    "import altair as alt\n",
    "import seaborn as sns"
   ],
   "outputs": [],
   "execution_count": 1
  },
  {
   "metadata": {
    "ExecuteTime": {
     "end_time": "2025-01-03T01:49:13.090622Z",
     "start_time": "2025-01-03T01:49:13.083450Z"
    }
   },
   "cell_type": "code",
   "source": [
    "%%time\n",
    "# Load the dataset polars\n",
    "pl_df = pl.read_csv('Data-Mushroom/mushrooms.csv', skip_rows=2)\n",
    "pl_df.head()"
   ],
   "id": "5d92ed542ed62c3e",
   "outputs": [
    {
     "name": "stdout",
     "output_type": "stream",
     "text": [
      "CPU times: user 5.23 ms, sys: 3.78 ms, total: 9.01 ms\n",
      "Wall time: 3.12 ms\n"
     ]
    },
    {
     "data": {
      "text/plain": [
       "shape: (5, 23)\n",
       "┌───────┬───────────┬─────────────┬───────────┬───┬───────────┬─────────────┬────────────┬─────────┐\n",
       "│ class ┆ cap-shape ┆ cap-surface ┆ cap-color ┆ … ┆ ring-type ┆ spore-print ┆ population ┆ habitat │\n",
       "│ ---   ┆ ---       ┆ ---         ┆ ---       ┆   ┆ ---       ┆ -color      ┆ ---        ┆ ---     │\n",
       "│ str   ┆ str       ┆ str         ┆ str       ┆   ┆ str       ┆ ---         ┆ str        ┆ str     │\n",
       "│       ┆           ┆             ┆           ┆   ┆           ┆ str         ┆            ┆         │\n",
       "╞═══════╪═══════════╪═════════════╪═══════════╪═══╪═══════════╪═════════════╪════════════╪═════════╡\n",
       "│ p     ┆ x         ┆ s           ┆ n         ┆ … ┆ p         ┆ k           ┆ s          ┆ u       │\n",
       "│ e     ┆ x         ┆ s           ┆ y         ┆ … ┆ p         ┆ n           ┆ n          ┆ g       │\n",
       "│ e     ┆ b         ┆ s           ┆ w         ┆ … ┆ p         ┆ n           ┆ n          ┆ m       │\n",
       "│ p     ┆ x         ┆ y           ┆ w         ┆ … ┆ p         ┆ k           ┆ s          ┆ u       │\n",
       "│ e     ┆ x         ┆ s           ┆ g         ┆ … ┆ e         ┆ n           ┆ a          ┆ g       │\n",
       "└───────┴───────────┴─────────────┴───────────┴───┴───────────┴─────────────┴────────────┴─────────┘"
      ],
      "text/html": [
       "<div><style>\n",
       ".dataframe > thead > tr,\n",
       ".dataframe > tbody > tr {\n",
       "  text-align: right;\n",
       "  white-space: pre-wrap;\n",
       "}\n",
       "</style>\n",
       "<small>shape: (5, 23)</small><table border=\"1\" class=\"dataframe\"><thead><tr><th>class</th><th>cap-shape</th><th>cap-surface</th><th>cap-color</th><th>bruises</th><th>odor</th><th>gill-attachment</th><th>gill-spacing</th><th>gill-size</th><th>gill-color</th><th>stalk-shape</th><th>stalk-root</th><th>stalk-surface-above-ring</th><th>stalk-surface-below-ring</th><th>stalk-color-above-ring</th><th>stalk-color-below-ring</th><th>veil-type</th><th>veil-color</th><th>ring-number</th><th>ring-type</th><th>spore-print-color</th><th>population</th><th>habitat</th></tr><tr><td>str</td><td>str</td><td>str</td><td>str</td><td>str</td><td>str</td><td>str</td><td>str</td><td>str</td><td>str</td><td>str</td><td>str</td><td>str</td><td>str</td><td>str</td><td>str</td><td>str</td><td>str</td><td>str</td><td>str</td><td>str</td><td>str</td><td>str</td></tr></thead><tbody><tr><td>&quot;p&quot;</td><td>&quot;x&quot;</td><td>&quot;s&quot;</td><td>&quot;n&quot;</td><td>&quot;t&quot;</td><td>&quot;p&quot;</td><td>&quot;f&quot;</td><td>&quot;c&quot;</td><td>&quot;n&quot;</td><td>&quot;k&quot;</td><td>&quot;e&quot;</td><td>&quot;e&quot;</td><td>&quot;s&quot;</td><td>&quot;s&quot;</td><td>&quot;w&quot;</td><td>&quot;w&quot;</td><td>&quot;p&quot;</td><td>&quot;w&quot;</td><td>&quot;o&quot;</td><td>&quot;p&quot;</td><td>&quot;k&quot;</td><td>&quot;s&quot;</td><td>&quot;u&quot;</td></tr><tr><td>&quot;e&quot;</td><td>&quot;x&quot;</td><td>&quot;s&quot;</td><td>&quot;y&quot;</td><td>&quot;t&quot;</td><td>&quot;a&quot;</td><td>&quot;f&quot;</td><td>&quot;c&quot;</td><td>&quot;b&quot;</td><td>&quot;k&quot;</td><td>&quot;e&quot;</td><td>&quot;c&quot;</td><td>&quot;s&quot;</td><td>&quot;s&quot;</td><td>&quot;w&quot;</td><td>&quot;w&quot;</td><td>&quot;p&quot;</td><td>&quot;w&quot;</td><td>&quot;o&quot;</td><td>&quot;p&quot;</td><td>&quot;n&quot;</td><td>&quot;n&quot;</td><td>&quot;g&quot;</td></tr><tr><td>&quot;e&quot;</td><td>&quot;b&quot;</td><td>&quot;s&quot;</td><td>&quot;w&quot;</td><td>&quot;t&quot;</td><td>&quot;l&quot;</td><td>&quot;f&quot;</td><td>&quot;c&quot;</td><td>&quot;b&quot;</td><td>&quot;n&quot;</td><td>&quot;e&quot;</td><td>&quot;c&quot;</td><td>&quot;s&quot;</td><td>&quot;s&quot;</td><td>&quot;w&quot;</td><td>&quot;w&quot;</td><td>&quot;p&quot;</td><td>&quot;w&quot;</td><td>&quot;o&quot;</td><td>&quot;p&quot;</td><td>&quot;n&quot;</td><td>&quot;n&quot;</td><td>&quot;m&quot;</td></tr><tr><td>&quot;p&quot;</td><td>&quot;x&quot;</td><td>&quot;y&quot;</td><td>&quot;w&quot;</td><td>&quot;t&quot;</td><td>&quot;p&quot;</td><td>&quot;f&quot;</td><td>&quot;c&quot;</td><td>&quot;n&quot;</td><td>&quot;n&quot;</td><td>&quot;e&quot;</td><td>&quot;e&quot;</td><td>&quot;s&quot;</td><td>&quot;s&quot;</td><td>&quot;w&quot;</td><td>&quot;w&quot;</td><td>&quot;p&quot;</td><td>&quot;w&quot;</td><td>&quot;o&quot;</td><td>&quot;p&quot;</td><td>&quot;k&quot;</td><td>&quot;s&quot;</td><td>&quot;u&quot;</td></tr><tr><td>&quot;e&quot;</td><td>&quot;x&quot;</td><td>&quot;s&quot;</td><td>&quot;g&quot;</td><td>&quot;f&quot;</td><td>&quot;n&quot;</td><td>&quot;f&quot;</td><td>&quot;w&quot;</td><td>&quot;b&quot;</td><td>&quot;k&quot;</td><td>&quot;t&quot;</td><td>&quot;e&quot;</td><td>&quot;s&quot;</td><td>&quot;s&quot;</td><td>&quot;w&quot;</td><td>&quot;w&quot;</td><td>&quot;p&quot;</td><td>&quot;w&quot;</td><td>&quot;o&quot;</td><td>&quot;e&quot;</td><td>&quot;n&quot;</td><td>&quot;a&quot;</td><td>&quot;g&quot;</td></tr></tbody></table></div>"
      ]
     },
     "execution_count": 2,
     "metadata": {},
     "output_type": "execute_result"
    }
   ],
   "execution_count": 2
  },
  {
   "metadata": {
    "ExecuteTime": {
     "end_time": "2025-01-03T01:49:13.266466Z",
     "start_time": "2025-01-03T01:49:13.253333Z"
    }
   },
   "cell_type": "code",
   "source": [
    "%%time\n",
    "pd_df = pd.read_csv('Data-Mushroom/mushrooms.csv',header=1)\n",
    "pd_df.head()"
   ],
   "id": "2ede665b6b5ac225",
   "outputs": [
    {
     "name": "stdout",
     "output_type": "stream",
     "text": [
      "CPU times: user 6.04 ms, sys: 1.39 ms, total: 7.43 ms\n",
      "Wall time: 6.87 ms\n"
     ]
    },
    {
     "data": {
      "text/plain": [
       "  class cap-shape cap-surface cap-color bruises odor gill-attachment  \\\n",
       "0     p         x           s         n       t    p               f   \n",
       "1     e         x           s         y       t    a               f   \n",
       "2     e         b           s         w       t    l               f   \n",
       "3     p         x           y         w       t    p               f   \n",
       "4     e         x           s         g       f    n               f   \n",
       "\n",
       "  gill-spacing gill-size gill-color  ... stalk-surface-below-ring  \\\n",
       "0            c         n          k  ...                        s   \n",
       "1            c         b          k  ...                        s   \n",
       "2            c         b          n  ...                        s   \n",
       "3            c         n          n  ...                        s   \n",
       "4            w         b          k  ...                        s   \n",
       "\n",
       "  stalk-color-above-ring stalk-color-below-ring veil-type veil-color  \\\n",
       "0                      w                      w         p          w   \n",
       "1                      w                      w         p          w   \n",
       "2                      w                      w         p          w   \n",
       "3                      w                      w         p          w   \n",
       "4                      w                      w         p          w   \n",
       "\n",
       "  ring-number ring-type spore-print-color population habitat  \n",
       "0           o         p                 k          s       u  \n",
       "1           o         p                 n          n       g  \n",
       "2           o         p                 n          n       m  \n",
       "3           o         p                 k          s       u  \n",
       "4           o         e                 n          a       g  \n",
       "\n",
       "[5 rows x 23 columns]"
      ],
      "text/html": [
       "<div>\n",
       "<style scoped>\n",
       "    .dataframe tbody tr th:only-of-type {\n",
       "        vertical-align: middle;\n",
       "    }\n",
       "\n",
       "    .dataframe tbody tr th {\n",
       "        vertical-align: top;\n",
       "    }\n",
       "\n",
       "    .dataframe thead th {\n",
       "        text-align: right;\n",
       "    }\n",
       "</style>\n",
       "<table border=\"1\" class=\"dataframe\">\n",
       "  <thead>\n",
       "    <tr style=\"text-align: right;\">\n",
       "      <th></th>\n",
       "      <th>class</th>\n",
       "      <th>cap-shape</th>\n",
       "      <th>cap-surface</th>\n",
       "      <th>cap-color</th>\n",
       "      <th>bruises</th>\n",
       "      <th>odor</th>\n",
       "      <th>gill-attachment</th>\n",
       "      <th>gill-spacing</th>\n",
       "      <th>gill-size</th>\n",
       "      <th>gill-color</th>\n",
       "      <th>...</th>\n",
       "      <th>stalk-surface-below-ring</th>\n",
       "      <th>stalk-color-above-ring</th>\n",
       "      <th>stalk-color-below-ring</th>\n",
       "      <th>veil-type</th>\n",
       "      <th>veil-color</th>\n",
       "      <th>ring-number</th>\n",
       "      <th>ring-type</th>\n",
       "      <th>spore-print-color</th>\n",
       "      <th>population</th>\n",
       "      <th>habitat</th>\n",
       "    </tr>\n",
       "  </thead>\n",
       "  <tbody>\n",
       "    <tr>\n",
       "      <th>0</th>\n",
       "      <td>p</td>\n",
       "      <td>x</td>\n",
       "      <td>s</td>\n",
       "      <td>n</td>\n",
       "      <td>t</td>\n",
       "      <td>p</td>\n",
       "      <td>f</td>\n",
       "      <td>c</td>\n",
       "      <td>n</td>\n",
       "      <td>k</td>\n",
       "      <td>...</td>\n",
       "      <td>s</td>\n",
       "      <td>w</td>\n",
       "      <td>w</td>\n",
       "      <td>p</td>\n",
       "      <td>w</td>\n",
       "      <td>o</td>\n",
       "      <td>p</td>\n",
       "      <td>k</td>\n",
       "      <td>s</td>\n",
       "      <td>u</td>\n",
       "    </tr>\n",
       "    <tr>\n",
       "      <th>1</th>\n",
       "      <td>e</td>\n",
       "      <td>x</td>\n",
       "      <td>s</td>\n",
       "      <td>y</td>\n",
       "      <td>t</td>\n",
       "      <td>a</td>\n",
       "      <td>f</td>\n",
       "      <td>c</td>\n",
       "      <td>b</td>\n",
       "      <td>k</td>\n",
       "      <td>...</td>\n",
       "      <td>s</td>\n",
       "      <td>w</td>\n",
       "      <td>w</td>\n",
       "      <td>p</td>\n",
       "      <td>w</td>\n",
       "      <td>o</td>\n",
       "      <td>p</td>\n",
       "      <td>n</td>\n",
       "      <td>n</td>\n",
       "      <td>g</td>\n",
       "    </tr>\n",
       "    <tr>\n",
       "      <th>2</th>\n",
       "      <td>e</td>\n",
       "      <td>b</td>\n",
       "      <td>s</td>\n",
       "      <td>w</td>\n",
       "      <td>t</td>\n",
       "      <td>l</td>\n",
       "      <td>f</td>\n",
       "      <td>c</td>\n",
       "      <td>b</td>\n",
       "      <td>n</td>\n",
       "      <td>...</td>\n",
       "      <td>s</td>\n",
       "      <td>w</td>\n",
       "      <td>w</td>\n",
       "      <td>p</td>\n",
       "      <td>w</td>\n",
       "      <td>o</td>\n",
       "      <td>p</td>\n",
       "      <td>n</td>\n",
       "      <td>n</td>\n",
       "      <td>m</td>\n",
       "    </tr>\n",
       "    <tr>\n",
       "      <th>3</th>\n",
       "      <td>p</td>\n",
       "      <td>x</td>\n",
       "      <td>y</td>\n",
       "      <td>w</td>\n",
       "      <td>t</td>\n",
       "      <td>p</td>\n",
       "      <td>f</td>\n",
       "      <td>c</td>\n",
       "      <td>n</td>\n",
       "      <td>n</td>\n",
       "      <td>...</td>\n",
       "      <td>s</td>\n",
       "      <td>w</td>\n",
       "      <td>w</td>\n",
       "      <td>p</td>\n",
       "      <td>w</td>\n",
       "      <td>o</td>\n",
       "      <td>p</td>\n",
       "      <td>k</td>\n",
       "      <td>s</td>\n",
       "      <td>u</td>\n",
       "    </tr>\n",
       "    <tr>\n",
       "      <th>4</th>\n",
       "      <td>e</td>\n",
       "      <td>x</td>\n",
       "      <td>s</td>\n",
       "      <td>g</td>\n",
       "      <td>f</td>\n",
       "      <td>n</td>\n",
       "      <td>f</td>\n",
       "      <td>w</td>\n",
       "      <td>b</td>\n",
       "      <td>k</td>\n",
       "      <td>...</td>\n",
       "      <td>s</td>\n",
       "      <td>w</td>\n",
       "      <td>w</td>\n",
       "      <td>p</td>\n",
       "      <td>w</td>\n",
       "      <td>o</td>\n",
       "      <td>e</td>\n",
       "      <td>n</td>\n",
       "      <td>a</td>\n",
       "      <td>g</td>\n",
       "    </tr>\n",
       "  </tbody>\n",
       "</table>\n",
       "<p>5 rows × 23 columns</p>\n",
       "</div>"
      ]
     },
     "execution_count": 3,
     "metadata": {},
     "output_type": "execute_result"
    }
   ],
   "execution_count": 3
  },
  {
   "metadata": {
    "ExecuteTime": {
     "end_time": "2025-01-03T01:49:13.302984Z",
     "start_time": "2025-01-03T01:49:13.299627Z"
    }
   },
   "cell_type": "code",
   "source": [
    "pl_y = pl_df.select('class')\n",
    "pl_x = pl_df.drop('class')\n",
    "pd_y = pd_df[['class']]\n",
    "pd_x = pd_df.drop('class', axis=1)"
   ],
   "id": "b08985bc4fa17979",
   "outputs": [],
   "execution_count": 4
  },
  {
   "metadata": {
    "ExecuteTime": {
     "end_time": "2025-01-03T01:49:13.320008Z",
     "start_time": "2025-01-03T01:49:13.318567Z"
    }
   },
   "cell_type": "code",
   "source": [
    "pl_encoder = preprocessing.LabelEncoder()\n",
    "pd_encoder = preprocessing.LabelEncoder()"
   ],
   "id": "eac5c67ce369623c",
   "outputs": [],
   "execution_count": 5
  },
  {
   "metadata": {
    "ExecuteTime": {
     "end_time": "2025-01-03T01:49:13.382883Z",
     "start_time": "2025-01-03T01:49:13.363929Z"
    }
   },
   "cell_type": "code",
   "source": [
    "%%time\n",
    "pl_x = pl_x.select(\n",
    "    [\n",
    "        pl.all().map_batches(pl_encoder.fit_transform)\n",
    "    ]\n",
    ")\n",
    "pl_x.head()"
   ],
   "id": "846c83c2add942f6",
   "outputs": [
    {
     "name": "stdout",
     "output_type": "stream",
     "text": [
      "CPU times: user 18.5 ms, sys: 3.88 ms, total: 22.4 ms\n",
      "Wall time: 16.3 ms\n"
     ]
    },
    {
     "data": {
      "text/plain": [
       "shape: (5, 22)\n",
       "┌───────────┬────────────┬───────────┬─────────┬───┬───────────┬────────────┬────────────┬─────────┐\n",
       "│ cap-shape ┆ cap-surfac ┆ cap-color ┆ bruises ┆ … ┆ ring-type ┆ spore-prin ┆ population ┆ habitat │\n",
       "│ ---       ┆ e          ┆ ---       ┆ ---     ┆   ┆ ---       ┆ t-color    ┆ ---        ┆ ---     │\n",
       "│ i64       ┆ ---        ┆ i64       ┆ i64     ┆   ┆ i64       ┆ ---        ┆ i64        ┆ i64     │\n",
       "│           ┆ i64        ┆           ┆         ┆   ┆           ┆ i64        ┆            ┆         │\n",
       "╞═══════════╪════════════╪═══════════╪═════════╪═══╪═══════════╪════════════╪════════════╪═════════╡\n",
       "│ 5         ┆ 2          ┆ 4         ┆ 1       ┆ … ┆ 4         ┆ 2          ┆ 3          ┆ 5       │\n",
       "│ 5         ┆ 2          ┆ 9         ┆ 1       ┆ … ┆ 4         ┆ 3          ┆ 2          ┆ 1       │\n",
       "│ 0         ┆ 2          ┆ 8         ┆ 1       ┆ … ┆ 4         ┆ 3          ┆ 2          ┆ 3       │\n",
       "│ 5         ┆ 3          ┆ 8         ┆ 1       ┆ … ┆ 4         ┆ 2          ┆ 3          ┆ 5       │\n",
       "│ 5         ┆ 2          ┆ 3         ┆ 0       ┆ … ┆ 0         ┆ 3          ┆ 0          ┆ 1       │\n",
       "└───────────┴────────────┴───────────┴─────────┴───┴───────────┴────────────┴────────────┴─────────┘"
      ],
      "text/html": [
       "<div><style>\n",
       ".dataframe > thead > tr,\n",
       ".dataframe > tbody > tr {\n",
       "  text-align: right;\n",
       "  white-space: pre-wrap;\n",
       "}\n",
       "</style>\n",
       "<small>shape: (5, 22)</small><table border=\"1\" class=\"dataframe\"><thead><tr><th>cap-shape</th><th>cap-surface</th><th>cap-color</th><th>bruises</th><th>odor</th><th>gill-attachment</th><th>gill-spacing</th><th>gill-size</th><th>gill-color</th><th>stalk-shape</th><th>stalk-root</th><th>stalk-surface-above-ring</th><th>stalk-surface-below-ring</th><th>stalk-color-above-ring</th><th>stalk-color-below-ring</th><th>veil-type</th><th>veil-color</th><th>ring-number</th><th>ring-type</th><th>spore-print-color</th><th>population</th><th>habitat</th></tr><tr><td>i64</td><td>i64</td><td>i64</td><td>i64</td><td>i64</td><td>i64</td><td>i64</td><td>i64</td><td>i64</td><td>i64</td><td>i64</td><td>i64</td><td>i64</td><td>i64</td><td>i64</td><td>i64</td><td>i64</td><td>i64</td><td>i64</td><td>i64</td><td>i64</td><td>i64</td></tr></thead><tbody><tr><td>5</td><td>2</td><td>4</td><td>1</td><td>6</td><td>1</td><td>0</td><td>1</td><td>4</td><td>0</td><td>3</td><td>2</td><td>2</td><td>7</td><td>7</td><td>0</td><td>2</td><td>1</td><td>4</td><td>2</td><td>3</td><td>5</td></tr><tr><td>5</td><td>2</td><td>9</td><td>1</td><td>0</td><td>1</td><td>0</td><td>0</td><td>4</td><td>0</td><td>2</td><td>2</td><td>2</td><td>7</td><td>7</td><td>0</td><td>2</td><td>1</td><td>4</td><td>3</td><td>2</td><td>1</td></tr><tr><td>0</td><td>2</td><td>8</td><td>1</td><td>3</td><td>1</td><td>0</td><td>0</td><td>5</td><td>0</td><td>2</td><td>2</td><td>2</td><td>7</td><td>7</td><td>0</td><td>2</td><td>1</td><td>4</td><td>3</td><td>2</td><td>3</td></tr><tr><td>5</td><td>3</td><td>8</td><td>1</td><td>6</td><td>1</td><td>0</td><td>1</td><td>5</td><td>0</td><td>3</td><td>2</td><td>2</td><td>7</td><td>7</td><td>0</td><td>2</td><td>1</td><td>4</td><td>2</td><td>3</td><td>5</td></tr><tr><td>5</td><td>2</td><td>3</td><td>0</td><td>5</td><td>1</td><td>1</td><td>0</td><td>4</td><td>1</td><td>3</td><td>2</td><td>2</td><td>7</td><td>7</td><td>0</td><td>2</td><td>1</td><td>0</td><td>3</td><td>0</td><td>1</td></tr></tbody></table></div>"
      ]
     },
     "execution_count": 6,
     "metadata": {},
     "output_type": "execute_result"
    }
   ],
   "execution_count": 6
  },
  {
   "metadata": {
    "ExecuteTime": {
     "end_time": "2025-01-03T01:49:13.476295Z",
     "start_time": "2025-01-03T01:49:13.460214Z"
    }
   },
   "cell_type": "code",
   "source": [
    "%%time\n",
    "pd_x = pd_x.apply(pd_encoder.fit_transform)\n",
    "pd_x.head()"
   ],
   "id": "8194f819623eb7a7",
   "outputs": [
    {
     "name": "stdout",
     "output_type": "stream",
     "text": [
      "CPU times: user 11.6 ms, sys: 829 μs, total: 12.5 ms\n",
      "Wall time: 12 ms\n"
     ]
    },
    {
     "data": {
      "text/plain": [
       "   cap-shape  cap-surface  cap-color  bruises  odor  gill-attachment  \\\n",
       "0          5            2          4        1     6                1   \n",
       "1          5            2          9        1     0                1   \n",
       "2          0            2          8        1     3                1   \n",
       "3          5            3          8        1     6                1   \n",
       "4          5            2          3        0     5                1   \n",
       "\n",
       "   gill-spacing  gill-size  gill-color  stalk-shape  ...  \\\n",
       "0             0          1           4            0  ...   \n",
       "1             0          0           4            0  ...   \n",
       "2             0          0           5            0  ...   \n",
       "3             0          1           5            0  ...   \n",
       "4             1          0           4            1  ...   \n",
       "\n",
       "   stalk-surface-below-ring  stalk-color-above-ring  stalk-color-below-ring  \\\n",
       "0                         2                       7                       7   \n",
       "1                         2                       7                       7   \n",
       "2                         2                       7                       7   \n",
       "3                         2                       7                       7   \n",
       "4                         2                       7                       7   \n",
       "\n",
       "   veil-type  veil-color  ring-number  ring-type  spore-print-color  \\\n",
       "0          0           2            1          4                  2   \n",
       "1          0           2            1          4                  3   \n",
       "2          0           2            1          4                  3   \n",
       "3          0           2            1          4                  2   \n",
       "4          0           2            1          0                  3   \n",
       "\n",
       "   population  habitat  \n",
       "0           3        5  \n",
       "1           2        1  \n",
       "2           2        3  \n",
       "3           3        5  \n",
       "4           0        1  \n",
       "\n",
       "[5 rows x 22 columns]"
      ],
      "text/html": [
       "<div>\n",
       "<style scoped>\n",
       "    .dataframe tbody tr th:only-of-type {\n",
       "        vertical-align: middle;\n",
       "    }\n",
       "\n",
       "    .dataframe tbody tr th {\n",
       "        vertical-align: top;\n",
       "    }\n",
       "\n",
       "    .dataframe thead th {\n",
       "        text-align: right;\n",
       "    }\n",
       "</style>\n",
       "<table border=\"1\" class=\"dataframe\">\n",
       "  <thead>\n",
       "    <tr style=\"text-align: right;\">\n",
       "      <th></th>\n",
       "      <th>cap-shape</th>\n",
       "      <th>cap-surface</th>\n",
       "      <th>cap-color</th>\n",
       "      <th>bruises</th>\n",
       "      <th>odor</th>\n",
       "      <th>gill-attachment</th>\n",
       "      <th>gill-spacing</th>\n",
       "      <th>gill-size</th>\n",
       "      <th>gill-color</th>\n",
       "      <th>stalk-shape</th>\n",
       "      <th>...</th>\n",
       "      <th>stalk-surface-below-ring</th>\n",
       "      <th>stalk-color-above-ring</th>\n",
       "      <th>stalk-color-below-ring</th>\n",
       "      <th>veil-type</th>\n",
       "      <th>veil-color</th>\n",
       "      <th>ring-number</th>\n",
       "      <th>ring-type</th>\n",
       "      <th>spore-print-color</th>\n",
       "      <th>population</th>\n",
       "      <th>habitat</th>\n",
       "    </tr>\n",
       "  </thead>\n",
       "  <tbody>\n",
       "    <tr>\n",
       "      <th>0</th>\n",
       "      <td>5</td>\n",
       "      <td>2</td>\n",
       "      <td>4</td>\n",
       "      <td>1</td>\n",
       "      <td>6</td>\n",
       "      <td>1</td>\n",
       "      <td>0</td>\n",
       "      <td>1</td>\n",
       "      <td>4</td>\n",
       "      <td>0</td>\n",
       "      <td>...</td>\n",
       "      <td>2</td>\n",
       "      <td>7</td>\n",
       "      <td>7</td>\n",
       "      <td>0</td>\n",
       "      <td>2</td>\n",
       "      <td>1</td>\n",
       "      <td>4</td>\n",
       "      <td>2</td>\n",
       "      <td>3</td>\n",
       "      <td>5</td>\n",
       "    </tr>\n",
       "    <tr>\n",
       "      <th>1</th>\n",
       "      <td>5</td>\n",
       "      <td>2</td>\n",
       "      <td>9</td>\n",
       "      <td>1</td>\n",
       "      <td>0</td>\n",
       "      <td>1</td>\n",
       "      <td>0</td>\n",
       "      <td>0</td>\n",
       "      <td>4</td>\n",
       "      <td>0</td>\n",
       "      <td>...</td>\n",
       "      <td>2</td>\n",
       "      <td>7</td>\n",
       "      <td>7</td>\n",
       "      <td>0</td>\n",
       "      <td>2</td>\n",
       "      <td>1</td>\n",
       "      <td>4</td>\n",
       "      <td>3</td>\n",
       "      <td>2</td>\n",
       "      <td>1</td>\n",
       "    </tr>\n",
       "    <tr>\n",
       "      <th>2</th>\n",
       "      <td>0</td>\n",
       "      <td>2</td>\n",
       "      <td>8</td>\n",
       "      <td>1</td>\n",
       "      <td>3</td>\n",
       "      <td>1</td>\n",
       "      <td>0</td>\n",
       "      <td>0</td>\n",
       "      <td>5</td>\n",
       "      <td>0</td>\n",
       "      <td>...</td>\n",
       "      <td>2</td>\n",
       "      <td>7</td>\n",
       "      <td>7</td>\n",
       "      <td>0</td>\n",
       "      <td>2</td>\n",
       "      <td>1</td>\n",
       "      <td>4</td>\n",
       "      <td>3</td>\n",
       "      <td>2</td>\n",
       "      <td>3</td>\n",
       "    </tr>\n",
       "    <tr>\n",
       "      <th>3</th>\n",
       "      <td>5</td>\n",
       "      <td>3</td>\n",
       "      <td>8</td>\n",
       "      <td>1</td>\n",
       "      <td>6</td>\n",
       "      <td>1</td>\n",
       "      <td>0</td>\n",
       "      <td>1</td>\n",
       "      <td>5</td>\n",
       "      <td>0</td>\n",
       "      <td>...</td>\n",
       "      <td>2</td>\n",
       "      <td>7</td>\n",
       "      <td>7</td>\n",
       "      <td>0</td>\n",
       "      <td>2</td>\n",
       "      <td>1</td>\n",
       "      <td>4</td>\n",
       "      <td>2</td>\n",
       "      <td>3</td>\n",
       "      <td>5</td>\n",
       "    </tr>\n",
       "    <tr>\n",
       "      <th>4</th>\n",
       "      <td>5</td>\n",
       "      <td>2</td>\n",
       "      <td>3</td>\n",
       "      <td>0</td>\n",
       "      <td>5</td>\n",
       "      <td>1</td>\n",
       "      <td>1</td>\n",
       "      <td>0</td>\n",
       "      <td>4</td>\n",
       "      <td>1</td>\n",
       "      <td>...</td>\n",
       "      <td>2</td>\n",
       "      <td>7</td>\n",
       "      <td>7</td>\n",
       "      <td>0</td>\n",
       "      <td>2</td>\n",
       "      <td>1</td>\n",
       "      <td>0</td>\n",
       "      <td>3</td>\n",
       "      <td>0</td>\n",
       "      <td>1</td>\n",
       "    </tr>\n",
       "  </tbody>\n",
       "</table>\n",
       "<p>5 rows × 22 columns</p>\n",
       "</div>"
      ]
     },
     "execution_count": 7,
     "metadata": {},
     "output_type": "execute_result"
    }
   ],
   "execution_count": 7
  },
  {
   "metadata": {
    "ExecuteTime": {
     "end_time": "2025-01-03T01:49:13.577817Z",
     "start_time": "2025-01-03T01:49:13.574673Z"
    }
   },
   "cell_type": "code",
   "source": [
    "%%time\n",
    "pl_unique_counts = pl_x.select(pl.all().n_unique())\n",
    "pl_single_unique_cols = [pl_unique_counts.columns[i]\n",
    "                       for i, val in enumerate(pl_unique_counts.row(0))\n",
    "                       if val == 1]\n",
    "print(f\"Removed columns: {pl_single_unique_cols}\")\n",
    "pl_x = pl_x.drop(pl_single_unique_cols)"
   ],
   "id": "f0bcbbdee2506440",
   "outputs": [
    {
     "name": "stdout",
     "output_type": "stream",
     "text": [
      "Removed columns: ['veil-type']\n",
      "CPU times: user 1.51 ms, sys: 921 μs, total: 2.44 ms\n",
      "Wall time: 757 μs\n"
     ]
    }
   ],
   "execution_count": 8
  },
  {
   "metadata": {
    "ExecuteTime": {
     "end_time": "2025-01-03T01:49:13.655498Z",
     "start_time": "2025-01-03T01:49:13.651826Z"
    }
   },
   "cell_type": "code",
   "source": [
    "%%time\n",
    "pd_x = pd_x.loc[:,pd_x.nunique()!=1]"
   ],
   "id": "519980a55a6e75cf",
   "outputs": [
    {
     "name": "stdout",
     "output_type": "stream",
     "text": [
      "CPU times: user 1.66 ms, sys: 770 μs, total: 2.43 ms\n",
      "Wall time: 1.84 ms\n"
     ]
    }
   ],
   "execution_count": 9
  },
  {
   "metadata": {
    "ExecuteTime": {
     "end_time": "2025-01-03T01:49:13.746066Z",
     "start_time": "2025-01-03T01:49:13.706048Z"
    }
   },
   "cell_type": "code",
   "source": [
    "%%time\n",
    "pl_classifier = KMeans(n_clusters=2)\n",
    "pl_clusters = pl_classifier.fit_predict(pl_x)"
   ],
   "id": "1ddac3baddc702c6",
   "outputs": [
    {
     "name": "stdout",
     "output_type": "stream",
     "text": [
      "CPU times: user 18.1 ms, sys: 22.9 ms, total: 41 ms\n",
      "Wall time: 37.1 ms\n"
     ]
    }
   ],
   "execution_count": 10
  },
  {
   "metadata": {
    "ExecuteTime": {
     "end_time": "2025-01-03T01:49:13.827792Z",
     "start_time": "2025-01-03T01:49:13.819795Z"
    }
   },
   "cell_type": "code",
   "source": [
    "%%time\n",
    "pd_classifier = KMeans(n_clusters=2)\n",
    "pd_clusters = pd_classifier.fit_predict(pd_x)"
   ],
   "id": "b0f777ee753303a0",
   "outputs": [
    {
     "name": "stdout",
     "output_type": "stream",
     "text": [
      "CPU times: user 12.4 ms, sys: 10.6 ms, total: 23 ms\n",
      "Wall time: 5.78 ms\n"
     ]
    }
   ],
   "execution_count": 11
  },
  {
   "metadata": {
    "ExecuteTime": {
     "end_time": "2025-01-03T01:49:13.848133Z",
     "start_time": "2025-01-03T01:49:13.846536Z"
    }
   },
   "cell_type": "code",
   "source": [
    "pl_yp = pl.DataFrame({\n",
    "    'predicted-label': pl_clusters\n",
    "})"
   ],
   "id": "204a2da69d76a693",
   "outputs": [],
   "execution_count": 12
  },
  {
   "metadata": {
    "ExecuteTime": {
     "end_time": "2025-01-03T01:49:13.881699Z",
     "start_time": "2025-01-03T01:49:13.861352Z"
    }
   },
   "cell_type": "code",
   "source": [
    "counting = pl_yp.select(pl.col('predicted-label').value_counts()).unnest('predicted-label')\n",
    "\n",
    "pie = (alt.Chart(counting).mark_arc()\n",
    ".encode(\n",
    "    theta=alt.Theta('count', stack='normalize', type='quantitative'),\n",
    "    color=alt.Color('predicted-label', type='nominal'),\n",
    "    tooltip=['predicted-label', 'count:N'],\n",
    "))\n",
    "\n",
    "pie"
   ],
   "id": "137e1c978d07f0d8",
   "outputs": [
    {
     "data": {
      "text/html": [
       "\n",
       "<style>\n",
       "  #altair-viz-8e3f9f7c49af4a119750e46cddf838cc.vega-embed {\n",
       "    width: 100%;\n",
       "    display: flex;\n",
       "  }\n",
       "\n",
       "  #altair-viz-8e3f9f7c49af4a119750e46cddf838cc.vega-embed details,\n",
       "  #altair-viz-8e3f9f7c49af4a119750e46cddf838cc.vega-embed details summary {\n",
       "    position: relative;\n",
       "  }\n",
       "</style>\n",
       "<div id=\"altair-viz-8e3f9f7c49af4a119750e46cddf838cc\"></div>\n",
       "<script type=\"text/javascript\">\n",
       "  var VEGA_DEBUG = (typeof VEGA_DEBUG == \"undefined\") ? {} : VEGA_DEBUG;\n",
       "  (function(spec, embedOpt){\n",
       "    let outputDiv = document.currentScript.previousElementSibling;\n",
       "    if (outputDiv.id !== \"altair-viz-8e3f9f7c49af4a119750e46cddf838cc\") {\n",
       "      outputDiv = document.getElementById(\"altair-viz-8e3f9f7c49af4a119750e46cddf838cc\");\n",
       "    }\n",
       "\n",
       "    const paths = {\n",
       "      \"vega\": \"https://cdn.jsdelivr.net/npm/vega@5?noext\",\n",
       "      \"vega-lib\": \"https://cdn.jsdelivr.net/npm/vega-lib?noext\",\n",
       "      \"vega-lite\": \"https://cdn.jsdelivr.net/npm/vega-lite@5.20.1?noext\",\n",
       "      \"vega-embed\": \"https://cdn.jsdelivr.net/npm/vega-embed@6?noext\",\n",
       "    };\n",
       "\n",
       "    function maybeLoadScript(lib, version) {\n",
       "      var key = `${lib.replace(\"-\", \"\")}_version`;\n",
       "      return (VEGA_DEBUG[key] == version) ?\n",
       "        Promise.resolve(paths[lib]) :\n",
       "        new Promise(function(resolve, reject) {\n",
       "          var s = document.createElement('script');\n",
       "          document.getElementsByTagName(\"head\")[0].appendChild(s);\n",
       "          s.async = true;\n",
       "          s.onload = () => {\n",
       "            VEGA_DEBUG[key] = version;\n",
       "            return resolve(paths[lib]);\n",
       "          };\n",
       "          s.onerror = () => reject(`Error loading script: ${paths[lib]}`);\n",
       "          s.src = paths[lib];\n",
       "        });\n",
       "    }\n",
       "\n",
       "    function showError(err) {\n",
       "      outputDiv.innerHTML = `<div class=\"error\" style=\"color:red;\">${err}</div>`;\n",
       "      throw err;\n",
       "    }\n",
       "\n",
       "    function displayChart(vegaEmbed) {\n",
       "      vegaEmbed(outputDiv, spec, embedOpt)\n",
       "        .catch(err => showError(`Javascript Error: ${err.message}<br>This usually means there's a typo in your chart specification. See the javascript console for the full traceback.`));\n",
       "    }\n",
       "\n",
       "    if(typeof define === \"function\" && define.amd) {\n",
       "      requirejs.config({paths});\n",
       "      let deps = [\"vega-embed\"];\n",
       "      require(deps, displayChart, err => showError(`Error loading script: ${err.message}`));\n",
       "    } else {\n",
       "      maybeLoadScript(\"vega\", \"5\")\n",
       "        .then(() => maybeLoadScript(\"vega-lite\", \"5.20.1\"))\n",
       "        .then(() => maybeLoadScript(\"vega-embed\", \"6\"))\n",
       "        .catch(showError)\n",
       "        .then(() => displayChart(vegaEmbed));\n",
       "    }\n",
       "  })({\"config\": {\"view\": {\"continuousWidth\": 300, \"continuousHeight\": 300}}, \"data\": {\"name\": \"data-cb6f92e860bc04fc79f7f6932c8bbc99\"}, \"mark\": {\"type\": \"arc\"}, \"encoding\": {\"color\": {\"field\": \"predicted-label\", \"type\": \"nominal\"}, \"theta\": {\"field\": \"count\", \"stack\": \"normalize\", \"type\": \"quantitative\"}, \"tooltip\": [{\"field\": \"predicted-label\", \"type\": \"quantitative\"}, {\"field\": \"count\", \"type\": \"nominal\"}]}, \"$schema\": \"https://vega.github.io/schema/vega-lite/v5.20.1.json\", \"datasets\": {\"data-cb6f92e860bc04fc79f7f6932c8bbc99\": [{\"predicted-label\": 0, \"count\": 1936}, {\"predicted-label\": 1, \"count\": 6188}]}}, {\"mode\": \"vega-lite\"});\n",
       "</script>"
      ],
      "text/plain": [
       "alt.Chart(...)"
      ]
     },
     "execution_count": 13,
     "metadata": {},
     "output_type": "execute_result"
    }
   ],
   "execution_count": 13
  },
  {
   "metadata": {
    "ExecuteTime": {
     "end_time": "2025-01-03T01:49:13.893717Z",
     "start_time": "2025-01-03T01:49:13.891714Z"
    }
   },
   "cell_type": "code",
   "source": [
    "pd_yp = pd.DataFrame({\n",
    "    'predicted-label': pd_clusters\n",
    "})"
   ],
   "id": "786aca003aa5e00e",
   "outputs": [],
   "execution_count": 14
  },
  {
   "metadata": {
    "ExecuteTime": {
     "end_time": "2025-01-03T01:49:13.964024Z",
     "start_time": "2025-01-03T01:49:13.910723Z"
    }
   },
   "cell_type": "code",
   "source": "pd_yp.value_counts().plot.pie(autopct='%1.0f%%', pctdistance=0.7, labeldistance=1.1)",
   "id": "21faeafb241728b1",
   "outputs": [
    {
     "data": {
      "text/plain": [
       "<Axes: ylabel='count'>"
      ]
     },
     "execution_count": 15,
     "metadata": {},
     "output_type": "execute_result"
    },
    {
     "data": {
      "text/plain": [
       "<Figure size 640x480 with 1 Axes>"
      ],
      "image/png": "[encoded data removed]"
     },
     "metadata": {},
     "output_type": "display_data"
    }
   ],
   "execution_count": 15
  },
  {
   "metadata": {
    "ExecuteTime": {
     "end_time": "2025-01-03T01:49:13.981692Z",
     "start_time": "2025-01-03T01:49:13.977124Z"
    }
   },
   "cell_type": "code",
   "source": [
    "pl_encoded_y = pl_y.select(pl.all().map_batches(pl_encoder.fit_transform))\n",
    "pd_encoded_y = pd_y.apply(pd_encoder.fit_transform)"
   ],
   "id": "5a5e9f4d5edacd14",
   "outputs": [],
   "execution_count": 16
  },
  {
   "metadata": {},
   "cell_type": "markdown",
   "source": "## Polars Evaluation",
   "id": "4505576f1d466d4f"
  },
  {
   "metadata": {
    "ExecuteTime": {
     "end_time": "2025-01-03T01:49:14.052202Z",
     "start_time": "2025-01-03T01:49:13.993859Z"
    }
   },
   "cell_type": "code",
   "source": [
    "cf_matrix = confusion_matrix(pl_encoded_y, pl_clusters)\n",
    "print(cf_matrix/np.sum(cf_matrix))\n",
    "labels = ['True Neg','False Pos','False Neg','True Pos']\n",
    "labels = np.asarray(labels).reshape(2,2)\n",
    "fig, ax = plt.subplots(1, 1)\n",
    "sns.heatmap(cf_matrix/np.sum(cf_matrix), annot=labels, fmt='', cmap='Blues')\n",
    "ax.set_ylabel('Target Labels')\n",
    "ax.set_xlabel('Predicted Labels')"
   ],
   "id": "8b9d559c14e51e93",
   "outputs": [
    {
     "name": "stdout",
     "output_type": "stream",
     "text": [
      "[[0.02363368 0.49433776]\n",
      " [0.21467258 0.26735598]]\n"
     ]
    },
    {
     "data": {
      "text/plain": [
       "Text(0.5, 23.52222222222222, 'Predicted Labels')"
      ]
     },
     "execution_count": 17,
     "metadata": {},
     "output_type": "execute_result"
    },
    {
     "data": {
      "text/plain": [
       "<Figure size 640x480 with 2 Axes>"
      ],
      "image/png": "[encoded data removed]"
     },
     "metadata": {},
     "output_type": "display_data"
    }
   ],
   "execution_count": 17
  },
  {
   "metadata": {
    "ExecuteTime": {
     "end_time": "2025-01-03T01:49:14.080254Z",
     "start_time": "2025-01-03T01:49:14.068648Z"
    }
   },
   "cell_type": "code",
   "source": [
    "labels = pl.DataFrame({\n",
    "    'y': pl_y,\n",
    "    'yp': pl_clusters\n",
    "})\n",
    "\n",
    "ri = rand_score(labels.select('y').to_numpy().flatten(), labels.select('yp').to_numpy().flatten())\n",
    "ari = adjusted_rand_score(pl_y.to_numpy().flatten(), pl_clusters)\n",
    "\n",
    "print(f'Rand Index: {ri}')\n",
    "print(f'Adjusted Rand Index: {ari}')"
   ],
   "id": "ebe7ac060779eace",
   "outputs": [
    {
     "name": "stdout",
     "output_type": "stream",
     "text": [
      "Rand Index: 0.587319846576028\n",
      "Adjusted Rand Index: 0.17437540308584512\n"
     ]
    }
   ],
   "execution_count": 18
  },
  {
   "metadata": {
    "ExecuteTime": {
     "end_time": "2025-01-03T01:49:14.106268Z",
     "start_time": "2025-01-03T01:49:14.104001Z"
    }
   },
   "cell_type": "code",
   "source": [
    "True_neg = cf_matrix[0,0]\n",
    "False_pos = cf_matrix[0,1]\n",
    "True_pos = cf_matrix[1,1]\n",
    "False_neg = cf_matrix[1,0]\n",
    "\n",
    "accuracy = (True_neg + True_pos)/(True_neg + False_neg + True_pos + False_pos)\n",
    "recall = (True_pos)/(False_neg+True_pos)\n",
    "precision = (True_pos)/(False_pos + True_pos)\n",
    "F1_score = 2 * ((precision*recall)/(precision+recall))\n",
    "print(f'Accuracy: {accuracy}')\n",
    "print(f'Recall: {recall}')\n",
    "print(f'Precision: {precision}')\n",
    "print(f'F1_score: {F1_score}')"
   ],
   "id": "c7ed8c67d86ef1e4",
   "outputs": [
    {
     "name": "stdout",
     "output_type": "stream",
     "text": [
      "Accuracy: 0.29098966026587886\n",
      "Recall: 0.5546475995914198\n",
      "Precision: 0.35100193923723333\n",
      "F1_score: 0.42992874109263657\n"
     ]
    }
   ],
   "execution_count": 19
  },
  {
   "metadata": {},
   "cell_type": "markdown",
   "source": "## Pandas Evaluation",
   "id": "fe4ab3b226f7e4c1"
  },
  {
   "metadata": {
    "ExecuteTime": {
     "end_time": "2025-01-03T01:49:14.181711Z",
     "start_time": "2025-01-03T01:49:14.126970Z"
    }
   },
   "cell_type": "code",
   "source": [
    "cf_matrix = confusion_matrix(pd_encoded_y, pd_clusters)\n",
    "print(cf_matrix/np.sum(cf_matrix))\n",
    "labels = ['True Neg','False Pos','False Neg','True Pos']\n",
    "labels = np.asarray(labels).reshape(2,2)\n",
    "fig, ax = plt.subplots(1, 1)\n",
    "sns.heatmap(cf_matrix/np.sum(cf_matrix), annot=labels, fmt='', cmap='Blues')\n",
    "ax.set_ylabel('Target Labels')\n",
    "ax.set_xlabel('Predicted Labels')"
   ],
   "id": "2adfd2d98899d97b",
   "outputs": [
    {
     "name": "stdout",
     "output_type": "stream",
     "text": [
      "[[0.42442147 0.09354998]\n",
      " [0.15115707 0.33087149]]\n"
     ]
    },
    {
     "data": {
      "text/plain": [
       "Text(0.5, 23.52222222222222, 'Predicted Labels')"
      ]
     },
     "execution_count": 20,
     "metadata": {},
     "output_type": "execute_result"
    },
    {
     "data": {
      "text/plain": [
       "<Figure size 640x480 with 2 Axes>"
      ],
      "image/png": "[encoded data removed]"
     },
     "metadata": {},
     "output_type": "display_data"
    }
   ],
   "execution_count": 20
  },
  {
   "metadata": {
    "ExecuteTime": {
     "end_time": "2025-01-03T01:49:14.200885Z",
     "start_time": "2025-01-03T01:49:14.191922Z"
    }
   },
   "cell_type": "code",
   "source": [
    "ri = rand_score(pd_y.values.reshape(1, -1)[0], pd_clusters)\n",
    "ari = adjusted_rand_score(pd_y.values.reshape(1, -1)[0], pd_clusters)\n",
    "\n",
    "print(f'Rand Index: {ri}')\n",
    "print(f'Adjusted Rand Index: {ari}')"
   ],
   "id": "d1ba2ecedf19059c",
   "outputs": [
    {
     "name": "stdout",
     "output_type": "stream",
     "text": [
      "Rand Index: 0.6303034832556291\n",
      "Adjusted Rand Index: 0.2605873218513592\n"
     ]
    }
   ],
   "execution_count": 21
  },
  {
   "metadata": {
    "ExecuteTime": {
     "end_time": "2025-01-03T01:49:14.219555Z",
     "start_time": "2025-01-03T01:49:14.217081Z"
    }
   },
   "cell_type": "code",
   "source": [
    "True_neg = cf_matrix[0,0]\n",
    "False_pos = cf_matrix[0,1]\n",
    "True_pos = cf_matrix[1,1]\n",
    "False_neg = cf_matrix[1,0]\n",
    "\n",
    "accuracy = (True_neg + True_pos)/(True_neg + False_neg + True_pos + False_pos)\n",
    "recall = (True_pos)/(False_neg+True_pos)\n",
    "precision = (True_pos)/(False_pos + True_pos)\n",
    "F1_score = 2 * ((precision*recall)/(precision+recall))\n",
    "print(f'Accuracy: {accuracy}')\n",
    "print(f'Recall: {recall}')\n",
    "print(f'Precision: {precision}')\n",
    "print(f'F1_score: {F1_score}')"
   ],
   "id": "5262715af1d8abee",
   "outputs": [
    {
     "name": "stdout",
     "output_type": "stream",
     "text": [
      "Accuracy: 0.7552929591334318\n",
      "Recall: 0.686414708886619\n",
      "Precision: 0.7795823665893271\n",
      "F1_score: 0.7300380228136883\n"
     ]
    }
   ],
   "execution_count": 22
  }
 ],
 "metadata": {
  "kernelspec": {
   "display_name": "Python 3",
   "language": "python",
   "name": "python3"
  },
  "language_info": {
   "codemirror_mode": {
    "name": "ipython",
    "version": 2
   },
   "file_extension": ".py",
   "mimetype": "text/x-python",
   "name": "python",
   "nbconvert_exporter": "python",
   "pygments_lexer": "ipython2",
   "version": "2.7.6"
  }
 },
 "nbformat": 4,
 "nbformat_minor": 5
}
