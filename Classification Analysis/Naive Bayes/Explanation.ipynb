{
 "cells": [
  {
   "metadata": {},
   "cell_type": "markdown",
   "source": [
    "## Naive Bayes Classifier\n",
    "\n",
    "Naive assumption: features are conditionally independent given the class label (no dependencies/correlations between features)"
   ],
   "id": "6fa0e269e87a50b"
  },
  {
   "cell_type": "code",
   "id": "initial_id",
   "metadata": {
    "collapsed": true,
    "ExecuteTime": {
     "end_time": "2025-02-12T04:28:57.048711Z",
     "start_time": "2025-02-12T04:28:56.807135Z"
    }
   },
   "source": [
    "import pandas as pd\n",
    "from pandas import DataFrame, Series"
   ],
   "outputs": [],
   "execution_count": 1
  },
  {
   "metadata": {
    "ExecuteTime": {
     "end_time": "2025-02-12T04:35:05.258184Z",
     "start_time": "2025-02-12T04:35:05.251320Z"
    }
   },
   "cell_type": "code",
   "source": [
    "df = pd.read_csv('example_data.csv')\n",
    "df.head(15)"
   ],
   "id": "5de9d9667ae61a12",
   "outputs": [
    {
     "data": {
      "text/plain": [
       "    CID    age  income student credit_rating buys_computer\n",
       "0     1   <=30    high      no          fair            no\n",
       "1     2   <=30    high      no     excellent            no\n",
       "2     3  31-40    high      no          fair           yes\n",
       "3     4    >40  medium      no          fair           yes\n",
       "4     5    >40     low     yes          fair           yes\n",
       "5     6    >40     low     yes     excellent            no\n",
       "6     7  31-40     low     yes     excellent           yes\n",
       "7     8   <=30  medium      no          fair            no\n",
       "8     9   <=30     low     yes          fair           yes\n",
       "9    10    >40  medium     yes          fair           yes\n",
       "10   11   <=30  medium     yes     excellent           yes\n",
       "11   12  31-40  medium      no     excellent           yes\n",
       "12   13  31-40    high     yes          fair           yes\n",
       "13   14    >40  medium      no     excellent            no"
      ],
      "text/html": [
       "<div>\n",
       "<style scoped>\n",
       "    .dataframe tbody tr th:only-of-type {\n",
       "        vertical-align: middle;\n",
       "    }\n",
       "\n",
       "    .dataframe tbody tr th {\n",
       "        vertical-align: top;\n",
       "    }\n",
       "\n",
       "    .dataframe thead th {\n",
       "        text-align: right;\n",
       "    }\n",
       "</style>\n",
       "<table border=\"1\" class=\"dataframe\">\n",
       "  <thead>\n",
       "    <tr style=\"text-align: right;\">\n",
       "      <th></th>\n",
       "      <th>CID</th>\n",
       "      <th>age</th>\n",
       "      <th>income</th>\n",
       "      <th>student</th>\n",
       "      <th>credit_rating</th>\n",
       "      <th>buys_computer</th>\n",
       "    </tr>\n",
       "  </thead>\n",
       "  <tbody>\n",
       "    <tr>\n",
       "      <th>0</th>\n",
       "      <td>1</td>\n",
       "      <td>&lt;=30</td>\n",
       "      <td>high</td>\n",
       "      <td>no</td>\n",
       "      <td>fair</td>\n",
       "      <td>no</td>\n",
       "    </tr>\n",
       "    <tr>\n",
       "      <th>1</th>\n",
       "      <td>2</td>\n",
       "      <td>&lt;=30</td>\n",
       "      <td>high</td>\n",
       "      <td>no</td>\n",
       "      <td>excellent</td>\n",
       "      <td>no</td>\n",
       "    </tr>\n",
       "    <tr>\n",
       "      <th>2</th>\n",
       "      <td>3</td>\n",
       "      <td>31-40</td>\n",
       "      <td>high</td>\n",
       "      <td>no</td>\n",
       "      <td>fair</td>\n",
       "      <td>yes</td>\n",
       "    </tr>\n",
       "    <tr>\n",
       "      <th>3</th>\n",
       "      <td>4</td>\n",
       "      <td>&gt;40</td>\n",
       "      <td>medium</td>\n",
       "      <td>no</td>\n",
       "      <td>fair</td>\n",
       "      <td>yes</td>\n",
       "    </tr>\n",
       "    <tr>\n",
       "      <th>4</th>\n",
       "      <td>5</td>\n",
       "      <td>&gt;40</td>\n",
       "      <td>low</td>\n",
       "      <td>yes</td>\n",
       "      <td>fair</td>\n",
       "      <td>yes</td>\n",
       "    </tr>\n",
       "    <tr>\n",
       "      <th>5</th>\n",
       "      <td>6</td>\n",
       "      <td>&gt;40</td>\n",
       "      <td>low</td>\n",
       "      <td>yes</td>\n",
       "      <td>excellent</td>\n",
       "      <td>no</td>\n",
       "    </tr>\n",
       "    <tr>\n",
       "      <th>6</th>\n",
       "      <td>7</td>\n",
       "      <td>31-40</td>\n",
       "      <td>low</td>\n",
       "      <td>yes</td>\n",
       "      <td>excellent</td>\n",
       "      <td>yes</td>\n",
       "    </tr>\n",
       "    <tr>\n",
       "      <th>7</th>\n",
       "      <td>8</td>\n",
       "      <td>&lt;=30</td>\n",
       "      <td>medium</td>\n",
       "      <td>no</td>\n",
       "      <td>fair</td>\n",
       "      <td>no</td>\n",
       "    </tr>\n",
       "    <tr>\n",
       "      <th>8</th>\n",
       "      <td>9</td>\n",
       "      <td>&lt;=30</td>\n",
       "      <td>low</td>\n",
       "      <td>yes</td>\n",
       "      <td>fair</td>\n",
       "      <td>yes</td>\n",
       "    </tr>\n",
       "    <tr>\n",
       "      <th>9</th>\n",
       "      <td>10</td>\n",
       "      <td>&gt;40</td>\n",
       "      <td>medium</td>\n",
       "      <td>yes</td>\n",
       "      <td>fair</td>\n",
       "      <td>yes</td>\n",
       "    </tr>\n",
       "    <tr>\n",
       "      <th>10</th>\n",
       "      <td>11</td>\n",
       "      <td>&lt;=30</td>\n",
       "      <td>medium</td>\n",
       "      <td>yes</td>\n",
       "      <td>excellent</td>\n",
       "      <td>yes</td>\n",
       "    </tr>\n",
       "    <tr>\n",
       "      <th>11</th>\n",
       "      <td>12</td>\n",
       "      <td>31-40</td>\n",
       "      <td>medium</td>\n",
       "      <td>no</td>\n",
       "      <td>excellent</td>\n",
       "      <td>yes</td>\n",
       "    </tr>\n",
       "    <tr>\n",
       "      <th>12</th>\n",
       "      <td>13</td>\n",
       "      <td>31-40</td>\n",
       "      <td>high</td>\n",
       "      <td>yes</td>\n",
       "      <td>fair</td>\n",
       "      <td>yes</td>\n",
       "    </tr>\n",
       "    <tr>\n",
       "      <th>13</th>\n",
       "      <td>14</td>\n",
       "      <td>&gt;40</td>\n",
       "      <td>medium</td>\n",
       "      <td>no</td>\n",
       "      <td>excellent</td>\n",
       "      <td>no</td>\n",
       "    </tr>\n",
       "  </tbody>\n",
       "</table>\n",
       "</div>"
      ]
     },
     "execution_count": 10,
     "metadata": {},
     "output_type": "execute_result"
    }
   ],
   "execution_count": 10
  },
  {
   "metadata": {},
   "cell_type": "markdown",
   "source": "Example of a naive bayes classifier for a given $X = ( \\text{age} <=30, \\text{income} =medium, \\text{student} =yes, \\text{credit rating} =fair)$",
   "id": "79b59e3ac47efae5"
  },
  {
   "metadata": {
    "ExecuteTime": {
     "end_time": "2025-02-12T04:29:42.144852Z",
     "start_time": "2025-02-12T04:29:42.133134Z"
    }
   },
   "cell_type": "code",
   "source": [
    "age_counts = df['age'].value_counts()\n",
    "age_counts.index\n",
    "\n",
    "\n",
    "def cast_probability(data_frame: DataFrame, x_column: str, c_column: str, x_i):\n",
    "    groups = data_frame[[x_column, c_column]].groupby([c_column, x_column])\n",
    "    groups_count: Series = groups.value_counts()\n",
    "    level_c_index = groups_count.index.names.index(c_column)\n",
    "    level_x_index = groups_count.index.names.index(x_column)\n",
    "    categories = groups_count.index.levels[level_c_index]\n",
    "    categories = list(categories)\n",
    "    categories.sort()\n",
    "    categories.reverse()\n",
    "    probability_format = f\"P({x_column} = \\\"{x_i}\\\" | C_i)\"\n",
    "    print(probability_format)\n",
    "    ret = {}\n",
    "    for c_i in categories:\n",
    "        key = []\n",
    "        key.insert(level_c_index, c_i)\n",
    "        key.insert(level_x_index, x_i)\n",
    "        total_ci = groups_count[c_i].sum()\n",
    "        count = groups_count[tuple(key)]\n",
    "\n",
    "        probability = count / total_ci\n",
    "        probability_format = (f\"\\tP({x_column} = \\\"{x_i}\\\" | {c_column} = \\\"{c_i}\\\") =\"\n",
    "                              f\" {count}/{total_ci} =\"\n",
    "                              f\" {probability:.3f}\")\n",
    "        ret[c_i] = probability\n",
    "        print(probability_format)\n",
    "    return ret\n",
    "\n",
    "\n",
    "p_age = cast_probability(df, 'age', 'buys_computer', \"<=30\")\n",
    "p_income = cast_probability(df, 'income', 'buys_computer', 'medium')\n",
    "p_student = cast_probability(df, 'student', 'buys_computer', 'yes')\n",
    "p_credit_rating = cast_probability(df, 'credit_rating', 'buys_computer', 'fair')\n"
   ],
   "id": "5da34bc1d49e2eb5",
   "outputs": [
    {
     "name": "stdout",
     "output_type": "stream",
     "text": [
      "P(age = \"<=30\" | C_i)\n",
      "\tP(age = \"<=30\" | buys_computer = \"yes\") = 2/9 = 0.222\n",
      "\tP(age = \"<=30\" | buys_computer = \"no\") = 3/5 = 0.600\n",
      "P(income = \"medium\" | C_i)\n",
      "\tP(income = \"medium\" | buys_computer = \"yes\") = 4/9 = 0.444\n",
      "\tP(income = \"medium\" | buys_computer = \"no\") = 2/5 = 0.400\n",
      "P(student = \"yes\" | C_i)\n",
      "\tP(student = \"yes\" | buys_computer = \"yes\") = 6/9 = 0.667\n",
      "\tP(student = \"yes\" | buys_computer = \"no\") = 1/5 = 0.200\n",
      "P(credit_rating = \"fair\" | C_i)\n",
      "\tP(credit_rating = \"fair\" | buys_computer = \"yes\") = 6/9 = 0.667\n",
      "\tP(credit_rating = \"fair\" | buys_computer = \"no\") = 2/5 = 0.400\n"
     ]
    }
   ],
   "execution_count": 7
  },
  {
   "metadata": {},
   "cell_type": "markdown",
   "source": "$P(X|C_i)$",
   "id": "a52d4818caefb524"
  },
  {
   "metadata": {
    "ExecuteTime": {
     "end_time": "2025-02-12T04:28:57.157013Z",
     "start_time": "2025-02-12T04:28:57.154817Z"
    }
   },
   "cell_type": "code",
   "source": [
    "p = [p_age, p_income, p_student, p_credit_rating]\n",
    "c_is:list = list(p_age.keys())\n",
    "c_is.sort()\n",
    "c_is.reverse()\n",
    "p_x_c = {}\n",
    "for c_i in c_is:\n",
    "    p_x_c_i = 1\n",
    "    for i in range(len(p)):\n",
    "        p_x_c_i *= p[i][c_i]\n",
    "    inner_product = \" x \".join(f\"{p_i[c_i]:.3f}\" for p_i in p)\n",
    "    p_x_c[c_i] = p_x_c_i\n",
    "    print(f\"P(X|C_{c_i}) = {inner_product} = {p_x_c_i:.3f}\")"
   ],
   "id": "27bf31de3410a289",
   "outputs": [
    {
     "name": "stdout",
     "output_type": "stream",
     "text": [
      "P(X|C_yes) = 0.222 x 0.444 x 0.667 x 0.667 = 0.044\n",
      "P(X|C_no) = 0.600 x 0.400 x 0.200 x 0.400 = 0.019\n"
     ]
    }
   ],
   "execution_count": 4
  },
  {
   "metadata": {},
   "cell_type": "markdown",
   "source": "$P(X|C_i)P(C_i)$\n",
   "id": "a4ef84385e211e86"
  },
  {
   "metadata": {
    "ExecuteTime": {
     "end_time": "2025-02-12T04:28:57.275771Z",
     "start_time": "2025-02-12T04:28:57.272890Z"
    }
   },
   "cell_type": "code",
   "source": [
    "p_c = df['buys_computer'].value_counts(normalize=True)\n",
    "for c_i in c_is:\n",
    "    p_x_c_i = p_x_c[c_i]\n",
    "    p_c_i = p_c[c_i]\n",
    "    print(f\"P(X|C_{c_i})P(C_{c_i}) = {p_x_c_i:.3f} x {p_c_i:.3f} = {p_x_c_i * p_c_i:.3f}\")"
   ],
   "id": "c7f8f43c8e0692e2",
   "outputs": [
    {
     "name": "stdout",
     "output_type": "stream",
     "text": [
      "P(X|C_yes)P(C_yes) = 0.044 x 0.643 = 0.028\n",
      "P(X|C_no)P(C_no) = 0.019 x 0.357 = 0.007\n"
     ]
    }
   ],
   "execution_count": 5
  }
 ],
 "metadata": {
  "kernelspec": {
   "display_name": "Python 3",
   "language": "python",
   "name": "python3"
  },
  "language_info": {
   "codemirror_mode": {
    "name": "ipython",
    "version": 2
   },
   "file_extension": ".py",
   "mimetype": "text/x-python",
   "name": "python",
   "nbconvert_exporter": "python",
   "pygments_lexer": "ipython2",
   "version": "2.7.6"
  }
 },
 "nbformat": 4,
 "nbformat_minor": 5
}
