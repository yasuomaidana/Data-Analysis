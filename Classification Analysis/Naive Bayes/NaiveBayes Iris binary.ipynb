{
 "nbformat": 4,
 "nbformat_minor": 0,
 "metadata": {
  "colab": {
   "provenance": [],
   "authorship_tag": "ABX9TyPqOS9j2150DVFoe6wV2/sd"
  },
  "kernelspec": {
   "name": "python3",
   "display_name": "Python 3 (ipykernel)",
   "language": "python"
  },
  "language_info": {
   "name": "python"
  }
 },
 "cells": [
  {
   "cell_type": "markdown",
   "source": [
    "# Naive Bayes Classification\n",
    "> Documentation: https://scikit-learn.org/stable/modules/naive_bayes.html"
   ],
   "metadata": {
    "id": "-oEXwEfW-XKY"
   }
  },
  {
   "cell_type": "markdown",
   "source": [
    "## Setup"
   ],
   "metadata": {
    "id": "iqgimizQ-eQq"
   }
  },
  {
   "cell_type": "markdown",
   "source": [
    "### Environment"
   ],
   "metadata": {
    "id": "cY03XkNPOp_J"
   }
  },
  {
   "cell_type": "code",
   "metadata": {
    "id": "sKLWPhDN-F5K",
    "executionInfo": {
     "status": "ok",
     "timestamp": 1690154245106,
     "user_tz": 240,
     "elapsed": 2506,
     "user": {
      "displayName": "Di Wu",
      "userId": "05255951341257561169"
     }
    },
    "ExecuteTime": {
     "end_time": "2025-02-12T17:54:24.600720Z",
     "start_time": "2025-02-12T17:54:22.724168Z"
    }
   },
   "source": [
    "import pandas as pd\n",
    "import seaborn as sns\n",
    "from sklearn import datasets"
   ],
   "outputs": [],
   "execution_count": 1
  },
  {
   "cell_type": "markdown",
   "source": [
    "### Load the dataset iris"
   ],
   "metadata": {
    "id": "d7qHBULNOsBj"
   }
  },
  {
   "cell_type": "code",
   "source": [
    "iris = datasets.load_iris()"
   ],
   "metadata": {
    "id": "p9bSCwAJ-f_R",
    "executionInfo": {
     "status": "ok",
     "timestamp": 1690154245106,
     "user_tz": 240,
     "elapsed": 9,
     "user": {
      "displayName": "Di Wu",
      "userId": "05255951341257561169"
     }
    },
    "ExecuteTime": {
     "end_time": "2025-02-12T17:54:24.703833Z",
     "start_time": "2025-02-12T17:54:24.700307Z"
    }
   },
   "outputs": [],
   "execution_count": 2
  },
  {
   "cell_type": "code",
   "source": [
    "df = pd.DataFrame({'Sepal length': iris.data[:,0],\n",
    "                   'Sepal width': iris.data[:,1],\n",
    "                   'Petal length':iris.data[:,2],\n",
    "                   'Petal width':iris.data[:,3],\n",
    "                   'Species':iris.target})\n",
    "df.head()"
   ],
   "metadata": {
    "colab": {
     "base_uri": "https://localhost:8080/",
     "height": 226
    },
    "id": "ag97XV9O-kw5",
    "executionInfo": {
     "status": "ok",
     "timestamp": 1690154245945,
     "user_tz": 240,
     "elapsed": 846,
     "user": {
      "displayName": "Di Wu",
      "userId": "05255951341257561169"
     }
    },
    "outputId": "a5240228-c15e-4bc4-b3fa-a0c4310f56b2",
    "ExecuteTime": {
     "end_time": "2025-02-12T17:54:24.722552Z",
     "start_time": "2025-02-12T17:54:24.709435Z"
    }
   },
   "outputs": [
    {
     "data": {
      "text/plain": [
       "   Sepal length  Sepal width  Petal length  Petal width  Species\n",
       "0           5.1          3.5           1.4          0.2        0\n",
       "1           4.9          3.0           1.4          0.2        0\n",
       "2           4.7          3.2           1.3          0.2        0\n",
       "3           4.6          3.1           1.5          0.2        0\n",
       "4           5.0          3.6           1.4          0.2        0"
      ],
      "text/html": [
       "<div>\n",
       "<style scoped>\n",
       "    .dataframe tbody tr th:only-of-type {\n",
       "        vertical-align: middle;\n",
       "    }\n",
       "\n",
       "    .dataframe tbody tr th {\n",
       "        vertical-align: top;\n",
       "    }\n",
       "\n",
       "    .dataframe thead th {\n",
       "        text-align: right;\n",
       "    }\n",
       "</style>\n",
       "<table border=\"1\" class=\"dataframe\">\n",
       "  <thead>\n",
       "    <tr style=\"text-align: right;\">\n",
       "      <th></th>\n",
       "      <th>Sepal length</th>\n",
       "      <th>Sepal width</th>\n",
       "      <th>Petal length</th>\n",
       "      <th>Petal width</th>\n",
       "      <th>Species</th>\n",
       "    </tr>\n",
       "  </thead>\n",
       "  <tbody>\n",
       "    <tr>\n",
       "      <th>0</th>\n",
       "      <td>5.1</td>\n",
       "      <td>3.5</td>\n",
       "      <td>1.4</td>\n",
       "      <td>0.2</td>\n",
       "      <td>0</td>\n",
       "    </tr>\n",
       "    <tr>\n",
       "      <th>1</th>\n",
       "      <td>4.9</td>\n",
       "      <td>3.0</td>\n",
       "      <td>1.4</td>\n",
       "      <td>0.2</td>\n",
       "      <td>0</td>\n",
       "    </tr>\n",
       "    <tr>\n",
       "      <th>2</th>\n",
       "      <td>4.7</td>\n",
       "      <td>3.2</td>\n",
       "      <td>1.3</td>\n",
       "      <td>0.2</td>\n",
       "      <td>0</td>\n",
       "    </tr>\n",
       "    <tr>\n",
       "      <th>3</th>\n",
       "      <td>4.6</td>\n",
       "      <td>3.1</td>\n",
       "      <td>1.5</td>\n",
       "      <td>0.2</td>\n",
       "      <td>0</td>\n",
       "    </tr>\n",
       "    <tr>\n",
       "      <th>4</th>\n",
       "      <td>5.0</td>\n",
       "      <td>3.6</td>\n",
       "      <td>1.4</td>\n",
       "      <td>0.2</td>\n",
       "      <td>0</td>\n",
       "    </tr>\n",
       "  </tbody>\n",
       "</table>\n",
       "</div>"
      ]
     },
     "execution_count": 3,
     "metadata": {},
     "output_type": "execute_result"
    }
   ],
   "execution_count": 3
  },
  {
   "cell_type": "code",
   "source": [
    "df = df[df['Species'] != 0]"
   ],
   "metadata": {
    "id": "wHY3m1ULAbTM",
    "executionInfo": {
     "status": "ok",
     "timestamp": 1690154245946,
     "user_tz": 240,
     "elapsed": 142,
     "user": {
      "displayName": "Di Wu",
      "userId": "05255951341257561169"
     }
    },
    "ExecuteTime": {
     "end_time": "2025-02-12T17:54:24.750097Z",
     "start_time": "2025-02-12T17:54:24.746731Z"
    }
   },
   "outputs": [],
   "execution_count": 4
  },
  {
   "cell_type": "code",
   "source": [
    "df.info()"
   ],
   "metadata": {
    "colab": {
     "base_uri": "https://localhost:8080/"
    },
    "id": "a61nflT5-llf",
    "executionInfo": {
     "status": "ok",
     "timestamp": 1690154245946,
     "user_tz": 240,
     "elapsed": 135,
     "user": {
      "displayName": "Di Wu",
      "userId": "05255951341257561169"
     }
    },
    "outputId": "b28f391f-ee48-451e-ac62-7cad53ad0e5b",
    "ExecuteTime": {
     "end_time": "2025-02-12T17:54:24.778631Z",
     "start_time": "2025-02-12T17:54:24.770740Z"
    }
   },
   "outputs": [
    {
     "name": "stdout",
     "output_type": "stream",
     "text": [
      "<class 'pandas.core.frame.DataFrame'>\n",
      "Index: 100 entries, 50 to 149\n",
      "Data columns (total 5 columns):\n",
      " #   Column        Non-Null Count  Dtype  \n",
      "---  ------        --------------  -----  \n",
      " 0   Sepal length  100 non-null    float64\n",
      " 1   Sepal width   100 non-null    float64\n",
      " 2   Petal length  100 non-null    float64\n",
      " 3   Petal width   100 non-null    float64\n",
      " 4   Species       100 non-null    int64  \n",
      "dtypes: float64(4), int64(1)\n",
      "memory usage: 4.7 KB\n"
     ]
    }
   ],
   "execution_count": 5
  },
  {
   "cell_type": "markdown",
   "source": [
    "### A simple visualization"
   ],
   "metadata": {
    "id": "Pl3R7yvsOvFX"
   }
  },
  {
   "cell_type": "code",
   "source": [
    "sns.relplot(data = df, x = 'Sepal length', y = 'Sepal width', hue = 'Species')"
   ],
   "metadata": {
    "colab": {
     "base_uri": "https://localhost:8080/",
     "height": 544
    },
    "id": "cLeUtr1R_2K8",
    "executionInfo": {
     "status": "ok",
     "timestamp": 1690154246780,
     "user_tz": 240,
     "elapsed": 964,
     "user": {
      "displayName": "Di Wu",
      "userId": "05255951341257561169"
     }
    },
    "outputId": "05354b9f-db11-41d5-874c-334008e1bda6",
    "ExecuteTime": {
     "end_time": "2025-02-12T17:54:24.925918Z",
     "start_time": "2025-02-12T17:54:24.817752Z"
    }
   },
   "outputs": [
    {
     "data": {
      "text/plain": [
       "<seaborn.axisgrid.FacetGrid at 0x10da53620>"
      ]
     },
     "execution_count": 6,
     "metadata": {},
     "output_type": "execute_result"
    },
    {
     "data": {
      "text/plain": [
       "<Figure size 560.361x500 with 1 Axes>"
      ],
      "image/png": "[encoded data removed]"
     },
     "metadata": {},
     "output_type": "display_data"
    }
   ],
   "execution_count": 6
  },
  {
   "cell_type": "markdown",
   "source": [
    "### Train-Test Split"
   ],
   "metadata": {
    "id": "5cPYqIilOxrE"
   }
  },
  {
   "cell_type": "code",
   "source": [
    "from sklearn.model_selection import train_test_split\n",
    "\n",
    "X = df[df.columns[:2]]\n",
    "y = df[df.columns[-1]]\n",
    "X_train, X_test, y_train, y_test = train_test_split(X, y, test_size = 0.20)"
   ],
   "metadata": {
    "id": "Irp_23ufBa5K",
    "executionInfo": {
     "status": "ok",
     "timestamp": 1690154246780,
     "user_tz": 240,
     "elapsed": 239,
     "user": {
      "displayName": "Di Wu",
      "userId": "05255951341257561169"
     }
    },
    "ExecuteTime": {
     "end_time": "2025-02-12T17:54:26.445281Z",
     "start_time": "2025-02-12T17:54:24.933398Z"
    }
   },
   "outputs": [],
   "execution_count": 7
  },
  {
   "cell_type": "code",
   "source": [
    "X_train[:5]"
   ],
   "metadata": {
    "colab": {
     "base_uri": "https://localhost:8080/",
     "height": 226
    },
    "id": "SVAxREYaBeTF",
    "executionInfo": {
     "status": "ok",
     "timestamp": 1690154246780,
     "user_tz": 240,
     "elapsed": 238,
     "user": {
      "displayName": "Di Wu",
      "userId": "05255951341257561169"
     }
    },
    "outputId": "fb12d6b9-41b3-44ea-e796-ce3654c6456e",
    "ExecuteTime": {
     "end_time": "2025-02-12T17:54:26.457552Z",
     "start_time": "2025-02-12T17:54:26.453544Z"
    }
   },
   "outputs": [
    {
     "data": {
      "text/plain": [
       "     Sepal length  Sepal width\n",
       "66            5.6          3.0\n",
       "95            5.7          3.0\n",
       "149           5.9          3.0\n",
       "65            6.7          3.1\n",
       "50            7.0          3.2"
      ],
      "text/html": [
       "<div>\n",
       "<style scoped>\n",
       "    .dataframe tbody tr th:only-of-type {\n",
       "        vertical-align: middle;\n",
       "    }\n",
       "\n",
       "    .dataframe tbody tr th {\n",
       "        vertical-align: top;\n",
       "    }\n",
       "\n",
       "    .dataframe thead th {\n",
       "        text-align: right;\n",
       "    }\n",
       "</style>\n",
       "<table border=\"1\" class=\"dataframe\">\n",
       "  <thead>\n",
       "    <tr style=\"text-align: right;\">\n",
       "      <th></th>\n",
       "      <th>Sepal length</th>\n",
       "      <th>Sepal width</th>\n",
       "    </tr>\n",
       "  </thead>\n",
       "  <tbody>\n",
       "    <tr>\n",
       "      <th>66</th>\n",
       "      <td>5.6</td>\n",
       "      <td>3.0</td>\n",
       "    </tr>\n",
       "    <tr>\n",
       "      <th>95</th>\n",
       "      <td>5.7</td>\n",
       "      <td>3.0</td>\n",
       "    </tr>\n",
       "    <tr>\n",
       "      <th>149</th>\n",
       "      <td>5.9</td>\n",
       "      <td>3.0</td>\n",
       "    </tr>\n",
       "    <tr>\n",
       "      <th>65</th>\n",
       "      <td>6.7</td>\n",
       "      <td>3.1</td>\n",
       "    </tr>\n",
       "    <tr>\n",
       "      <th>50</th>\n",
       "      <td>7.0</td>\n",
       "      <td>3.2</td>\n",
       "    </tr>\n",
       "  </tbody>\n",
       "</table>\n",
       "</div>"
      ]
     },
     "execution_count": 8,
     "metadata": {},
     "output_type": "execute_result"
    }
   ],
   "execution_count": 8
  },
  {
   "cell_type": "markdown",
   "source": [
    "## Train the model"
   ],
   "metadata": {
    "id": "OIozhIJbviEB"
   }
  },
  {
   "cell_type": "code",
   "metadata": {
    "id": "1-LCzEKFtBSe",
    "executionInfo": {
     "status": "ok",
     "timestamp": 1690154246781,
     "user_tz": 240,
     "elapsed": 237,
     "user": {
      "displayName": "Di Wu",
      "userId": "05255951341257561169"
     }
    },
    "ExecuteTime": {
     "end_time": "2025-02-12T17:54:26.500452Z",
     "start_time": "2025-02-12T17:54:26.495079Z"
    }
   },
   "source": [
    "from sklearn.naive_bayes import GaussianNB\n",
    "\n",
    "classifier = GaussianNB()\n",
    "classifier.fit(X_train, y_train)\n",
    "y_pred = classifier.predict(X_test)"
   ],
   "outputs": [],
   "execution_count": 9
  },
  {
   "cell_type": "code",
   "source": [
    "from sklearn.metrics import classification_report, confusion_matrix, accuracy_score\n",
    "\n",
    "result = confusion_matrix(y_test, y_pred)\n",
    "print(\"Confusion Matrix:\")\n",
    "print(result)\n",
    "result1 = classification_report(y_test, y_pred)\n",
    "print(\"Classification Report:\",)\n",
    "print (result1)\n",
    "result2 = accuracy_score(y_test,y_pred)\n",
    "print(\"Accuracy:\",result2)"
   ],
   "metadata": {
    "colab": {
     "base_uri": "https://localhost:8080/"
    },
    "id": "ZEZXoXdIwbYY",
    "executionInfo": {
     "status": "ok",
     "timestamp": 1690154246781,
     "user_tz": 240,
     "elapsed": 236,
     "user": {
      "displayName": "Di Wu",
      "userId": "05255951341257561169"
     }
    },
    "outputId": "f8c3c77d-1c42-4e28-cc59-47e766a7afea",
    "ExecuteTime": {
     "end_time": "2025-02-12T17:54:26.541628Z",
     "start_time": "2025-02-12T17:54:26.535341Z"
    }
   },
   "outputs": [
    {
     "name": "stdout",
     "output_type": "stream",
     "text": [
      "Confusion Matrix:\n",
      "[[6 5]\n",
      " [0 9]]\n",
      "Classification Report:\n",
      "              precision    recall  f1-score   support\n",
      "\n",
      "           1       1.00      0.55      0.71        11\n",
      "           2       0.64      1.00      0.78         9\n",
      "\n",
      "    accuracy                           0.75        20\n",
      "   macro avg       0.82      0.77      0.74        20\n",
      "weighted avg       0.84      0.75      0.74        20\n",
      "\n",
      "Accuracy: 0.75\n"
     ]
    }
   ],
   "execution_count": 10
  }
 ]
}
