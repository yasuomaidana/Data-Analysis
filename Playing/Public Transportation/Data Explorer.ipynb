{
 "cells": [
  {
   "cell_type": "code",
   "id": "initial_id",
   "metadata": {
    "collapsed": true,
    "ExecuteTime": {
     "end_time": "2024-08-27T08:34:48.771532Z",
     "start_time": "2024-08-27T08:34:48.766888Z"
    }
   },
   "source": [
    "import pandas as pd\n",
    "import numpy as np\n",
    "import matplotlib.pyplot as plt"
   ],
   "outputs": [],
   "execution_count": 9
  },
  {
   "metadata": {
    "ExecuteTime": {
     "end_time": "2024-08-27T08:28:54.275954Z",
     "start_time": "2024-08-27T08:28:54.234646Z"
    }
   },
   "cell_type": "code",
   "source": [
    "stations = pd.read_csv('Data/stations.csv')\n",
    "stations.head()"
   ],
   "id": "b62c865c1d880b57",
   "outputs": [
    {
     "data": {
      "text/plain": [
       "     id                   name                                  geometry  \\\n",
       "0  7694       Keisei Tsudanuma  POINT(140.024812197129 35.6837744784723)   \n",
       "1  6003      Kossuth Lajos tér  POINT(19.0462376564033 47.5054880717671)   \n",
       "2  7732          Saint-Charles               POINT(5.3801556 43.3024646)   \n",
       "3  7695  Keisei Makuhari-Hongo  POINT(140.042146725175 35.6726021159981)   \n",
       "4  7726              Chartreux                POINT(5.4014815 43.309129)   \n",
       "\n",
       "   buildstart  opening   closure  city_id  \n",
       "0      1921.0   1921.0  999999.0      114  \n",
       "1         0.0      0.0  999999.0       29  \n",
       "2      1973.0   1977.0  999999.0       74  \n",
       "3      1991.0   1991.0  999999.0      114  \n",
       "4      1973.0   1977.0  999999.0       74  "
      ],
      "text/html": [
       "<div>\n",
       "<style scoped>\n",
       "    .dataframe tbody tr th:only-of-type {\n",
       "        vertical-align: middle;\n",
       "    }\n",
       "\n",
       "    .dataframe tbody tr th {\n",
       "        vertical-align: top;\n",
       "    }\n",
       "\n",
       "    .dataframe thead th {\n",
       "        text-align: right;\n",
       "    }\n",
       "</style>\n",
       "<table border=\"1\" class=\"dataframe\">\n",
       "  <thead>\n",
       "    <tr style=\"text-align: right;\">\n",
       "      <th></th>\n",
       "      <th>id</th>\n",
       "      <th>name</th>\n",
       "      <th>geometry</th>\n",
       "      <th>buildstart</th>\n",
       "      <th>opening</th>\n",
       "      <th>closure</th>\n",
       "      <th>city_id</th>\n",
       "    </tr>\n",
       "  </thead>\n",
       "  <tbody>\n",
       "    <tr>\n",
       "      <th>0</th>\n",
       "      <td>7694</td>\n",
       "      <td>Keisei Tsudanuma</td>\n",
       "      <td>POINT(140.024812197129 35.6837744784723)</td>\n",
       "      <td>1921.0</td>\n",
       "      <td>1921.0</td>\n",
       "      <td>999999.0</td>\n",
       "      <td>114</td>\n",
       "    </tr>\n",
       "    <tr>\n",
       "      <th>1</th>\n",
       "      <td>6003</td>\n",
       "      <td>Kossuth Lajos tér</td>\n",
       "      <td>POINT(19.0462376564033 47.5054880717671)</td>\n",
       "      <td>0.0</td>\n",
       "      <td>0.0</td>\n",
       "      <td>999999.0</td>\n",
       "      <td>29</td>\n",
       "    </tr>\n",
       "    <tr>\n",
       "      <th>2</th>\n",
       "      <td>7732</td>\n",
       "      <td>Saint-Charles</td>\n",
       "      <td>POINT(5.3801556 43.3024646)</td>\n",
       "      <td>1973.0</td>\n",
       "      <td>1977.0</td>\n",
       "      <td>999999.0</td>\n",
       "      <td>74</td>\n",
       "    </tr>\n",
       "    <tr>\n",
       "      <th>3</th>\n",
       "      <td>7695</td>\n",
       "      <td>Keisei Makuhari-Hongo</td>\n",
       "      <td>POINT(140.042146725175 35.6726021159981)</td>\n",
       "      <td>1991.0</td>\n",
       "      <td>1991.0</td>\n",
       "      <td>999999.0</td>\n",
       "      <td>114</td>\n",
       "    </tr>\n",
       "    <tr>\n",
       "      <th>4</th>\n",
       "      <td>7726</td>\n",
       "      <td>Chartreux</td>\n",
       "      <td>POINT(5.4014815 43.309129)</td>\n",
       "      <td>1973.0</td>\n",
       "      <td>1977.0</td>\n",
       "      <td>999999.0</td>\n",
       "      <td>74</td>\n",
       "    </tr>\n",
       "  </tbody>\n",
       "</table>\n",
       "</div>"
      ]
     },
     "execution_count": 4,
     "metadata": {},
     "output_type": "execute_result"
    }
   ],
   "execution_count": 4
  },
  {
   "metadata": {
    "ExecuteTime": {
     "end_time": "2024-08-27T08:29:28.804200Z",
     "start_time": "2024-08-27T08:29:28.783634Z"
    }
   },
   "cell_type": "code",
   "source": [
    "station_lines = pd.read_csv('Data/station_lines.csv')\n",
    "station_lines.head()"
   ],
   "id": "752a3155458b0bc9",
   "outputs": [
    {
     "data": {
      "text/plain": [
       "   id  station_id  line_id  city_id           created_at           updated_at\n",
       "0  47        7754      570       74  2017-11-21 00:00:00  2017-11-21 00:00:00\n",
       "1  48        7771      571       74  2017-11-21 00:00:00  2017-11-21 00:00:00\n",
       "2  49        7764      571       74  2017-11-21 00:00:00  2017-11-21 00:00:00\n",
       "3  50        7763      571       74  2017-11-21 00:00:00  2017-11-21 00:00:00\n",
       "4  51        7729      571       74  2017-11-21 00:00:00  2017-11-21 00:00:00"
      ],
      "text/html": [
       "<div>\n",
       "<style scoped>\n",
       "    .dataframe tbody tr th:only-of-type {\n",
       "        vertical-align: middle;\n",
       "    }\n",
       "\n",
       "    .dataframe tbody tr th {\n",
       "        vertical-align: top;\n",
       "    }\n",
       "\n",
       "    .dataframe thead th {\n",
       "        text-align: right;\n",
       "    }\n",
       "</style>\n",
       "<table border=\"1\" class=\"dataframe\">\n",
       "  <thead>\n",
       "    <tr style=\"text-align: right;\">\n",
       "      <th></th>\n",
       "      <th>id</th>\n",
       "      <th>station_id</th>\n",
       "      <th>line_id</th>\n",
       "      <th>city_id</th>\n",
       "      <th>created_at</th>\n",
       "      <th>updated_at</th>\n",
       "    </tr>\n",
       "  </thead>\n",
       "  <tbody>\n",
       "    <tr>\n",
       "      <th>0</th>\n",
       "      <td>47</td>\n",
       "      <td>7754</td>\n",
       "      <td>570</td>\n",
       "      <td>74</td>\n",
       "      <td>2017-11-21 00:00:00</td>\n",
       "      <td>2017-11-21 00:00:00</td>\n",
       "    </tr>\n",
       "    <tr>\n",
       "      <th>1</th>\n",
       "      <td>48</td>\n",
       "      <td>7771</td>\n",
       "      <td>571</td>\n",
       "      <td>74</td>\n",
       "      <td>2017-11-21 00:00:00</td>\n",
       "      <td>2017-11-21 00:00:00</td>\n",
       "    </tr>\n",
       "    <tr>\n",
       "      <th>2</th>\n",
       "      <td>49</td>\n",
       "      <td>7764</td>\n",
       "      <td>571</td>\n",
       "      <td>74</td>\n",
       "      <td>2017-11-21 00:00:00</td>\n",
       "      <td>2017-11-21 00:00:00</td>\n",
       "    </tr>\n",
       "    <tr>\n",
       "      <th>3</th>\n",
       "      <td>50</td>\n",
       "      <td>7763</td>\n",
       "      <td>571</td>\n",
       "      <td>74</td>\n",
       "      <td>2017-11-21 00:00:00</td>\n",
       "      <td>2017-11-21 00:00:00</td>\n",
       "    </tr>\n",
       "    <tr>\n",
       "      <th>4</th>\n",
       "      <td>51</td>\n",
       "      <td>7729</td>\n",
       "      <td>571</td>\n",
       "      <td>74</td>\n",
       "      <td>2017-11-21 00:00:00</td>\n",
       "      <td>2017-11-21 00:00:00</td>\n",
       "    </tr>\n",
       "  </tbody>\n",
       "</table>\n",
       "</div>"
      ]
     },
     "execution_count": 5,
     "metadata": {},
     "output_type": "execute_result"
    }
   ],
   "execution_count": 5
  }
 ],
 "metadata": {
  "kernelspec": {
   "display_name": "Python 3",
   "language": "python",
   "name": "python3"
  },
  "language_info": {
   "codemirror_mode": {
    "name": "ipython",
    "version": 2
   },
   "file_extension": ".py",
   "mimetype": "text/x-python",
   "name": "python",
   "nbconvert_exporter": "python",
   "pygments_lexer": "ipython2",
   "version": "2.7.6"
  }
 },
 "nbformat": 4,
 "nbformat_minor": 5
}
